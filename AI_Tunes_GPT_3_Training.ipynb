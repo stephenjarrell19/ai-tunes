{
 "cells": [
  {
   "cell_type": "markdown",
   "metadata": {
    "colab_type": "text",
    "id": "view-in-github"
   },
   "source": [
    "<a href=\"https://colab.research.google.com/github/robgon-art/ai-tunes/blob/main/AI_Tunes_GPT_3_Training.ipynb\" target=\"_parent\"><img src=\"https://colab.research.google.com/assets/colab-badge.svg\" alt=\"Open In Colab\"/></a>"
   ]
  },
  {
   "cell_type": "markdown",
   "metadata": {
    "id": "EVelIY2TaRy9"
   },
   "source": [
    "# **AI-Tunes: Creating New Songs with Artificial Intelligence**\n",
    "### **How I fine-tuned OpenAI's GPT-3 to generate music with a global structure**\n",
    "By Robert. A Gonsalves\n",
    "\n",
    "You can read my article about this project on [Medium](https://towardsdatascience.com/ai-tunes-creating-new-songs-with-artificial-intelligence-4fb383218146).\n",
    "\n",
    "The source code is released under the CC BY-SA license.\n",
    "\n",
    "![CC BY-NC-SA](https://licensebuttons.net/l/by-sa/4.0/88x31.png)\n"
   ]
  },
  {
   "cell_type": "markdown",
   "metadata": {
    "id": "bAP6FaK9hzTu"
   },
   "source": [
    "##**Initialize the System**"
   ]
  },
  {
   "cell_type": "code",
   "execution_count": null,
   "metadata": {
    "id": "5Qe6fbeWTc3J"
   },
   "outputs": [],
   "source": [
    "!git clone https://github.com/robgon-art/music-geometry-eval\n",
    "!git clone https://github.com/00sapo/OpenEWLD\n",
    "!gsutil -q -m cp -r gs://magentadata/models/music_transformer/primers/* /content/\n",
    "!gsutil -q -m cp gs://magentadata/soundfonts/Yamaha-C5-Salamander-JNv5.1.sf2 /content/\n",
    "!apt-get update -qq && apt-get install -qq libfluidsynth1 build-essential libasound2-dev libjack-dev\n",
    "!pip install magenta\n",
    "!pip install pyfluidsynth\n",
    "!pip install openai\n",
    "#import note_seq\n",
    "SF2_PATH = '/content/Yamaha-C5-Salamander-JNv5.1.sf2'\n",
    "SAMPLE_RATE = 16000\n",
    "\n",
    "!wget https://wim.vree.org/svgParse/xml2abc.py-143.zip\n",
    "!unzip xml2abc.py-143.zip\n",
    "import sys\n",
    "sys.path.append('/content/music-geometry-eval/music_geometry_eval')\n",
    "#import music_geometry_eval\n",
    "import glob\n",
    "import random\n",
    "import music21\n",
    "#import music_geometry_eval\n",
    "from collections.abc import Iterable\n",
    "import numpy as np"
   ]
  },
  {
   "cell_type": "markdown",
   "metadata": {
    "id": "Y8k890KUiCe9"
   },
   "source": [
    "##**Evaluate the Song Files**"
   ]
  },
  {
   "cell_type": "code",
   "execution_count": 7,
   "metadata": {},
   "outputs": [
    {
     "name": "stdout",
     "output_type": "stream",
     "text": [
      "--2023-05-23 12:44:05--  https://wim.vree.org/svgParse/xml2abc.py-143.zip\n",
      "Resolving wim.vree.org (wim.vree.org)... 217.160.212.185\n",
      "Connecting to wim.vree.org (wim.vree.org)|217.160.212.185|:443... connected.\n",
      "HTTP request sent, awaiting response... 404 Not Found\n",
      "2023-05-23 12:44:05 ERROR 404: Not Found.\n",
      "\n",
      "unzip:  cannot find or open xml2abc.py-143.zip, xml2abc.py-143.zip.zip or xml2abc.py-143.zip.ZIP.\n"
     ]
    }
   ],
   "source": [
    "!wget https://wim.vree.org/svgParse/xml2abc.py-143.zip\n",
    "!unzip xml2abc.py-143.zip"
   ]
  },
  {
   "cell_type": "code",
   "execution_count": 2,
   "metadata": {},
   "outputs": [
    {
     "name": "stdout",
     "output_type": "stream",
     "text": [
      "['OpenEWLD/dataset/Lorenz_Hart-Richard_Rodgers/A_Ship_Without_a_Sail/A_Ship_Without_a_Sail.mxl', 'OpenEWLD/dataset/Johnny_Mercer-Victor_Schertzinger/Tangerine/Tangerine.mxl', 'OpenEWLD/dataset/Billy_Rose-Edward_Eliscu-Vincent_Youmans/Without_a_Song/Without_a_Song.mxl', 'OpenEWLD/dataset/Howard_Johnson-Theodore_Morse/M-O-T-H-E-R_(A_Word_That_Means_the_World_to_Me)/M-O-T-H-E-R_(A_Word_That_Means_the_World_to_Me).mxl', 'OpenEWLD/dataset/Al_Dubin-Harry_Warren/September_in_the_Rain/September_in_the_Rain.mxl', \"OpenEWLD/dataset/Jerome_Kern-Johnny_Mercer/I'm_Old_Fashioned/I'm_Old_Fashioned.mxl\", 'OpenEWLD/dataset/Anne_Caldwell-Vincent_Youmans/I_Know_That_You_Know/I_Know_That_You_Know.mxl', 'OpenEWLD/dataset/Gus_Kahn-Walter_Donaldson/I_Wonder_Where_My_Baby_Is_Tonight/I_Wonder_Where_My_Baby_Is_Tonight.mxl', 'OpenEWLD/dataset/Lorenz_Hart-Richard_Rodgers/Mountain_Greenery/Mountain_Greenery.mxl', 'OpenEWLD/dataset/Joseph_LaCalle/Amapola/Amapola.mxl', \"OpenEWLD/dataset/Walter_Donaldson/You're_Driving_Me_Crazy_(What_Did_I_Do?)/You're_Driving_Me_Crazy_(What_Did_I_Do?).mxl\", 'OpenEWLD/dataset/Jack_Norworth-Nora_Bayes/Shine_On,_Harvest_Moon/Shine_On,_Harvest_Moon.mxl', \"OpenEWLD/dataset/Jerome_Kern-Oscar_Hammerstein_II/I've_Told_Ev'ry_Little_Star/I've_Told_Ev'ry_Little_Star.mxl\", 'OpenEWLD/dataset/Edward_Cuthbert_Nunn/Bring_a_Torch,_Jeanette,_Isabella/Bring_a_Torch,_Jeanette,_Isabella.mxl', 'OpenEWLD/dataset/DuBose_Heyward-George_Gershwin-Ira_Gershwin/A_Woman_Is_a_Sometime_Thing/A_Woman_Is_a_Sometime_Thing.mxl', 'OpenEWLD/dataset/James_Hanley/Zing!_Went_the_Strings_of_My_Heart/Zing!_Went_the_Strings_of_My_Heart.mxl', \"OpenEWLD/dataset/Fred_E._Ahlert-Roy_Turk/I_Don't_Know_Why_(I_Just_Do)/I_Don't_Know_Why_(I_Just_Do).mxl\", 'OpenEWLD/dataset/Ben_Black-Charles_N._Daniels/Moonlight_and_Roses/Moonlight_and_Roses.mxl', 'OpenEWLD/dataset/Jerome_Kern-Johnny_Mercer/Dearly_Beloved/Dearly_Beloved.mxl', 'OpenEWLD/dataset/George_Gershwin-Ira_Gershwin/Fascinating_Rhythm/Fascinating_Rhythm.mxl', 'OpenEWLD/dataset/Harry_Owens-Vincent_Rose/Linger_Awhile/Linger_Awhile.mxl', \"OpenEWLD/dataset/Charles_Collins-Dick_Manning-Fred_Leigh/Don't_Dilly_Dally_on_the_Way/Don't_Dilly_Dally_on_the_Way.mxl\", 'OpenEWLD/dataset/Gus_Kahn-Harry_Akst-Richard_A._Whiting/Guilty/Guilty.mxl', \"OpenEWLD/dataset/Lorenz_Hart-Richard_Rodgers/There's_a_Small_Hotel/There's_a_Small_Hotel.mxl\", 'OpenEWLD/dataset/Aubrey_Hopwood-Lionel_Monckton/Soldiers_in_the_Park/Soldiers_in_the_Park.mxl', 'OpenEWLD/dataset/William_W._Walford/Sweet_Hour_of_Prayer/Sweet_Hour_of_Prayer.mxl', \"OpenEWLD/dataset/Jimmie_Cox/Nobody_Knows_You_When_You're_down_and_Out/Nobody_Knows_You_When_You're_down_and_Out.mxl\", 'OpenEWLD/dataset/[Traditional]/Joshua_Fit_the_Battle_of_Jericho/Joshua_Fit_the_Battle_of_Jericho.mxl', 'OpenEWLD/dataset/Johnny_Black_[1]/Paper_Doll/Paper_Doll.mxl', 'OpenEWLD/dataset/Charles_N._Daniels-Gus_Kahn/Chloe/Chloe.mxl', 'OpenEWLD/dataset/Brewster_M._Higley-Daniel_E._Kelley/Home_on_the_Range/Home_on_the_Range.mxl', 'OpenEWLD/dataset/Felix_Bernard-Fred_Fisher-Johnny_Black_[1]/Dardanella/Dardanella.mxl', 'OpenEWLD/dataset/Billy_Hill/The_Glory_of_Love/The_Glory_of_Love.mxl', 'OpenEWLD/dataset/Liliuokalani/Aloha_Oe/Aloha_Oe.mxl', 'OpenEWLD/dataset/Glenn_Miller/Moonlight_Serenade/Moonlight_Serenade.mxl', 'OpenEWLD/dataset/Edward_Eliscu-Gus_Kahn-Vincent_Youmans/Carioca/Carioca.mxl', 'OpenEWLD/dataset/George_M._Cohan/Yankee_Doodle_Boy/Yankee_Doodle_Boy.mxl', 'OpenEWLD/dataset/F._W._Meacham/American_Patrol/American_Patrol.mxl', 'OpenEWLD/dataset/Chauncey_Olcott/My_Wild_Irish_Rose/My_Wild_Irish_Rose.mxl', 'OpenEWLD/dataset/Bert_Kalmar-Harry_Ruby/Three_Little_Words/Three_Little_Words.mxl', 'OpenEWLD/dataset/Hans_Engelmann/Melody_of_Love/Melody_of_Love.mxl', 'OpenEWLD/dataset/Haven_Gillespie-Richard_A._Whiting-Seymour_Simons/Honey/Honey.mxl', 'OpenEWLD/dataset/Lorenz_Hart-Richard_Rodgers/Blue_Room/Blue_Room.mxl', 'OpenEWLD/dataset/Con_Conrad-Gladys_du_Bois-Paul_Gregory-Russ_Columbo/You_Call_It_Madness_(But_I_Call_It_Love)/You_Call_It_Madness_(But_I_Call_It_Love).mxl', \"OpenEWLD/dataset/Dan_Emmett/I_Wish_I_Was_in_Dixie's_Land/I_Wish_I_Was_in_Dixie's_Land.mxl\", 'OpenEWLD/dataset/Claude_Joseph_Rouget_de_Lisle/La_Marseillaise/La_Marseillaise.mxl', 'OpenEWLD/dataset/[Traditional]/Careless_Love/Careless_Love.mxl', 'OpenEWLD/dataset/Lorenz_Hart-Richard_Rodgers/Glad_to_Be_Unhappy/Glad_to_Be_Unhappy.mxl', \"OpenEWLD/dataset/Alfredo_Mazzucchi-Eduardo_Di_Capua-Giovanni_Capurro/'O_sole_mio/'O_sole_mio.mxl\", 'OpenEWLD/dataset/[Traditional]/Just_a_Closer_Walk_with_Thee/Just_a_Closer_Walk_with_Thee.mxl', \"OpenEWLD/dataset/Edward_Teschemacher-Guy_d'Hardelot/Because/Because.mxl\", 'OpenEWLD/dataset/[Traditional]/On_Top_of_Old_Smoky/On_Top_of_Old_Smoky.mxl', 'OpenEWLD/dataset/John_Philip_Sousa/The_Stars_and_Stripes_Forever/The_Stars_and_Stripes_Forever.mxl', 'OpenEWLD/dataset/[Traditional]/We_Wish_You_a_Merry_Christmas/We_Wish_You_a_Merry_Christmas.mxl', 'OpenEWLD/dataset/Joe_Young-Mabel_Wayne-Sam_Lewis/In_a_Little_Spanish_Town/In_a_Little_Spanish_Town.mxl', 'OpenEWLD/dataset/Katharine_Lee_Bates/America_the_Beautiful/America_the_Beautiful.mxl', \"OpenEWLD/dataset/Lorenz_Hart-Richard_Rodgers/This_Can't_Be_Love/This_Can't_Be_Love.mxl\", 'OpenEWLD/dataset/Rida_Johnson_Young-Victor_Herbert/Ah!_Sweet_Mystery_of_Life/Ah!_Sweet_Mystery_of_Life.mxl', 'OpenEWLD/dataset/John_Baptiste_Calkin/I_Heard_the_Bells_on_Christmas_Day/I_Heard_the_Bells_on_Christmas_Day.mxl', 'OpenEWLD/dataset/Charles_C._Converse-Joseph_M._Scriven/What_a_Friend_We_Have_in_Jesus/What_a_Friend_We_Have_in_Jesus.mxl', 'OpenEWLD/dataset/Bing_Crosby-Fred_E._Ahlert-Roy_Turk/Where_the_Blue_of_the_Night_Meets_the_Gold_of_the_Day/Where_the_Blue_of_the_Night_Meets_the_Gold_of_the_Day.mxl', 'OpenEWLD/dataset/Andy_Razaf-Fats_Waller/A_Hopeless_Love_Affair/A_Hopeless_Love_Affair.mxl', 'OpenEWLD/dataset/Bertha_Scott-Jimmy_Henderson_[1]-Sid_Robin/I_Miss_You_So/I_Miss_You_So.mxl', 'OpenEWLD/dataset/Franz_Liszt/Liebestraum_Nr._3/Liebestraum_Nr._3.mxl', 'OpenEWLD/dataset/Billy_Hill-Peter_De_Rose/Have_You_Ever_Been_Lonely?/Have_You_Ever_Been_Lonely?.mxl', 'OpenEWLD/dataset/[Traditional]-[Unknown]/Guter_Mond,_du_gehst_so_stille/Guter_Mond,_du_gehst_so_stille.mxl', \"OpenEWLD/dataset/Thomas_P._Westendorf/I'll_Take_You_Home_Again,_Kathleen/I'll_Take_You_Home_Again,_Kathleen.mxl\", \"OpenEWLD/dataset/[Traditional]/Jesu,_Joy_of_Man's_Desiring/Jesu,_Joy_of_Man's_Desiring.mxl\", 'OpenEWLD/dataset/Chauncey_Olcott-Ernest_Ball-George_Graff,_Jr./When_Irish_Eyes_Are_Smiling/When_Irish_Eyes_Are_Smiling.mxl', 'OpenEWLD/dataset/Edmund_Sears/It_Came_upon_the_Midnight_Clear/It_Came_upon_the_Midnight_Clear.mxl', 'OpenEWLD/dataset/William_Chatterton_Dix/What_Child_Is_This?/What_Child_Is_This?.mxl', 'OpenEWLD/dataset/Eugène_Cormon-Georges_Bizet-Michel_Carré/Je_crois_entendre_encore/Je_crois_entendre_encore.mxl', 'OpenEWLD/dataset/Dorothy_Fields-Jerome_Kern-Jimmy_McHugh/Lovely_to_Look_At/Lovely_to_Look_At.mxl', 'OpenEWLD/dataset/Al_Dubin-Harry_Warren/About_a_Quarter_to_Nine/About_a_Quarter_to_Nine.mxl', 'OpenEWLD/dataset/Frank_Loesser-Victor_Schertzinger/Sand_in_My_Shoes/Sand_in_My_Shoes.mxl', \"OpenEWLD/dataset/Gus_Kahn-Isham_Jones/I'll_See_You_in_My_Dreams/I'll_See_You_in_My_Dreams.mxl\", \"OpenEWLD/dataset/George_Gershwin-Ira_Gershwin/Bidin'_My_Time/Bidin'_My_Time.mxl\", 'OpenEWLD/dataset/Gus_Edwards-Will_Cobb/School_Days/School_Days.mxl', 'OpenEWLD/dataset/Frederic_Weatherly-Haydn_Wood/Roses_of_Picardy/Roses_of_Picardy.mxl', 'OpenEWLD/dataset/Joe_Young-Sam_Lewis-Walter_Donaldson/My_Mammy/My_Mammy.mxl', 'OpenEWLD/dataset/[Traditional]/Go_Tell_It_on_the_Mountain/Go_Tell_It_on_the_Mountain.mxl', 'OpenEWLD/dataset/Leslie_Stuart/Lily_of_Laguna/Lily_of_Laguna.mxl', 'OpenEWLD/dataset/Daniel_Alomías_Robles-Julio_Baudouin/El_cóndor_pasa/El_cóndor_pasa.mxl', \"OpenEWLD/dataset/Doris_Fisher-Fred_Fisher/Whispering_Grass_(Don't_Tell_the_Trees)/Whispering_Grass_(Don't_Tell_the_Trees).mxl\", 'OpenEWLD/dataset/Ange_Lorenzo-Joseph_Alden-Raymond_B._Egan-Richard_A._Whiting/Sleepy_Time_Gal/Sleepy_Time_Gal.mxl', 'OpenEWLD/dataset/DuBose_Heyward-George_Gershwin-Ira_Gershwin/Summertime/Summertime.mxl', 'OpenEWLD/dataset/Felix_Powell-George_Henry_Powell/Pack_Up_Your_Troubles_in_Your_Old_Kit_Bag_and_Smile,_Smile,_Smile!/Pack_Up_Your_Troubles_in_Your_Old_Kit_Bag_and_Smile,_Smile,_Smile!.mxl', 'OpenEWLD/dataset/Narciso_Serradell_Sevilla/La_golondrina/La_golondrina.mxl', 'OpenEWLD/dataset/Victor_Herbert/Indian_Summer/Indian_Summer.mxl', \"OpenEWLD/dataset/Chris_Smith_[1]-Jim_Burris/Ballin'_the_Jack/Ballin'_the_Jack.mxl\", 'OpenEWLD/dataset/Mildred_Hill-Patty_Hill/Happy_Birthday_to_You/Happy_Birthday_to_You.mxl', 'OpenEWLD/dataset/Carmen_Lombardo-Joe_Young/Snuggled_on_Your_Shoulder_(Cuddled_in_Your_Arms)/Snuggled_on_Your_Shoulder_(Cuddled_in_Your_Arms).mxl', 'OpenEWLD/dataset/Lorenz_Hart-Richard_Rodgers/You_Are_Too_Beautiful/You_Are_Too_Beautiful.mxl', 'OpenEWLD/dataset/Stephen_Foster/Gwine_to_Run_All_Night,_or_De_Camptown_Races/Gwine_to_Run_All_Night,_or_De_Camptown_Races.mxl', 'OpenEWLD/dataset/Egbert_Van_Alstyne-Erwin_Roeder_Schmidt-Haven_Gillespie-Loyal_Curtis/Drifting_and_Dreaming/Drifting_and_Dreaming.mxl', \"OpenEWLD/dataset/James_Brockman-James_Kendis-John_Kellette-Nat_Vincent/I'm_Forever_Blowing_Bubbles/I'm_Forever_Blowing_Bubbles.mxl\", \"OpenEWLD/dataset/Eric_Stewart-Graham_Gouldman-Kevin_Godley/I'm_Mandy_Fly_Me/I'm_Mandy_Fly_Me.mxl\", \"OpenEWLD/dataset/Gus_Kahn-Raymond_B._Egan-Richard_A._Whiting/Ain't_We_Got_Fun/Ain't_We_Got_Fun.mxl\", 'OpenEWLD/dataset/George_Gershwin-Ira_Gershwin/By_Strauss/By_Strauss.mxl', 'OpenEWLD/dataset/Leo_Robin-Richard_A._Whiting-W._Franke_Harling/Beyond_the_Blue_Horizon/Beyond_the_Blue_Horizon.mxl', 'OpenEWLD/dataset/Victor_Schertzinger/Marcheta/Marcheta.mxl', 'OpenEWLD/dataset/Pietro_Mascagni/Intermezzo/Intermezzo.mxl', \"OpenEWLD/dataset/Ira_Schuster-Joe_Young/I'm_Alone_Because_I_Love_You/I'm_Alone_Because_I_Love_You.mxl\", \"OpenEWLD/dataset/DuBose_Heyward-George_Gershwin-Ira_Gershwin/I_Got_Plenty_o'_Nuttin'/I_Got_Plenty_o'_Nuttin'.mxl\", 'OpenEWLD/dataset/[Traditional]/The_Wild_Colonial_Boy/The_Wild_Colonial_Boy.mxl', 'OpenEWLD/dataset/Ira_Schuster-Jack_Little-Joe_Young/In_a_Shanty_in_Old_Shanty_Town/In_a_Shanty_in_Old_Shanty_Town.mxl', \"OpenEWLD/dataset/Hughie_Cannon/Bill_Bailey,_Won't_You_Please_Come_Home?/Bill_Bailey,_Won't_You_Please_Come_Home?.mxl\", 'OpenEWLD/dataset/Jimmy_Monaco-William_Jerome/Row,_Row,_Row/Row,_Row,_Row.mxl', 'OpenEWLD/dataset/James_Pierpont/Jingle_Bells/Jingle_Bells.mxl', \"OpenEWLD/dataset/Fred_E._Ahlert-Roy_Turk/I'll_Get_By_(As_Long_as_I_Have_You)/I'll_Get_By_(As_Long_as_I_Have_You).mxl\", 'OpenEWLD/dataset/Gus_Kahn-Walter_Donaldson/Love_Me_or_Leave_Me/Love_Me_or_Leave_Me.mxl', 'OpenEWLD/dataset/Joe_Young-Ray_Henderson-Sam_Lewis/Five_Foot_Two,_Eyes_of_Blue_(Has_Anybody_Seen_My_Girl)/Five_Foot_Two,_Eyes_of_Blue_(Has_Anybody_Seen_My_Girl).mxl', 'OpenEWLD/dataset/John_Sylvester_Fearis-Laura_Rountree_Smith/Little_Sir_Echo/Little_Sir_Echo.mxl', 'OpenEWLD/dataset/Egbert_Van_Alstyne-Gus_Kahn/Memories/Memories.mxl', \"OpenEWLD/dataset/Con_Conrad-Sidney_Clare/Ma,_He's_Making_Eyes_at_Me/Ma,_He's_Making_Eyes_at_Me.mxl\", 'OpenEWLD/dataset/Lorenz_Hart-Richard_Rodgers/Have_You_Met_Miss_Jones?/Have_You_Met_Miss_Jones?.mxl', 'OpenEWLD/dataset/James_Waddel_Alexander/O_Sacred_Head,_Now_Wounded/O_Sacred_Head,_Now_Wounded.mxl', 'OpenEWLD/dataset/Jerome_Kern-Oscar_Hammerstein_II/Make_Believe/Make_Believe.mxl', 'OpenEWLD/dataset/Jimmy_Monaco-Johnny_Burke/An_Apple_for_the_Teacher/An_Apple_for_the_Teacher.mxl', 'OpenEWLD/dataset/Gus_Kahn-Isham_Jones/On_the_Alamo/On_the_Alamo.mxl', 'OpenEWLD/dataset/Leo_Robin-Ralph_Rainger/If_I_Should_Lose_You/If_I_Should_Lose_You.mxl', 'OpenEWLD/dataset/Fabian_Andre-Gus_Kahn-Wilbur_Schwandt/Dream_a_Little_Dream_of_Me/Dream_a_Little_Dream_of_Me.mxl', \"OpenEWLD/dataset/Julian_Robledo-Theodora_Morse/Three_O'Clock_in_the_Morning/Three_O'Clock_in_the_Morning.mxl\", \"OpenEWLD/dataset/Albert_Von_Tilzer-Neville_Fleeson/I'll_Be_with_You_in_Apple_Blossom_Time/I'll_Be_with_You_in_Apple_Blossom_Time.mxl\", 'OpenEWLD/dataset/Robert_Lowry/How_Can_I_Keep_from_Singing?/How_Can_I_Keep_from_Singing?.mxl', 'OpenEWLD/dataset/Harold_Adamson-Walter_Donaldson/Did_I_Remember/Did_I_Remember.mxl', \"OpenEWLD/dataset/Andy_Razaf-Fats_Waller-Harry_Brooks/Ain't_Misbehavin'/Ain't_Misbehavin'.mxl\", \"OpenEWLD/dataset/Fud_Livingston-Gus_Kahn-Matt_Malneck/I'm_Through_with_Love/I'm_Through_with_Love.mxl\", 'OpenEWLD/dataset/Al_Lewis-Larry_Stock-Vincent_Rose/Blueberry_Hill/Blueberry_Hill.mxl', 'OpenEWLD/dataset/Julia_Ward_Howe/Battle_Hymn_of_the_Republic/Battle_Hymn_of_the_Republic.mxl', 'OpenEWLD/dataset/George_Gershwin-Ira_Gershwin/How_Long_Has_This_Been_Going_On?/How_Long_Has_This_Been_Going_On?.mxl', 'OpenEWLD/dataset/Edward_Madden-Gus_Edwards/By_the_Light_of_the_Silvery_Moon/By_the_Light_of_the_Silvery_Moon.mxl', 'OpenEWLD/dataset/Johnny_Mercer-Richard_A._Whiting/Too_Marvelous_for_Words/Too_Marvelous_for_Words.mxl', 'OpenEWLD/dataset/Al_Dubin-Harry_Warren/I_Only_Have_Eyes_for_You/I_Only_Have_Eyes_for_You.mxl', 'OpenEWLD/dataset/Nikolai_Rimsky-Korsakov/Song_of_the_Indian_Guest_{Песня_Индийского_гостя}/Song_of_the_Indian_Guest_{Песня_Индийского_гостя}.mxl', 'OpenEWLD/dataset/Fats_Waller/The_Jitterbug_Waltz/The_Jitterbug_Waltz.mxl', \"OpenEWLD/dataset/Billy_Meyers-Elmer_Schoebel-Ernie_Erdman-Gus_Kahn/Nobody's_Sweetheart/Nobody's_Sweetheart.mxl\", 'OpenEWLD/dataset/Gus_Kahn-Isham_Jones/It_Had_to_Be_You/It_Had_to_Be_You.mxl', 'OpenEWLD/dataset/Lorenz_Hart-Richard_Rodgers/I_Could_Write_a_Book/I_Could_Write_a_Book.mxl', 'OpenEWLD/dataset/James_Thornton/When_You_Were_Sweet_Sixteen/When_You_Were_Sweet_Sixteen.mxl', 'OpenEWLD/dataset/Scott_Joplin/Maple_Leaf_Rag/Maple_Leaf_Rag.mxl', 'OpenEWLD/dataset/Jerome_Kern-Oscar_Hammerstein_II/The_Folks_Who_Live_on_the_Hill/The_Folks_Who_Live_on_the_Hill.mxl', \"OpenEWLD/dataset/Herbert_Reynolds-Jerome_Kern/They_Didn't_Believe_Me/They_Didn't_Believe_Me.mxl\", 'OpenEWLD/dataset/Karl_Hoschna-Otto_Harbach/Cuddle_Up_a_Little_Closer,_Lovey_Mine/Cuddle_Up_a_Little_Closer,_Lovey_Mine.mxl', 'OpenEWLD/dataset/[Traditional]/Loch_Lomond/Loch_Lomond.mxl', 'OpenEWLD/dataset/Lorenz_Hart-Richard_Rodgers/Manhattan/Manhattan.mxl', 'OpenEWLD/dataset/Ballard_MacDonald-James_Hanley/Rose_of_Washington_Square/Rose_of_Washington_Square.mxl', 'OpenEWLD/dataset/Sir_Hubert_Parry/Jerusalem/Jerusalem.mxl', 'OpenEWLD/dataset/George_Marion_Jr.-Richard_A._Whiting/My_Future_Just_Passed/My_Future_Just_Passed.mxl', 'OpenEWLD/dataset/Walter_Donaldson/At_Sundown/At_Sundown.mxl', 'OpenEWLD/dataset/B.G._DeSylva-Victor_Herbert/A_Kiss_in_the_Dark/A_Kiss_in_the_Dark.mxl', 'OpenEWLD/dataset/Leo_Robin-Ralph_Rainger/Blue_Hawaii/Blue_Hawaii.mxl', \"OpenEWLD/dataset/Jimmy_Monaco-Mack_Gordon/I_Can't_Begin_to_Tell_You/I_Can't_Begin_to_Tell_You.mxl\", 'OpenEWLD/dataset/James_A._Bland/Carry_Me_Back_to_Old_Virginny/Carry_Me_Back_to_Old_Virginny.mxl', 'OpenEWLD/dataset/Al_Dubin-Joe_Burke/For_You/For_You.mxl', \"OpenEWLD/dataset/Clifford_Grey-Victor_Schertzinger/Paris_je_t'aime/Paris_je_t'aime.mxl\", 'OpenEWLD/dataset/Charles_K._Harris/After_the_Ball/After_the_Ball.mxl', \"OpenEWLD/dataset/Clarence_Gaskill-Jimmy_McHugh/I_Can't_Believe_That_You're_in_Love_with_Me/I_Can't_Believe_That_You're_in_Love_with_Me.mxl\", 'OpenEWLD/dataset/Vladimir_Vavilov-[Traditional]/Ave_Maria_(Caccini)/Ave_Maria_(Caccini).mxl', 'OpenEWLD/dataset/[Traditional]/O_Christmas_Tree/O_Christmas_Tree.mxl', 'OpenEWLD/dataset/Leo_Robin-Ralph_Rainger/Please/Please.mxl', 'OpenEWLD/dataset/Campino-Hanns_Christian_Müller-Wölli-[Traditional]/Zehn_kleine_Jägermeister/Zehn_kleine_Jägermeister.mxl', 'OpenEWLD/dataset/Gaston_Lyle-George_Leybourne/The_Daring_Young_Man_on_the_Flying_Trapeze/The_Daring_Young_Man_on_the_Flying_Trapeze.mxl', \"OpenEWLD/dataset/[Traditional]/He's_Got_the_Whole_World_in_His_Hands/He's_Got_the_Whole_World_in_His_Hands.mxl\", \"OpenEWLD/dataset/George_M._Cohan/Mary's_a_Grand_Old_Name/Mary's_a_Grand_Old_Name.mxl\", 'OpenEWLD/dataset/James_Chadwick/Angels_We_Have_Heard_on_High/Angels_We_Have_Heard_on_High.mxl', \"OpenEWLD/dataset/Jerome_Kern-Oscar_Hammerstein_II-Otto_Harbach/I_Won't_Dance/I_Won't_Dance.mxl\", \"OpenEWLD/dataset/Joseph_Tabrar/Daddy_Wouldn't_Buy_Me_a_Bow-Wow/Daddy_Wouldn't_Buy_Me_a_Bow-Wow.mxl\", 'OpenEWLD/dataset/Alfred_Hedenstierna-Wilhelm_Åström/Hjärtats_saga/Hjärtats_saga.mxl', 'OpenEWLD/dataset/Gus_Kahn-Walter_Donaldson/My_Baby_Just_Cares_for_Me/My_Baby_Just_Cares_for_Me.mxl', 'OpenEWLD/dataset/Bonnie_Lake-Eddie_DeLange-Jack_Jenney/The_Man_with_the_Horn/The_Man_with_the_Horn.mxl', 'OpenEWLD/dataset/Charles_Wesley-Felix_Mendelssohn/Hark!_The_Herald_Angels_Sing/Hark!_The_Herald_Angels_Sing.mxl', 'OpenEWLD/dataset/Ira_Gershwin-Jerome_Kern/Long_Ago_and_Far_Away/Long_Ago_and_Far_Away.mxl', 'OpenEWLD/dataset/George_Gershwin-Ira_Gershwin/Embraceable_You/Embraceable_You.mxl', \"OpenEWLD/dataset/Jerome_Kern-Oscar_Hammerstein_II/Ol'_Man_River/Ol'_Man_River.mxl\", 'OpenEWLD/dataset/Jerome_Kern-Leo_Robin/In_Love_in_Vain/In_Love_in_Vain.mxl', 'OpenEWLD/dataset/Charles_N._Daniels-Gus_Arnheim-Harry_Tobias/Sweet_and_Lovely/Sweet_and_Lovely.mxl', 'OpenEWLD/dataset/Gus_Kahn-Walter_Donaldson/Carolina_in_the_Morning/Carolina_in_the_Morning.mxl', 'OpenEWLD/dataset/George_Whiting-Walter_Donaldson/My_Blue_Heaven/My_Blue_Heaven.mxl', \"OpenEWLD/dataset/Lorenz_Hart-Richard_Rodgers/It's_Easy_to_Remember_(And_So_Hard_to_Forget)/It's_Easy_to_Remember_(And_So_Hard_to_Forget).mxl\", 'OpenEWLD/dataset/Lorenz_Hart-Richard_Rodgers/Where_or_When/Where_or_When.mxl', 'OpenEWLD/dataset/[Traditional]/What_Shall_We_Do_with_a_Drunken_Sailor?/What_Shall_We_Do_with_a_Drunken_Sailor?.mxl', 'OpenEWLD/dataset/Billy_Hill/In_the_Chapel_in_the_Moonlight/In_the_Chapel_in_the_Moonlight.mxl', 'OpenEWLD/dataset/George_Gershwin-Ira_Gershwin/Strike_Up_the_Band/Strike_Up_the_Band.mxl', \"OpenEWLD/dataset/[Traditional]/For_He's_a_Jolly_Good_Fellow/For_He's_a_Jolly_Good_Fellow.mxl\", \"OpenEWLD/dataset/Gus_Kahn-Isham_Jones/Swingin'_down_the_Lane/Swingin'_down_the_Lane.mxl\", \"OpenEWLD/dataset/Jimmy_Monaco-Mack_Gordon/I'm_Making_Believe/I'm_Making_Believe.mxl\", \"OpenEWLD/dataset/George_Gershwin-Ira_Gershwin/Isn't_It_a_Pity?/Isn't_It_a_Pity?.mxl\", 'OpenEWLD/dataset/Al_Dubin-Joe_Burke/Dancing_with_Tears_in_My_Eyes/Dancing_with_Tears_in_My_Eyes.mxl', 'OpenEWLD/dataset/John_Henry_Hopkins_Jr./We_Three_Kings/We_Three_Kings.mxl', 'OpenEWLD/dataset/Billy_Rose-Edward_Eliscu-Vincent_Youmans/More_Than_You_Know/More_Than_You_Know.mxl', 'OpenEWLD/dataset/Gus_Kahn-Walter_Donaldson/My_Buddy/My_Buddy.mxl', 'OpenEWLD/dataset/Enrique_P._Maroni-Gerardo_Matos_Rodríguez-Pascual_Contursi/La_cumparsita/La_cumparsita.mxl', 'OpenEWLD/dataset/B.G._DeSylva-Jerome_Kern/Look_for_the_Silver_Lining/Look_for_the_Silver_Lining.mxl', 'OpenEWLD/dataset/Luigi_Denza-Peppino_Turco/Funiculì_funiculà/Funiculì_funiculà.mxl', 'OpenEWLD/dataset/Frank_Churchill-Larry_Morey/Whistle_While_You_Work/Whistle_While_You_Work.mxl', 'OpenEWLD/dataset/George_Gershwin-Ira_Gershwin/A_Foggy_Day/A_Foggy_Day.mxl', 'OpenEWLD/dataset/Henry_Blossom-Victor_Herbert/Kiss_Me_Again/Kiss_Me_Again.mxl', 'OpenEWLD/dataset/Clarence_Gaskill-Leo_Robin-Russ_Columbo/Prisoner_of_Love/Prisoner_of_Love.mxl', 'OpenEWLD/dataset/Charles_Austin_Miles/In_the_Garden/In_the_Garden.mxl', 'OpenEWLD/dataset/Isaac_Watts-Lowell_Mason/Joy_to_the_World/Joy_to_the_World.mxl', 'OpenEWLD/dataset/John_W._Bratton/The_Teddy_Bears_Picnic/The_Teddy_Bears_Picnic.mxl', 'OpenEWLD/dataset/Bert_Lee-Harris_Weston/Knees_Up_Mother_Brown!/Knees_Up_Mother_Brown!.mxl', 'OpenEWLD/dataset/Claude_Debussy/Rêverie/Rêverie.mxl', 'OpenEWLD/dataset/Lorenz_Hart-Richard_Rodgers/With_a_Song_in_My_Heart/With_a_Song_in_My_Heart.mxl', 'OpenEWLD/dataset/George_Gershwin-Ira_Gershwin/But_Not_for_Me/But_Not_for_Me.mxl', 'OpenEWLD/dataset/Harry_Von_Tilzer-Will_Dillon/I_Want_a_Girl_(Just_Like_the_Girl_That_Married_Dear_Old_Dad)/I_Want_a_Girl_(Just_Like_the_Girl_That_Married_Dear_Old_Dad).mxl', 'OpenEWLD/dataset/Erno_Rapee-Lew_Pollack/Charmaine/Charmaine.mxl', 'OpenEWLD/dataset/Jesse_Greer-Raymond_Klages/Just_You,_Just_Me/Just_You,_Just_Me.mxl', 'OpenEWLD/dataset/Jerome_Kern-Oscar_Hammerstein_II/Nobody_Else_but_Me/Nobody_Else_but_Me.mxl', 'OpenEWLD/dataset/Raymond_B._Egan-Richard_A._Whiting/Till_We_Meet_Again/Till_We_Meet_Again.mxl', 'OpenEWLD/dataset/Billy_Rose-Edward_Eliscu-Vincent_Youmans/Great_Day/Great_Day.mxl', 'OpenEWLD/dataset/Gus_Kahn/The_Hour_of_Parting/The_Hour_of_Parting.mxl', 'OpenEWLD/dataset/Benjamin_Russell_Hanby/Up_on_the_Housetop/Up_on_the_Housetop.mxl', 'OpenEWLD/dataset/Jimmy_Monaco-Joseph_McCarthy/You_Made_Me_Love_You/You_Made_Me_Love_You.mxl', 'OpenEWLD/dataset/Benny_Davis-Con_Conrad-J._Russel_Robinson/Margie/Margie.mxl', 'OpenEWLD/dataset/Francis_McPeake-Robert_Tannahill/Wild_Mountain_Thyme/Wild_Mountain_Thyme.mxl', 'OpenEWLD/dataset/Billy_Hill-Peter_De_Rose/Wagon_Wheels/Wagon_Wheels.mxl', 'OpenEWLD/dataset/[Traditional]/Drink_to_Me_Only_with_Thine_Eyes/Drink_to_Me_Only_with_Thine_Eyes.mxl', 'OpenEWLD/dataset/[Traditional]/Molly_Malone/Molly_Malone.mxl', \"OpenEWLD/dataset/DuBose_Heyward-George_Gershwin-Ira_Gershwin/My_Man's_Gone_Now/My_Man's_Gone_Now.mxl\", \"OpenEWLD/dataset/Robert_Johnson/I_Believe_I'll_Dust_My_Broom/I_Believe_I'll_Dust_My_Broom.mxl\", 'OpenEWLD/dataset/Jerome_Kern-P.G._Wodehouse/Bill/Bill.mxl', \"OpenEWLD/dataset/Nat_Schwartz-Walter_Kent/(There'll_Be_Bluebirds_Over)_The_White_Cliffs_of_Dover/(There'll_Be_Bluebirds_Over)_The_White_Cliffs_of_Dover.mxl\", 'OpenEWLD/dataset/George_L._Cobb-Jack_Yellen/Alabama_Jubilee/Alabama_Jubilee.mxl', 'OpenEWLD/dataset/[Traditional]/Scarborough_Fair/Scarborough_Fair.mxl', 'OpenEWLD/dataset/[Traditional]/Were_You_There_When_They_Crucified_My_Lord/Were_You_There_When_They_Crucified_My_Lord.mxl', 'OpenEWLD/dataset/Clarence_Williams-Fats_Waller/Squeeze_Me/Squeeze_Me.mxl', 'OpenEWLD/dataset/Al_Dubin-Harry_Warren/Shadow_Waltz/Shadow_Waltz.mxl', 'OpenEWLD/dataset/Stephen_Foster/Jeanie_with_the_Light_Brown_Hair/Jeanie_with_the_Light_Brown_Hair.mxl', 'OpenEWLD/dataset/Fred_Godfrey-Mark_Sheridan/Who_Were_You_with_Last_Night/Who_Were_You_with_Last_Night.mxl', \"OpenEWLD/dataset/Rida_Johnson_Young-Victor_Herbert/I'm_Falling_in_Love_with_Someone/I'm_Falling_in_Love_with_Someone.mxl\", 'OpenEWLD/dataset/Al_Dubin-Fred_Rath-Jos_Garren/Just_a_Girl_That_Men_Forget/Just_a_Girl_That_Men_Forget.mxl', 'OpenEWLD/dataset/Frederick_Oakeley/O_Come,_All_Ye_Faithful/O_Come,_All_Ye_Faithful.mxl', 'OpenEWLD/dataset/Dorothy_Parker-Ralph_Rainger/I_Wished_on_the_Moon/I_Wished_on_the_Moon.mxl', \"OpenEWLD/dataset/[Traditional]/The_Quartermaster's_Stores/The_Quartermaster's_Stores.mxl\", 'OpenEWLD/dataset/Leo_Robin-Ralph_Rainger/June_in_January/June_in_January.mxl', 'OpenEWLD/dataset/[Traditional]/Swing_Low,_Sweet_Chariot/Swing_Low,_Sweet_Chariot.mxl', 'OpenEWLD/dataset/[Traditional]/Mademoiselle_from_Armentières/Mademoiselle_from_Armentières.mxl', 'OpenEWLD/dataset/[Traditional]/Shenandoah/Shenandoah.mxl', \"OpenEWLD/dataset/Al_Dubin-Harry_Warren/You're_Getting_to_Be_a_Habit_with_Me/You're_Getting_to_Be_a_Habit_with_Me.mxl\", 'OpenEWLD/dataset/George_F._Root/The_Battle_Cry_of_Freedom/The_Battle_Cry_of_Freedom.mxl', 'OpenEWLD/dataset/Sebastián_Yradier/La_paloma/La_paloma.mxl', 'OpenEWLD/dataset/Jerome_Kern-Oscar_Hammerstein_II/Why_Was_I_Born?/Why_Was_I_Born?.mxl', 'OpenEWLD/dataset/L._Wolfe_Gilbert-Lewis_F._Muir/Waiting_for_the_Robert_E._Lee/Waiting_for_the_Robert_E._Lee.mxl', 'OpenEWLD/dataset/[Traditional]/Polly_Wolly_Doodle/Polly_Wolly_Doodle.mxl', 'OpenEWLD/dataset/Leo_Robin-Ralph_Rainger/Here_Lies_Love/Here_Lies_Love.mxl', 'OpenEWLD/dataset/[Traditional]/Down_by_the_Riverside/Down_by_the_Riverside.mxl', 'OpenEWLD/dataset/Frederick_Ricketts/Colonel_Bogey_March/Colonel_Bogey_March.mxl', 'OpenEWLD/dataset/Lorenz_Hart-Richard_Rodgers/Spring_Is_Here/Spring_Is_Here.mxl', 'OpenEWLD/dataset/Septimus_Winner/Whispering_Hope/Whispering_Hope.mxl', 'OpenEWLD/dataset/Johnny_Mercer-Victor_Schertzinger/I_Remember_You/I_Remember_You.mxl', 'OpenEWLD/dataset/Douglas_Furber-Philip_Braham/Limehouse_Blues/Limehouse_Blues.mxl', \"OpenEWLD/dataset/George_Gershwin-Ira_Gershwin/They_Can't_Take_That_Away_from_Me/They_Can't_Take_That_Away_from_Me.mxl\", 'OpenEWLD/dataset/Lorenz_Hart-Richard_Rodgers/The_Most_Beautiful_Girl_in_the_World/The_Most_Beautiful_Girl_in_the_World.mxl', 'OpenEWLD/dataset/Andy_Razaf-Fats_Waller-Harry_Brooks/(What_Did_I_Do_to_Be_So)_Black_and_Blue?/(What_Did_I_Do_to_Be_So)_Black_and_Blue?.mxl', 'OpenEWLD/dataset/Lorenz_Hart-Richard_Rodgers/I_Married_an_Angel/I_Married_an_Angel.mxl', 'OpenEWLD/dataset/Arthur_Johnston-Gus_Kahn/Thanks_a_Million/Thanks_a_Million.mxl', 'OpenEWLD/dataset/Fermo_Dante_Marchetti/Fascination/Fascination.mxl', 'OpenEWLD/dataset/Hugh_Williams-Jimmy_Kennedy/Isle_of_Capri/Isle_of_Capri.mxl', 'OpenEWLD/dataset/Grant_Clarke-James_Hanley/Second_Hand_Rose/Second_Hand_Rose.mxl', 'OpenEWLD/dataset/Lou_Handman-Roy_Turk/Are_You_Lonesome_Tonight?/Are_You_Lonesome_Tonight?.mxl', 'OpenEWLD/dataset/Leo_Robin-Ralph_Rainger/With_Every_Breath_I_Take/With_Every_Breath_I_Take.mxl', 'OpenEWLD/dataset/Jerome_Kern-Oscar_Hammerstein_II/The_Last_Time_I_Saw_Paris/The_Last_Time_I_Saw_Paris.mxl', \"OpenEWLD/dataset/Eugène_Pottier-Pierre_De_Geyter/L'Internationale/L'Internationale.mxl\", 'OpenEWLD/dataset/Carmen_Lombardo-Gus_Kahn-Johnny_Green/Coquette/Coquette.mxl', 'OpenEWLD/dataset/Johannes_Brahms/Hungarian_Dance_No._5_in_F♯_minor/Hungarian_Dance_No._5_in_F♯_minor.mxl', 'OpenEWLD/dataset/Elsie_McWilliams-Jimmie_Rodgers/My_Little_Lady/My_Little_Lady.mxl', 'OpenEWLD/dataset/[Traditional]/Banks_of_the_Ohio/Banks_of_the_Ohio.mxl', 'OpenEWLD/dataset/Christina_Rossetti/In_the_Bleak_Midwinter/In_the_Bleak_Midwinter.mxl', \"OpenEWLD/dataset/Jerome_Kern-Oscar_Hammerstein_II/Can't_Help_Lovin'_Dat_Man/Can't_Help_Lovin'_Dat_Man.mxl\", 'OpenEWLD/dataset/Irving_Kahal-Pierre_Norman-Sammy_Fain/When_I_Take_My_Sugar_to_Tea/When_I_Take_My_Sugar_to_Tea.mxl', 'OpenEWLD/dataset/Archie_Pitt/Oh_My_Beloved_Father/Oh_My_Beloved_Father.mxl', 'OpenEWLD/dataset/B.G._DeSylva-Ballard_MacDonald-George_Gershwin/Somebody_Loves_Me/Somebody_Loves_Me.mxl', 'OpenEWLD/dataset/Ben_Bernie-Kenneth_Casey-Maceo_Pinkard/Sweet_Georgia_Brown/Sweet_Georgia_Brown.mxl', 'OpenEWLD/dataset/Lena_Arent-Ma_Rainey/See_See_Rider_Blues/See_See_Rider_Blues.mxl', \"OpenEWLD/dataset/Lorenz_Hart-Richard_Rodgers/I_Didn't_Know_What_Time_It_Was/I_Didn't_Know_What_Time_It_Was.mxl\", \"OpenEWLD/dataset/George_Gershwin-Gus_Kahn-Ira_Gershwin/Liza_(All_the_Clouds'll_Roll_Away)/Liza_(All_the_Clouds'll_Roll_Away).mxl\", 'OpenEWLD/dataset/Gus_Kahn-Isham_Jones/The_One_I_Love_Belongs_to_Somebody_Else/The_One_I_Love_Belongs_to_Somebody_Else.mxl', \"OpenEWLD/dataset/Al_Dubin-Harry_Warren/I'll_String_Along_with_You/I'll_String_Along_with_You.mxl\", 'OpenEWLD/dataset/Bubber_Miley-Duke_Ellington/Black_and_Tan_Fantasy/Black_and_Tan_Fantasy.mxl', 'OpenEWLD/dataset/Stephen_Foster/My_Old_Kentucky_Home_-_Good-Night!/My_Old_Kentucky_Home_-_Good-Night!.mxl', 'OpenEWLD/dataset/Jack_Mahoney-Percy_Wenrich/When_You_Wore_a_Tulip_and_I_Wore_a_Big_Red_Rose/When_You_Wore_a_Tulip_and_I_Wore_a_Big_Red_Rose.mxl', \"OpenEWLD/dataset/Alfred_Bryan-Fred_Fisher/Peg_O'_My_Heart/Peg_O'_My_Heart.mxl\", 'OpenEWLD/dataset/John_Hughes_[1]/Calon_Lân/Calon_Lân.mxl', 'OpenEWLD/dataset/Charles_Tobias-Roy_Turk/After_My_Laughter_Came_Tears/After_My_Laughter_Came_Tears.mxl', 'OpenEWLD/dataset/Annie_MacLeod-Sir_Harold_Boulton/The_Skye_Boat_Song/The_Skye_Boat_Song.mxl', 'OpenEWLD/dataset/B.G._DeSylva-George_Gershwin/Do_It_Again/Do_It_Again.mxl', 'OpenEWLD/dataset/Dorothy_Fields-Jerome_Kern/A_Fine_Romance/A_Fine_Romance.mxl', 'OpenEWLD/dataset/Frank_Loesser-George_Terry-Victor_Schertzinger/Kiss_the_Boys_Goodbye/Kiss_the_Boys_Goodbye.mxl', 'OpenEWLD/dataset/Lorenzo_Barcelata_Castro/Maria_Elena/Maria_Elena.mxl', 'OpenEWLD/dataset/Dick_Smith-Felix_Bernard/Winter_Wonderland/Winter_Wonderland.mxl', 'OpenEWLD/dataset/Lorenz_Hart-Richard_Rodgers/Thou_Swell/Thou_Swell.mxl', 'OpenEWLD/dataset/Lorenz_Hart-Richard_Rodgers/It_Never_Entered_My_Mind/It_Never_Entered_My_Mind.mxl', 'OpenEWLD/dataset/Bennie_Moten-Buster_Moten/Moten_Swing/Moten_Swing.mxl', \"OpenEWLD/dataset/Gus_Kahn-Walter_Donaldson/Yes_Sir,_That's_My_Baby/Yes_Sir,_That's_My_Baby.mxl\", 'OpenEWLD/dataset/Dorothy_Donnelly-Sigmund_Romberg/Deep_in_My_Heart,_Dear/Deep_in_My_Heart,_Dear.mxl', \"OpenEWLD/dataset/Bert_Kalmar-Harry_Ruby/Nevertheless_(I'm_in_Love_with_You)/Nevertheless_(I'm_in_Love_with_You).mxl\", 'OpenEWLD/dataset/Don_George-[Traditional]/Yellow_Rose_of_Texas/Yellow_Rose_of_Texas.mxl', 'OpenEWLD/dataset/Antoine_Renard/Le_temps_des_cerises/Le_temps_des_cerises.mxl', 'OpenEWLD/dataset/Jerome_Kern-Otto_Harbach/Yesterdays/Yesterdays.mxl', \"OpenEWLD/dataset/A._Emmett_Adams-Douglas_Furber/The_Bells_of_St._Mary's/The_Bells_of_St._Mary's.mxl\", \"OpenEWLD/dataset/B.G._DeSylva-George_Gershwin-Ira_Gershwin/I'll_Build_a_Stairway_to_Paradise/I'll_Build_a_Stairway_to_Paradise.mxl\", \"OpenEWLD/dataset/Joe_Young-Ray_Henderson-Sam_Lewis/I'm_Sitting_on_Top_of_the_World/I'm_Sitting_on_Top_of_the_World.mxl\", 'OpenEWLD/dataset/[Traditional]/Let_Us_Break_Bread_Together/Let_Us_Break_Bread_Together.mxl', 'OpenEWLD/dataset/James_Montgomery_[1]/Angels_from_the_Realms_of_Glory/Angels_from_the_Realms_of_Glory.mxl', 'OpenEWLD/dataset/Irving_Kahal-Pierre_Norman-Sammy_Fain/You_Brought_a_New_Kind_of_Love_to_Me/You_Brought_a_New_Kind_of_Love_to_Me.mxl', 'OpenEWLD/dataset/Harold_Adamson-Mack_Gordon-Vincent_Youmans/Time_on_My_Hands/Time_on_My_Hands.mxl', 'OpenEWLD/dataset/Leo_Robin-Ralph_Rainger/Love_in_Bloom/Love_in_Bloom.mxl', 'OpenEWLD/dataset/Fred_E._Ahlert-Roy_Turk/Mean_to_Me/Mean_to_Me.mxl', 'OpenEWLD/dataset/Joe_Young-Ned_Washington-Victor_Young/A_Hundred_Years_from_Today/A_Hundred_Years_from_Today.mxl', \"OpenEWLD/dataset/Jimmie_Rodgers/Hobo's_Meditation/Hobo's_Meditation.mxl\", \"OpenEWLD/dataset/Fred_E._Ahlert-Joe_Young/I'm_Gonna_Sit_Right_Down_and_Write_Myself_a_Letter/I'm_Gonna_Sit_Right_Down_and_Write_Myself_a_Letter.mxl\", 'OpenEWLD/dataset/Cab_Calloway-Clarence_Gaskill-Irving_Mills/Minnie_the_Moocher/Minnie_the_Moocher.mxl', 'OpenEWLD/dataset/George_Gershwin-Ira_Gershwin/They_All_Laughed/They_All_Laughed.mxl', 'OpenEWLD/dataset/Ballard_MacDonald/The_Parade_of_the_Wooden_Soldiers/The_Parade_of_the_Wooden_Soldiers.mxl', 'OpenEWLD/dataset/[Traditional]/The_Holly_and_the_Ivy/The_Holly_and_the_Ivy.mxl', 'OpenEWLD/dataset/George_Gershwin-Irving_Caesar/Swanee/Swanee.mxl', 'OpenEWLD/dataset/Bernice_Petkere-Joe_Young/Lullaby_of_the_Leaves/Lullaby_of_the_Leaves.mxl', \"OpenEWLD/dataset/Haven_Gillespie-Richard_A._Whiting-Seymour_Simons/Breezin'_Along_with_the_Breeze/Breezin'_Along_with_the_Breeze.mxl\", \"OpenEWLD/dataset/Lorenz_Hart-Richard_Rodgers/Isn't_It_Romantic?/Isn't_It_Romantic?.mxl\", 'OpenEWLD/dataset/Charles_B._Ward-John_F._Palmer/The_Band_Played_On/The_Band_Played_On.mxl', 'OpenEWLD/dataset/Leo_Robin-Richard_A._Whiting-Sam_Coslow/True_Blue_Lou/True_Blue_Lou.mxl', \"OpenEWLD/dataset/Riccardo_Cordiferro-Salvatore_Cardillo/Core_'ngrato/Core_'ngrato.mxl\", 'OpenEWLD/dataset/Stephen_Foster/Hard_Times_Come_Again_No_More/Hard_Times_Come_Again_No_More.mxl', 'OpenEWLD/dataset/Nikolai_Rimsky-Korsakov/Flight_of_the_Bumblebee/Flight_of_the_Bumblebee.mxl', 'OpenEWLD/dataset/[Traditional]/Scotland_the_Brave/Scotland_the_Brave.mxl', \"OpenEWLD/dataset/Lorenz_Hart-Richard_Rodgers/I've_Got_Five_Dollars/I've_Got_Five_Dollars.mxl\", \"OpenEWLD/dataset/Al_Dubin-Harry_Warren/Lulu's_Back_in_Town/Lulu's_Back_in_Town.mxl\", 'OpenEWLD/dataset/[Traditional]/Red_River_Valley/Red_River_Valley.mxl', 'OpenEWLD/dataset/Raymond_B._Egan-Richard_A._Whiting/Japanese_Sandman/Japanese_Sandman.mxl', 'OpenEWLD/dataset/[Traditional]/There_Is_a_Tavern_in_the_Town/There_Is_a_Tavern_in_the_Town.mxl', \"OpenEWLD/dataset/Charles_N._Daniels-Richard_A._Whiting/She's_Funny_That_Way/She's_Funny_That_Way.mxl\", 'OpenEWLD/dataset/Howard_Johnson-Jimmy_Monaco-Joseph_McCarthy/What_Do_You_Want_to_Make_Those_Eyes_at_Me_For?/What_Do_You_Want_to_Make_Those_Eyes_at_Me_For?.mxl', 'OpenEWLD/dataset/[Traditional]/Coventry_Carol/Coventry_Carol.mxl', 'OpenEWLD/dataset/Lorenz_Hart-Richard_Rodgers/The_Lady_Is_a_Tramp/The_Lady_Is_a_Tramp.mxl', 'OpenEWLD/dataset/Bill_Cogswell-Johnny_Noble-Tommy_Harrison/My_Little_Grass_Shack_in_Kealakekua,_Hawaii/My_Little_Grass_Shack_in_Kealakekua,_Hawaii.mxl', 'OpenEWLD/dataset/Leo_Robin-Richard_A._Whiting/Louise/Louise.mxl', 'OpenEWLD/dataset/Frank_Dean/Daisy_Bell_(Bicycle_Built_for_Two)/Daisy_Bell_(Bicycle_Built_for_Two).mxl', 'OpenEWLD/dataset/Ludwig_van_Beethoven/Für_Elise/Für_Elise.mxl', 'OpenEWLD/dataset/Henry_Creamer-James_P._Johnson/If_I_Could_Be_with_You_(One_Hour_Tonight)/If_I_Could_Be_with_You_(One_Hour_Tonight).mxl', \"OpenEWLD/dataset/C._W._Murphy-Dan_Lipton-John_Neat/She's_a_Lassie_from_Lancashire/She's_a_Lassie_from_Lancashire.mxl\", 'OpenEWLD/dataset/George_Gershwin-Ira_Gershwin/Love_Walked_In/Love_Walked_In.mxl', 'OpenEWLD/dataset/George_Gershwin-Ira_Gershwin/Soon/Soon.mxl', 'OpenEWLD/dataset/Harry_Tierney-Joseph_McCarthy/Alice_Blue_Gown/Alice_Blue_Gown.mxl', \"OpenEWLD/dataset/Fred_E._Ahlert-Roy_Turk/Walkin'_My_Baby_Back_Home/Walkin'_My_Baby_Back_Home.mxl\", 'OpenEWLD/dataset/[Traditional]/Alouette/Alouette.mxl', 'OpenEWLD/dataset/[Traditional]/I_Saw_Three_Ships/I_Saw_Three_Ships.mxl', 'OpenEWLD/dataset/John_McLellan-Kenneth_MacLeod-Marjory_Kennedy-Fraser/The_Road_to_the_Isles/The_Road_to_the_Isles.mxl', 'OpenEWLD/dataset/Lorenz_Hart-Richard_Rodgers/Falling_in_Love_with_Love/Falling_in_Love_with_Love.mxl', 'OpenEWLD/dataset/Lorenz_Hart-Richard_Rodgers/My_Heart_Stood_Still/My_Heart_Stood_Still.mxl', 'OpenEWLD/dataset/Richard_M._Jones/Trouble_in_Mind_Blues/Trouble_in_Mind_Blues.mxl', 'OpenEWLD/dataset/Bert_Kalmar-Harry_Ruby/Thinking_of_You/Thinking_of_You.mxl', 'OpenEWLD/dataset/Andy_Razaf-Fats_Waller/Honeysuckle_Rose/Honeysuckle_Rose.mxl', 'OpenEWLD/dataset/Arthur_Sullivan-Sabine_Baring-Gould/Onward,_Christian_Soldiers/Onward,_Christian_Soldiers.mxl', 'OpenEWLD/dataset/Lorenz_Hart-Richard_Rodgers/Wait_Till_You_See_Her/Wait_Till_You_See_Her.mxl', 'OpenEWLD/dataset/[Traditional]/Shady_Grove/Shady_Grove.mxl', 'OpenEWLD/dataset/Scott_Joplin/The_Entertainer/The_Entertainer.mxl', 'OpenEWLD/dataset/George_Gershwin-Ira_Gershwin/Oh,_Lady_Be_Good!/Oh,_Lady_Be_Good!.mxl', 'OpenEWLD/dataset/Joseph_Eastburn_Winner/The_Little_Brown_Jug/The_Little_Brown_Jug.mxl', \"OpenEWLD/dataset/Al_Dubin-Harry_Warren/We're_in_the_Money/We're_in_the_Money.mxl\", 'OpenEWLD/dataset/Frederic_Weatherly/Danny_Boy/Danny_Boy.mxl', 'OpenEWLD/dataset/Henry_Creamer-Turner_Layton/Way_Down_Yonder_in_New_Orleans/Way_Down_Yonder_in_New_Orleans.mxl', 'OpenEWLD/dataset/Irving_Kahal-Sammy_Fain-Willie_Raskin/Wedding_Bells_Are_Breaking_up_That_Old_Gang_of_Mine/Wedding_Bells_Are_Breaking_up_That_Old_Gang_of_Mine.mxl', 'OpenEWLD/dataset/[Traditional]/Sometimes_I_Feel_Like_a_Motherless_Child/Sometimes_I_Feel_Like_a_Motherless_Child.mxl', 'OpenEWLD/dataset/Eliza_Flower-Sarah_Flower_Adams/Nearer,_My_God,_to_Thee/Nearer,_My_God,_to_Thee.mxl', \"OpenEWLD/dataset/Ivor_Novello-Lena_Ford/Keep_the_Home_Fires_Burning_('Till_the_Boys_Come_Home)/Keep_the_Home_Fires_Burning_('Till_the_Boys_Come_Home).mxl\", 'OpenEWLD/dataset/[Traditional]/Still,_Still,_Still/Still,_Still,_Still.mxl', 'OpenEWLD/dataset/Lorenz_Hart-Richard_Rodgers/I_Wish_I_Were_in_Love_Again/I_Wish_I_Were_in_Love_Again.mxl', \"OpenEWLD/dataset/Bernie_Miller/Bernie's_Tune/Bernie's_Tune.mxl\", 'OpenEWLD/dataset/John_Mason_Neale/Good_Christian_Men,_Rejoice/Good_Christian_Men,_Rejoice.mxl', \"OpenEWLD/dataset/George_Gershwin-Ira_Gershwin/'S_Wonderful/'S_Wonderful.mxl\", \"OpenEWLD/dataset/Bert_Lee-Harry_Fragson-Hubert_Worton_David/Hello,_Hello,_Who's_Your_Lady_Friend/Hello,_Hello,_Who's_Your_Lady_Friend.mxl\", 'OpenEWLD/dataset/Thomas_Oliphant/The_Ash_Grove/The_Ash_Grove.mxl', 'OpenEWLD/dataset/Dorothy_Fields-Jerome_Kern/Pick_Yourself_Up/Pick_Yourself_Up.mxl', 'OpenEWLD/dataset/Jerome_Kern-Oscar_Hammerstein_II/Why_Do_I_Love_You?/Why_Do_I_Love_You?.mxl', 'OpenEWLD/dataset/Maurice_Ravel/Boléro/Boléro.mxl', 'OpenEWLD/dataset/DuBose_Heyward-George_Gershwin-Ira_Gershwin/I_Loves_You,_Porgy/I_Loves_You,_Porgy.mxl', 'OpenEWLD/dataset/Louis_Hirsch-Otto_Harbach/The_Love_Nest/The_Love_Nest.mxl', 'OpenEWLD/dataset/Albert_Chevalier-Charles_Ingle/My_Old_Dutch/My_Old_Dutch.mxl', 'OpenEWLD/dataset/Henry_Rowley_Bishop-John_Howard_Payne_[1]/Home_Sweet_Home/Home_Sweet_Home.mxl', 'OpenEWLD/dataset/George_Gershwin-Ira_Gershwin/I_Got_Rhythm/I_Got_Rhythm.mxl', 'OpenEWLD/dataset/Leo_Robin-Ralph_Rainger/Thanks_for_the_Memory/Thanks_for_the_Memory.mxl', 'OpenEWLD/dataset/Jesse_Brown_Pounds-John_Sylvester_Fearis/Beautiful_Isle_of_Somewhere/Beautiful_Isle_of_Somewhere.mxl', 'OpenEWLD/dataset/Egbert_Van_Alstyne-Gus_Kahn-Tony_Jackson_[1]/Pretty_Baby/Pretty_Baby.mxl', \"OpenEWLD/dataset/Clifford_Grey-Irving_Caesar-Vincent_Youmans/Sometimes_I'm_Happy_(Sometimes_I'm_Blue)/Sometimes_I'm_Happy_(Sometimes_I'm_Blue).mxl\", 'OpenEWLD/dataset/Leo_Robin-Ralph_Rainger/Easy_Living/Easy_Living.mxl', 'OpenEWLD/dataset/Desmond_Carter-Joseph_Meyer-Phil_Charig/Tell_Me_Why/Tell_Me_Why.mxl', 'OpenEWLD/dataset/[Traditional]/Satan,_Your_Kingdom_Must_Come_Down/Satan,_Your_Kingdom_Must_Come_Down.mxl', 'OpenEWLD/dataset/Frank_Westphal-Gus_Kahn/When_You_Come_to_the_End_of_the_Day/When_You_Come_to_the_End_of_the_Day.mxl', 'OpenEWLD/dataset/Lorenz_Hart/Blue_Moon/Blue_Moon.mxl', 'OpenEWLD/dataset/Jean_Schwartz-Joe_Young-Sam_Lewis/Rock-a-Bye_Your_Baby_with_a_Dixie_Melody/Rock-a-Bye_Your_Baby_with_a_Dixie_Melody.mxl', 'OpenEWLD/dataset/Robert_Burns-[Traditional]/Auld_Lang_Syne/Auld_Lang_Syne.mxl', 'OpenEWLD/dataset/Hugh_Williams-Jimmy_Kennedy/Red_Sails_in_the_Sunset/Red_Sails_in_the_Sunset.mxl', 'OpenEWLD/dataset/Fred_W._Leigh-Henry_E._Pether/Waiting_at_the_Church/Waiting_at_the_Church.mxl', 'OpenEWLD/dataset/Paul_Dresser/On_the_Banks_of_the_Wabash,_Far_Away/On_the_Banks_of_the_Wabash,_Far_Away.mxl', 'OpenEWLD/dataset/Joseph_Brackett,_Jr./Simple_Gifts/Simple_Gifts.mxl', 'OpenEWLD/dataset/[Traditional]/Frankie_and_Johnny/Frankie_and_Johnny.mxl', 'OpenEWLD/dataset/Eddie_Leonard-Eddie_Munson/Ida!_Sweet_as_Apple_Cider/Ida!_Sweet_as_Apple_Cider.mxl', 'OpenEWLD/dataset/Alfredo_Le_Pera-Carlos_Gardel/Por_una_cabeza/Por_una_cabeza.mxl', 'OpenEWLD/dataset/[Traditional]/Wexford_Carol/Wexford_Carol.mxl', 'OpenEWLD/dataset/Al_Jolson-B.G._DeSylva-Vincent_Rose/Avalon/Avalon.mxl', 'OpenEWLD/dataset/Grant_Clarke-Harry_Akst/Am_I_Blue?/Am_I_Blue?.mxl', \"OpenEWLD/dataset/Lew_Pollack/That's_a_Plenty/That's_a_Plenty.mxl\", 'OpenEWLD/dataset/Leo_Robin-Newell_Chase-Richard_A._Whiting/My_Ideal/My_Ideal.mxl', 'OpenEWLD/dataset/[Traditional]/The_Wild_Rover/The_Wild_Rover.mxl', 'OpenEWLD/dataset/Clarence_Williams-King_Oliver/West_End_Blues/West_End_Blues.mxl', 'OpenEWLD/dataset/Lewis_Redner-Phillips_Brooks/O_Little_Town_of_Bethlehem/O_Little_Town_of_Bethlehem.mxl', \"OpenEWLD/dataset/Harry_Warren-Joe_Young-Mort_Dixon/You're_My_Everything/You're_My_Everything.mxl\", 'OpenEWLD/dataset/Banjo_Paterson-Marie_Cowan/Waltzing_Matilda/Waltzing_Matilda.mxl', 'OpenEWLD/dataset/George_Gershwin-Ira_Gershwin/Nice_Work_if_You_Can_Get_It/Nice_Work_if_You_Can_Get_It.mxl', 'OpenEWLD/dataset/Giacomo_Puccini-Giovacchino_Forzano/O_mio_babbino_caro/O_mio_babbino_caro.mxl', 'OpenEWLD/dataset/George_Gershwin-Ira_Gershwin/Who_Cares/Who_Cares.mxl', 'OpenEWLD/dataset/Charles_Gounod/Ave_Maria/Ave_Maria.mxl', 'OpenEWLD/dataset/Francis_Wheeler-Harry_B._Smith-Ted_Snyder/The_Sheik_of_Araby/The_Sheik_of_Araby.mxl', \"OpenEWLD/dataset/Irving_Kahal-Sammy_Fain/I_Can_Dream,_Can't_I?/I_Can_Dream,_Can't_I?.mxl\", \"OpenEWLD/dataset/[Traditional]/Didn't_My_Lord_Deliver_Daniel/Didn't_My_Lord_Deliver_Daniel.mxl\", 'OpenEWLD/dataset/Lorenz_Hart-Richard_Rodgers/My_Funny_Valentine/My_Funny_Valentine.mxl', 'OpenEWLD/dataset/[Traditional]/Santa_Lucia/Santa_Lucia.mxl', \"OpenEWLD/dataset/Dan_Russo-Ernie_Erdman-Gus_Kahn-Ted_FioRito/Toot,_Toot,_Tootsie_(Goo'_Bye)/Toot,_Toot,_Tootsie_(Goo'_Bye).mxl\", 'OpenEWLD/dataset/Augustus_Toplady-Thomas_Hastings/Rock_of_Ages/Rock_of_Ages.mxl', 'OpenEWLD/dataset/Eben_E._Rexford-H.P._Danks/Silver_Threads_Among_the_Gold/Silver_Threads_Among_the_Gold.mxl', 'OpenEWLD/dataset/Frederic_Knight_Logan-James_Royce_Shannon-John_V._Eppel/Missouri_Waltz/Missouri_Waltz.mxl', \"OpenEWLD/dataset/Albert_H._Brown-Charles_N._Daniels-Seymour_Rice/You_Tell_Me_Your_Dream,_I'll_Tell_You_Mine/You_Tell_Me_Your_Dream,_I'll_Tell_You_Mine.mxl\", 'OpenEWLD/dataset/George_M._Cohan/Over_There/Over_There.mxl', 'OpenEWLD/dataset/Harry_Akst-Joe_Young-Sam_Lewis/Dinah/Dinah.mxl', 'OpenEWLD/dataset/Stephen_Foster/Beautiful_Dreamer/Beautiful_Dreamer.mxl', 'OpenEWLD/dataset/Frank_Churchill-Larry_Morey/Little_April_Shower/Little_April_Shower.mxl', 'OpenEWLD/dataset/Fred_Fisher/Chicago_(That_Toddling_Town)/Chicago_(That_Toddling_Town).mxl', 'OpenEWLD/dataset/George_Gershwin-Ira_Gershwin/I_Was_Doing_All_Right/I_Was_Doing_All_Right.mxl', 'OpenEWLD/dataset/Irving_Caesar-Otto_Harbach-Vincent_Youmans/I_Want_to_Be_Happy/I_Want_to_Be_Happy.mxl', 'OpenEWLD/dataset/George_A._Norton/She_Wore_a_Yellow_Ribbon/She_Wore_a_Yellow_Ribbon.mxl', \"OpenEWLD/dataset/Gus_Kahn-Walter_Donaldson/Makin'_Whoopee!/Makin'_Whoopee!.mxl\", 'OpenEWLD/dataset/Dorothy_Parker-Jack_King/How_Am_I_to_Know?/How_Am_I_to_Know?.mxl', \"OpenEWLD/dataset/Arthur_A._Penn/Smilin'_Through/Smilin'_Through.mxl\", 'OpenEWLD/dataset/Billy_Hill/The_Old_Spinning_Wheel/The_Old_Spinning_Wheel.mxl', \"OpenEWLD/dataset/George_Gershwin-Ira_Gershwin/(I've_Got_a)_Crush_on_You/(I've_Got_a)_Crush_on_You.mxl\", 'OpenEWLD/dataset/Lorenz_Hart-Richard_Rodgers/Bewitched,_Bothered_and_Bewildered/Bewitched,_Bothered_and_Bewildered.mxl', 'OpenEWLD/dataset/John_Mason_Neale-Thomas_Helmore/Good_King_Wenceslas/Good_King_Wenceslas.mxl', 'OpenEWLD/dataset/Gus_Kahn-Nacio_Herb_Brown/You_Stepped_out_of_a_Dream/You_Stepped_out_of_a_Dream.mxl', 'OpenEWLD/dataset/Irving_Caesar-Vincent_Youmans/Tea_for_Two/Tea_for_Two.mxl', 'OpenEWLD/dataset/George_M._Cohan/Give_My_Regards_to_Broadway/Give_My_Regards_to_Broadway.mxl', \"OpenEWLD/dataset/Billy_Rose-Dana_Suesse-Irving_Kahal/The_Night_Is_Young_and_You're_So_Beautiful/The_Night_Is_Young_and_You're_So_Beautiful.mxl\", \"OpenEWLD/dataset/Henry_Creamer-Turner_Layton/After_You've_Gone/After_You've_Gone.mxl\", 'OpenEWLD/dataset/David_Oppenheim-Ira_Schuster-Jack_Little/Hold_Me/Hold_Me.mxl', \"OpenEWLD/dataset/Charles_D._Tillman-M.E._Abbey/Life's_Railway_to_Heaven/Life's_Railway_to_Heaven.mxl\", 'OpenEWLD/dataset/Jean_Schwartz-William_Jerome/Chinatown_My_Chinatown/Chinatown_My_Chinatown.mxl', 'OpenEWLD/dataset/Beth_Slater_Whitson-Leo_Friedman/Let_Me_Call_You_Sweetheart/Let_Me_Call_You_Sweetheart.mxl', 'OpenEWLD/dataset/Lorenz_Hart-Richard_Rodgers/My_Romance/My_Romance.mxl', 'OpenEWLD/dataset/George_Gershwin-Ira_Gershwin/That_Certain_Feeling/That_Certain_Feeling.mxl', 'OpenEWLD/dataset/Louis_Alter-Sidney_D._Mitchell/You_Turned_the_Tables_on_Me/You_Turned_the_Tables_on_Me.mxl', 'OpenEWLD/dataset/Alan_Rankin_Jones/Easy_Street/Easy_Street.mxl', 'OpenEWLD/dataset/Walter_Donaldson/Little_White_Lies/Little_White_Lies.mxl', 'OpenEWLD/dataset/Jerome_Kern-Oscar_Hammerstein_II/The_Song_Is_You/The_Song_Is_You.mxl', 'OpenEWLD/dataset/Al_Dubin-Dave_Franklin/Anniversary_Waltz/Anniversary_Waltz.mxl', 'OpenEWLD/dataset/Lorenz_Hart-Richard_Rodgers/Ten_Cents_a_Dance/Ten_Cents_a_Dance.mxl', \"OpenEWLD/dataset/[Traditional]/The_Prisoner's_Song/The_Prisoner's_Song.mxl\", 'OpenEWLD/dataset/Harry_B._Smith/Yours_Is_My_Heart_Alone/Yours_Is_My_Heart_Alone.mxl', 'OpenEWLD/dataset/Egbert_Van_Alstyne-Harry_Williams/In_the_Shade_of_the_Old_Apple_Tree/In_the_Shade_of_the_Old_Apple_Tree.mxl', 'OpenEWLD/dataset/Stephen_Foster/Old_Folks_at_Home/Old_Folks_at_Home.mxl', 'OpenEWLD/dataset/Lorenz_Hart-Richard_Rodgers/This_Funny_World/This_Funny_World.mxl', 'OpenEWLD/dataset/Paul_Dresser/My_Gal_Sal/My_Gal_Sal.mxl', 'OpenEWLD/dataset/Jerome_Kern-Oscar_Hammerstein_II/All_the_Things_You_Are/All_the_Things_You_Are.mxl', 'OpenEWLD/dataset/Frederic_Weatherly-Michael_Maybrick/The_Holy_City/The_Holy_City.mxl', 'OpenEWLD/dataset/[Traditional]/À_la_claire_fontaine/À_la_claire_fontaine.mxl', 'OpenEWLD/dataset/Alicia_Scott/Annie_Laurie/Annie_Laurie.mxl', \"OpenEWLD/dataset/Harry_Carroll-Joseph_McCarthy/I'm_Always_Chasing_Rainbows/I'm_Always_Chasing_Rainbows.mxl\", 'OpenEWLD/dataset/Arthur_Lamb-Harry_Von_Tilzer/A_Bird_in_a_Gilded_Cage/A_Bird_in_a_Gilded_Cage.mxl', 'OpenEWLD/dataset/Andrew_Lloyd_Webber-[Traditional]/Pie_Jesu/Pie_Jesu.mxl', 'OpenEWLD/dataset/Johann_Strauss_(Vater)/Radetzky-Marsch/Radetzky-Marsch.mxl', 'OpenEWLD/dataset/Clifford_Harris-James_W._Tate/A_Broken_Doll/A_Broken_Doll.mxl', \"OpenEWLD/dataset/Irving_Kahal-Sammy_Fain/I'll_Be_Seeing_You/I'll_Be_Seeing_You.mxl\", 'OpenEWLD/dataset/Stephen_Foster/Oh!_Susanna/Oh!_Susanna.mxl', 'OpenEWLD/dataset/Edward_Teschemacher-Herman_Darewski/The_Army,_the_Navy_and_the_Air_Force/The_Army,_the_Navy_and_the_Air_Force.mxl', 'OpenEWLD/dataset/Abe_Olman-Ed_Rose/Oh_Johnny,_oh_Johnny,_Oh!/Oh_Johnny,_oh_Johnny,_Oh!.mxl', 'OpenEWLD/dataset/Alfred_Bryan-Fred_Fisher/Come_Josephine_in_My_Flying_Machine_(Up_She_Goes!)/Come_Josephine_in_My_Flying_Machine_(Up_She_Goes!).mxl', 'OpenEWLD/dataset/Ernie_Burnett-George_A._Norton/My_Melancholy_Baby/My_Melancholy_Baby.mxl', 'OpenEWLD/dataset/George_Washington_Johnson_[1]-James_Austin_Butterfield/When_You_and_I_Were_Young,_Maggie/When_You_and_I_Were_Young,_Maggie.mxl', 'OpenEWLD/dataset/James_I._Russell/Where_the_River_Shannon_Flows/Where_the_River_Shannon_Flows.mxl', 'OpenEWLD/dataset/Alberto_Pestalozza-Carlo_Tiochet/Ciribiribin/Ciribiribin.mxl', 'OpenEWLD/dataset/Billy_Hill-Peter_De_Rose/On_a_Little_Street_in_Singapore/On_a_Little_Street_in_Singapore.mxl', 'OpenEWLD/dataset/Albert_Fitz-William_Penn/The_Honeysuckle_and_the_Bee/The_Honeysuckle_and_the_Bee.mxl', 'OpenEWLD/dataset/Lorenz_Hart-Richard_Rodgers/Dancing_on_the_Ceiling/Dancing_on_the_Ceiling.mxl', 'OpenEWLD/dataset/Clifford_Grey-Nat_Ayer/If_You_Were_the_Only_Girl_(In_the_World)/If_You_Were_the_Only_Girl_(In_the_World).mxl', 'OpenEWLD/dataset/Francis_Wheeler-Irving_Kahal-Sammy_Fain/Let_a_Smile_Be_Your_Umbrella/Let_a_Smile_Be_Your_Umbrella.mxl', 'OpenEWLD/dataset/Al_Dubin-Harry_Warren/The_Boulevard_of_Broken_Dreams/The_Boulevard_of_Broken_Dreams.mxl', 'OpenEWLD/dataset/Gus_Edwards-Vincent_Bryan/In_My_Merry_Oldsmobile/In_My_Merry_Oldsmobile.mxl', 'OpenEWLD/dataset/Bert_Kalmar-Harry_Ruby/All_Alone_Monday/All_Alone_Monday.mxl', 'OpenEWLD/dataset/Eddie_Edwards-Henry_Ragas-Larry_Shields-Nick_LaRocca-Tony_Sbarbaro/Tiger_Rag/Tiger_Rag.mxl', 'OpenEWLD/dataset/[Traditional]/The_Black_Velvet_Band/The_Black_Velvet_Band.mxl', 'OpenEWLD/dataset/Raymond_B._Egan-Richard_A._Whiting/They_Made_It_Twice_as_Nice_as_Paradise_and_They_Called_It_Dixieland/They_Made_It_Twice_as_Nice_as_Paradise_and_They_Called_It_Dixieland.mxl', 'OpenEWLD/dataset/Glen_MacDonough-Victor_Herbert/Toyland/Toyland.mxl', 'OpenEWLD/dataset/Lorenz_Hart-Richard_Rodgers/Mimi/Mimi.mxl', 'OpenEWLD/dataset/Dorothy_Fields-Jerome_Kern/Remind_Me/Remind_Me.mxl', 'OpenEWLD/dataset/Lorenz_Hart-Richard_Rodgers/You_Took_Advantage_of_Me/You_Took_Advantage_of_Me.mxl', 'OpenEWLD/dataset/Al_Dubin-Jimmy_McHugh/South_American_Way/South_American_Way.mxl', 'OpenEWLD/dataset/Will_Fyffe/I_Belong_to_Glasgow/I_Belong_to_Glasgow.mxl', 'OpenEWLD/dataset/Bert_Kalmar-Harry_Ruby-Herbert_Stothart/I_Wanna_Be_Loved_by_You/I_Wanna_Be_Loved_by_You.mxl', 'OpenEWLD/dataset/Ben_Pollack-George_Brunies-Leon_Roppolo-Mel_Stitzel-Paul_Mares-Walter_Melrose/Tin_Roof_Blues/Tin_Roof_Blues.mxl', 'OpenEWLD/dataset/Andrew_B._Sterling-Harry_Von_Tilzer/Wait_Till_the_Sun_Shines_Nellie/Wait_Till_the_Sun_Shines_Nellie.mxl', 'OpenEWLD/dataset/Lorenz_Hart-Richard_Rodgers/Here_in_My_Arms/Here_in_My_Arms.mxl', \"OpenEWLD/dataset/Bert_Kalmar-Harry_Ruby-Ted_Snyder/Who's_Sorry_Now?/Who's_Sorry_Now?.mxl\"]\n",
      "number of song files is 502\n"
     ]
    }
   ],
   "source": [
    "import sys\n",
    "import glob\n",
    "import random\n",
    "import music21\n",
    "#import music_geometry_eval\n",
    "from collections.abc import Iterable\n",
    "import numpy as np\n",
    "random.seed(42)\n",
    "song_files = glob.glob(\"OpenEWLD/dataset/*/*/*.mxl\")\n",
    "\n",
    "\n",
    "\n",
    "random.seed(42)\n",
    "song_files = glob.glob(\"OpenEWLD/dataset/*/*/*.mxl\")\n",
    "random.shuffle(song_files)\n",
    "num_files = len(song_files)\n",
    "print(song_files)\n",
    "print(\"number of song files is\", num_files)\n",
    "\n",
    "transpose_dict = {\"G major\": 5, \"A- major\": 4, \"A major\": 3, \"B- major\": 2, \"B major\": 1, \"C major\": 0, \"D- major\": -1, \"D major\": -2, \"E- major\": -3, \"E major\": -4, \"F major\": -5, \"F# major\": -6}"
   ]
  },
  {
   "cell_type": "code",
   "execution_count": 4,
   "metadata": {
    "id": "gxPQe3mEi5_E"
   },
   "outputs": [
    {
     "name": "stdout",
     "output_type": "stream",
     "text": [
      "\n",
      "OpenEWLD/dataset/Lorenz_Hart-Richard_Rodgers/A_Ship_Without_a_Sail/A_Ship_Without_a_Sail.mxl\n",
      "E- major 4/4\n",
      "transposing from key E- major to C major using interval -3\n",
      "\n",
      "OpenEWLD/dataset/Johnny_Mercer-Victor_Schertzinger/Tangerine/Tangerine.mxl\n",
      "C major 4/4\n",
      "transposing from key C major to C major using interval 0\n",
      "\n",
      "OpenEWLD/dataset/Billy_Rose-Edward_Eliscu-Vincent_Youmans/Without_a_Song/Without_a_Song.mxl\n",
      "E- major 4/4\n",
      "transposing from key E- major to C major using interval -3\n",
      "\n",
      "OpenEWLD/dataset/Howard_Johnson-Theodore_Morse/M-O-T-H-E-R_(A_Word_That_Means_the_World_to_Me)/M-O-T-H-E-R_(A_Word_That_Means_the_World_to_Me).mxl\n",
      "E- major 2/2\n",
      "transposing from key E- major to C major using interval -3\n",
      "\n",
      "OpenEWLD/dataset/Al_Dubin-Harry_Warren/September_in_the_Rain/September_in_the_Rain.mxl\n",
      "C major 4/4\n",
      "transposing from key C major to C major using interval 0\n",
      "\n",
      "OpenEWLD/dataset/Jerome_Kern-Johnny_Mercer/I'm_Old_Fashioned/I'm_Old_Fashioned.mxl\n",
      "F major 4/4\n",
      "transposing from key F major to C major using interval -5\n",
      "\n",
      "OpenEWLD/dataset/Anne_Caldwell-Vincent_Youmans/I_Know_That_You_Know/I_Know_That_You_Know.mxl\n",
      "C major 2/2\n",
      "transposing from key C major to C major using interval 0\n",
      "\n",
      "OpenEWLD/dataset/Gus_Kahn-Walter_Donaldson/I_Wonder_Where_My_Baby_Is_Tonight/I_Wonder_Where_My_Baby_Is_Tonight.mxl\n",
      "F major 2/2\n",
      "transposing from key F major to C major using interval -5\n",
      "\n",
      "OpenEWLD/dataset/Lorenz_Hart-Richard_Rodgers/Mountain_Greenery/Mountain_Greenery.mxl\n",
      "C major 4/4\n",
      "transposing from key C major to C major using interval 0\n",
      "\n",
      "OpenEWLD/dataset/Joseph_LaCalle/Amapola/Amapola.mxl\n",
      "C major 4/4\n",
      "transposing from key C major to C major using interval 0\n",
      "\n",
      "OpenEWLD/dataset/Walter_Donaldson/You're_Driving_Me_Crazy_(What_Did_I_Do?)/You're_Driving_Me_Crazy_(What_Did_I_Do?).mxl\n",
      "C major 2/2\n",
      "transposing from key C major to C major using interval 0\n",
      "\n",
      "OpenEWLD/dataset/Jack_Norworth-Nora_Bayes/Shine_On,_Harvest_Moon/Shine_On,_Harvest_Moon.mxl\n",
      "G major 2/2\n",
      "transposing from key G major to C major using interval 5\n",
      "\n",
      "OpenEWLD/dataset/Jerome_Kern-Oscar_Hammerstein_II/I've_Told_Ev'ry_Little_Star/I've_Told_Ev'ry_Little_Star.mxl\n",
      "F major 4/4\n",
      "transposing from key F major to C major using interval -5\n",
      "\n",
      "OpenEWLD/dataset/Edward_Cuthbert_Nunn/Bring_a_Torch,_Jeanette,_Isabella/Bring_a_Torch,_Jeanette,_Isabella.mxl\n",
      "\n",
      "OpenEWLD/dataset/DuBose_Heyward-George_Gershwin-Ira_Gershwin/A_Woman_Is_a_Sometime_Thing/A_Woman_Is_a_Sometime_Thing.mxl\n",
      "B- major 2/2\n",
      "transposing from key B- major to C major using interval 2\n",
      "\n",
      "OpenEWLD/dataset/James_Hanley/Zing!_Went_the_Strings_of_My_Heart/Zing!_Went_the_Strings_of_My_Heart.mxl\n",
      "E- major 2/2\n",
      "transposing from key E- major to C major using interval -3\n",
      "\n",
      "OpenEWLD/dataset/Fred_E._Ahlert-Roy_Turk/I_Don't_Know_Why_(I_Just_Do)/I_Don't_Know_Why_(I_Just_Do).mxl\n",
      "B- major 4/4\n",
      "transposing from key B- major to C major using interval 2\n",
      "\n",
      "OpenEWLD/dataset/Ben_Black-Charles_N._Daniels/Moonlight_and_Roses/Moonlight_and_Roses.mxl\n",
      "C major 4/4\n",
      "transposing from key C major to C major using interval 0\n",
      "\n",
      "OpenEWLD/dataset/Jerome_Kern-Johnny_Mercer/Dearly_Beloved/Dearly_Beloved.mxl\n",
      "C major 4/4\n",
      "transposing from key C major to C major using interval 0\n",
      "\n",
      "OpenEWLD/dataset/George_Gershwin-Ira_Gershwin/Fascinating_Rhythm/Fascinating_Rhythm.mxl\n",
      "F major 4/4\n",
      "transposing from key F major to C major using interval -5\n",
      "\n",
      "OpenEWLD/dataset/Harry_Owens-Vincent_Rose/Linger_Awhile/Linger_Awhile.mxl\n",
      "F major 2/2\n",
      "transposing from key F major to C major using interval -5\n",
      "\n",
      "OpenEWLD/dataset/Charles_Collins-Dick_Manning-Fred_Leigh/Don't_Dilly_Dally_on_the_Way/Don't_Dilly_Dally_on_the_Way.mxl\n",
      "\n",
      "OpenEWLD/dataset/Gus_Kahn-Harry_Akst-Richard_A._Whiting/Guilty/Guilty.mxl\n",
      "C major 4/4\n",
      "transposing from key C major to C major using interval 0\n",
      "\n",
      "OpenEWLD/dataset/Lorenz_Hart-Richard_Rodgers/There's_a_Small_Hotel/There's_a_Small_Hotel.mxl\n",
      "G major 2/2\n",
      "transposing from key G major to C major using interval 5\n",
      "\n",
      "OpenEWLD/dataset/Aubrey_Hopwood-Lionel_Monckton/Soldiers_in_the_Park/Soldiers_in_the_Park.mxl\n",
      "B- major 4/4\n",
      "transposing from key B- major to C major using interval 2\n",
      "\n",
      "OpenEWLD/dataset/William_W._Walford/Sweet_Hour_of_Prayer/Sweet_Hour_of_Prayer.mxl\n",
      "\n",
      "OpenEWLD/dataset/Jimmie_Cox/Nobody_Knows_You_When_You're_down_and_Out/Nobody_Knows_You_When_You're_down_and_Out.mxl\n",
      "F major 4/4\n",
      "transposing from key F major to C major using interval -5\n",
      "\n",
      "OpenEWLD/dataset/[Traditional]/Joshua_Fit_the_Battle_of_Jericho/Joshua_Fit_the_Battle_of_Jericho.mxl\n",
      "F major 4/4\n",
      "transposing from key F major to C major using interval -5\n",
      "\n",
      "OpenEWLD/dataset/Johnny_Black_[1]/Paper_Doll/Paper_Doll.mxl\n",
      "F major 4/4\n",
      "transposing from key F major to C major using interval -5\n",
      "\n",
      "OpenEWLD/dataset/Charles_N._Daniels-Gus_Kahn/Chloe/Chloe.mxl\n",
      "C major 2/2\n",
      "transposing from key C major to C major using interval 0\n",
      "\n",
      "OpenEWLD/dataset/Brewster_M._Higley-Daniel_E._Kelley/Home_on_the_Range/Home_on_the_Range.mxl\n",
      "\n",
      "OpenEWLD/dataset/Felix_Bernard-Fred_Fisher-Johnny_Black_[1]/Dardanella/Dardanella.mxl\n",
      "C major 2/2\n",
      "transposing from key C major to C major using interval 0\n",
      "\n",
      "OpenEWLD/dataset/Billy_Hill/The_Glory_of_Love/The_Glory_of_Love.mxl\n",
      "G major 4/4\n",
      "transposing from key G major to C major using interval 5\n",
      "\n",
      "OpenEWLD/dataset/Liliuokalani/Aloha_Oe/Aloha_Oe.mxl\n",
      "C major 4/4\n",
      "transposing from key C major to C major using interval 0\n",
      "\n",
      "OpenEWLD/dataset/Glenn_Miller/Moonlight_Serenade/Moonlight_Serenade.mxl\n",
      "F major 4/4\n",
      "transposing from key F major to C major using interval -5\n",
      "\n",
      "OpenEWLD/dataset/Edward_Eliscu-Gus_Kahn-Vincent_Youmans/Carioca/Carioca.mxl\n",
      "E- major 2/2\n",
      "transposing from key E- major to C major using interval -3\n",
      "\n",
      "OpenEWLD/dataset/George_M._Cohan/Yankee_Doodle_Boy/Yankee_Doodle_Boy.mxl\n",
      "\n",
      "OpenEWLD/dataset/F._W._Meacham/American_Patrol/American_Patrol.mxl\n",
      "C major 4/4\n",
      "transposing from key C major to C major using interval 0\n",
      "\n",
      "OpenEWLD/dataset/Chauncey_Olcott/My_Wild_Irish_Rose/My_Wild_Irish_Rose.mxl\n",
      "\n",
      "OpenEWLD/dataset/Bert_Kalmar-Harry_Ruby/Three_Little_Words/Three_Little_Words.mxl\n",
      "C major 4/4\n",
      "transposing from key C major to C major using interval 0\n",
      "\n",
      "OpenEWLD/dataset/Hans_Engelmann/Melody_of_Love/Melody_of_Love.mxl\n",
      "\n",
      "OpenEWLD/dataset/Haven_Gillespie-Richard_A._Whiting-Seymour_Simons/Honey/Honey.mxl\n",
      "F major 2/2\n",
      "transposing from key F major to C major using interval -5\n",
      "\n",
      "OpenEWLD/dataset/Lorenz_Hart-Richard_Rodgers/Blue_Room/Blue_Room.mxl\n",
      "F major 4/4\n",
      "transposing from key F major to C major using interval -5\n",
      "\n",
      "OpenEWLD/dataset/Con_Conrad-Gladys_du_Bois-Paul_Gregory-Russ_Columbo/You_Call_It_Madness_(But_I_Call_It_Love)/You_Call_It_Madness_(But_I_Call_It_Love).mxl\n",
      "G major 2/2\n",
      "transposing from key G major to C major using interval 5\n",
      "\n",
      "OpenEWLD/dataset/Dan_Emmett/I_Wish_I_Was_in_Dixie's_Land/I_Wish_I_Was_in_Dixie's_Land.mxl\n",
      "C major 4/4\n",
      "transposing from key C major to C major using interval 0\n",
      "\n",
      "OpenEWLD/dataset/Claude_Joseph_Rouget_de_Lisle/La_Marseillaise/La_Marseillaise.mxl\n",
      "G major 4/4\n",
      "transposing from key G major to C major using interval 5\n",
      "\n",
      "OpenEWLD/dataset/[Traditional]/Careless_Love/Careless_Love.mxl\n",
      "F major 4/4\n",
      "transposing from key F major to C major using interval -5\n",
      "\n",
      "OpenEWLD/dataset/Lorenz_Hart-Richard_Rodgers/Glad_to_Be_Unhappy/Glad_to_Be_Unhappy.mxl\n",
      "F major 4/4\n",
      "transposing from key F major to C major using interval -5\n",
      "\n",
      "OpenEWLD/dataset/Alfredo_Mazzucchi-Eduardo_Di_Capua-Giovanni_Capurro/'O_sole_mio/'O_sole_mio.mxl\n",
      "C major 4/4\n",
      "transposing from key C major to C major using interval 0\n",
      "\n",
      "OpenEWLD/dataset/[Traditional]/Just_a_Closer_Walk_with_Thee/Just_a_Closer_Walk_with_Thee.mxl\n",
      "\n",
      "OpenEWLD/dataset/Edward_Teschemacher-Guy_d'Hardelot/Because/Because.mxl\n",
      "C major 4/4\n",
      "transposing from key C major to C major using interval 0\n",
      "\n",
      "OpenEWLD/dataset/[Traditional]/On_Top_of_Old_Smoky/On_Top_of_Old_Smoky.mxl\n",
      "\n",
      "OpenEWLD/dataset/John_Philip_Sousa/The_Stars_and_Stripes_Forever/The_Stars_and_Stripes_Forever.mxl\n",
      "C major 4/4\n",
      "transposing from key C major to C major using interval 0\n",
      "\n",
      "OpenEWLD/dataset/[Traditional]/We_Wish_You_a_Merry_Christmas/We_Wish_You_a_Merry_Christmas.mxl\n",
      "\n",
      "OpenEWLD/dataset/Joe_Young-Mabel_Wayne-Sam_Lewis/In_a_Little_Spanish_Town/In_a_Little_Spanish_Town.mxl\n",
      "\n",
      "OpenEWLD/dataset/Katharine_Lee_Bates/America_the_Beautiful/America_the_Beautiful.mxl\n",
      "C major 4/4\n",
      "transposing from key C major to C major using interval 0\n",
      "\n",
      "OpenEWLD/dataset/Lorenz_Hart-Richard_Rodgers/This_Can't_Be_Love/This_Can't_Be_Love.mxl\n",
      "G major 4/4\n",
      "transposing from key G major to C major using interval 5\n",
      "\n",
      "OpenEWLD/dataset/Rida_Johnson_Young-Victor_Herbert/Ah!_Sweet_Mystery_of_Life/Ah!_Sweet_Mystery_of_Life.mxl\n",
      "B- major 4/4\n",
      "transposing from key B- major to C major using interval 2\n"
     ]
    },
    {
     "name": "stdout",
     "output_type": "stream",
     "text": [
      "\n",
      "OpenEWLD/dataset/John_Baptiste_Calkin/I_Heard_the_Bells_on_Christmas_Day/I_Heard_the_Bells_on_Christmas_Day.mxl\n",
      "C major 4/4\n",
      "transposing from key C major to C major using interval 0\n",
      "\n",
      "OpenEWLD/dataset/Charles_C._Converse-Joseph_M._Scriven/What_a_Friend_We_Have_in_Jesus/What_a_Friend_We_Have_in_Jesus.mxl\n",
      "F major 4/4\n",
      "transposing from key F major to C major using interval -5\n",
      "\n",
      "OpenEWLD/dataset/Bing_Crosby-Fred_E._Ahlert-Roy_Turk/Where_the_Blue_of_the_Night_Meets_the_Gold_of_the_Day/Where_the_Blue_of_the_Night_Meets_the_Gold_of_the_Day.mxl\n",
      "\n",
      "OpenEWLD/dataset/Andy_Razaf-Fats_Waller/A_Hopeless_Love_Affair/A_Hopeless_Love_Affair.mxl\n",
      "F major 4/4\n",
      "transposing from key F major to C major using interval -5\n",
      "\n",
      "OpenEWLD/dataset/Bertha_Scott-Jimmy_Henderson_[1]-Sid_Robin/I_Miss_You_So/I_Miss_You_So.mxl\n",
      "G major 4/4\n",
      "transposing from key G major to C major using interval 5\n",
      "\n",
      "OpenEWLD/dataset/Franz_Liszt/Liebestraum_Nr._3/Liebestraum_Nr._3.mxl\n",
      "\n",
      "OpenEWLD/dataset/Billy_Hill-Peter_De_Rose/Have_You_Ever_Been_Lonely?/Have_You_Ever_Been_Lonely?.mxl\n",
      "C major 4/4\n",
      "transposing from key C major to C major using interval 0\n",
      "\n",
      "OpenEWLD/dataset/[Traditional]-[Unknown]/Guter_Mond,_du_gehst_so_stille/Guter_Mond,_du_gehst_so_stille.mxl\n",
      "C major 4/4\n",
      "transposing from key C major to C major using interval 0\n",
      "\n",
      "OpenEWLD/dataset/Thomas_P._Westendorf/I'll_Take_You_Home_Again,_Kathleen/I'll_Take_You_Home_Again,_Kathleen.mxl\n",
      "F major 4/4\n",
      "transposing from key F major to C major using interval -5\n",
      "\n",
      "OpenEWLD/dataset/[Traditional]/Jesu,_Joy_of_Man's_Desiring/Jesu,_Joy_of_Man's_Desiring.mxl\n",
      "\n",
      "OpenEWLD/dataset/Chauncey_Olcott-Ernest_Ball-George_Graff,_Jr./When_Irish_Eyes_Are_Smiling/When_Irish_Eyes_Are_Smiling.mxl\n",
      "\n",
      "OpenEWLD/dataset/Edmund_Sears/It_Came_upon_the_Midnight_Clear/It_Came_upon_the_Midnight_Clear.mxl\n",
      "\n",
      "OpenEWLD/dataset/William_Chatterton_Dix/What_Child_Is_This?/What_Child_Is_This?.mxl\n",
      "\n",
      "OpenEWLD/dataset/Eugène_Cormon-Georges_Bizet-Michel_Carré/Je_crois_entendre_encore/Je_crois_entendre_encore.mxl\n",
      "\n",
      "OpenEWLD/dataset/Dorothy_Fields-Jerome_Kern-Jimmy_McHugh/Lovely_to_Look_At/Lovely_to_Look_At.mxl\n",
      "C major 4/4\n",
      "transposing from key C major to C major using interval 0\n",
      "\n",
      "OpenEWLD/dataset/Al_Dubin-Harry_Warren/About_a_Quarter_to_Nine/About_a_Quarter_to_Nine.mxl\n",
      "C major 4/4\n",
      "transposing from key C major to C major using interval 0\n",
      "\n",
      "OpenEWLD/dataset/Frank_Loesser-Victor_Schertzinger/Sand_in_My_Shoes/Sand_in_My_Shoes.mxl\n",
      "B- major 4/4\n",
      "transposing from key B- major to C major using interval 2\n",
      "\n",
      "OpenEWLD/dataset/Gus_Kahn-Isham_Jones/I'll_See_You_in_My_Dreams/I'll_See_You_in_My_Dreams.mxl\n",
      "F major 4/4\n",
      "transposing from key F major to C major using interval -5\n",
      "\n",
      "OpenEWLD/dataset/George_Gershwin-Ira_Gershwin/Bidin'_My_Time/Bidin'_My_Time.mxl\n",
      "E- major 4/4\n",
      "transposing from key E- major to C major using interval -3\n",
      "\n",
      "OpenEWLD/dataset/Gus_Edwards-Will_Cobb/School_Days/School_Days.mxl\n",
      "\n",
      "OpenEWLD/dataset/Frederic_Weatherly-Haydn_Wood/Roses_of_Picardy/Roses_of_Picardy.mxl\n",
      "C major 4/4\n",
      "transposing from key C major to C major using interval 0\n",
      "\n",
      "OpenEWLD/dataset/Joe_Young-Sam_Lewis-Walter_Donaldson/My_Mammy/My_Mammy.mxl\n",
      "C major 4/4\n",
      "transposing from key C major to C major using interval 0\n",
      "\n",
      "OpenEWLD/dataset/[Traditional]/Go_Tell_It_on_the_Mountain/Go_Tell_It_on_the_Mountain.mxl\n",
      "C major 4/4\n",
      "transposing from key C major to C major using interval 0\n",
      "\n",
      "OpenEWLD/dataset/Leslie_Stuart/Lily_of_Laguna/Lily_of_Laguna.mxl\n",
      "A- major 4/4\n",
      "transposing from key A- major to C major using interval 4\n",
      "\n",
      "OpenEWLD/dataset/Daniel_Alomías_Robles-Julio_Baudouin/El_cóndor_pasa/El_cóndor_pasa.mxl\n",
      "C major 4/4\n",
      "transposing from key C major to C major using interval 0\n",
      "\n",
      "OpenEWLD/dataset/Doris_Fisher-Fred_Fisher/Whispering_Grass_(Don't_Tell_the_Trees)/Whispering_Grass_(Don't_Tell_the_Trees).mxl\n",
      "G major 4/4\n",
      "transposing from key G major to C major using interval 5\n",
      "\n",
      "OpenEWLD/dataset/Ange_Lorenzo-Joseph_Alden-Raymond_B._Egan-Richard_A._Whiting/Sleepy_Time_Gal/Sleepy_Time_Gal.mxl\n",
      "G major 2/2\n",
      "transposing from key G major to C major using interval 5\n",
      "\n",
      "OpenEWLD/dataset/DuBose_Heyward-George_Gershwin-Ira_Gershwin/Summertime/Summertime.mxl\n",
      "\n",
      "OpenEWLD/dataset/Felix_Powell-George_Henry_Powell/Pack_Up_Your_Troubles_in_Your_Old_Kit_Bag_and_Smile,_Smile,_Smile!/Pack_Up_Your_Troubles_in_Your_Old_Kit_Bag_and_Smile,_Smile,_Smile!.mxl\n",
      "F major 4/4\n",
      "transposing from key F major to C major using interval -5\n",
      "\n",
      "OpenEWLD/dataset/Narciso_Serradell_Sevilla/La_golondrina/La_golondrina.mxl\n",
      "C major 4/4\n",
      "transposing from key C major to C major using interval 0\n",
      "\n",
      "OpenEWLD/dataset/Victor_Herbert/Indian_Summer/Indian_Summer.mxl\n",
      "C major 4/4\n",
      "transposing from key C major to C major using interval 0\n",
      "\n",
      "OpenEWLD/dataset/Chris_Smith_[1]-Jim_Burris/Ballin'_the_Jack/Ballin'_the_Jack.mxl\n",
      "B- major 4/4\n",
      "transposing from key B- major to C major using interval 2\n",
      "\n",
      "OpenEWLD/dataset/Mildred_Hill-Patty_Hill/Happy_Birthday_to_You/Happy_Birthday_to_You.mxl\n",
      "G major 4/4\n",
      "transposing from key G major to C major using interval 5\n",
      "\n",
      "OpenEWLD/dataset/Carmen_Lombardo-Joe_Young/Snuggled_on_Your_Shoulder_(Cuddled_in_Your_Arms)/Snuggled_on_Your_Shoulder_(Cuddled_in_Your_Arms).mxl\n",
      "F major 4/4\n",
      "transposing from key F major to C major using interval -5\n",
      "\n",
      "OpenEWLD/dataset/Lorenz_Hart-Richard_Rodgers/You_Are_Too_Beautiful/You_Are_Too_Beautiful.mxl\n",
      "C major 2/2\n",
      "transposing from key C major to C major using interval 0\n",
      "\n",
      "OpenEWLD/dataset/Stephen_Foster/Gwine_to_Run_All_Night,_or_De_Camptown_Races/Gwine_to_Run_All_Night,_or_De_Camptown_Races.mxl\n",
      "C major 4/4\n",
      "transposing from key C major to C major using interval 0\n",
      "\n",
      "OpenEWLD/dataset/Egbert_Van_Alstyne-Erwin_Roeder_Schmidt-Haven_Gillespie-Loyal_Curtis/Drifting_and_Dreaming/Drifting_and_Dreaming.mxl\n",
      "G major 4/4\n",
      "transposing from key G major to C major using interval 5\n",
      "\n",
      "OpenEWLD/dataset/James_Brockman-James_Kendis-John_Kellette-Nat_Vincent/I'm_Forever_Blowing_Bubbles/I'm_Forever_Blowing_Bubbles.mxl\n",
      "\n",
      "OpenEWLD/dataset/Eric_Stewart-Graham_Gouldman-Kevin_Godley/I'm_Mandy_Fly_Me/I'm_Mandy_Fly_Me.mxl\n",
      "C major 4/4\n",
      "transposing from key C major to C major using interval 0\n",
      "\n",
      "OpenEWLD/dataset/Gus_Kahn-Raymond_B._Egan-Richard_A._Whiting/Ain't_We_Got_Fun/Ain't_We_Got_Fun.mxl\n",
      "E- major 2/2\n",
      "transposing from key E- major to C major using interval -3\n",
      "\n",
      "OpenEWLD/dataset/George_Gershwin-Ira_Gershwin/By_Strauss/By_Strauss.mxl\n",
      "\n",
      "OpenEWLD/dataset/Leo_Robin-Richard_A._Whiting-W._Franke_Harling/Beyond_the_Blue_Horizon/Beyond_the_Blue_Horizon.mxl\n",
      "B- major 2/2\n",
      "transposing from key B- major to C major using interval 2\n",
      "\n",
      "OpenEWLD/dataset/Victor_Schertzinger/Marcheta/Marcheta.mxl\n",
      "\n",
      "OpenEWLD/dataset/Pietro_Mascagni/Intermezzo/Intermezzo.mxl\n",
      "\n",
      "OpenEWLD/dataset/Ira_Schuster-Joe_Young/I'm_Alone_Because_I_Love_You/I'm_Alone_Because_I_Love_You.mxl\n",
      "\n",
      "OpenEWLD/dataset/DuBose_Heyward-George_Gershwin-Ira_Gershwin/I_Got_Plenty_o'_Nuttin'/I_Got_Plenty_o'_Nuttin'.mxl\n",
      "G major 4/4\n",
      "transposing from key G major to C major using interval 5\n",
      "\n",
      "OpenEWLD/dataset/[Traditional]/The_Wild_Colonial_Boy/The_Wild_Colonial_Boy.mxl\n",
      "\n",
      "OpenEWLD/dataset/Ira_Schuster-Jack_Little-Joe_Young/In_a_Shanty_in_Old_Shanty_Town/In_a_Shanty_in_Old_Shanty_Town.mxl\n",
      "C major 4/4\n",
      "transposing from key C major to C major using interval 0\n",
      "\n",
      "OpenEWLD/dataset/Hughie_Cannon/Bill_Bailey,_Won't_You_Please_Come_Home?/Bill_Bailey,_Won't_You_Please_Come_Home?.mxl\n",
      "G major 4/4\n",
      "transposing from key G major to C major using interval 5\n",
      "\n",
      "OpenEWLD/dataset/Jimmy_Monaco-William_Jerome/Row,_Row,_Row/Row,_Row,_Row.mxl\n",
      "\n",
      "OpenEWLD/dataset/James_Pierpont/Jingle_Bells/Jingle_Bells.mxl\n",
      "G major 4/4\n",
      "transposing from key G major to C major using interval 5\n",
      "\n",
      "OpenEWLD/dataset/Fred_E._Ahlert-Roy_Turk/I'll_Get_By_(As_Long_as_I_Have_You)/I'll_Get_By_(As_Long_as_I_Have_You).mxl\n",
      "C major 4/4\n",
      "transposing from key C major to C major using interval 0\n",
      "\n",
      "OpenEWLD/dataset/Gus_Kahn-Walter_Donaldson/Love_Me_or_Leave_Me/Love_Me_or_Leave_Me.mxl\n",
      "C major 4/4\n",
      "transposing from key C major to C major using interval 0\n",
      "\n",
      "OpenEWLD/dataset/Joe_Young-Ray_Henderson-Sam_Lewis/Five_Foot_Two,_Eyes_of_Blue_(Has_Anybody_Seen_My_Girl)/Five_Foot_Two,_Eyes_of_Blue_(Has_Anybody_Seen_My_Girl).mxl\n",
      "C major 4/4\n",
      "transposing from key C major to C major using interval 0\n",
      "\n",
      "OpenEWLD/dataset/John_Sylvester_Fearis-Laura_Rountree_Smith/Little_Sir_Echo/Little_Sir_Echo.mxl\n",
      "\n",
      "OpenEWLD/dataset/Egbert_Van_Alstyne-Gus_Kahn/Memories/Memories.mxl\n"
     ]
    },
    {
     "name": "stdout",
     "output_type": "stream",
     "text": [
      "\n",
      "OpenEWLD/dataset/Con_Conrad-Sidney_Clare/Ma,_He's_Making_Eyes_at_Me/Ma,_He's_Making_Eyes_at_Me.mxl\n",
      "C major 4/4\n",
      "transposing from key C major to C major using interval 0\n",
      "\n",
      "OpenEWLD/dataset/Lorenz_Hart-Richard_Rodgers/Have_You_Met_Miss_Jones?/Have_You_Met_Miss_Jones?.mxl\n",
      "F major 4/4\n",
      "transposing from key F major to C major using interval -5\n",
      "\n",
      "OpenEWLD/dataset/James_Waddel_Alexander/O_Sacred_Head,_Now_Wounded/O_Sacred_Head,_Now_Wounded.mxl\n",
      "C major 4/4\n",
      "transposing from key C major to C major using interval 0\n",
      "\n",
      "OpenEWLD/dataset/Jerome_Kern-Oscar_Hammerstein_II/Make_Believe/Make_Believe.mxl\n",
      "C major 4/4\n",
      "transposing from key C major to C major using interval 0\n",
      "\n",
      "OpenEWLD/dataset/Jimmy_Monaco-Johnny_Burke/An_Apple_for_the_Teacher/An_Apple_for_the_Teacher.mxl\n",
      "C major 4/4\n",
      "transposing from key C major to C major using interval 0\n",
      "\n",
      "OpenEWLD/dataset/Gus_Kahn-Isham_Jones/On_the_Alamo/On_the_Alamo.mxl\n",
      "E- major 4/4\n",
      "transposing from key E- major to C major using interval -3\n",
      "\n",
      "OpenEWLD/dataset/Leo_Robin-Ralph_Rainger/If_I_Should_Lose_You/If_I_Should_Lose_You.mxl\n",
      "B- major 4/4\n",
      "transposing from key B- major to C major using interval 2\n",
      "\n",
      "OpenEWLD/dataset/Fabian_Andre-Gus_Kahn-Wilbur_Schwandt/Dream_a_Little_Dream_of_Me/Dream_a_Little_Dream_of_Me.mxl\n",
      "G major 4/4\n",
      "transposing from key G major to C major using interval 5\n",
      "\n",
      "OpenEWLD/dataset/Julian_Robledo-Theodora_Morse/Three_O'Clock_in_the_Morning/Three_O'Clock_in_the_Morning.mxl\n",
      "\n",
      "OpenEWLD/dataset/Albert_Von_Tilzer-Neville_Fleeson/I'll_Be_with_You_in_Apple_Blossom_Time/I'll_Be_with_You_in_Apple_Blossom_Time.mxl\n",
      "\n",
      "OpenEWLD/dataset/Robert_Lowry/How_Can_I_Keep_from_Singing?/How_Can_I_Keep_from_Singing?.mxl\n",
      "\n",
      "OpenEWLD/dataset/Harold_Adamson-Walter_Donaldson/Did_I_Remember/Did_I_Remember.mxl\n",
      "E- major 2/2\n",
      "transposing from key E- major to C major using interval -3\n",
      "\n",
      "OpenEWLD/dataset/Andy_Razaf-Fats_Waller-Harry_Brooks/Ain't_Misbehavin'/Ain't_Misbehavin'.mxl\n",
      "C major 4/4\n",
      "transposing from key C major to C major using interval 0\n",
      "\n",
      "OpenEWLD/dataset/Fud_Livingston-Gus_Kahn-Matt_Malneck/I'm_Through_with_Love/I'm_Through_with_Love.mxl\n",
      "E- major 4/4\n",
      "transposing from key E- major to C major using interval -3\n",
      "\n",
      "OpenEWLD/dataset/Al_Lewis-Larry_Stock-Vincent_Rose/Blueberry_Hill/Blueberry_Hill.mxl\n",
      "E- major 2/2\n",
      "transposing from key E- major to C major using interval -3\n",
      "\n",
      "OpenEWLD/dataset/Julia_Ward_Howe/Battle_Hymn_of_the_Republic/Battle_Hymn_of_the_Republic.mxl\n",
      "C major 4/4\n",
      "transposing from key C major to C major using interval 0\n",
      "\n",
      "OpenEWLD/dataset/George_Gershwin-Ira_Gershwin/How_Long_Has_This_Been_Going_On?/How_Long_Has_This_Been_Going_On?.mxl\n",
      "G major 4/4\n",
      "transposing from key G major to C major using interval 5\n",
      "\n",
      "OpenEWLD/dataset/Edward_Madden-Gus_Edwards/By_the_Light_of_the_Silvery_Moon/By_the_Light_of_the_Silvery_Moon.mxl\n",
      "C major 4/4\n",
      "transposing from key C major to C major using interval 0\n",
      "\n",
      "OpenEWLD/dataset/Johnny_Mercer-Richard_A._Whiting/Too_Marvelous_for_Words/Too_Marvelous_for_Words.mxl\n",
      "G major 4/4\n",
      "transposing from key G major to C major using interval 5\n",
      "\n",
      "OpenEWLD/dataset/Al_Dubin-Harry_Warren/I_Only_Have_Eyes_for_You/I_Only_Have_Eyes_for_You.mxl\n",
      "C major 2/2\n",
      "transposing from key C major to C major using interval 0\n",
      "\n",
      "OpenEWLD/dataset/Nikolai_Rimsky-Korsakov/Song_of_the_Indian_Guest_{Песня_Индийского_гостя}/Song_of_the_Indian_Guest_{Песня_Индийского_гостя}.mxl\n",
      "\n",
      "OpenEWLD/dataset/Fats_Waller/The_Jitterbug_Waltz/The_Jitterbug_Waltz.mxl\n",
      "\n",
      "OpenEWLD/dataset/Billy_Meyers-Elmer_Schoebel-Ernie_Erdman-Gus_Kahn/Nobody's_Sweetheart/Nobody's_Sweetheart.mxl\n",
      "C major 4/4\n",
      "transposing from key C major to C major using interval 0\n",
      "\n",
      "OpenEWLD/dataset/Gus_Kahn-Isham_Jones/It_Had_to_Be_You/It_Had_to_Be_You.mxl\n",
      "G major 4/4\n",
      "transposing from key G major to C major using interval 5\n",
      "\n",
      "OpenEWLD/dataset/Lorenz_Hart-Richard_Rodgers/I_Could_Write_a_Book/I_Could_Write_a_Book.mxl\n",
      "C major 4/4\n",
      "transposing from key C major to C major using interval 0\n",
      "\n",
      "OpenEWLD/dataset/James_Thornton/When_You_Were_Sweet_Sixteen/When_You_Were_Sweet_Sixteen.mxl\n",
      "C major 4/4\n",
      "transposing from key C major to C major using interval 0\n",
      "\n",
      "OpenEWLD/dataset/Scott_Joplin/Maple_Leaf_Rag/Maple_Leaf_Rag.mxl\n",
      "\n",
      "OpenEWLD/dataset/Jerome_Kern-Oscar_Hammerstein_II/The_Folks_Who_Live_on_the_Hill/The_Folks_Who_Live_on_the_Hill.mxl\n",
      "C major 4/4\n",
      "transposing from key C major to C major using interval 0\n",
      "\n",
      "OpenEWLD/dataset/Herbert_Reynolds-Jerome_Kern/They_Didn't_Believe_Me/They_Didn't_Believe_Me.mxl\n",
      "G major 4/4\n",
      "transposing from key G major to C major using interval 5\n",
      "\n",
      "OpenEWLD/dataset/Karl_Hoschna-Otto_Harbach/Cuddle_Up_a_Little_Closer,_Lovey_Mine/Cuddle_Up_a_Little_Closer,_Lovey_Mine.mxl\n",
      "G major 4/4\n",
      "transposing from key G major to C major using interval 5\n",
      "\n",
      "OpenEWLD/dataset/[Traditional]/Loch_Lomond/Loch_Lomond.mxl\n",
      "C major 4/4\n",
      "transposing from key C major to C major using interval 0\n",
      "\n",
      "OpenEWLD/dataset/Lorenz_Hart-Richard_Rodgers/Manhattan/Manhattan.mxl\n",
      "F major 2/2\n",
      "transposing from key F major to C major using interval -5\n",
      "\n",
      "OpenEWLD/dataset/Ballard_MacDonald-James_Hanley/Rose_of_Washington_Square/Rose_of_Washington_Square.mxl\n",
      "B- major 4/4\n",
      "transposing from key B- major to C major using interval 2\n",
      "\n",
      "OpenEWLD/dataset/Sir_Hubert_Parry/Jerusalem/Jerusalem.mxl\n",
      "\n",
      "OpenEWLD/dataset/George_Marion_Jr.-Richard_A._Whiting/My_Future_Just_Passed/My_Future_Just_Passed.mxl\n",
      "E- major 4/4\n",
      "transposing from key E- major to C major using interval -3\n",
      "\n",
      "OpenEWLD/dataset/Walter_Donaldson/At_Sundown/At_Sundown.mxl\n",
      "F major 2/2\n",
      "transposing from key F major to C major using interval -5\n",
      "\n",
      "OpenEWLD/dataset/B.G._DeSylva-Victor_Herbert/A_Kiss_in_the_Dark/A_Kiss_in_the_Dark.mxl\n",
      "\n",
      "OpenEWLD/dataset/Leo_Robin-Ralph_Rainger/Blue_Hawaii/Blue_Hawaii.mxl\n",
      "G major 4/4\n",
      "transposing from key G major to C major using interval 5\n",
      "\n",
      "OpenEWLD/dataset/Jimmy_Monaco-Mack_Gordon/I_Can't_Begin_to_Tell_You/I_Can't_Begin_to_Tell_You.mxl\n",
      "C major 4/4\n",
      "transposing from key C major to C major using interval 0\n",
      "\n",
      "OpenEWLD/dataset/James_A._Bland/Carry_Me_Back_to_Old_Virginny/Carry_Me_Back_to_Old_Virginny.mxl\n",
      "G major 4/4\n",
      "transposing from key G major to C major using interval 5\n",
      "\n",
      "OpenEWLD/dataset/Al_Dubin-Joe_Burke/For_You/For_You.mxl\n",
      "C major 4/4\n",
      "transposing from key C major to C major using interval 0\n",
      "\n",
      "OpenEWLD/dataset/Clifford_Grey-Victor_Schertzinger/Paris_je_t'aime/Paris_je_t'aime.mxl\n",
      "F major 4/4\n",
      "transposing from key F major to C major using interval -5\n",
      "\n",
      "OpenEWLD/dataset/Charles_K._Harris/After_the_Ball/After_the_Ball.mxl\n",
      "\n",
      "OpenEWLD/dataset/Clarence_Gaskill-Jimmy_McHugh/I_Can't_Believe_That_You're_in_Love_with_Me/I_Can't_Believe_That_You're_in_Love_with_Me.mxl\n",
      "C major 4/4\n",
      "transposing from key C major to C major using interval 0\n",
      "\n",
      "OpenEWLD/dataset/Vladimir_Vavilov-[Traditional]/Ave_Maria_(Caccini)/Ave_Maria_(Caccini).mxl\n",
      "\n",
      "OpenEWLD/dataset/[Traditional]/O_Christmas_Tree/O_Christmas_Tree.mxl\n",
      "\n",
      "OpenEWLD/dataset/Leo_Robin-Ralph_Rainger/Please/Please.mxl\n",
      "C major 2/2\n",
      "transposing from key C major to C major using interval 0\n",
      "\n",
      "OpenEWLD/dataset/Campino-Hanns_Christian_Müller-Wölli-[Traditional]/Zehn_kleine_Jägermeister/Zehn_kleine_Jägermeister.mxl\n",
      "\n",
      "OpenEWLD/dataset/Gaston_Lyle-George_Leybourne/The_Daring_Young_Man_on_the_Flying_Trapeze/The_Daring_Young_Man_on_the_Flying_Trapeze.mxl\n",
      "\n",
      "OpenEWLD/dataset/[Traditional]/He's_Got_the_Whole_World_in_His_Hands/He's_Got_the_Whole_World_in_His_Hands.mxl\n",
      "F major 4/4\n",
      "transposing from key F major to C major using interval -5\n",
      "\n",
      "OpenEWLD/dataset/George_M._Cohan/Mary's_a_Grand_Old_Name/Mary's_a_Grand_Old_Name.mxl\n",
      "F major 4/4\n",
      "transposing from key F major to C major using interval -5\n",
      "\n",
      "OpenEWLD/dataset/James_Chadwick/Angels_We_Have_Heard_on_High/Angels_We_Have_Heard_on_High.mxl\n",
      "F major 4/4\n",
      "transposing from key F major to C major using interval -5\n",
      "\n",
      "OpenEWLD/dataset/Jerome_Kern-Oscar_Hammerstein_II-Otto_Harbach/I_Won't_Dance/I_Won't_Dance.mxl\n",
      "C major 2/2\n",
      "transposing from key C major to C major using interval 0\n",
      "\n",
      "OpenEWLD/dataset/Joseph_Tabrar/Daddy_Wouldn't_Buy_Me_a_Bow-Wow/Daddy_Wouldn't_Buy_Me_a_Bow-Wow.mxl\n",
      "C major 4/4\n",
      "transposing from key C major to C major using interval 0\n",
      "\n",
      "OpenEWLD/dataset/Alfred_Hedenstierna-Wilhelm_Åström/Hjärtats_saga/Hjärtats_saga.mxl\n",
      "\n",
      "OpenEWLD/dataset/Gus_Kahn-Walter_Donaldson/My_Baby_Just_Cares_for_Me/My_Baby_Just_Cares_for_Me.mxl\n",
      "G major 2/2\n",
      "transposing from key G major to C major using interval 5\n",
      "\n",
      "OpenEWLD/dataset/Bonnie_Lake-Eddie_DeLange-Jack_Jenney/The_Man_with_the_Horn/The_Man_with_the_Horn.mxl\n"
     ]
    },
    {
     "name": "stdout",
     "output_type": "stream",
     "text": [
      "E- major 4/4\n",
      "transposing from key E- major to C major using interval -3\n",
      "\n",
      "OpenEWLD/dataset/Charles_Wesley-Felix_Mendelssohn/Hark!_The_Herald_Angels_Sing/Hark!_The_Herald_Angels_Sing.mxl\n",
      "G major 4/4\n",
      "transposing from key G major to C major using interval 5\n",
      "\n",
      "OpenEWLD/dataset/Ira_Gershwin-Jerome_Kern/Long_Ago_and_Far_Away/Long_Ago_and_Far_Away.mxl\n",
      "F major 2/2\n",
      "transposing from key F major to C major using interval -5\n",
      "\n",
      "OpenEWLD/dataset/George_Gershwin-Ira_Gershwin/Embraceable_You/Embraceable_You.mxl\n",
      "G major 4/4\n",
      "transposing from key G major to C major using interval 5\n",
      "\n",
      "OpenEWLD/dataset/Jerome_Kern-Oscar_Hammerstein_II/Ol'_Man_River/Ol'_Man_River.mxl\n",
      "E- major 4/4\n",
      "transposing from key E- major to C major using interval -3\n",
      "\n",
      "OpenEWLD/dataset/Jerome_Kern-Leo_Robin/In_Love_in_Vain/In_Love_in_Vain.mxl\n",
      "E- major 4/4\n",
      "transposing from key E- major to C major using interval -3\n",
      "\n",
      "OpenEWLD/dataset/Charles_N._Daniels-Gus_Arnheim-Harry_Tobias/Sweet_and_Lovely/Sweet_and_Lovely.mxl\n",
      "C major 4/4\n",
      "transposing from key C major to C major using interval 0\n",
      "\n",
      "OpenEWLD/dataset/Gus_Kahn-Walter_Donaldson/Carolina_in_the_Morning/Carolina_in_the_Morning.mxl\n",
      "C major 4/4\n",
      "transposing from key C major to C major using interval 0\n",
      "\n",
      "OpenEWLD/dataset/George_Whiting-Walter_Donaldson/My_Blue_Heaven/My_Blue_Heaven.mxl\n",
      "E- major 4/4\n",
      "transposing from key E- major to C major using interval -3\n",
      "\n",
      "OpenEWLD/dataset/Lorenz_Hart-Richard_Rodgers/It's_Easy_to_Remember_(And_So_Hard_to_Forget)/It's_Easy_to_Remember_(And_So_Hard_to_Forget).mxl\n",
      "E- major 4/4\n",
      "transposing from key E- major to C major using interval -3\n",
      "\n",
      "OpenEWLD/dataset/Lorenz_Hart-Richard_Rodgers/Where_or_When/Where_or_When.mxl\n",
      "E- major 2/2\n",
      "transposing from key E- major to C major using interval -3\n",
      "\n",
      "OpenEWLD/dataset/[Traditional]/What_Shall_We_Do_with_a_Drunken_Sailor?/What_Shall_We_Do_with_a_Drunken_Sailor?.mxl\n",
      "C major 4/4\n",
      "transposing from key C major to C major using interval 0\n",
      "\n",
      "OpenEWLD/dataset/Billy_Hill/In_the_Chapel_in_the_Moonlight/In_the_Chapel_in_the_Moonlight.mxl\n",
      "C major 2/2\n",
      "transposing from key C major to C major using interval 0\n",
      "\n",
      "OpenEWLD/dataset/George_Gershwin-Ira_Gershwin/Strike_Up_the_Band/Strike_Up_the_Band.mxl\n",
      "B- major 2/2\n",
      "transposing from key B- major to C major using interval 2\n",
      "\n",
      "OpenEWLD/dataset/[Traditional]/For_He's_a_Jolly_Good_Fellow/For_He's_a_Jolly_Good_Fellow.mxl\n",
      "\n",
      "OpenEWLD/dataset/Gus_Kahn-Isham_Jones/Swingin'_down_the_Lane/Swingin'_down_the_Lane.mxl\n",
      "F major 4/4\n",
      "transposing from key F major to C major using interval -5\n",
      "\n",
      "OpenEWLD/dataset/Jimmy_Monaco-Mack_Gordon/I'm_Making_Believe/I'm_Making_Believe.mxl\n",
      "B- major 4/4\n",
      "transposing from key B- major to C major using interval 2\n",
      "\n",
      "OpenEWLD/dataset/George_Gershwin-Ira_Gershwin/Isn't_It_a_Pity?/Isn't_It_a_Pity?.mxl\n",
      "C major 4/4\n",
      "transposing from key C major to C major using interval 0\n",
      "\n",
      "OpenEWLD/dataset/Al_Dubin-Joe_Burke/Dancing_with_Tears_in_My_Eyes/Dancing_with_Tears_in_My_Eyes.mxl\n",
      "\n",
      "OpenEWLD/dataset/John_Henry_Hopkins_Jr./We_Three_Kings/We_Three_Kings.mxl\n",
      "\n",
      "OpenEWLD/dataset/Billy_Rose-Edward_Eliscu-Vincent_Youmans/More_Than_You_Know/More_Than_You_Know.mxl\n",
      "E- major 4/4\n",
      "transposing from key E- major to C major using interval -3\n",
      "\n",
      "OpenEWLD/dataset/Gus_Kahn-Walter_Donaldson/My_Buddy/My_Buddy.mxl\n",
      "\n",
      "OpenEWLD/dataset/Enrique_P._Maroni-Gerardo_Matos_Rodríguez-Pascual_Contursi/La_cumparsita/La_cumparsita.mxl\n",
      "B- major 4/4\n",
      "transposing from key B- major to C major using interval 2\n",
      "\n",
      "OpenEWLD/dataset/B.G._DeSylva-Jerome_Kern/Look_for_the_Silver_Lining/Look_for_the_Silver_Lining.mxl\n",
      "F major 4/4\n",
      "transposing from key F major to C major using interval -5\n",
      "\n",
      "OpenEWLD/dataset/Luigi_Denza-Peppino_Turco/Funiculì_funiculà/Funiculì_funiculà.mxl\n",
      "\n",
      "OpenEWLD/dataset/Frank_Churchill-Larry_Morey/Whistle_While_You_Work/Whistle_While_You_Work.mxl\n",
      "C major 4/4\n",
      "transposing from key C major to C major using interval 0\n",
      "\n",
      "OpenEWLD/dataset/George_Gershwin-Ira_Gershwin/A_Foggy_Day/A_Foggy_Day.mxl\n",
      "F major 2/2\n",
      "transposing from key F major to C major using interval -5\n",
      "\n",
      "OpenEWLD/dataset/Henry_Blossom-Victor_Herbert/Kiss_Me_Again/Kiss_Me_Again.mxl\n",
      "\n",
      "OpenEWLD/dataset/Clarence_Gaskill-Leo_Robin-Russ_Columbo/Prisoner_of_Love/Prisoner_of_Love.mxl\n",
      "E- major 4/4\n",
      "transposing from key E- major to C major using interval -3\n",
      "\n",
      "OpenEWLD/dataset/Charles_Austin_Miles/In_the_Garden/In_the_Garden.mxl\n",
      "\n",
      "OpenEWLD/dataset/Isaac_Watts-Lowell_Mason/Joy_to_the_World/Joy_to_the_World.mxl\n",
      "\n",
      "OpenEWLD/dataset/John_W._Bratton/The_Teddy_Bears_Picnic/The_Teddy_Bears_Picnic.mxl\n",
      "\n",
      "OpenEWLD/dataset/Bert_Lee-Harris_Weston/Knees_Up_Mother_Brown!/Knees_Up_Mother_Brown!.mxl\n",
      "C major 4/4\n",
      "transposing from key C major to C major using interval 0\n",
      "\n",
      "OpenEWLD/dataset/Claude_Debussy/Rêverie/Rêverie.mxl\n",
      "F major 4/4\n",
      "transposing from key F major to C major using interval -5\n",
      "\n",
      "OpenEWLD/dataset/Lorenz_Hart-Richard_Rodgers/With_a_Song_in_My_Heart/With_a_Song_in_My_Heart.mxl\n",
      "C major 2/2\n",
      "transposing from key C major to C major using interval 0\n",
      "\n",
      "OpenEWLD/dataset/George_Gershwin-Ira_Gershwin/But_Not_for_Me/But_Not_for_Me.mxl\n",
      "E- major 2/2\n",
      "transposing from key E- major to C major using interval -3\n",
      "\n",
      "OpenEWLD/dataset/Harry_Von_Tilzer-Will_Dillon/I_Want_a_Girl_(Just_Like_the_Girl_That_Married_Dear_Old_Dad)/I_Want_a_Girl_(Just_Like_the_Girl_That_Married_Dear_Old_Dad).mxl\n",
      "\n",
      "OpenEWLD/dataset/Erno_Rapee-Lew_Pollack/Charmaine/Charmaine.mxl\n",
      "\n",
      "OpenEWLD/dataset/Jesse_Greer-Raymond_Klages/Just_You,_Just_Me/Just_You,_Just_Me.mxl\n",
      "C major 2/2\n",
      "transposing from key C major to C major using interval 0\n",
      "\n",
      "OpenEWLD/dataset/Jerome_Kern-Oscar_Hammerstein_II/Nobody_Else_but_Me/Nobody_Else_but_Me.mxl\n",
      "C major 4/4\n",
      "transposing from key C major to C major using interval 0\n",
      "\n",
      "OpenEWLD/dataset/Raymond_B._Egan-Richard_A._Whiting/Till_We_Meet_Again/Till_We_Meet_Again.mxl\n",
      "\n",
      "OpenEWLD/dataset/Billy_Rose-Edward_Eliscu-Vincent_Youmans/Great_Day/Great_Day.mxl\n",
      "E- major 2/2\n",
      "transposing from key E- major to C major using interval -3\n",
      "\n",
      "OpenEWLD/dataset/Gus_Kahn/The_Hour_of_Parting/The_Hour_of_Parting.mxl\n",
      "C major 2/2\n",
      "transposing from key C major to C major using interval 0\n",
      "\n",
      "OpenEWLD/dataset/Benjamin_Russell_Hanby/Up_on_the_Housetop/Up_on_the_Housetop.mxl\n",
      "C major 4/4\n",
      "transposing from key C major to C major using interval 0\n",
      "\n",
      "OpenEWLD/dataset/Jimmy_Monaco-Joseph_McCarthy/You_Made_Me_Love_You/You_Made_Me_Love_You.mxl\n",
      "C major 4/4\n",
      "transposing from key C major to C major using interval 0\n",
      "\n",
      "OpenEWLD/dataset/Benny_Davis-Con_Conrad-J._Russel_Robinson/Margie/Margie.mxl\n",
      "D major 4/4\n",
      "transposing from key D major to C major using interval -2\n",
      "\n",
      "OpenEWLD/dataset/Francis_McPeake-Robert_Tannahill/Wild_Mountain_Thyme/Wild_Mountain_Thyme.mxl\n",
      "C major 4/4\n",
      "transposing from key C major to C major using interval 0\n",
      "\n",
      "OpenEWLD/dataset/Billy_Hill-Peter_De_Rose/Wagon_Wheels/Wagon_Wheels.mxl\n",
      "C major 4/4\n",
      "transposing from key C major to C major using interval 0\n",
      "\n",
      "OpenEWLD/dataset/[Traditional]/Drink_to_Me_Only_with_Thine_Eyes/Drink_to_Me_Only_with_Thine_Eyes.mxl\n",
      "\n",
      "OpenEWLD/dataset/[Traditional]/Molly_Malone/Molly_Malone.mxl\n",
      "\n",
      "OpenEWLD/dataset/DuBose_Heyward-George_Gershwin-Ira_Gershwin/My_Man's_Gone_Now/My_Man's_Gone_Now.mxl\n",
      "\n",
      "OpenEWLD/dataset/Robert_Johnson/I_Believe_I'll_Dust_My_Broom/I_Believe_I'll_Dust_My_Broom.mxl\n",
      "D major 4/4\n",
      "transposing from key D major to C major using interval -2\n",
      "\n",
      "OpenEWLD/dataset/Jerome_Kern-P.G._Wodehouse/Bill/Bill.mxl\n",
      "C major 4/4\n",
      "transposing from key C major to C major using interval 0\n",
      "\n",
      "OpenEWLD/dataset/Nat_Schwartz-Walter_Kent/(There'll_Be_Bluebirds_Over)_The_White_Cliffs_of_Dover/(There'll_Be_Bluebirds_Over)_The_White_Cliffs_of_Dover.mxl\n",
      "E- major 4/4\n",
      "transposing from key E- major to C major using interval -3\n",
      "\n",
      "OpenEWLD/dataset/George_L._Cobb-Jack_Yellen/Alabama_Jubilee/Alabama_Jubilee.mxl\n",
      "C major 4/4\n",
      "transposing from key C major to C major using interval 0\n",
      "\n",
      "OpenEWLD/dataset/[Traditional]/Scarborough_Fair/Scarborough_Fair.mxl\n",
      "\n",
      "OpenEWLD/dataset/[Traditional]/Were_You_There_When_They_Crucified_My_Lord/Were_You_There_When_They_Crucified_My_Lord.mxl\n",
      "\n",
      "OpenEWLD/dataset/Clarence_Williams-Fats_Waller/Squeeze_Me/Squeeze_Me.mxl\n",
      "F major 2/2\n",
      "transposing from key F major to C major using interval -5\n",
      "\n",
      "OpenEWLD/dataset/Al_Dubin-Harry_Warren/Shadow_Waltz/Shadow_Waltz.mxl\n",
      "\n",
      "OpenEWLD/dataset/Stephen_Foster/Jeanie_with_the_Light_Brown_Hair/Jeanie_with_the_Light_Brown_Hair.mxl\n",
      "C major 4/4\n",
      "transposing from key C major to C major using interval 0\n"
     ]
    },
    {
     "name": "stdout",
     "output_type": "stream",
     "text": [
      "\n",
      "OpenEWLD/dataset/Fred_Godfrey-Mark_Sheridan/Who_Were_You_with_Last_Night/Who_Were_You_with_Last_Night.mxl\n",
      "\n",
      "OpenEWLD/dataset/Rida_Johnson_Young-Victor_Herbert/I'm_Falling_in_Love_with_Someone/I'm_Falling_in_Love_with_Someone.mxl\n",
      "\n",
      "OpenEWLD/dataset/Al_Dubin-Fred_Rath-Jos_Garren/Just_a_Girl_That_Men_Forget/Just_a_Girl_That_Men_Forget.mxl\n",
      "\n",
      "OpenEWLD/dataset/Frederick_Oakeley/O_Come,_All_Ye_Faithful/O_Come,_All_Ye_Faithful.mxl\n",
      "G major 4/4\n",
      "transposing from key G major to C major using interval 5\n",
      "\n",
      "OpenEWLD/dataset/Dorothy_Parker-Ralph_Rainger/I_Wished_on_the_Moon/I_Wished_on_the_Moon.mxl\n",
      "B- major 4/4\n",
      "transposing from key B- major to C major using interval 2\n",
      "\n",
      "OpenEWLD/dataset/[Traditional]/The_Quartermaster's_Stores/The_Quartermaster's_Stores.mxl\n",
      "G major 4/4\n",
      "transposing from key G major to C major using interval 5\n",
      "\n",
      "OpenEWLD/dataset/Leo_Robin-Ralph_Rainger/June_in_January/June_in_January.mxl\n",
      "E- major 4/4\n",
      "transposing from key E- major to C major using interval -3\n",
      "\n",
      "OpenEWLD/dataset/[Traditional]/Swing_Low,_Sweet_Chariot/Swing_Low,_Sweet_Chariot.mxl\n",
      "G major 4/4\n",
      "transposing from key G major to C major using interval 5\n",
      "\n",
      "OpenEWLD/dataset/[Traditional]/Mademoiselle_from_Armentières/Mademoiselle_from_Armentières.mxl\n",
      "\n",
      "OpenEWLD/dataset/[Traditional]/Shenandoah/Shenandoah.mxl\n",
      "F major 4/4\n",
      "transposing from key F major to C major using interval -5\n",
      "\n",
      "OpenEWLD/dataset/Al_Dubin-Harry_Warren/You're_Getting_to_Be_a_Habit_with_Me/You're_Getting_to_Be_a_Habit_with_Me.mxl\n",
      "F major 4/4\n",
      "transposing from key F major to C major using interval -5\n",
      "\n",
      "OpenEWLD/dataset/George_F._Root/The_Battle_Cry_of_Freedom/The_Battle_Cry_of_Freedom.mxl\n",
      "G major 4/4\n",
      "transposing from key G major to C major using interval 5\n",
      "\n",
      "OpenEWLD/dataset/Sebastián_Yradier/La_paloma/La_paloma.mxl\n",
      "C major 4/4\n",
      "transposing from key C major to C major using interval 0\n",
      "\n",
      "OpenEWLD/dataset/Jerome_Kern-Oscar_Hammerstein_II/Why_Was_I_Born?/Why_Was_I_Born?.mxl\n",
      "E- major 2/2\n",
      "transposing from key E- major to C major using interval -3\n",
      "\n",
      "OpenEWLD/dataset/L._Wolfe_Gilbert-Lewis_F._Muir/Waiting_for_the_Robert_E._Lee/Waiting_for_the_Robert_E._Lee.mxl\n",
      "\n",
      "OpenEWLD/dataset/[Traditional]/Polly_Wolly_Doodle/Polly_Wolly_Doodle.mxl\n",
      "C major 4/4\n",
      "transposing from key C major to C major using interval 0\n",
      "\n",
      "OpenEWLD/dataset/Leo_Robin-Ralph_Rainger/Here_Lies_Love/Here_Lies_Love.mxl\n",
      "F major 4/4\n",
      "transposing from key F major to C major using interval -5\n",
      "\n",
      "OpenEWLD/dataset/[Traditional]/Down_by_the_Riverside/Down_by_the_Riverside.mxl\n",
      "B- major 4/4\n",
      "transposing from key B- major to C major using interval 2\n",
      "\n",
      "OpenEWLD/dataset/Frederick_Ricketts/Colonel_Bogey_March/Colonel_Bogey_March.mxl\n",
      "D major 4/4\n",
      "transposing from key D major to C major using interval -2\n",
      "\n",
      "OpenEWLD/dataset/Lorenz_Hart-Richard_Rodgers/Spring_Is_Here/Spring_Is_Here.mxl\n",
      "A- major 2/2\n",
      "transposing from key A- major to C major using interval 4\n",
      "\n",
      "OpenEWLD/dataset/Septimus_Winner/Whispering_Hope/Whispering_Hope.mxl\n",
      "\n",
      "OpenEWLD/dataset/Johnny_Mercer-Victor_Schertzinger/I_Remember_You/I_Remember_You.mxl\n",
      "F major 4/4\n",
      "transposing from key F major to C major using interval -5\n",
      "\n",
      "OpenEWLD/dataset/Douglas_Furber-Philip_Braham/Limehouse_Blues/Limehouse_Blues.mxl\n",
      "A- major 4/4\n",
      "transposing from key A- major to C major using interval 4\n",
      "\n",
      "OpenEWLD/dataset/George_Gershwin-Ira_Gershwin/They_Can't_Take_That_Away_from_Me/They_Can't_Take_That_Away_from_Me.mxl\n",
      "E- major 2/2\n",
      "transposing from key E- major to C major using interval -3\n",
      "\n",
      "OpenEWLD/dataset/Lorenz_Hart-Richard_Rodgers/The_Most_Beautiful_Girl_in_the_World/The_Most_Beautiful_Girl_in_the_World.mxl\n",
      "\n",
      "OpenEWLD/dataset/Andy_Razaf-Fats_Waller-Harry_Brooks/(What_Did_I_Do_to_Be_So)_Black_and_Blue?/(What_Did_I_Do_to_Be_So)_Black_and_Blue?.mxl\n",
      "C major 2/2\n",
      "transposing from key C major to C major using interval 0\n",
      "\n",
      "OpenEWLD/dataset/Lorenz_Hart-Richard_Rodgers/I_Married_an_Angel/I_Married_an_Angel.mxl\n",
      "F major 2/2\n",
      "transposing from key F major to C major using interval -5\n",
      "\n",
      "OpenEWLD/dataset/Arthur_Johnston-Gus_Kahn/Thanks_a_Million/Thanks_a_Million.mxl\n",
      "G major 2/2\n",
      "transposing from key G major to C major using interval 5\n",
      "\n",
      "OpenEWLD/dataset/Fermo_Dante_Marchetti/Fascination/Fascination.mxl\n",
      "\n",
      "OpenEWLD/dataset/Hugh_Williams-Jimmy_Kennedy/Isle_of_Capri/Isle_of_Capri.mxl\n",
      "C major 4/4\n",
      "transposing from key C major to C major using interval 0\n",
      "\n",
      "OpenEWLD/dataset/Grant_Clarke-James_Hanley/Second_Hand_Rose/Second_Hand_Rose.mxl\n",
      "F major 4/4\n",
      "transposing from key F major to C major using interval -5\n",
      "\n",
      "OpenEWLD/dataset/Lou_Handman-Roy_Turk/Are_You_Lonesome_Tonight?/Are_You_Lonesome_Tonight?.mxl\n",
      "\n",
      "OpenEWLD/dataset/Leo_Robin-Ralph_Rainger/With_Every_Breath_I_Take/With_Every_Breath_I_Take.mxl\n",
      "F major 4/4\n",
      "transposing from key F major to C major using interval -5\n",
      "\n",
      "OpenEWLD/dataset/Jerome_Kern-Oscar_Hammerstein_II/The_Last_Time_I_Saw_Paris/The_Last_Time_I_Saw_Paris.mxl\n",
      "C major 4/4\n",
      "transposing from key C major to C major using interval 0\n",
      "\n",
      "OpenEWLD/dataset/Eugène_Pottier-Pierre_De_Geyter/L'Internationale/L'Internationale.mxl\n",
      "\n",
      "OpenEWLD/dataset/Carmen_Lombardo-Gus_Kahn-Johnny_Green/Coquette/Coquette.mxl\n",
      "D major 4/4\n",
      "transposing from key D major to C major using interval -2\n",
      "\n",
      "OpenEWLD/dataset/Johannes_Brahms/Hungarian_Dance_No._5_in_F♯_minor/Hungarian_Dance_No._5_in_F♯_minor.mxl\n",
      "\n",
      "OpenEWLD/dataset/Elsie_McWilliams-Jimmie_Rodgers/My_Little_Lady/My_Little_Lady.mxl\n",
      "D major 4/4\n",
      "transposing from key D major to C major using interval -2\n",
      "\n",
      "OpenEWLD/dataset/[Traditional]/Banks_of_the_Ohio/Banks_of_the_Ohio.mxl\n",
      "C major 4/4\n",
      "transposing from key C major to C major using interval 0\n",
      "\n",
      "OpenEWLD/dataset/Christina_Rossetti/In_the_Bleak_Midwinter/In_the_Bleak_Midwinter.mxl\n",
      "F major 4/4\n",
      "transposing from key F major to C major using interval -5\n",
      "\n",
      "OpenEWLD/dataset/Jerome_Kern-Oscar_Hammerstein_II/Can't_Help_Lovin'_Dat_Man/Can't_Help_Lovin'_Dat_Man.mxl\n",
      "E- major 4/4\n",
      "transposing from key E- major to C major using interval -3\n",
      "\n",
      "OpenEWLD/dataset/Irving_Kahal-Pierre_Norman-Sammy_Fain/When_I_Take_My_Sugar_to_Tea/When_I_Take_My_Sugar_to_Tea.mxl\n",
      "F major 2/2\n",
      "transposing from key F major to C major using interval -5\n",
      "\n",
      "OpenEWLD/dataset/Archie_Pitt/Oh_My_Beloved_Father/Oh_My_Beloved_Father.mxl\n",
      "\n",
      "OpenEWLD/dataset/B.G._DeSylva-Ballard_MacDonald-George_Gershwin/Somebody_Loves_Me/Somebody_Loves_Me.mxl\n",
      "G major 4/4\n",
      "transposing from key G major to C major using interval 5\n",
      "\n",
      "OpenEWLD/dataset/Ben_Bernie-Kenneth_Casey-Maceo_Pinkard/Sweet_Georgia_Brown/Sweet_Georgia_Brown.mxl\n",
      "F major 4/4\n",
      "transposing from key F major to C major using interval -5\n",
      "\n",
      "OpenEWLD/dataset/Lena_Arent-Ma_Rainey/See_See_Rider_Blues/See_See_Rider_Blues.mxl\n",
      "C major 4/4\n",
      "transposing from key C major to C major using interval 0\n",
      "\n",
      "OpenEWLD/dataset/Lorenz_Hart-Richard_Rodgers/I_Didn't_Know_What_Time_It_Was/I_Didn't_Know_What_Time_It_Was.mxl\n",
      "G major 4/4\n",
      "transposing from key G major to C major using interval 5\n",
      "\n",
      "OpenEWLD/dataset/George_Gershwin-Gus_Kahn-Ira_Gershwin/Liza_(All_the_Clouds'll_Roll_Away)/Liza_(All_the_Clouds'll_Roll_Away).mxl\n",
      "E- major 4/4\n",
      "transposing from key E- major to C major using interval -3\n",
      "\n",
      "OpenEWLD/dataset/Gus_Kahn-Isham_Jones/The_One_I_Love_Belongs_to_Somebody_Else/The_One_I_Love_Belongs_to_Somebody_Else.mxl\n",
      "G major 2/2\n",
      "transposing from key G major to C major using interval 5\n",
      "\n",
      "OpenEWLD/dataset/Al_Dubin-Harry_Warren/I'll_String_Along_with_You/I'll_String_Along_with_You.mxl\n",
      "E- major 2/2\n",
      "transposing from key E- major to C major using interval -3\n",
      "\n",
      "OpenEWLD/dataset/Bubber_Miley-Duke_Ellington/Black_and_Tan_Fantasy/Black_and_Tan_Fantasy.mxl\n",
      "D- major 4/4\n",
      "transposing from key D- major to C major using interval -1\n",
      "\n",
      "OpenEWLD/dataset/Stephen_Foster/My_Old_Kentucky_Home_-_Good-Night!/My_Old_Kentucky_Home_-_Good-Night!.mxl\n",
      "D major 4/4\n",
      "transposing from key D major to C major using interval -2\n",
      "\n",
      "OpenEWLD/dataset/Jack_Mahoney-Percy_Wenrich/When_You_Wore_a_Tulip_and_I_Wore_a_Big_Red_Rose/When_You_Wore_a_Tulip_and_I_Wore_a_Big_Red_Rose.mxl\n",
      "G major 4/4\n",
      "transposing from key G major to C major using interval 5\n",
      "\n",
      "OpenEWLD/dataset/Alfred_Bryan-Fred_Fisher/Peg_O'_My_Heart/Peg_O'_My_Heart.mxl\n",
      "B- major 4/4\n",
      "transposing from key B- major to C major using interval 2\n",
      "\n",
      "OpenEWLD/dataset/John_Hughes_[1]/Calon_Lân/Calon_Lân.mxl\n",
      "\n",
      "OpenEWLD/dataset/Charles_Tobias-Roy_Turk/After_My_Laughter_Came_Tears/After_My_Laughter_Came_Tears.mxl\n"
     ]
    },
    {
     "name": "stdout",
     "output_type": "stream",
     "text": [
      "G major 4/4\n",
      "transposing from key G major to C major using interval 5\n",
      "\n",
      "OpenEWLD/dataset/Annie_MacLeod-Sir_Harold_Boulton/The_Skye_Boat_Song/The_Skye_Boat_Song.mxl\n",
      "\n",
      "OpenEWLD/dataset/B.G._DeSylva-George_Gershwin/Do_It_Again/Do_It_Again.mxl\n",
      "F major 2/2\n",
      "transposing from key F major to C major using interval -5\n",
      "\n",
      "OpenEWLD/dataset/Dorothy_Fields-Jerome_Kern/A_Fine_Romance/A_Fine_Romance.mxl\n",
      "C major 4/4\n",
      "transposing from key C major to C major using interval 0\n",
      "\n",
      "OpenEWLD/dataset/Frank_Loesser-George_Terry-Victor_Schertzinger/Kiss_the_Boys_Goodbye/Kiss_the_Boys_Goodbye.mxl\n",
      "C major 4/4\n",
      "transposing from key C major to C major using interval 0\n",
      "\n",
      "OpenEWLD/dataset/Lorenzo_Barcelata_Castro/Maria_Elena/Maria_Elena.mxl\n",
      "C major 4/4\n",
      "transposing from key C major to C major using interval 0\n",
      "\n",
      "OpenEWLD/dataset/Dick_Smith-Felix_Bernard/Winter_Wonderland/Winter_Wonderland.mxl\n",
      "C major 4/4\n",
      "transposing from key C major to C major using interval 0\n",
      "\n",
      "OpenEWLD/dataset/Lorenz_Hart-Richard_Rodgers/Thou_Swell/Thou_Swell.mxl\n",
      "E- major 2/2\n",
      "transposing from key E- major to C major using interval -3\n",
      "\n",
      "OpenEWLD/dataset/Lorenz_Hart-Richard_Rodgers/It_Never_Entered_My_Mind/It_Never_Entered_My_Mind.mxl\n",
      "F major 4/4\n",
      "transposing from key F major to C major using interval -5\n",
      "\n",
      "OpenEWLD/dataset/Bennie_Moten-Buster_Moten/Moten_Swing/Moten_Swing.mxl\n",
      "E- major 4/4\n",
      "transposing from key E- major to C major using interval -3\n",
      "\n",
      "OpenEWLD/dataset/Gus_Kahn-Walter_Donaldson/Yes_Sir,_That's_My_Baby/Yes_Sir,_That's_My_Baby.mxl\n",
      "E- major 2/2\n",
      "transposing from key E- major to C major using interval -3\n",
      "\n",
      "OpenEWLD/dataset/Dorothy_Donnelly-Sigmund_Romberg/Deep_in_My_Heart,_Dear/Deep_in_My_Heart,_Dear.mxl\n",
      "\n",
      "OpenEWLD/dataset/Bert_Kalmar-Harry_Ruby/Nevertheless_(I'm_in_Love_with_You)/Nevertheless_(I'm_in_Love_with_You).mxl\n",
      "B- major 2/2\n",
      "transposing from key B- major to C major using interval 2\n",
      "\n",
      "OpenEWLD/dataset/Don_George-[Traditional]/Yellow_Rose_of_Texas/Yellow_Rose_of_Texas.mxl\n",
      "B- major 4/4\n",
      "transposing from key B- major to C major using interval 2\n",
      "\n",
      "OpenEWLD/dataset/Antoine_Renard/Le_temps_des_cerises/Le_temps_des_cerises.mxl\n",
      "\n",
      "OpenEWLD/dataset/Jerome_Kern-Otto_Harbach/Yesterdays/Yesterdays.mxl\n",
      "F major 4/4\n",
      "transposing from key F major to C major using interval -5\n",
      "\n",
      "OpenEWLD/dataset/A._Emmett_Adams-Douglas_Furber/The_Bells_of_St._Mary's/The_Bells_of_St._Mary's.mxl\n",
      "C major 4/4\n",
      "transposing from key C major to C major using interval 0\n",
      "\n",
      "OpenEWLD/dataset/B.G._DeSylva-George_Gershwin-Ira_Gershwin/I'll_Build_a_Stairway_to_Paradise/I'll_Build_a_Stairway_to_Paradise.mxl\n",
      "C major 2/2\n",
      "transposing from key C major to C major using interval 0\n",
      "\n",
      "OpenEWLD/dataset/Joe_Young-Ray_Henderson-Sam_Lewis/I'm_Sitting_on_Top_of_the_World/I'm_Sitting_on_Top_of_the_World.mxl\n",
      "C major 4/4\n",
      "transposing from key C major to C major using interval 0\n",
      "\n",
      "OpenEWLD/dataset/[Traditional]/Let_Us_Break_Bread_Together/Let_Us_Break_Bread_Together.mxl\n",
      "\n",
      "OpenEWLD/dataset/James_Montgomery_[1]/Angels_from_the_Realms_of_Glory/Angels_from_the_Realms_of_Glory.mxl\n",
      "C major 4/4\n",
      "transposing from key C major to C major using interval 0\n",
      "\n",
      "OpenEWLD/dataset/Irving_Kahal-Pierre_Norman-Sammy_Fain/You_Brought_a_New_Kind_of_Love_to_Me/You_Brought_a_New_Kind_of_Love_to_Me.mxl\n",
      "A- major 4/4\n",
      "transposing from key A- major to C major using interval 4\n",
      "\n",
      "OpenEWLD/dataset/Harold_Adamson-Mack_Gordon-Vincent_Youmans/Time_on_My_Hands/Time_on_My_Hands.mxl\n",
      "F major 2/2\n",
      "transposing from key F major to C major using interval -5\n",
      "\n",
      "OpenEWLD/dataset/Leo_Robin-Ralph_Rainger/Love_in_Bloom/Love_in_Bloom.mxl\n",
      "G major 4/4\n",
      "transposing from key G major to C major using interval 5\n",
      "\n",
      "OpenEWLD/dataset/Fred_E._Ahlert-Roy_Turk/Mean_to_Me/Mean_to_Me.mxl\n",
      "F major 4/4\n",
      "transposing from key F major to C major using interval -5\n",
      "\n",
      "OpenEWLD/dataset/Joe_Young-Ned_Washington-Victor_Young/A_Hundred_Years_from_Today/A_Hundred_Years_from_Today.mxl\n",
      "E- major 4/4\n",
      "transposing from key E- major to C major using interval -3\n",
      "\n",
      "OpenEWLD/dataset/Jimmie_Rodgers/Hobo's_Meditation/Hobo's_Meditation.mxl\n",
      "B- major 4/4\n",
      "transposing from key B- major to C major using interval 2\n",
      "\n",
      "OpenEWLD/dataset/Fred_E._Ahlert-Joe_Young/I'm_Gonna_Sit_Right_Down_and_Write_Myself_a_Letter/I'm_Gonna_Sit_Right_Down_and_Write_Myself_a_Letter.mxl\n",
      "C major 4/4\n",
      "transposing from key C major to C major using interval 0\n",
      "\n",
      "OpenEWLD/dataset/Cab_Calloway-Clarence_Gaskill-Irving_Mills/Minnie_the_Moocher/Minnie_the_Moocher.mxl\n",
      "G major 4/4\n",
      "transposing from key G major to C major using interval 5\n",
      "\n",
      "OpenEWLD/dataset/George_Gershwin-Ira_Gershwin/They_All_Laughed/They_All_Laughed.mxl\n",
      "G major 2/2\n",
      "transposing from key G major to C major using interval 5\n",
      "\n",
      "OpenEWLD/dataset/Ballard_MacDonald/The_Parade_of_the_Wooden_Soldiers/The_Parade_of_the_Wooden_Soldiers.mxl\n",
      "C major 4/4\n",
      "transposing from key C major to C major using interval 0\n",
      "\n",
      "OpenEWLD/dataset/[Traditional]/The_Holly_and_the_Ivy/The_Holly_and_the_Ivy.mxl\n",
      "\n",
      "OpenEWLD/dataset/George_Gershwin-Irving_Caesar/Swanee/Swanee.mxl\n",
      "C major 4/4\n",
      "transposing from key C major to C major using interval 0\n",
      "\n",
      "OpenEWLD/dataset/Bernice_Petkere-Joe_Young/Lullaby_of_the_Leaves/Lullaby_of_the_Leaves.mxl\n",
      "E- major 4/4\n",
      "transposing from key E- major to C major using interval -3\n",
      "\n",
      "OpenEWLD/dataset/Haven_Gillespie-Richard_A._Whiting-Seymour_Simons/Breezin'_Along_with_the_Breeze/Breezin'_Along_with_the_Breeze.mxl\n",
      "F major 2/2\n",
      "transposing from key F major to C major using interval -5\n",
      "\n",
      "OpenEWLD/dataset/Lorenz_Hart-Richard_Rodgers/Isn't_It_Romantic?/Isn't_It_Romantic?.mxl\n",
      "E- major 2/2\n",
      "transposing from key E- major to C major using interval -3\n",
      "\n",
      "OpenEWLD/dataset/Charles_B._Ward-John_F._Palmer/The_Band_Played_On/The_Band_Played_On.mxl\n",
      "\n",
      "OpenEWLD/dataset/Leo_Robin-Richard_A._Whiting-Sam_Coslow/True_Blue_Lou/True_Blue_Lou.mxl\n",
      "C major 4/4\n",
      "transposing from key C major to C major using interval 0\n",
      "\n",
      "OpenEWLD/dataset/Riccardo_Cordiferro-Salvatore_Cardillo/Core_'ngrato/Core_'ngrato.mxl\n",
      "E- major 4/4\n",
      "transposing from key E- major to C major using interval -3\n",
      "\n",
      "OpenEWLD/dataset/Stephen_Foster/Hard_Times_Come_Again_No_More/Hard_Times_Come_Again_No_More.mxl\n",
      "C major 4/4\n",
      "transposing from key C major to C major using interval 0\n",
      "\n",
      "OpenEWLD/dataset/Nikolai_Rimsky-Korsakov/Flight_of_the_Bumblebee/Flight_of_the_Bumblebee.mxl\n",
      "\n",
      "OpenEWLD/dataset/[Traditional]/Scotland_the_Brave/Scotland_the_Brave.mxl\n",
      "C major 4/4\n",
      "transposing from key C major to C major using interval 0\n",
      "\n",
      "OpenEWLD/dataset/Lorenz_Hart-Richard_Rodgers/I've_Got_Five_Dollars/I've_Got_Five_Dollars.mxl\n",
      "E- major 4/4\n",
      "transposing from key E- major to C major using interval -3\n",
      "\n",
      "OpenEWLD/dataset/Al_Dubin-Harry_Warren/Lulu's_Back_in_Town/Lulu's_Back_in_Town.mxl\n",
      "E- major 4/4\n",
      "transposing from key E- major to C major using interval -3\n",
      "\n",
      "OpenEWLD/dataset/[Traditional]/Red_River_Valley/Red_River_Valley.mxl\n",
      "C major 4/4\n",
      "transposing from key C major to C major using interval 0\n",
      "\n",
      "OpenEWLD/dataset/Raymond_B._Egan-Richard_A._Whiting/Japanese_Sandman/Japanese_Sandman.mxl\n",
      "F major 2/2\n",
      "transposing from key F major to C major using interval -5\n",
      "\n",
      "OpenEWLD/dataset/[Traditional]/There_Is_a_Tavern_in_the_Town/There_Is_a_Tavern_in_the_Town.mxl\n",
      "G major 4/4\n",
      "transposing from key G major to C major using interval 5\n",
      "\n",
      "OpenEWLD/dataset/Charles_N._Daniels-Richard_A._Whiting/She's_Funny_That_Way/She's_Funny_That_Way.mxl\n",
      "E- major 2/2\n",
      "transposing from key E- major to C major using interval -3\n",
      "\n",
      "OpenEWLD/dataset/Howard_Johnson-Jimmy_Monaco-Joseph_McCarthy/What_Do_You_Want_to_Make_Those_Eyes_at_Me_For?/What_Do_You_Want_to_Make_Those_Eyes_at_Me_For?.mxl\n",
      "E- major 4/4\n",
      "transposing from key E- major to C major using interval -3\n",
      "\n",
      "OpenEWLD/dataset/[Traditional]/Coventry_Carol/Coventry_Carol.mxl\n",
      "\n",
      "OpenEWLD/dataset/Lorenz_Hart-Richard_Rodgers/The_Lady_Is_a_Tramp/The_Lady_Is_a_Tramp.mxl\n",
      "C major 2/2\n",
      "transposing from key C major to C major using interval 0\n",
      "\n",
      "OpenEWLD/dataset/Bill_Cogswell-Johnny_Noble-Tommy_Harrison/My_Little_Grass_Shack_in_Kealakekua,_Hawaii/My_Little_Grass_Shack_in_Kealakekua,_Hawaii.mxl\n",
      "B- major 4/4\n",
      "transposing from key B- major to C major using interval 2\n",
      "\n",
      "OpenEWLD/dataset/Leo_Robin-Richard_A._Whiting/Louise/Louise.mxl\n",
      "F major 4/4\n",
      "transposing from key F major to C major using interval -5\n",
      "\n",
      "OpenEWLD/dataset/Frank_Dean/Daisy_Bell_(Bicycle_Built_for_Two)/Daisy_Bell_(Bicycle_Built_for_Two).mxl\n",
      "\n",
      "OpenEWLD/dataset/Ludwig_van_Beethoven/Für_Elise/Für_Elise.mxl\n"
     ]
    },
    {
     "name": "stdout",
     "output_type": "stream",
     "text": [
      "\n",
      "OpenEWLD/dataset/Henry_Creamer-James_P._Johnson/If_I_Could_Be_with_You_(One_Hour_Tonight)/If_I_Could_Be_with_You_(One_Hour_Tonight).mxl\n",
      "C major 2/2\n",
      "transposing from key C major to C major using interval 0\n",
      "\n",
      "OpenEWLD/dataset/C._W._Murphy-Dan_Lipton-John_Neat/She's_a_Lassie_from_Lancashire/She's_a_Lassie_from_Lancashire.mxl\n",
      "\n",
      "OpenEWLD/dataset/George_Gershwin-Ira_Gershwin/Love_Walked_In/Love_Walked_In.mxl\n",
      "E- major 2/2\n",
      "transposing from key E- major to C major using interval -3\n",
      "\n",
      "OpenEWLD/dataset/George_Gershwin-Ira_Gershwin/Soon/Soon.mxl\n",
      "E- major 2/2\n",
      "transposing from key E- major to C major using interval -3\n",
      "\n",
      "OpenEWLD/dataset/Harry_Tierney-Joseph_McCarthy/Alice_Blue_Gown/Alice_Blue_Gown.mxl\n",
      "\n",
      "OpenEWLD/dataset/Fred_E._Ahlert-Roy_Turk/Walkin'_My_Baby_Back_Home/Walkin'_My_Baby_Back_Home.mxl\n",
      "E- major 4/4\n",
      "transposing from key E- major to C major using interval -3\n",
      "\n",
      "OpenEWLD/dataset/[Traditional]/Alouette/Alouette.mxl\n",
      "F major 4/4\n",
      "transposing from key F major to C major using interval -5\n",
      "\n",
      "OpenEWLD/dataset/[Traditional]/I_Saw_Three_Ships/I_Saw_Three_Ships.mxl\n",
      "\n",
      "OpenEWLD/dataset/John_McLellan-Kenneth_MacLeod-Marjory_Kennedy-Fraser/The_Road_to_the_Isles/The_Road_to_the_Isles.mxl\n",
      "G major 4/4\n",
      "transposing from key G major to C major using interval 5\n",
      "\n",
      "OpenEWLD/dataset/Lorenz_Hart-Richard_Rodgers/Falling_in_Love_with_Love/Falling_in_Love_with_Love.mxl\n",
      "\n",
      "OpenEWLD/dataset/Lorenz_Hart-Richard_Rodgers/My_Heart_Stood_Still/My_Heart_Stood_Still.mxl\n",
      "F major 4/4\n",
      "transposing from key F major to C major using interval -5\n",
      "\n",
      "OpenEWLD/dataset/Richard_M._Jones/Trouble_in_Mind_Blues/Trouble_in_Mind_Blues.mxl\n",
      "G major 4/4\n",
      "transposing from key G major to C major using interval 5\n",
      "\n",
      "OpenEWLD/dataset/Bert_Kalmar-Harry_Ruby/Thinking_of_You/Thinking_of_You.mxl\n",
      "E- major 4/4\n",
      "transposing from key E- major to C major using interval -3\n",
      "\n",
      "OpenEWLD/dataset/Andy_Razaf-Fats_Waller/Honeysuckle_Rose/Honeysuckle_Rose.mxl\n",
      "F major 4/4\n",
      "transposing from key F major to C major using interval -5\n",
      "\n",
      "OpenEWLD/dataset/Arthur_Sullivan-Sabine_Baring-Gould/Onward,_Christian_Soldiers/Onward,_Christian_Soldiers.mxl\n",
      "F major 4/4\n",
      "transposing from key F major to C major using interval -5\n",
      "\n",
      "OpenEWLD/dataset/Lorenz_Hart-Richard_Rodgers/Wait_Till_You_See_Her/Wait_Till_You_See_Her.mxl\n",
      "\n",
      "OpenEWLD/dataset/[Traditional]/Shady_Grove/Shady_Grove.mxl\n",
      "\n",
      "OpenEWLD/dataset/Scott_Joplin/The_Entertainer/The_Entertainer.mxl\n",
      "C major 4/4\n",
      "transposing from key C major to C major using interval 0\n",
      "\n",
      "OpenEWLD/dataset/George_Gershwin-Ira_Gershwin/Oh,_Lady_Be_Good!/Oh,_Lady_Be_Good!.mxl\n",
      "G major 4/4\n",
      "transposing from key G major to C major using interval 5\n",
      "\n",
      "OpenEWLD/dataset/Joseph_Eastburn_Winner/The_Little_Brown_Jug/The_Little_Brown_Jug.mxl\n",
      "C major 4/4\n",
      "transposing from key C major to C major using interval 0\n",
      "\n",
      "OpenEWLD/dataset/Al_Dubin-Harry_Warren/We're_in_the_Money/We're_in_the_Money.mxl\n",
      "C major 2/2\n",
      "transposing from key C major to C major using interval 0\n",
      "\n",
      "OpenEWLD/dataset/Frederic_Weatherly/Danny_Boy/Danny_Boy.mxl\n",
      "F major 4/4\n",
      "transposing from key F major to C major using interval -5\n",
      "\n",
      "OpenEWLD/dataset/Henry_Creamer-Turner_Layton/Way_Down_Yonder_in_New_Orleans/Way_Down_Yonder_in_New_Orleans.mxl\n",
      "F major 2/2\n",
      "transposing from key F major to C major using interval -5\n",
      "\n",
      "OpenEWLD/dataset/Irving_Kahal-Sammy_Fain-Willie_Raskin/Wedding_Bells_Are_Breaking_up_That_Old_Gang_of_Mine/Wedding_Bells_Are_Breaking_up_That_Old_Gang_of_Mine.mxl\n",
      "G major 4/4\n",
      "transposing from key G major to C major using interval 5\n",
      "\n",
      "OpenEWLD/dataset/[Traditional]/Sometimes_I_Feel_Like_a_Motherless_Child/Sometimes_I_Feel_Like_a_Motherless_Child.mxl\n",
      "C major 4/4\n",
      "transposing from key C major to C major using interval 0\n",
      "\n",
      "OpenEWLD/dataset/Eliza_Flower-Sarah_Flower_Adams/Nearer,_My_God,_to_Thee/Nearer,_My_God,_to_Thee.mxl\n",
      "F major 4/4\n",
      "transposing from key F major to C major using interval -5\n",
      "\n",
      "OpenEWLD/dataset/Ivor_Novello-Lena_Ford/Keep_the_Home_Fires_Burning_('Till_the_Boys_Come_Home)/Keep_the_Home_Fires_Burning_('Till_the_Boys_Come_Home).mxl\n",
      "G major 4/4\n",
      "transposing from key G major to C major using interval 5\n",
      "\n",
      "OpenEWLD/dataset/[Traditional]/Still,_Still,_Still/Still,_Still,_Still.mxl\n",
      "D major 4/4\n",
      "transposing from key D major to C major using interval -2\n",
      "\n",
      "OpenEWLD/dataset/Lorenz_Hart-Richard_Rodgers/I_Wish_I_Were_in_Love_Again/I_Wish_I_Were_in_Love_Again.mxl\n",
      "G major 2/2\n",
      "transposing from key G major to C major using interval 5\n",
      "\n",
      "OpenEWLD/dataset/Bernie_Miller/Bernie's_Tune/Bernie's_Tune.mxl\n",
      "F major 4/4\n",
      "transposing from key F major to C major using interval -5\n",
      "\n",
      "OpenEWLD/dataset/John_Mason_Neale/Good_Christian_Men,_Rejoice/Good_Christian_Men,_Rejoice.mxl\n",
      "\n",
      "OpenEWLD/dataset/George_Gershwin-Ira_Gershwin/'S_Wonderful/'S_Wonderful.mxl\n",
      "E- major 4/4\n",
      "transposing from key E- major to C major using interval -3\n",
      "\n",
      "OpenEWLD/dataset/Bert_Lee-Harry_Fragson-Hubert_Worton_David/Hello,_Hello,_Who's_Your_Lady_Friend/Hello,_Hello,_Who's_Your_Lady_Friend.mxl\n",
      "\n",
      "OpenEWLD/dataset/Thomas_Oliphant/The_Ash_Grove/The_Ash_Grove.mxl\n",
      "\n",
      "OpenEWLD/dataset/Dorothy_Fields-Jerome_Kern/Pick_Yourself_Up/Pick_Yourself_Up.mxl\n",
      "C major 4/4\n",
      "transposing from key C major to C major using interval 0\n",
      "\n",
      "OpenEWLD/dataset/Jerome_Kern-Oscar_Hammerstein_II/Why_Do_I_Love_You?/Why_Do_I_Love_You?.mxl\n",
      "G major 4/4\n",
      "transposing from key G major to C major using interval 5\n",
      "\n",
      "OpenEWLD/dataset/Maurice_Ravel/Boléro/Boléro.mxl\n",
      "\n",
      "OpenEWLD/dataset/DuBose_Heyward-George_Gershwin-Ira_Gershwin/I_Loves_You,_Porgy/I_Loves_You,_Porgy.mxl\n",
      "F major 4/4\n",
      "transposing from key F major to C major using interval -5\n",
      "\n",
      "OpenEWLD/dataset/Louis_Hirsch-Otto_Harbach/The_Love_Nest/The_Love_Nest.mxl\n",
      "C major 4/4\n",
      "transposing from key C major to C major using interval 0\n",
      "\n",
      "OpenEWLD/dataset/Albert_Chevalier-Charles_Ingle/My_Old_Dutch/My_Old_Dutch.mxl\n",
      "D major 4/4\n",
      "transposing from key D major to C major using interval -2\n",
      "\n",
      "OpenEWLD/dataset/Henry_Rowley_Bishop-John_Howard_Payne_[1]/Home_Sweet_Home/Home_Sweet_Home.mxl\n",
      "\n",
      "OpenEWLD/dataset/George_Gershwin-Ira_Gershwin/I_Got_Rhythm/I_Got_Rhythm.mxl\n",
      "B- major 4/4\n",
      "transposing from key B- major to C major using interval 2\n",
      "\n",
      "OpenEWLD/dataset/Leo_Robin-Ralph_Rainger/Thanks_for_the_Memory/Thanks_for_the_Memory.mxl\n",
      "F major 4/4\n",
      "transposing from key F major to C major using interval -5\n",
      "\n",
      "OpenEWLD/dataset/Jesse_Brown_Pounds-John_Sylvester_Fearis/Beautiful_Isle_of_Somewhere/Beautiful_Isle_of_Somewhere.mxl\n",
      "\n",
      "OpenEWLD/dataset/Egbert_Van_Alstyne-Gus_Kahn-Tony_Jackson_[1]/Pretty_Baby/Pretty_Baby.mxl\n",
      "E- major 4/4\n",
      "transposing from key E- major to C major using interval -3\n",
      "\n",
      "OpenEWLD/dataset/Clifford_Grey-Irving_Caesar-Vincent_Youmans/Sometimes_I'm_Happy_(Sometimes_I'm_Blue)/Sometimes_I'm_Happy_(Sometimes_I'm_Blue).mxl\n",
      "F major 2/2\n",
      "transposing from key F major to C major using interval -5\n",
      "\n",
      "OpenEWLD/dataset/Leo_Robin-Ralph_Rainger/Easy_Living/Easy_Living.mxl\n",
      "E- major 4/4\n",
      "transposing from key E- major to C major using interval -3\n",
      "\n",
      "OpenEWLD/dataset/Desmond_Carter-Joseph_Meyer-Phil_Charig/Tell_Me_Why/Tell_Me_Why.mxl\n",
      "C major 4/4\n",
      "transposing from key C major to C major using interval 0\n",
      "\n",
      "OpenEWLD/dataset/[Traditional]/Satan,_Your_Kingdom_Must_Come_Down/Satan,_Your_Kingdom_Must_Come_Down.mxl\n",
      "B- major 4/4\n",
      "transposing from key B- major to C major using interval 2\n",
      "\n",
      "OpenEWLD/dataset/Frank_Westphal-Gus_Kahn/When_You_Come_to_the_End_of_the_Day/When_You_Come_to_the_End_of_the_Day.mxl\n",
      "\n",
      "OpenEWLD/dataset/Lorenz_Hart/Blue_Moon/Blue_Moon.mxl\n",
      "E- major 2/2\n",
      "transposing from key E- major to C major using interval -3\n",
      "\n",
      "OpenEWLD/dataset/Jean_Schwartz-Joe_Young-Sam_Lewis/Rock-a-Bye_Your_Baby_with_a_Dixie_Melody/Rock-a-Bye_Your_Baby_with_a_Dixie_Melody.mxl\n",
      "C major 2/2\n",
      "transposing from key C major to C major using interval 0\n",
      "\n",
      "OpenEWLD/dataset/Robert_Burns-[Traditional]/Auld_Lang_Syne/Auld_Lang_Syne.mxl\n",
      "F major 4/4\n",
      "transposing from key F major to C major using interval -5\n",
      "\n",
      "OpenEWLD/dataset/Hugh_Williams-Jimmy_Kennedy/Red_Sails_in_the_Sunset/Red_Sails_in_the_Sunset.mxl\n",
      "G major 4/4\n",
      "transposing from key G major to C major using interval 5\n",
      "\n",
      "OpenEWLD/dataset/Fred_W._Leigh-Henry_E._Pether/Waiting_at_the_Church/Waiting_at_the_Church.mxl\n",
      "C major 4/4\n",
      "transposing from key C major to C major using interval 0\n",
      "\n",
      "OpenEWLD/dataset/Paul_Dresser/On_the_Banks_of_the_Wabash,_Far_Away/On_the_Banks_of_the_Wabash,_Far_Away.mxl\n",
      "G major 4/4\n",
      "transposing from key G major to C major using interval 5\n",
      "\n",
      "OpenEWLD/dataset/Joseph_Brackett,_Jr./Simple_Gifts/Simple_Gifts.mxl\n"
     ]
    },
    {
     "name": "stdout",
     "output_type": "stream",
     "text": [
      "F major 4/4\n",
      "transposing from key F major to C major using interval -5\n",
      "\n",
      "OpenEWLD/dataset/[Traditional]/Frankie_and_Johnny/Frankie_and_Johnny.mxl\n",
      "C major 4/4\n",
      "transposing from key C major to C major using interval 0\n",
      "\n",
      "OpenEWLD/dataset/Eddie_Leonard-Eddie_Munson/Ida!_Sweet_as_Apple_Cider/Ida!_Sweet_as_Apple_Cider.mxl\n",
      "C major 4/4\n",
      "transposing from key C major to C major using interval 0\n",
      "\n",
      "OpenEWLD/dataset/Alfredo_Le_Pera-Carlos_Gardel/Por_una_cabeza/Por_una_cabeza.mxl\n",
      "\n",
      "OpenEWLD/dataset/[Traditional]/Wexford_Carol/Wexford_Carol.mxl\n",
      "\n",
      "OpenEWLD/dataset/Al_Jolson-B.G._DeSylva-Vincent_Rose/Avalon/Avalon.mxl\n",
      "C major 4/4\n",
      "transposing from key C major to C major using interval 0\n",
      "\n",
      "OpenEWLD/dataset/Grant_Clarke-Harry_Akst/Am_I_Blue?/Am_I_Blue?.mxl\n",
      "F major 2/2\n",
      "transposing from key F major to C major using interval -5\n",
      "\n",
      "OpenEWLD/dataset/Lew_Pollack/That's_a_Plenty/That's_a_Plenty.mxl\n",
      "F major 2/2\n",
      "transposing from key F major to C major using interval -5\n",
      "\n",
      "OpenEWLD/dataset/Leo_Robin-Newell_Chase-Richard_A._Whiting/My_Ideal/My_Ideal.mxl\n",
      "E- major 4/4\n",
      "transposing from key E- major to C major using interval -3\n",
      "\n",
      "OpenEWLD/dataset/[Traditional]/The_Wild_Rover/The_Wild_Rover.mxl\n",
      "\n",
      "OpenEWLD/dataset/Clarence_Williams-King_Oliver/West_End_Blues/West_End_Blues.mxl\n",
      "E- major 2/2\n",
      "transposing from key E- major to C major using interval -3\n",
      "\n",
      "OpenEWLD/dataset/Lewis_Redner-Phillips_Brooks/O_Little_Town_of_Bethlehem/O_Little_Town_of_Bethlehem.mxl\n",
      "F major 4/4\n",
      "transposing from key F major to C major using interval -5\n",
      "\n",
      "OpenEWLD/dataset/Harry_Warren-Joe_Young-Mort_Dixon/You're_My_Everything/You're_My_Everything.mxl\n",
      "C major 2/2\n",
      "transposing from key C major to C major using interval 0\n",
      "\n",
      "OpenEWLD/dataset/Banjo_Paterson-Marie_Cowan/Waltzing_Matilda/Waltzing_Matilda.mxl\n",
      "D major 4/4\n",
      "transposing from key D major to C major using interval -2\n",
      "\n",
      "OpenEWLD/dataset/George_Gershwin-Ira_Gershwin/Nice_Work_if_You_Can_Get_It/Nice_Work_if_You_Can_Get_It.mxl\n",
      "G major 2/2\n",
      "transposing from key G major to C major using interval 5\n",
      "\n",
      "OpenEWLD/dataset/Giacomo_Puccini-Giovacchino_Forzano/O_mio_babbino_caro/O_mio_babbino_caro.mxl\n",
      "\n",
      "OpenEWLD/dataset/George_Gershwin-Ira_Gershwin/Who_Cares/Who_Cares.mxl\n",
      "C major 2/2\n",
      "transposing from key C major to C major using interval 0\n",
      "\n",
      "OpenEWLD/dataset/Charles_Gounod/Ave_Maria/Ave_Maria.mxl\n",
      "E- major 4/4\n",
      "transposing from key E- major to C major using interval -3\n",
      "\n",
      "OpenEWLD/dataset/Francis_Wheeler-Harry_B._Smith-Ted_Snyder/The_Sheik_of_Araby/The_Sheik_of_Araby.mxl\n",
      "B- major 2/2\n",
      "transposing from key B- major to C major using interval 2\n",
      "\n",
      "OpenEWLD/dataset/Irving_Kahal-Sammy_Fain/I_Can_Dream,_Can't_I?/I_Can_Dream,_Can't_I?.mxl\n",
      "E- major 2/2\n",
      "transposing from key E- major to C major using interval -3\n",
      "\n",
      "OpenEWLD/dataset/[Traditional]/Didn't_My_Lord_Deliver_Daniel/Didn't_My_Lord_Deliver_Daniel.mxl\n",
      "F major 4/4\n",
      "transposing from key F major to C major using interval -5\n",
      "\n",
      "OpenEWLD/dataset/Lorenz_Hart-Richard_Rodgers/My_Funny_Valentine/My_Funny_Valentine.mxl\n",
      "\n",
      "OpenEWLD/dataset/[Traditional]/Santa_Lucia/Santa_Lucia.mxl\n",
      "\n",
      "OpenEWLD/dataset/Dan_Russo-Ernie_Erdman-Gus_Kahn-Ted_FioRito/Toot,_Toot,_Tootsie_(Goo'_Bye)/Toot,_Toot,_Tootsie_(Goo'_Bye).mxl\n",
      "C major 2/2\n",
      "transposing from key C major to C major using interval 0\n",
      "\n",
      "OpenEWLD/dataset/Augustus_Toplady-Thomas_Hastings/Rock_of_Ages/Rock_of_Ages.mxl\n",
      "\n",
      "OpenEWLD/dataset/Eben_E._Rexford-H.P._Danks/Silver_Threads_Among_the_Gold/Silver_Threads_Among_the_Gold.mxl\n",
      "B- major 4/4\n",
      "transposing from key B- major to C major using interval 2\n",
      "\n",
      "OpenEWLD/dataset/Frederic_Knight_Logan-James_Royce_Shannon-John_V._Eppel/Missouri_Waltz/Missouri_Waltz.mxl\n",
      "\n",
      "OpenEWLD/dataset/Albert_H._Brown-Charles_N._Daniels-Seymour_Rice/You_Tell_Me_Your_Dream,_I'll_Tell_You_Mine/You_Tell_Me_Your_Dream,_I'll_Tell_You_Mine.mxl\n",
      "\n",
      "OpenEWLD/dataset/George_M._Cohan/Over_There/Over_There.mxl\n",
      "C major 4/4\n",
      "transposing from key C major to C major using interval 0\n",
      "\n",
      "OpenEWLD/dataset/Harry_Akst-Joe_Young-Sam_Lewis/Dinah/Dinah.mxl\n",
      "G major 4/4\n",
      "transposing from key G major to C major using interval 5\n",
      "\n",
      "OpenEWLD/dataset/Stephen_Foster/Beautiful_Dreamer/Beautiful_Dreamer.mxl\n",
      "\n",
      "OpenEWLD/dataset/Frank_Churchill-Larry_Morey/Little_April_Shower/Little_April_Shower.mxl\n",
      "C major 2/2\n",
      "transposing from key C major to C major using interval 0\n",
      "\n",
      "OpenEWLD/dataset/Fred_Fisher/Chicago_(That_Toddling_Town)/Chicago_(That_Toddling_Town).mxl\n",
      "B- major 4/4\n",
      "transposing from key B- major to C major using interval 2\n",
      "\n",
      "OpenEWLD/dataset/George_Gershwin-Ira_Gershwin/I_Was_Doing_All_Right/I_Was_Doing_All_Right.mxl\n",
      "G major 2/2\n",
      "transposing from key G major to C major using interval 5\n",
      "\n",
      "OpenEWLD/dataset/Irving_Caesar-Otto_Harbach-Vincent_Youmans/I_Want_to_Be_Happy/I_Want_to_Be_Happy.mxl\n",
      "C major 4/4\n",
      "transposing from key C major to C major using interval 0\n",
      "\n",
      "OpenEWLD/dataset/George_A._Norton/She_Wore_a_Yellow_Ribbon/She_Wore_a_Yellow_Ribbon.mxl\n",
      "\n",
      "OpenEWLD/dataset/Gus_Kahn-Walter_Donaldson/Makin'_Whoopee!/Makin'_Whoopee!.mxl\n",
      "F major 4/4\n",
      "transposing from key F major to C major using interval -5\n",
      "\n",
      "OpenEWLD/dataset/Dorothy_Parker-Jack_King/How_Am_I_to_Know?/How_Am_I_to_Know?.mxl\n",
      "B- major 2/2\n",
      "transposing from key B- major to C major using interval 2\n",
      "\n",
      "OpenEWLD/dataset/Arthur_A._Penn/Smilin'_Through/Smilin'_Through.mxl\n",
      "\n",
      "OpenEWLD/dataset/Billy_Hill/The_Old_Spinning_Wheel/The_Old_Spinning_Wheel.mxl\n",
      "\n",
      "OpenEWLD/dataset/George_Gershwin-Ira_Gershwin/(I've_Got_a)_Crush_on_You/(I've_Got_a)_Crush_on_You.mxl\n",
      "B- major 4/4\n",
      "transposing from key B- major to C major using interval 2\n",
      "\n",
      "OpenEWLD/dataset/Lorenz_Hart-Richard_Rodgers/Bewitched,_Bothered_and_Bewildered/Bewitched,_Bothered_and_Bewildered.mxl\n",
      "C major 4/4\n",
      "transposing from key C major to C major using interval 0\n",
      "\n",
      "OpenEWLD/dataset/John_Mason_Neale-Thomas_Helmore/Good_King_Wenceslas/Good_King_Wenceslas.mxl\n",
      "C major 4/4\n",
      "transposing from key C major to C major using interval 0\n",
      "\n",
      "OpenEWLD/dataset/Gus_Kahn-Nacio_Herb_Brown/You_Stepped_out_of_a_Dream/You_Stepped_out_of_a_Dream.mxl\n",
      "C major 4/4\n",
      "transposing from key C major to C major using interval 0\n",
      "\n",
      "OpenEWLD/dataset/Irving_Caesar-Vincent_Youmans/Tea_for_Two/Tea_for_Two.mxl\n",
      "C major 4/4\n",
      "transposing from key C major to C major using interval 0\n",
      "\n",
      "OpenEWLD/dataset/George_M._Cohan/Give_My_Regards_to_Broadway/Give_My_Regards_to_Broadway.mxl\n",
      "C major 4/4\n",
      "transposing from key C major to C major using interval 0\n",
      "\n",
      "OpenEWLD/dataset/Billy_Rose-Dana_Suesse-Irving_Kahal/The_Night_Is_Young_and_You're_So_Beautiful/The_Night_Is_Young_and_You're_So_Beautiful.mxl\n",
      "C major 4/4\n",
      "transposing from key C major to C major using interval 0\n",
      "\n",
      "OpenEWLD/dataset/Henry_Creamer-Turner_Layton/After_You've_Gone/After_You've_Gone.mxl\n",
      "B- major 4/4\n",
      "transposing from key B- major to C major using interval 2\n",
      "\n",
      "OpenEWLD/dataset/David_Oppenheim-Ira_Schuster-Jack_Little/Hold_Me/Hold_Me.mxl\n",
      "B- major 2/2\n",
      "transposing from key B- major to C major using interval 2\n",
      "\n",
      "OpenEWLD/dataset/Charles_D._Tillman-M.E._Abbey/Life's_Railway_to_Heaven/Life's_Railway_to_Heaven.mxl\n",
      "\n",
      "OpenEWLD/dataset/Jean_Schwartz-William_Jerome/Chinatown_My_Chinatown/Chinatown_My_Chinatown.mxl\n",
      "C major 4/4\n",
      "transposing from key C major to C major using interval 0\n",
      "\n",
      "OpenEWLD/dataset/Beth_Slater_Whitson-Leo_Friedman/Let_Me_Call_You_Sweetheart/Let_Me_Call_You_Sweetheart.mxl\n",
      "\n",
      "OpenEWLD/dataset/Lorenz_Hart-Richard_Rodgers/My_Romance/My_Romance.mxl\n",
      "C major 2/2\n",
      "transposing from key C major to C major using interval 0\n",
      "\n",
      "OpenEWLD/dataset/George_Gershwin-Ira_Gershwin/That_Certain_Feeling/That_Certain_Feeling.mxl\n",
      "E- major 2/2\n",
      "transposing from key E- major to C major using interval -3\n",
      "\n",
      "OpenEWLD/dataset/Louis_Alter-Sidney_D._Mitchell/You_Turned_the_Tables_on_Me/You_Turned_the_Tables_on_Me.mxl\n",
      "F major 2/2\n",
      "transposing from key F major to C major using interval -5\n",
      "\n",
      "OpenEWLD/dataset/Alan_Rankin_Jones/Easy_Street/Easy_Street.mxl\n",
      "E- major 4/4\n",
      "transposing from key E- major to C major using interval -3\n",
      "\n",
      "OpenEWLD/dataset/Walter_Donaldson/Little_White_Lies/Little_White_Lies.mxl\n",
      "G major 2/2\n",
      "transposing from key G major to C major using interval 5\n",
      "\n",
      "OpenEWLD/dataset/Jerome_Kern-Oscar_Hammerstein_II/The_Song_Is_You/The_Song_Is_You.mxl\n",
      "C major 4/4\n",
      "transposing from key C major to C major using interval 0\n",
      "\n",
      "OpenEWLD/dataset/Al_Dubin-Dave_Franklin/Anniversary_Waltz/Anniversary_Waltz.mxl\n",
      "\n",
      "OpenEWLD/dataset/Lorenz_Hart-Richard_Rodgers/Ten_Cents_a_Dance/Ten_Cents_a_Dance.mxl\n"
     ]
    },
    {
     "name": "stdout",
     "output_type": "stream",
     "text": [
      "E- major 4/4\n",
      "transposing from key E- major to C major using interval -3\n",
      "\n",
      "OpenEWLD/dataset/[Traditional]/The_Prisoner's_Song/The_Prisoner's_Song.mxl\n",
      "D major 4/4\n",
      "transposing from key D major to C major using interval -2\n",
      "\n",
      "OpenEWLD/dataset/Harry_B._Smith/Yours_Is_My_Heart_Alone/Yours_Is_My_Heart_Alone.mxl\n",
      "F major 2/2\n",
      "transposing from key F major to C major using interval -5\n",
      "\n",
      "OpenEWLD/dataset/Egbert_Van_Alstyne-Harry_Williams/In_the_Shade_of_the_Old_Apple_Tree/In_the_Shade_of_the_Old_Apple_Tree.mxl\n",
      "\n",
      "OpenEWLD/dataset/Stephen_Foster/Old_Folks_at_Home/Old_Folks_at_Home.mxl\n",
      "C major 4/4\n",
      "transposing from key C major to C major using interval 0\n",
      "\n",
      "OpenEWLD/dataset/Lorenz_Hart-Richard_Rodgers/This_Funny_World/This_Funny_World.mxl\n",
      "G major 4/4\n",
      "transposing from key G major to C major using interval 5\n",
      "\n",
      "OpenEWLD/dataset/Paul_Dresser/My_Gal_Sal/My_Gal_Sal.mxl\n",
      "\n",
      "OpenEWLD/dataset/Jerome_Kern-Oscar_Hammerstein_II/All_the_Things_You_Are/All_the_Things_You_Are.mxl\n",
      "A- major 4/4\n",
      "transposing from key A- major to C major using interval 4\n",
      "\n",
      "OpenEWLD/dataset/Frederic_Weatherly-Michael_Maybrick/The_Holy_City/The_Holy_City.mxl\n",
      "G major 4/4\n",
      "transposing from key G major to C major using interval 5\n",
      "\n",
      "OpenEWLD/dataset/[Traditional]/À_la_claire_fontaine/À_la_claire_fontaine.mxl\n",
      "F major 4/4\n",
      "transposing from key F major to C major using interval -5\n",
      "\n",
      "OpenEWLD/dataset/Alicia_Scott/Annie_Laurie/Annie_Laurie.mxl\n",
      "A major 4/4\n",
      "transposing from key A major to C major using interval 3\n",
      "\n",
      "OpenEWLD/dataset/Harry_Carroll-Joseph_McCarthy/I'm_Always_Chasing_Rainbows/I'm_Always_Chasing_Rainbows.mxl\n",
      "G major 4/4\n",
      "transposing from key G major to C major using interval 5\n",
      "\n",
      "OpenEWLD/dataset/Arthur_Lamb-Harry_Von_Tilzer/A_Bird_in_a_Gilded_Cage/A_Bird_in_a_Gilded_Cage.mxl\n",
      "\n",
      "OpenEWLD/dataset/Andrew_Lloyd_Webber-[Traditional]/Pie_Jesu/Pie_Jesu.mxl\n",
      "A- major 4/4\n",
      "transposing from key A- major to C major using interval 4\n",
      "\n",
      "OpenEWLD/dataset/Johann_Strauss_(Vater)/Radetzky-Marsch/Radetzky-Marsch.mxl\n",
      "D major 2/2\n",
      "transposing from key D major to C major using interval -2\n",
      "\n",
      "OpenEWLD/dataset/Clifford_Harris-James_W._Tate/A_Broken_Doll/A_Broken_Doll.mxl\n",
      "F major 4/4\n",
      "transposing from key F major to C major using interval -5\n",
      "\n",
      "OpenEWLD/dataset/Irving_Kahal-Sammy_Fain/I'll_Be_Seeing_You/I'll_Be_Seeing_You.mxl\n",
      "E- major 4/4\n",
      "transposing from key E- major to C major using interval -3\n",
      "\n",
      "OpenEWLD/dataset/Stephen_Foster/Oh!_Susanna/Oh!_Susanna.mxl\n",
      "G major 2/2\n",
      "transposing from key G major to C major using interval 5\n",
      "\n",
      "OpenEWLD/dataset/Edward_Teschemacher-Herman_Darewski/The_Army,_the_Navy_and_the_Air_Force/The_Army,_the_Navy_and_the_Air_Force.mxl\n",
      "F major 4/4\n",
      "transposing from key F major to C major using interval -5\n",
      "\n",
      "OpenEWLD/dataset/Abe_Olman-Ed_Rose/Oh_Johnny,_oh_Johnny,_Oh!/Oh_Johnny,_oh_Johnny,_Oh!.mxl\n",
      "C major 4/4\n",
      "transposing from key C major to C major using interval 0\n",
      "\n",
      "OpenEWLD/dataset/Alfred_Bryan-Fred_Fisher/Come_Josephine_in_My_Flying_Machine_(Up_She_Goes!)/Come_Josephine_in_My_Flying_Machine_(Up_She_Goes!).mxl\n",
      "\n",
      "OpenEWLD/dataset/Ernie_Burnett-George_A._Norton/My_Melancholy_Baby/My_Melancholy_Baby.mxl\n",
      "E- major 4/4\n",
      "transposing from key E- major to C major using interval -3\n",
      "\n",
      "OpenEWLD/dataset/George_Washington_Johnson_[1]-James_Austin_Butterfield/When_You_and_I_Were_Young,_Maggie/When_You_and_I_Were_Young,_Maggie.mxl\n",
      "F major 4/4\n",
      "transposing from key F major to C major using interval -5\n",
      "\n",
      "OpenEWLD/dataset/James_I._Russell/Where_the_River_Shannon_Flows/Where_the_River_Shannon_Flows.mxl\n",
      "E- major 4/4\n",
      "transposing from key E- major to C major using interval -3\n",
      "\n",
      "OpenEWLD/dataset/Alberto_Pestalozza-Carlo_Tiochet/Ciribiribin/Ciribiribin.mxl\n",
      "F major 4/4\n",
      "transposing from key F major to C major using interval -5\n",
      "\n",
      "OpenEWLD/dataset/Billy_Hill-Peter_De_Rose/On_a_Little_Street_in_Singapore/On_a_Little_Street_in_Singapore.mxl\n",
      "C major 2/2\n",
      "transposing from key C major to C major using interval 0\n",
      "\n",
      "OpenEWLD/dataset/Albert_Fitz-William_Penn/The_Honeysuckle_and_the_Bee/The_Honeysuckle_and_the_Bee.mxl\n",
      "F major 4/4\n",
      "transposing from key F major to C major using interval -5\n",
      "\n",
      "OpenEWLD/dataset/Lorenz_Hart-Richard_Rodgers/Dancing_on_the_Ceiling/Dancing_on_the_Ceiling.mxl\n",
      "F major 4/4\n",
      "transposing from key F major to C major using interval -5\n",
      "\n",
      "OpenEWLD/dataset/Clifford_Grey-Nat_Ayer/If_You_Were_the_Only_Girl_(In_the_World)/If_You_Were_the_Only_Girl_(In_the_World).mxl\n",
      "\n",
      "OpenEWLD/dataset/Francis_Wheeler-Irving_Kahal-Sammy_Fain/Let_a_Smile_Be_Your_Umbrella/Let_a_Smile_Be_Your_Umbrella.mxl\n",
      "C major 4/4\n",
      "transposing from key C major to C major using interval 0\n",
      "\n",
      "OpenEWLD/dataset/Al_Dubin-Harry_Warren/The_Boulevard_of_Broken_Dreams/The_Boulevard_of_Broken_Dreams.mxl\n",
      "F major 2/2\n",
      "transposing from key F major to C major using interval -5\n",
      "\n",
      "OpenEWLD/dataset/Gus_Edwards-Vincent_Bryan/In_My_Merry_Oldsmobile/In_My_Merry_Oldsmobile.mxl\n",
      "\n",
      "OpenEWLD/dataset/Bert_Kalmar-Harry_Ruby/All_Alone_Monday/All_Alone_Monday.mxl\n",
      "E- major 4/4\n",
      "transposing from key E- major to C major using interval -3\n",
      "\n",
      "OpenEWLD/dataset/Eddie_Edwards-Henry_Ragas-Larry_Shields-Nick_LaRocca-Tony_Sbarbaro/Tiger_Rag/Tiger_Rag.mxl\n",
      "G major 2/2\n",
      "transposing from key G major to C major using interval 5\n",
      "\n",
      "OpenEWLD/dataset/[Traditional]/The_Black_Velvet_Band/The_Black_Velvet_Band.mxl\n",
      "\n",
      "OpenEWLD/dataset/Raymond_B._Egan-Richard_A._Whiting/They_Made_It_Twice_as_Nice_as_Paradise_and_They_Called_It_Dixieland/They_Made_It_Twice_as_Nice_as_Paradise_and_They_Called_It_Dixieland.mxl\n",
      "C major 4/4\n",
      "transposing from key C major to C major using interval 0\n",
      "\n",
      "OpenEWLD/dataset/Glen_MacDonough-Victor_Herbert/Toyland/Toyland.mxl\n",
      "\n",
      "OpenEWLD/dataset/Lorenz_Hart-Richard_Rodgers/Mimi/Mimi.mxl\n",
      "\n",
      "OpenEWLD/dataset/Dorothy_Fields-Jerome_Kern/Remind_Me/Remind_Me.mxl\n",
      "E- major 2/2\n",
      "transposing from key E- major to C major using interval -3\n",
      "\n",
      "OpenEWLD/dataset/Lorenz_Hart-Richard_Rodgers/You_Took_Advantage_of_Me/You_Took_Advantage_of_Me.mxl\n",
      "E- major 4/4\n",
      "transposing from key E- major to C major using interval -3\n",
      "\n",
      "OpenEWLD/dataset/Al_Dubin-Jimmy_McHugh/South_American_Way/South_American_Way.mxl\n",
      "C major 4/4\n",
      "transposing from key C major to C major using interval 0\n",
      "\n",
      "OpenEWLD/dataset/Will_Fyffe/I_Belong_to_Glasgow/I_Belong_to_Glasgow.mxl\n",
      "\n",
      "OpenEWLD/dataset/Bert_Kalmar-Harry_Ruby-Herbert_Stothart/I_Wanna_Be_Loved_by_You/I_Wanna_Be_Loved_by_You.mxl\n",
      "C major 2/2\n",
      "transposing from key C major to C major using interval 0\n",
      "\n",
      "OpenEWLD/dataset/Ben_Pollack-George_Brunies-Leon_Roppolo-Mel_Stitzel-Paul_Mares-Walter_Melrose/Tin_Roof_Blues/Tin_Roof_Blues.mxl\n",
      "E- major 4/4\n",
      "transposing from key E- major to C major using interval -3\n",
      "\n",
      "OpenEWLD/dataset/Andrew_B._Sterling-Harry_Von_Tilzer/Wait_Till_the_Sun_Shines_Nellie/Wait_Till_the_Sun_Shines_Nellie.mxl\n",
      "C major 4/4\n",
      "transposing from key C major to C major using interval 0\n",
      "\n",
      "OpenEWLD/dataset/Lorenz_Hart-Richard_Rodgers/Here_in_My_Arms/Here_in_My_Arms.mxl\n",
      "F major 4/4\n",
      "transposing from key F major to C major using interval -5\n",
      "\n",
      "OpenEWLD/dataset/Bert_Kalmar-Harry_Ruby-Ted_Snyder/Who's_Sorry_Now?/Who's_Sorry_Now?.mxl\n",
      "B- major 2/2\n",
      "transposing from key B- major to C major using interval 2\n",
      "{'4/4': 287, '2/2': 94, '3/4': 80, '2/4': 17, None: 8, '6/4': 1, '6/8': 13, '3/2': 1, '12/8': 1}\n",
      "{'E- major': 131, 'C major': 303, 'F major': 180, 'G major': 143, 'B- major': 67, None: 9, 'D major': 27, 'A- major': 13, 'A minor': 1, 'D- major': 2, 'A major': 3, 'E major': 1, 'C minor': 1}\n"
     ]
    }
   ],
   "source": [
    "keys = {}\n",
    "metres = {}\n",
    "\n",
    "cmm_arr = np.empty((0), np.float32)\n",
    "lm_arr = np.empty((0), np.float32)\n",
    "cent_arr = np.empty((0), np.float32)\n",
    "\n",
    "for s in song_files:\n",
    "  print(\"\\n\" + s)\n",
    "  score = music21.converter.parse(s)\n",
    "\n",
    "  key = None\n",
    "  metre = None\n",
    "  part = score.parts[0]\n",
    "  for p in part:\n",
    "    if isinstance(p, Iterable):\n",
    "      for n in p:\n",
    "        if type(n) == music21.key.Key:\n",
    "          key = n.name\n",
    "        if type(n) == music21.meter.TimeSignature:\n",
    "          metre = n.ratioString\n",
    "\n",
    "  if metre in metres.keys():\n",
    "    metres[metre] += 1\n",
    "  else:\n",
    "    metres[metre] = 1\n",
    "\n",
    "  if key in keys.keys():\n",
    "    keys[key] += 1\n",
    "  else:\n",
    "    keys[key] = 1\n",
    "\n",
    "  if not (metre == \"4/4\" or metre == \"2/2\"):\n",
    "    continue\n",
    "\n",
    "  if not \"major\" in key:\n",
    "    continue\n",
    "\n",
    "  print(key, metre)\n",
    "\n",
    "  if key in keys.keys():\n",
    "    keys[key] += 1\n",
    "  else:\n",
    "    keys[key] = 1\n",
    "\n",
    "  if key in transpose_dict.keys():\n",
    "    interval = transpose_dict[key]\n",
    "    print(\"transposing from key\", key, \"to C major using interval\", interval)\n",
    "    score = score.transpose(interval)\n",
    "\n",
    "  note_array = []\n",
    "\n",
    "  for p in part:\n",
    "    if isinstance(p, Iterable):\n",
    "      for n in p:\n",
    "        if type(n) == music21.note.Note:\n",
    "          note_array.append([int(n.pitch.ps), int(n.quarterLength*4+0.5)])\n",
    "\n",
    "  # print(note_array)\n",
    "\n",
    "print(metres)\n",
    "print(keys)"
   ]
  },
  {
   "cell_type": "markdown",
   "metadata": {
    "id": "HXx2UXq7iXyN"
   },
   "source": [
    "## **Prepare the Training Data**"
   ]
  },
  {
   "cell_type": "code",
   "execution_count": 6,
   "metadata": {
    "id": "bR5eeHio92KI"
   },
   "outputs": [
    {
     "name": "stdout",
     "output_type": "stream",
     "text": [
      "OpenEWLD/dataset/Lorenz_Hart-Richard_Rodgers/A_Ship_Without_a_Sail/A_Ship_Without_a_Sail.mxl\n",
      "E- major 4/4\n",
      "transposing from key E- major to C major using interval -3\n"
     ]
    },
    {
     "name": "stderr",
     "output_type": "stream",
     "text": [
      "python: can't open file '/content/xml2abc_143/xml2abc.py': [Errno 2] No such file or directory\n",
      "python: can't open file '/content/xml2abc_143/xml2abc.py': [Errno 2] No such file or directory\n"
     ]
    },
    {
     "name": "stdout",
     "output_type": "stream",
     "text": [
      "Unexpected error: <class 'subprocess.CalledProcessError'>\n",
      "OpenEWLD/dataset/Johnny_Mercer-Victor_Schertzinger/Tangerine/Tangerine.mxl\n",
      "C major 4/4\n",
      "transposing from key C major to C major using interval 0\n",
      "Unexpected error: <class 'subprocess.CalledProcessError'>\n",
      "OpenEWLD/dataset/Billy_Rose-Edward_Eliscu-Vincent_Youmans/Without_a_Song/Without_a_Song.mxl\n",
      "E- major 4/4\n",
      "transposing from key E- major to C major using interval -3\n"
     ]
    },
    {
     "name": "stderr",
     "output_type": "stream",
     "text": [
      "python: can't open file '/content/xml2abc_143/xml2abc.py': [Errno 2] No such file or directory\n",
      "python: can't open file '/content/xml2abc_143/xml2abc.py': [Errno 2] No such file or directory\n"
     ]
    },
    {
     "name": "stdout",
     "output_type": "stream",
     "text": [
      "Unexpected error: <class 'subprocess.CalledProcessError'>\n",
      "OpenEWLD/dataset/Howard_Johnson-Theodore_Morse/M-O-T-H-E-R_(A_Word_That_Means_the_World_to_Me)/M-O-T-H-E-R_(A_Word_That_Means_the_World_to_Me).mxl\n",
      "E- major 2/2\n",
      "transposing from key E- major to C major using interval -3\n",
      "Unexpected error: <class 'subprocess.CalledProcessError'>\n",
      "OpenEWLD/dataset/Al_Dubin-Harry_Warren/September_in_the_Rain/September_in_the_Rain.mxl\n",
      "C major 4/4\n",
      "transposing from key C major to C major using interval 0\n"
     ]
    },
    {
     "name": "stderr",
     "output_type": "stream",
     "text": [
      "python: can't open file '/content/xml2abc_143/xml2abc.py': [Errno 2] No such file or directory\n"
     ]
    },
    {
     "name": "stdout",
     "output_type": "stream",
     "text": [
      "Unexpected error: <class 'subprocess.CalledProcessError'>\n",
      "OpenEWLD/dataset/Jerome_Kern-Johnny_Mercer/I'm_Old_Fashioned/I'm_Old_Fashioned.mxl\n",
      "F major 4/4\n",
      "transposing from key F major to C major using interval -5\n"
     ]
    },
    {
     "name": "stderr",
     "output_type": "stream",
     "text": [
      "python: can't open file '/content/xml2abc_143/xml2abc.py': [Errno 2] No such file or directory\n",
      "python: can't open file '/content/xml2abc_143/xml2abc.py': [Errno 2] No such file or directory\n"
     ]
    },
    {
     "name": "stdout",
     "output_type": "stream",
     "text": [
      "Unexpected error: <class 'subprocess.CalledProcessError'>\n",
      "OpenEWLD/dataset/Anne_Caldwell-Vincent_Youmans/I_Know_That_You_Know/I_Know_That_You_Know.mxl\n",
      "C major 2/2\n",
      "transposing from key C major to C major using interval 0\n",
      "Unexpected error: <class 'subprocess.CalledProcessError'>\n",
      "OpenEWLD/dataset/Gus_Kahn-Walter_Donaldson/I_Wonder_Where_My_Baby_Is_Tonight/I_Wonder_Where_My_Baby_Is_Tonight.mxl\n",
      "F major 2/2\n",
      "transposing from key F major to C major using interval -5\n"
     ]
    },
    {
     "name": "stderr",
     "output_type": "stream",
     "text": [
      "python: can't open file '/content/xml2abc_143/xml2abc.py': [Errno 2] No such file or directory\n",
      "python: can't open file '/content/xml2abc_143/xml2abc.py': [Errno 2] No such file or directory\n"
     ]
    },
    {
     "name": "stdout",
     "output_type": "stream",
     "text": [
      "Unexpected error: <class 'subprocess.CalledProcessError'>\n",
      "OpenEWLD/dataset/Lorenz_Hart-Richard_Rodgers/Mountain_Greenery/Mountain_Greenery.mxl\n",
      "C major 4/4\n",
      "transposing from key C major to C major using interval 0\n",
      "Unexpected error: <class 'subprocess.CalledProcessError'>\n",
      "OpenEWLD/dataset/Joseph_LaCalle/Amapola/Amapola.mxl\n",
      "C major 4/4\n",
      "transposing from key C major to C major using interval 0\n"
     ]
    },
    {
     "name": "stderr",
     "output_type": "stream",
     "text": [
      "python: can't open file '/content/xml2abc_143/xml2abc.py': [Errno 2] No such file or directory\n"
     ]
    },
    {
     "name": "stdout",
     "output_type": "stream",
     "text": [
      "Unexpected error: <class 'subprocess.CalledProcessError'>\n",
      "OpenEWLD/dataset/Walter_Donaldson/You're_Driving_Me_Crazy_(What_Did_I_Do?)/You're_Driving_Me_Crazy_(What_Did_I_Do?).mxl\n",
      "C major 2/2\n",
      "transposing from key C major to C major using interval 0\n"
     ]
    },
    {
     "name": "stderr",
     "output_type": "stream",
     "text": [
      "python: can't open file '/content/xml2abc_143/xml2abc.py': [Errno 2] No such file or directory\n",
      "python: can't open file '/content/xml2abc_143/xml2abc.py': [Errno 2] No such file or directory\n"
     ]
    },
    {
     "name": "stdout",
     "output_type": "stream",
     "text": [
      "Unexpected error: <class 'subprocess.CalledProcessError'>\n",
      "OpenEWLD/dataset/Jack_Norworth-Nora_Bayes/Shine_On,_Harvest_Moon/Shine_On,_Harvest_Moon.mxl\n",
      "G major 2/2\n",
      "transposing from key G major to C major using interval 5\n",
      "Unexpected error: <class 'subprocess.CalledProcessError'>\n",
      "OpenEWLD/dataset/Jerome_Kern-Oscar_Hammerstein_II/I've_Told_Ev'ry_Little_Star/I've_Told_Ev'ry_Little_Star.mxl\n",
      "F major 4/4\n",
      "transposing from key F major to C major using interval -5\n"
     ]
    },
    {
     "name": "stderr",
     "output_type": "stream",
     "text": [
      "python: can't open file '/content/xml2abc_143/xml2abc.py': [Errno 2] No such file or directory\n"
     ]
    },
    {
     "name": "stdout",
     "output_type": "stream",
     "text": [
      "Unexpected error: <class 'subprocess.CalledProcessError'>\n",
      "OpenEWLD/dataset/Edward_Cuthbert_Nunn/Bring_a_Torch,_Jeanette,_Isabella/Bring_a_Torch,_Jeanette,_Isabella.mxl\n",
      "F major 3/4\n",
      "OpenEWLD/dataset/DuBose_Heyward-George_Gershwin-Ira_Gershwin/A_Woman_Is_a_Sometime_Thing/A_Woman_Is_a_Sometime_Thing.mxl\n",
      "B- major 2/2\n",
      "transposing from key B- major to C major using interval 2\n"
     ]
    },
    {
     "name": "stderr",
     "output_type": "stream",
     "text": [
      "python: can't open file '/content/xml2abc_143/xml2abc.py': [Errno 2] No such file or directory\n",
      "python: can't open file '/content/xml2abc_143/xml2abc.py': [Errno 2] No such file or directory\n"
     ]
    },
    {
     "name": "stdout",
     "output_type": "stream",
     "text": [
      "Unexpected error: <class 'subprocess.CalledProcessError'>\n",
      "OpenEWLD/dataset/James_Hanley/Zing!_Went_the_Strings_of_My_Heart/Zing!_Went_the_Strings_of_My_Heart.mxl\n",
      "E- major 2/2\n",
      "transposing from key E- major to C major using interval -3\n",
      "Unexpected error: <class 'subprocess.CalledProcessError'>\n",
      "OpenEWLD/dataset/Fred_E._Ahlert-Roy_Turk/I_Don't_Know_Why_(I_Just_Do)/I_Don't_Know_Why_(I_Just_Do).mxl\n",
      "B- major 4/4\n",
      "transposing from key B- major to C major using interval 2\n"
     ]
    },
    {
     "name": "stderr",
     "output_type": "stream",
     "text": [
      "python: can't open file '/content/xml2abc_143/xml2abc.py': [Errno 2] No such file or directory\n",
      "python: can't open file '/content/xml2abc_143/xml2abc.py': [Errno 2] No such file or directory\n"
     ]
    },
    {
     "name": "stdout",
     "output_type": "stream",
     "text": [
      "Unexpected error: <class 'subprocess.CalledProcessError'>\n",
      "OpenEWLD/dataset/Ben_Black-Charles_N._Daniels/Moonlight_and_Roses/Moonlight_and_Roses.mxl\n",
      "C major 4/4\n",
      "transposing from key C major to C major using interval 0\n",
      "Unexpected error: <class 'subprocess.CalledProcessError'>\n",
      "OpenEWLD/dataset/Jerome_Kern-Johnny_Mercer/Dearly_Beloved/Dearly_Beloved.mxl\n",
      "C major 4/4\n",
      "transposing from key C major to C major using interval 0\n"
     ]
    },
    {
     "name": "stderr",
     "output_type": "stream",
     "text": [
      "python: can't open file '/content/xml2abc_143/xml2abc.py': [Errno 2] No such file or directory\n"
     ]
    },
    {
     "name": "stdout",
     "output_type": "stream",
     "text": [
      "Unexpected error: <class 'subprocess.CalledProcessError'>\n",
      "OpenEWLD/dataset/George_Gershwin-Ira_Gershwin/Fascinating_Rhythm/Fascinating_Rhythm.mxl\n",
      "F major 4/4\n",
      "transposing from key F major to C major using interval -5\n"
     ]
    },
    {
     "name": "stderr",
     "output_type": "stream",
     "text": [
      "python: can't open file '/content/xml2abc_143/xml2abc.py': [Errno 2] No such file or directory\n",
      "python: can't open file '/content/xml2abc_143/xml2abc.py': [Errno 2] No such file or directory\n"
     ]
    },
    {
     "name": "stdout",
     "output_type": "stream",
     "text": [
      "Unexpected error: <class 'subprocess.CalledProcessError'>\n",
      "OpenEWLD/dataset/Harry_Owens-Vincent_Rose/Linger_Awhile/Linger_Awhile.mxl\n",
      "F major 2/2\n",
      "transposing from key F major to C major using interval -5\n",
      "Unexpected error: <class 'subprocess.CalledProcessError'>\n",
      "OpenEWLD/dataset/Charles_Collins-Dick_Manning-Fred_Leigh/Don't_Dilly_Dally_on_the_Way/Don't_Dilly_Dally_on_the_Way.mxl\n",
      "F major 2/4\n",
      "OpenEWLD/dataset/Gus_Kahn-Harry_Akst-Richard_A._Whiting/Guilty/Guilty.mxl\n",
      "C major 4/4\n",
      "transposing from key C major to C major using interval 0\n"
     ]
    },
    {
     "name": "stderr",
     "output_type": "stream",
     "text": [
      "python: can't open file '/content/xml2abc_143/xml2abc.py': [Errno 2] No such file or directory\n",
      "python: can't open file '/content/xml2abc_143/xml2abc.py': [Errno 2] No such file or directory\n"
     ]
    },
    {
     "name": "stdout",
     "output_type": "stream",
     "text": [
      "Unexpected error: <class 'subprocess.CalledProcessError'>\n",
      "OpenEWLD/dataset/Lorenz_Hart-Richard_Rodgers/There's_a_Small_Hotel/There's_a_Small_Hotel.mxl\n",
      "G major 2/2\n",
      "transposing from key G major to C major using interval 5\n",
      "Unexpected error: <class 'subprocess.CalledProcessError'>\n",
      "OpenEWLD/dataset/Aubrey_Hopwood-Lionel_Monckton/Soldiers_in_the_Park/Soldiers_in_the_Park.mxl\n",
      "B- major 4/4\n",
      "transposing from key B- major to C major using interval 2\n"
     ]
    },
    {
     "name": "stderr",
     "output_type": "stream",
     "text": [
      "python: can't open file '/content/xml2abc_143/xml2abc.py': [Errno 2] No such file or directory\n"
     ]
    },
    {
     "name": "stdout",
     "output_type": "stream",
     "text": [
      "Unexpected error: <class 'subprocess.CalledProcessError'>\n",
      "OpenEWLD/dataset/William_W._Walford/Sweet_Hour_of_Prayer/Sweet_Hour_of_Prayer.mxl\n",
      "None None\n",
      "OpenEWLD/dataset/Jimmie_Cox/Nobody_Knows_You_When_You're_down_and_Out/Nobody_Knows_You_When_You're_down_and_Out.mxl\n",
      "F major 4/4\n",
      "transposing from key F major to C major using interval -5\n"
     ]
    },
    {
     "name": "stderr",
     "output_type": "stream",
     "text": [
      "python: can't open file '/content/xml2abc_143/xml2abc.py': [Errno 2] No such file or directory\n",
      "python: can't open file '/content/xml2abc_143/xml2abc.py': [Errno 2] No such file or directory\n"
     ]
    },
    {
     "name": "stdout",
     "output_type": "stream",
     "text": [
      "Unexpected error: <class 'subprocess.CalledProcessError'>\n",
      "OpenEWLD/dataset/[Traditional]/Joshua_Fit_the_Battle_of_Jericho/Joshua_Fit_the_Battle_of_Jericho.mxl\n",
      "F major 4/4\n",
      "transposing from key F major to C major using interval -5\n",
      "Unexpected error: <class 'subprocess.CalledProcessError'>\n",
      "OpenEWLD/dataset/Johnny_Black_[1]/Paper_Doll/Paper_Doll.mxl\n",
      "F major 4/4\n",
      "transposing from key F major to C major using interval -5\n"
     ]
    },
    {
     "name": "stderr",
     "output_type": "stream",
     "text": [
      "python: can't open file '/content/xml2abc_143/xml2abc.py': [Errno 2] No such file or directory\n"
     ]
    },
    {
     "name": "stdout",
     "output_type": "stream",
     "text": [
      "Unexpected error: <class 'subprocess.CalledProcessError'>\n",
      "OpenEWLD/dataset/Charles_N._Daniels-Gus_Kahn/Chloe/Chloe.mxl\n",
      "C major 2/2\n",
      "transposing from key C major to C major using interval 0\n"
     ]
    },
    {
     "name": "stderr",
     "output_type": "stream",
     "text": [
      "python: can't open file '/content/xml2abc_143/xml2abc.py': [Errno 2] No such file or directory\n"
     ]
    },
    {
     "name": "stdout",
     "output_type": "stream",
     "text": [
      "Unexpected error: <class 'subprocess.CalledProcessError'>\n",
      "OpenEWLD/dataset/Brewster_M._Higley-Daniel_E._Kelley/Home_on_the_Range/Home_on_the_Range.mxl\n",
      "G major 3/4\n",
      "OpenEWLD/dataset/Felix_Bernard-Fred_Fisher-Johnny_Black_[1]/Dardanella/Dardanella.mxl\n",
      "C major 2/2\n",
      "transposing from key C major to C major using interval 0\n"
     ]
    },
    {
     "name": "stderr",
     "output_type": "stream",
     "text": [
      "python: can't open file '/content/xml2abc_143/xml2abc.py': [Errno 2] No such file or directory\n"
     ]
    },
    {
     "name": "stdout",
     "output_type": "stream",
     "text": [
      "Unexpected error: <class 'subprocess.CalledProcessError'>\n",
      "OpenEWLD/dataset/Billy_Hill/The_Glory_of_Love/The_Glory_of_Love.mxl\n",
      "G major 4/4\n",
      "transposing from key G major to C major using interval 5\n"
     ]
    },
    {
     "name": "stderr",
     "output_type": "stream",
     "text": [
      "python: can't open file '/content/xml2abc_143/xml2abc.py': [Errno 2] No such file or directory\n",
      "python: can't open file '/content/xml2abc_143/xml2abc.py': [Errno 2] No such file or directory\n"
     ]
    },
    {
     "name": "stdout",
     "output_type": "stream",
     "text": [
      "Unexpected error: <class 'subprocess.CalledProcessError'>\n",
      "OpenEWLD/dataset/Liliuokalani/Aloha_Oe/Aloha_Oe.mxl\n",
      "C major 4/4\n",
      "transposing from key C major to C major using interval 0\n",
      "Unexpected error: <class 'subprocess.CalledProcessError'>\n",
      "OpenEWLD/dataset/Glenn_Miller/Moonlight_Serenade/Moonlight_Serenade.mxl\n",
      "F major 4/4\n",
      "transposing from key F major to C major using interval -5\n"
     ]
    },
    {
     "name": "stderr",
     "output_type": "stream",
     "text": [
      "python: can't open file '/content/xml2abc_143/xml2abc.py': [Errno 2] No such file or directory\n",
      "python: can't open file '/content/xml2abc_143/xml2abc.py': [Errno 2] No such file or directory\n"
     ]
    },
    {
     "name": "stdout",
     "output_type": "stream",
     "text": [
      "Unexpected error: <class 'subprocess.CalledProcessError'>\n",
      "OpenEWLD/dataset/Edward_Eliscu-Gus_Kahn-Vincent_Youmans/Carioca/Carioca.mxl\n",
      "E- major 2/2\n",
      "transposing from key E- major to C major using interval -3\n",
      "Unexpected error: <class 'subprocess.CalledProcessError'>\n",
      "OpenEWLD/dataset/George_M._Cohan/Yankee_Doodle_Boy/Yankee_Doodle_Boy.mxl\n",
      "G major 2/4\n",
      "OpenEWLD/dataset/F._W._Meacham/American_Patrol/American_Patrol.mxl\n",
      "C major 4/4\n",
      "transposing from key C major to C major using interval 0\n"
     ]
    },
    {
     "name": "stderr",
     "output_type": "stream",
     "text": [
      "python: can't open file '/content/xml2abc_143/xml2abc.py': [Errno 2] No such file or directory\n",
      "python: can't open file '/content/xml2abc_143/xml2abc.py': [Errno 2] No such file or directory\n"
     ]
    },
    {
     "name": "stdout",
     "output_type": "stream",
     "text": [
      "Unexpected error: <class 'subprocess.CalledProcessError'>\n",
      "OpenEWLD/dataset/Chauncey_Olcott/My_Wild_Irish_Rose/My_Wild_Irish_Rose.mxl\n",
      "C major 3/4\n",
      "OpenEWLD/dataset/Bert_Kalmar-Harry_Ruby/Three_Little_Words/Three_Little_Words.mxl\n",
      "C major 4/4\n",
      "transposing from key C major to C major using interval 0\n",
      "Unexpected error: <class 'subprocess.CalledProcessError'>\n",
      "OpenEWLD/dataset/Hans_Engelmann/Melody_of_Love/Melody_of_Love.mxl\n",
      "F major 3/4\n",
      "OpenEWLD/dataset/Haven_Gillespie-Richard_A._Whiting-Seymour_Simons/Honey/Honey.mxl\n",
      "F major 2/2\n",
      "transposing from key F major to C major using interval -5\n"
     ]
    },
    {
     "name": "stderr",
     "output_type": "stream",
     "text": [
      "python: can't open file '/content/xml2abc_143/xml2abc.py': [Errno 2] No such file or directory\n",
      "python: can't open file '/content/xml2abc_143/xml2abc.py': [Errno 2] No such file or directory\n"
     ]
    },
    {
     "name": "stdout",
     "output_type": "stream",
     "text": [
      "Unexpected error: <class 'subprocess.CalledProcessError'>\n",
      "OpenEWLD/dataset/Lorenz_Hart-Richard_Rodgers/Blue_Room/Blue_Room.mxl\n",
      "F major 4/4\n",
      "transposing from key F major to C major using interval -5\n",
      "Unexpected error: <class 'subprocess.CalledProcessError'>\n",
      "OpenEWLD/dataset/Con_Conrad-Gladys_du_Bois-Paul_Gregory-Russ_Columbo/You_Call_It_Madness_(But_I_Call_It_Love)/You_Call_It_Madness_(But_I_Call_It_Love).mxl\n",
      "G major 2/2\n",
      "transposing from key G major to C major using interval 5\n"
     ]
    },
    {
     "name": "stderr",
     "output_type": "stream",
     "text": [
      "python: can't open file '/content/xml2abc_143/xml2abc.py': [Errno 2] No such file or directory\n",
      "python: can't open file '/content/xml2abc_143/xml2abc.py': [Errno 2] No such file or directory\n"
     ]
    },
    {
     "name": "stdout",
     "output_type": "stream",
     "text": [
      "Unexpected error: <class 'subprocess.CalledProcessError'>\n",
      "OpenEWLD/dataset/Dan_Emmett/I_Wish_I_Was_in_Dixie's_Land/I_Wish_I_Was_in_Dixie's_Land.mxl\n",
      "C major 4/4\n",
      "transposing from key C major to C major using interval 0\n",
      "Unexpected error: <class 'subprocess.CalledProcessError'>\n",
      "OpenEWLD/dataset/Claude_Joseph_Rouget_de_Lisle/La_Marseillaise/La_Marseillaise.mxl\n",
      "G major 4/4\n",
      "transposing from key G major to C major using interval 5\n"
     ]
    },
    {
     "name": "stderr",
     "output_type": "stream",
     "text": [
      "python: can't open file '/content/xml2abc_143/xml2abc.py': [Errno 2] No such file or directory\n",
      "python: can't open file '/content/xml2abc_143/xml2abc.py': [Errno 2] No such file or directory\n"
     ]
    },
    {
     "name": "stdout",
     "output_type": "stream",
     "text": [
      "Unexpected error: <class 'subprocess.CalledProcessError'>\n",
      "OpenEWLD/dataset/[Traditional]/Careless_Love/Careless_Love.mxl\n",
      "F major 4/4\n",
      "transposing from key F major to C major using interval -5\n",
      "Unexpected error: <class 'subprocess.CalledProcessError'>\n",
      "OpenEWLD/dataset/Lorenz_Hart-Richard_Rodgers/Glad_to_Be_Unhappy/Glad_to_Be_Unhappy.mxl\n",
      "F major 4/4\n",
      "transposing from key F major to C major using interval -5\n"
     ]
    },
    {
     "name": "stderr",
     "output_type": "stream",
     "text": [
      "python: can't open file '/content/xml2abc_143/xml2abc.py': [Errno 2] No such file or directory\n",
      "python: can't open file '/content/xml2abc_143/xml2abc.py': [Errno 2] No such file or directory\n"
     ]
    },
    {
     "name": "stdout",
     "output_type": "stream",
     "text": [
      "Unexpected error: <class 'subprocess.CalledProcessError'>\n",
      "OpenEWLD/dataset/Alfredo_Mazzucchi-Eduardo_Di_Capua-Giovanni_Capurro/'O_sole_mio/'O_sole_mio.mxl\n",
      "C major 4/4\n",
      "transposing from key C major to C major using interval 0\n",
      "Unexpected error: <class 'subprocess.CalledProcessError'>\n",
      "OpenEWLD/dataset/[Traditional]/Just_a_Closer_Walk_with_Thee/Just_a_Closer_Walk_with_Thee.mxl\n",
      "None None\n",
      "OpenEWLD/dataset/Edward_Teschemacher-Guy_d'Hardelot/Because/Because.mxl\n",
      "C major 4/4\n",
      "transposing from key C major to C major using interval 0\n"
     ]
    },
    {
     "name": "stderr",
     "output_type": "stream",
     "text": [
      "python: can't open file '/content/xml2abc_143/xml2abc.py': [Errno 2] No such file or directory\n",
      "python: can't open file '/content/xml2abc_143/xml2abc.py': [Errno 2] No such file or directory\n"
     ]
    },
    {
     "name": "stdout",
     "output_type": "stream",
     "text": [
      "Unexpected error: <class 'subprocess.CalledProcessError'>\n",
      "OpenEWLD/dataset/[Traditional]/On_Top_of_Old_Smoky/On_Top_of_Old_Smoky.mxl\n",
      "C major 3/4\n",
      "OpenEWLD/dataset/John_Philip_Sousa/The_Stars_and_Stripes_Forever/The_Stars_and_Stripes_Forever.mxl\n",
      "C major 4/4\n",
      "transposing from key C major to C major using interval 0\n",
      "Unexpected error: <class 'subprocess.CalledProcessError'>\n",
      "OpenEWLD/dataset/[Traditional]/We_Wish_You_a_Merry_Christmas/We_Wish_You_a_Merry_Christmas.mxl\n",
      "C major 3/4\n",
      "OpenEWLD/dataset/Joe_Young-Mabel_Wayne-Sam_Lewis/In_a_Little_Spanish_Town/In_a_Little_Spanish_Town.mxl\n",
      "C major 3/4\n",
      "OpenEWLD/dataset/Katharine_Lee_Bates/America_the_Beautiful/America_the_Beautiful.mxl\n",
      "C major 4/4\n",
      "transposing from key C major to C major using interval 0\n"
     ]
    },
    {
     "name": "stderr",
     "output_type": "stream",
     "text": [
      "python: can't open file '/content/xml2abc_143/xml2abc.py': [Errno 2] No such file or directory\n",
      "python: can't open file '/content/xml2abc_143/xml2abc.py': [Errno 2] No such file or directory\n"
     ]
    },
    {
     "name": "stdout",
     "output_type": "stream",
     "text": [
      "Unexpected error: <class 'subprocess.CalledProcessError'>\n",
      "OpenEWLD/dataset/Lorenz_Hart-Richard_Rodgers/This_Can't_Be_Love/This_Can't_Be_Love.mxl\n",
      "G major 4/4\n",
      "transposing from key G major to C major using interval 5\n",
      "Unexpected error: <class 'subprocess.CalledProcessError'>\n",
      "OpenEWLD/dataset/Rida_Johnson_Young-Victor_Herbert/Ah!_Sweet_Mystery_of_Life/Ah!_Sweet_Mystery_of_Life.mxl\n",
      "B- major 4/4\n",
      "transposing from key B- major to C major using interval 2\n"
     ]
    },
    {
     "name": "stderr",
     "output_type": "stream",
     "text": [
      "python: can't open file '/content/xml2abc_143/xml2abc.py': [Errno 2] No such file or directory\n",
      "python: can't open file '/content/xml2abc_143/xml2abc.py': [Errno 2] No such file or directory\n"
     ]
    },
    {
     "name": "stdout",
     "output_type": "stream",
     "text": [
      "Unexpected error: <class 'subprocess.CalledProcessError'>\n",
      "OpenEWLD/dataset/John_Baptiste_Calkin/I_Heard_the_Bells_on_Christmas_Day/I_Heard_the_Bells_on_Christmas_Day.mxl\n",
      "C major 4/4\n",
      "transposing from key C major to C major using interval 0\n",
      "Unexpected error: <class 'subprocess.CalledProcessError'>\n",
      "OpenEWLD/dataset/Charles_C._Converse-Joseph_M._Scriven/What_a_Friend_We_Have_in_Jesus/What_a_Friend_We_Have_in_Jesus.mxl\n",
      "F major 4/4\n",
      "transposing from key F major to C major using interval -5\n"
     ]
    },
    {
     "name": "stderr",
     "output_type": "stream",
     "text": [
      "python: can't open file '/content/xml2abc_143/xml2abc.py': [Errno 2] No such file or directory\n",
      "python: can't open file '/content/xml2abc_143/xml2abc.py': [Errno 2] No such file or directory\n"
     ]
    },
    {
     "name": "stdout",
     "output_type": "stream",
     "text": [
      "Unexpected error: <class 'subprocess.CalledProcessError'>\n",
      "OpenEWLD/dataset/Bing_Crosby-Fred_E._Ahlert-Roy_Turk/Where_the_Blue_of_the_Night_Meets_the_Gold_of_the_Day/Where_the_Blue_of_the_Night_Meets_the_Gold_of_the_Day.mxl\n",
      "C major 3/4\n",
      "OpenEWLD/dataset/Andy_Razaf-Fats_Waller/A_Hopeless_Love_Affair/A_Hopeless_Love_Affair.mxl\n",
      "F major 4/4\n",
      "transposing from key F major to C major using interval -5\n",
      "Unexpected error: <class 'subprocess.CalledProcessError'>\n",
      "OpenEWLD/dataset/Bertha_Scott-Jimmy_Henderson_[1]-Sid_Robin/I_Miss_You_So/I_Miss_You_So.mxl\n",
      "G major 4/4\n",
      "transposing from key G major to C major using interval 5\n"
     ]
    },
    {
     "name": "stderr",
     "output_type": "stream",
     "text": [
      "python: can't open file '/content/xml2abc_143/xml2abc.py': [Errno 2] No such file or directory\n"
     ]
    },
    {
     "name": "stdout",
     "output_type": "stream",
     "text": [
      "Unexpected error: <class 'subprocess.CalledProcessError'>\n",
      "OpenEWLD/dataset/Franz_Liszt/Liebestraum_Nr._3/Liebestraum_Nr._3.mxl\n",
      "G major 6/4\n",
      "OpenEWLD/dataset/Billy_Hill-Peter_De_Rose/Have_You_Ever_Been_Lonely?/Have_You_Ever_Been_Lonely?.mxl\n",
      "C major 4/4\n",
      "transposing from key C major to C major using interval 0\n"
     ]
    },
    {
     "name": "stderr",
     "output_type": "stream",
     "text": [
      "python: can't open file '/content/xml2abc_143/xml2abc.py': [Errno 2] No such file or directory\n",
      "python: can't open file '/content/xml2abc_143/xml2abc.py': [Errno 2] No such file or directory\n"
     ]
    },
    {
     "name": "stdout",
     "output_type": "stream",
     "text": [
      "Unexpected error: <class 'subprocess.CalledProcessError'>\n",
      "OpenEWLD/dataset/[Traditional]-[Unknown]/Guter_Mond,_du_gehst_so_stille/Guter_Mond,_du_gehst_so_stille.mxl\n",
      "C major 4/4\n",
      "transposing from key C major to C major using interval 0\n",
      "Unexpected error: <class 'subprocess.CalledProcessError'>\n",
      "OpenEWLD/dataset/Thomas_P._Westendorf/I'll_Take_You_Home_Again,_Kathleen/I'll_Take_You_Home_Again,_Kathleen.mxl\n",
      "F major 4/4\n",
      "transposing from key F major to C major using interval -5\n"
     ]
    },
    {
     "name": "stderr",
     "output_type": "stream",
     "text": [
      "python: can't open file '/content/xml2abc_143/xml2abc.py': [Errno 2] No such file or directory\n"
     ]
    },
    {
     "name": "stdout",
     "output_type": "stream",
     "text": [
      "Unexpected error: <class 'subprocess.CalledProcessError'>\n",
      "OpenEWLD/dataset/[Traditional]/Jesu,_Joy_of_Man's_Desiring/Jesu,_Joy_of_Man's_Desiring.mxl\n",
      "G major 3/4\n",
      "OpenEWLD/dataset/Chauncey_Olcott-Ernest_Ball-George_Graff,_Jr./When_Irish_Eyes_Are_Smiling/When_Irish_Eyes_Are_Smiling.mxl\n",
      "D major 3/4\n",
      "OpenEWLD/dataset/Edmund_Sears/It_Came_upon_the_Midnight_Clear/It_Came_upon_the_Midnight_Clear.mxl\n",
      "G major 6/8\n",
      "OpenEWLD/dataset/William_Chatterton_Dix/What_Child_Is_This?/What_Child_Is_This?.mxl\n",
      "G major 6/8\n",
      "OpenEWLD/dataset/Eugène_Cormon-Georges_Bizet-Michel_Carré/Je_crois_entendre_encore/Je_crois_entendre_encore.mxl\n",
      "None None\n",
      "OpenEWLD/dataset/Dorothy_Fields-Jerome_Kern-Jimmy_McHugh/Lovely_to_Look_At/Lovely_to_Look_At.mxl\n",
      "C major 4/4\n",
      "transposing from key C major to C major using interval 0\n"
     ]
    },
    {
     "name": "stderr",
     "output_type": "stream",
     "text": [
      "python: can't open file '/content/xml2abc_143/xml2abc.py': [Errno 2] No such file or directory\n",
      "python: can't open file '/content/xml2abc_143/xml2abc.py': [Errno 2] No such file or directory\n"
     ]
    },
    {
     "name": "stdout",
     "output_type": "stream",
     "text": [
      "Unexpected error: <class 'subprocess.CalledProcessError'>\n",
      "OpenEWLD/dataset/Al_Dubin-Harry_Warren/About_a_Quarter_to_Nine/About_a_Quarter_to_Nine.mxl\n",
      "C major 4/4\n",
      "transposing from key C major to C major using interval 0\n",
      "Unexpected error: <class 'subprocess.CalledProcessError'>\n",
      "OpenEWLD/dataset/Frank_Loesser-Victor_Schertzinger/Sand_in_My_Shoes/Sand_in_My_Shoes.mxl\n",
      "B- major 4/4\n",
      "transposing from key B- major to C major using interval 2\n"
     ]
    },
    {
     "name": "stderr",
     "output_type": "stream",
     "text": [
      "python: can't open file '/content/xml2abc_143/xml2abc.py': [Errno 2] No such file or directory\n",
      "python: can't open file '/content/xml2abc_143/xml2abc.py': [Errno 2] No such file or directory\n"
     ]
    },
    {
     "name": "stdout",
     "output_type": "stream",
     "text": [
      "Unexpected error: <class 'subprocess.CalledProcessError'>\n",
      "OpenEWLD/dataset/Gus_Kahn-Isham_Jones/I'll_See_You_in_My_Dreams/I'll_See_You_in_My_Dreams.mxl\n",
      "F major 4/4\n",
      "transposing from key F major to C major using interval -5\n",
      "Unexpected error: <class 'subprocess.CalledProcessError'>\n",
      "OpenEWLD/dataset/George_Gershwin-Ira_Gershwin/Bidin'_My_Time/Bidin'_My_Time.mxl\n",
      "E- major 4/4\n",
      "transposing from key E- major to C major using interval -3\n"
     ]
    },
    {
     "name": "stderr",
     "output_type": "stream",
     "text": [
      "python: can't open file '/content/xml2abc_143/xml2abc.py': [Errno 2] No such file or directory\n"
     ]
    },
    {
     "name": "stdout",
     "output_type": "stream",
     "text": [
      "Unexpected error: <class 'subprocess.CalledProcessError'>\n",
      "OpenEWLD/dataset/Gus_Edwards-Will_Cobb/School_Days/School_Days.mxl\n",
      "B- major 3/4\n",
      "OpenEWLD/dataset/Frederic_Weatherly-Haydn_Wood/Roses_of_Picardy/Roses_of_Picardy.mxl\n",
      "C major 4/4\n",
      "transposing from key C major to C major using interval 0\n"
     ]
    },
    {
     "name": "stderr",
     "output_type": "stream",
     "text": [
      "python: can't open file '/content/xml2abc_143/xml2abc.py': [Errno 2] No such file or directory\n"
     ]
    },
    {
     "name": "stdout",
     "output_type": "stream",
     "text": [
      "Unexpected error: <class 'subprocess.CalledProcessError'>\n",
      "OpenEWLD/dataset/Joe_Young-Sam_Lewis-Walter_Donaldson/My_Mammy/My_Mammy.mxl\n",
      "C major 4/4\n",
      "transposing from key C major to C major using interval 0\n"
     ]
    },
    {
     "name": "stderr",
     "output_type": "stream",
     "text": [
      "python: can't open file '/content/xml2abc_143/xml2abc.py': [Errno 2] No such file or directory\n",
      "python: can't open file '/content/xml2abc_143/xml2abc.py': [Errno 2] No such file or directory\n",
      "python: can't open file '/content/xml2abc_143/xml2abc.py': [Errno 2] No such file or directory\n"
     ]
    },
    {
     "name": "stdout",
     "output_type": "stream",
     "text": [
      "Unexpected error: <class 'subprocess.CalledProcessError'>\n",
      "OpenEWLD/dataset/[Traditional]/Go_Tell_It_on_the_Mountain/Go_Tell_It_on_the_Mountain.mxl\n",
      "C major 4/4\n",
      "transposing from key C major to C major using interval 0\n",
      "Unexpected error: <class 'subprocess.CalledProcessError'>\n",
      "OpenEWLD/dataset/Leslie_Stuart/Lily_of_Laguna/Lily_of_Laguna.mxl\n",
      "A- major 4/4\n",
      "transposing from key A- major to C major using interval 4\n",
      "Unexpected error: <class 'subprocess.CalledProcessError'>\n",
      "OpenEWLD/dataset/Daniel_Alomías_Robles-Julio_Baudouin/El_cóndor_pasa/El_cóndor_pasa.mxl\n",
      "C major 4/4\n",
      "transposing from key C major to C major using interval 0\n"
     ]
    },
    {
     "name": "stderr",
     "output_type": "stream",
     "text": [
      "python: can't open file '/content/xml2abc_143/xml2abc.py': [Errno 2] No such file or directory\n"
     ]
    },
    {
     "name": "stdout",
     "output_type": "stream",
     "text": [
      "Unexpected error: <class 'subprocess.CalledProcessError'>\n",
      "OpenEWLD/dataset/Doris_Fisher-Fred_Fisher/Whispering_Grass_(Don't_Tell_the_Trees)/Whispering_Grass_(Don't_Tell_the_Trees).mxl\n",
      "G major 4/4\n",
      "transposing from key G major to C major using interval 5\n"
     ]
    },
    {
     "name": "stderr",
     "output_type": "stream",
     "text": [
      "python: can't open file '/content/xml2abc_143/xml2abc.py': [Errno 2] No such file or directory\n",
      "python: can't open file '/content/xml2abc_143/xml2abc.py': [Errno 2] No such file or directory\n"
     ]
    },
    {
     "name": "stdout",
     "output_type": "stream",
     "text": [
      "Unexpected error: <class 'subprocess.CalledProcessError'>\n",
      "OpenEWLD/dataset/Ange_Lorenzo-Joseph_Alden-Raymond_B._Egan-Richard_A._Whiting/Sleepy_Time_Gal/Sleepy_Time_Gal.mxl\n",
      "G major 2/2\n",
      "transposing from key G major to C major using interval 5\n",
      "Unexpected error: <class 'subprocess.CalledProcessError'>\n",
      "OpenEWLD/dataset/DuBose_Heyward-George_Gershwin-Ira_Gershwin/Summertime/Summertime.mxl\n",
      "A minor 2/2\n",
      "OpenEWLD/dataset/Felix_Powell-George_Henry_Powell/Pack_Up_Your_Troubles_in_Your_Old_Kit_Bag_and_Smile,_Smile,_Smile!/Pack_Up_Your_Troubles_in_Your_Old_Kit_Bag_and_Smile,_Smile,_Smile!.mxl\n",
      "F major 4/4\n",
      "transposing from key F major to C major using interval -5\n"
     ]
    },
    {
     "name": "stderr",
     "output_type": "stream",
     "text": [
      "python: can't open file '/content/xml2abc_143/xml2abc.py': [Errno 2] No such file or directory\n",
      "python: can't open file '/content/xml2abc_143/xml2abc.py': [Errno 2] No such file or directory\n"
     ]
    },
    {
     "name": "stdout",
     "output_type": "stream",
     "text": [
      "Unexpected error: <class 'subprocess.CalledProcessError'>\n",
      "OpenEWLD/dataset/Narciso_Serradell_Sevilla/La_golondrina/La_golondrina.mxl\n",
      "C major 4/4\n",
      "transposing from key C major to C major using interval 0\n",
      "Unexpected error: <class 'subprocess.CalledProcessError'>\n",
      "OpenEWLD/dataset/Victor_Herbert/Indian_Summer/Indian_Summer.mxl\n",
      "C major 4/4\n",
      "transposing from key C major to C major using interval 0\n"
     ]
    },
    {
     "name": "stderr",
     "output_type": "stream",
     "text": [
      "python: can't open file '/content/xml2abc_143/xml2abc.py': [Errno 2] No such file or directory\n",
      "python: can't open file '/content/xml2abc_143/xml2abc.py': [Errno 2] No such file or directory\n",
      "python: can't open file '/content/xml2abc_143/xml2abc.py': [Errno 2] No such file or directory\n"
     ]
    },
    {
     "name": "stdout",
     "output_type": "stream",
     "text": [
      "Unexpected error: <class 'subprocess.CalledProcessError'>\n",
      "OpenEWLD/dataset/Chris_Smith_[1]-Jim_Burris/Ballin'_the_Jack/Ballin'_the_Jack.mxl\n",
      "B- major 4/4\n",
      "transposing from key B- major to C major using interval 2\n",
      "Unexpected error: <class 'subprocess.CalledProcessError'>\n",
      "OpenEWLD/dataset/Mildred_Hill-Patty_Hill/Happy_Birthday_to_You/Happy_Birthday_to_You.mxl\n",
      "G major 4/4\n",
      "transposing from key G major to C major using interval 5\n",
      "Unexpected error: <class 'subprocess.CalledProcessError'>\n",
      "OpenEWLD/dataset/Carmen_Lombardo-Joe_Young/Snuggled_on_Your_Shoulder_(Cuddled_in_Your_Arms)/Snuggled_on_Your_Shoulder_(Cuddled_in_Your_Arms).mxl\n",
      "F major 4/4\n",
      "transposing from key F major to C major using interval -5\n"
     ]
    },
    {
     "name": "stderr",
     "output_type": "stream",
     "text": [
      "python: can't open file '/content/xml2abc_143/xml2abc.py': [Errno 2] No such file or directory\n",
      "python: can't open file '/content/xml2abc_143/xml2abc.py': [Errno 2] No such file or directory\n"
     ]
    },
    {
     "name": "stdout",
     "output_type": "stream",
     "text": [
      "Unexpected error: <class 'subprocess.CalledProcessError'>\n",
      "OpenEWLD/dataset/Lorenz_Hart-Richard_Rodgers/You_Are_Too_Beautiful/You_Are_Too_Beautiful.mxl\n",
      "C major 2/2\n",
      "transposing from key C major to C major using interval 0\n",
      "Unexpected error: <class 'subprocess.CalledProcessError'>\n",
      "OpenEWLD/dataset/Stephen_Foster/Gwine_to_Run_All_Night,_or_De_Camptown_Races/Gwine_to_Run_All_Night,_or_De_Camptown_Races.mxl\n",
      "C major 4/4\n",
      "transposing from key C major to C major using interval 0\n"
     ]
    },
    {
     "name": "stderr",
     "output_type": "stream",
     "text": [
      "python: can't open file '/content/xml2abc_143/xml2abc.py': [Errno 2] No such file or directory\n",
      "python: can't open file '/content/xml2abc_143/xml2abc.py': [Errno 2] No such file or directory\n"
     ]
    },
    {
     "name": "stdout",
     "output_type": "stream",
     "text": [
      "Unexpected error: <class 'subprocess.CalledProcessError'>\n",
      "OpenEWLD/dataset/Egbert_Van_Alstyne-Erwin_Roeder_Schmidt-Haven_Gillespie-Loyal_Curtis/Drifting_and_Dreaming/Drifting_and_Dreaming.mxl\n",
      "G major 4/4\n",
      "transposing from key G major to C major using interval 5\n",
      "Unexpected error: <class 'subprocess.CalledProcessError'>\n",
      "OpenEWLD/dataset/James_Brockman-James_Kendis-John_Kellette-Nat_Vincent/I'm_Forever_Blowing_Bubbles/I'm_Forever_Blowing_Bubbles.mxl\n",
      "B- major 3/4\n",
      "OpenEWLD/dataset/Eric_Stewart-Graham_Gouldman-Kevin_Godley/I'm_Mandy_Fly_Me/I'm_Mandy_Fly_Me.mxl\n",
      "C major 4/4\n",
      "transposing from key C major to C major using interval 0\n"
     ]
    },
    {
     "name": "stderr",
     "output_type": "stream",
     "text": [
      "python: can't open file '/content/xml2abc_143/xml2abc.py': [Errno 2] No such file or directory\n",
      "python: can't open file '/content/xml2abc_143/xml2abc.py': [Errno 2] No such file or directory\n"
     ]
    },
    {
     "name": "stdout",
     "output_type": "stream",
     "text": [
      "Unexpected error: <class 'subprocess.CalledProcessError'>\n",
      "OpenEWLD/dataset/Gus_Kahn-Raymond_B._Egan-Richard_A._Whiting/Ain't_We_Got_Fun/Ain't_We_Got_Fun.mxl\n",
      "E- major 2/2\n",
      "transposing from key E- major to C major using interval -3\n",
      "Unexpected error: <class 'subprocess.CalledProcessError'>\n",
      "OpenEWLD/dataset/George_Gershwin-Ira_Gershwin/By_Strauss/By_Strauss.mxl\n",
      "F major 3/4\n",
      "OpenEWLD/dataset/Leo_Robin-Richard_A._Whiting-W._Franke_Harling/Beyond_the_Blue_Horizon/Beyond_the_Blue_Horizon.mxl\n",
      "B- major 2/2\n",
      "transposing from key B- major to C major using interval 2\n"
     ]
    },
    {
     "name": "stderr",
     "output_type": "stream",
     "text": [
      "python: can't open file '/content/xml2abc_143/xml2abc.py': [Errno 2] No such file or directory\n"
     ]
    },
    {
     "name": "stdout",
     "output_type": "stream",
     "text": [
      "Unexpected error: <class 'subprocess.CalledProcessError'>\n",
      "OpenEWLD/dataset/Victor_Schertzinger/Marcheta/Marcheta.mxl\n",
      "C major 3/4\n",
      "OpenEWLD/dataset/Pietro_Mascagni/Intermezzo/Intermezzo.mxl\n",
      "F major 3/4\n",
      "OpenEWLD/dataset/Ira_Schuster-Joe_Young/I'm_Alone_Because_I_Love_You/I'm_Alone_Because_I_Love_You.mxl\n",
      "G major 3/4\n",
      "OpenEWLD/dataset/DuBose_Heyward-George_Gershwin-Ira_Gershwin/I_Got_Plenty_o'_Nuttin'/I_Got_Plenty_o'_Nuttin'.mxl\n",
      "G major 4/4\n",
      "transposing from key G major to C major using interval 5\n"
     ]
    },
    {
     "name": "stderr",
     "output_type": "stream",
     "text": [
      "python: can't open file '/content/xml2abc_143/xml2abc.py': [Errno 2] No such file or directory\n",
      "python: can't open file '/content/xml2abc_143/xml2abc.py': [Errno 2] No such file or directory\n"
     ]
    },
    {
     "name": "stdout",
     "output_type": "stream",
     "text": [
      "Unexpected error: <class 'subprocess.CalledProcessError'>\n",
      "OpenEWLD/dataset/[Traditional]/The_Wild_Colonial_Boy/The_Wild_Colonial_Boy.mxl\n",
      "E- major 6/8\n",
      "OpenEWLD/dataset/Ira_Schuster-Jack_Little-Joe_Young/In_a_Shanty_in_Old_Shanty_Town/In_a_Shanty_in_Old_Shanty_Town.mxl\n",
      "C major 4/4\n",
      "transposing from key C major to C major using interval 0\n",
      "Unexpected error: <class 'subprocess.CalledProcessError'>\n",
      "OpenEWLD/dataset/Hughie_Cannon/Bill_Bailey,_Won't_You_Please_Come_Home?/Bill_Bailey,_Won't_You_Please_Come_Home?.mxl\n",
      "G major 4/4\n",
      "transposing from key G major to C major using interval 5\n"
     ]
    },
    {
     "name": "stderr",
     "output_type": "stream",
     "text": [
      "python: can't open file '/content/xml2abc_143/xml2abc.py': [Errno 2] No such file or directory\n",
      "python: can't open file '/content/xml2abc_143/xml2abc.py': [Errno 2] No such file or directory\n"
     ]
    },
    {
     "name": "stdout",
     "output_type": "stream",
     "text": [
      "Unexpected error: <class 'subprocess.CalledProcessError'>\n",
      "OpenEWLD/dataset/Jimmy_Monaco-William_Jerome/Row,_Row,_Row/Row,_Row,_Row.mxl\n",
      "B- major 2/4\n",
      "OpenEWLD/dataset/James_Pierpont/Jingle_Bells/Jingle_Bells.mxl\n",
      "G major 4/4\n",
      "transposing from key G major to C major using interval 5\n",
      "Unexpected error: <class 'subprocess.CalledProcessError'>\n",
      "OpenEWLD/dataset/Fred_E._Ahlert-Roy_Turk/I'll_Get_By_(As_Long_as_I_Have_You)/I'll_Get_By_(As_Long_as_I_Have_You).mxl\n",
      "C major 4/4\n",
      "transposing from key C major to C major using interval 0\n"
     ]
    },
    {
     "name": "stderr",
     "output_type": "stream",
     "text": [
      "python: can't open file '/content/xml2abc_143/xml2abc.py': [Errno 2] No such file or directory\n",
      "python: can't open file '/content/xml2abc_143/xml2abc.py': [Errno 2] No such file or directory\n"
     ]
    },
    {
     "name": "stdout",
     "output_type": "stream",
     "text": [
      "Unexpected error: <class 'subprocess.CalledProcessError'>\n",
      "OpenEWLD/dataset/Gus_Kahn-Walter_Donaldson/Love_Me_or_Leave_Me/Love_Me_or_Leave_Me.mxl\n",
      "C major 4/4\n",
      "transposing from key C major to C major using interval 0\n",
      "Unexpected error: <class 'subprocess.CalledProcessError'>\n",
      "OpenEWLD/dataset/Joe_Young-Ray_Henderson-Sam_Lewis/Five_Foot_Two,_Eyes_of_Blue_(Has_Anybody_Seen_My_Girl)/Five_Foot_Two,_Eyes_of_Blue_(Has_Anybody_Seen_My_Girl).mxl\n",
      "C major 4/4\n",
      "transposing from key C major to C major using interval 0\n"
     ]
    },
    {
     "name": "stderr",
     "output_type": "stream",
     "text": [
      "python: can't open file '/content/xml2abc_143/xml2abc.py': [Errno 2] No such file or directory\n",
      "python: can't open file '/content/xml2abc_143/xml2abc.py': [Errno 2] No such file or directory\n"
     ]
    },
    {
     "name": "stdout",
     "output_type": "stream",
     "text": [
      "Unexpected error: <class 'subprocess.CalledProcessError'>\n",
      "OpenEWLD/dataset/John_Sylvester_Fearis-Laura_Rountree_Smith/Little_Sir_Echo/Little_Sir_Echo.mxl\n",
      "C major 3/4\n",
      "OpenEWLD/dataset/Egbert_Van_Alstyne-Gus_Kahn/Memories/Memories.mxl\n",
      "F major 6/8\n",
      "OpenEWLD/dataset/Con_Conrad-Sidney_Clare/Ma,_He's_Making_Eyes_at_Me/Ma,_He's_Making_Eyes_at_Me.mxl\n",
      "C major 4/4\n",
      "transposing from key C major to C major using interval 0\n",
      "Unexpected error: <class 'subprocess.CalledProcessError'>\n",
      "OpenEWLD/dataset/Lorenz_Hart-Richard_Rodgers/Have_You_Met_Miss_Jones?/Have_You_Met_Miss_Jones?.mxl\n",
      "F major 4/4\n",
      "transposing from key F major to C major using interval -5\n"
     ]
    },
    {
     "name": "stderr",
     "output_type": "stream",
     "text": [
      "python: can't open file '/content/xml2abc_143/xml2abc.py': [Errno 2] No such file or directory\n",
      "python: can't open file '/content/xml2abc_143/xml2abc.py': [Errno 2] No such file or directory\n"
     ]
    },
    {
     "name": "stdout",
     "output_type": "stream",
     "text": [
      "Unexpected error: <class 'subprocess.CalledProcessError'>\n",
      "OpenEWLD/dataset/James_Waddel_Alexander/O_Sacred_Head,_Now_Wounded/O_Sacred_Head,_Now_Wounded.mxl\n",
      "C major 4/4\n",
      "transposing from key C major to C major using interval 0\n",
      "Unexpected error: <class 'subprocess.CalledProcessError'>\n",
      "OpenEWLD/dataset/Jerome_Kern-Oscar_Hammerstein_II/Make_Believe/Make_Believe.mxl\n",
      "C major 4/4\n",
      "transposing from key C major to C major using interval 0\n"
     ]
    },
    {
     "name": "stderr",
     "output_type": "stream",
     "text": [
      "python: can't open file '/content/xml2abc_143/xml2abc.py': [Errno 2] No such file or directory\n",
      "python: can't open file '/content/xml2abc_143/xml2abc.py': [Errno 2] No such file or directory\n"
     ]
    },
    {
     "name": "stdout",
     "output_type": "stream",
     "text": [
      "Unexpected error: <class 'subprocess.CalledProcessError'>\n",
      "OpenEWLD/dataset/Jimmy_Monaco-Johnny_Burke/An_Apple_for_the_Teacher/An_Apple_for_the_Teacher.mxl\n",
      "C major 4/4\n",
      "transposing from key C major to C major using interval 0\n",
      "Unexpected error: <class 'subprocess.CalledProcessError'>\n",
      "OpenEWLD/dataset/Gus_Kahn-Isham_Jones/On_the_Alamo/On_the_Alamo.mxl\n",
      "E- major 4/4\n",
      "transposing from key E- major to C major using interval -3\n"
     ]
    },
    {
     "name": "stderr",
     "output_type": "stream",
     "text": [
      "python: can't open file '/content/xml2abc_143/xml2abc.py': [Errno 2] No such file or directory\n"
     ]
    },
    {
     "name": "stdout",
     "output_type": "stream",
     "text": [
      "Unexpected error: <class 'subprocess.CalledProcessError'>\n",
      "OpenEWLD/dataset/Leo_Robin-Ralph_Rainger/If_I_Should_Lose_You/If_I_Should_Lose_You.mxl\n",
      "B- major 4/4\n",
      "transposing from key B- major to C major using interval 2\n"
     ]
    },
    {
     "name": "stderr",
     "output_type": "stream",
     "text": [
      "python: can't open file '/content/xml2abc_143/xml2abc.py': [Errno 2] No such file or directory\n",
      "python: can't open file '/content/xml2abc_143/xml2abc.py': [Errno 2] No such file or directory\n"
     ]
    },
    {
     "name": "stdout",
     "output_type": "stream",
     "text": [
      "Unexpected error: <class 'subprocess.CalledProcessError'>\n",
      "OpenEWLD/dataset/Fabian_Andre-Gus_Kahn-Wilbur_Schwandt/Dream_a_Little_Dream_of_Me/Dream_a_Little_Dream_of_Me.mxl\n",
      "G major 4/4\n",
      "transposing from key G major to C major using interval 5\n",
      "Unexpected error: <class 'subprocess.CalledProcessError'>\n",
      "OpenEWLD/dataset/Julian_Robledo-Theodora_Morse/Three_O'Clock_in_the_Morning/Three_O'Clock_in_the_Morning.mxl\n",
      "None 3/4\n",
      "OpenEWLD/dataset/Albert_Von_Tilzer-Neville_Fleeson/I'll_Be_with_You_in_Apple_Blossom_Time/I'll_Be_with_You_in_Apple_Blossom_Time.mxl\n",
      "G major 3/4\n",
      "OpenEWLD/dataset/Robert_Lowry/How_Can_I_Keep_from_Singing?/How_Can_I_Keep_from_Singing?.mxl\n",
      "G major 3/2\n",
      "OpenEWLD/dataset/Harold_Adamson-Walter_Donaldson/Did_I_Remember/Did_I_Remember.mxl\n",
      "E- major 2/2\n",
      "transposing from key E- major to C major using interval -3\n"
     ]
    },
    {
     "name": "stderr",
     "output_type": "stream",
     "text": [
      "python: can't open file '/content/xml2abc_143/xml2abc.py': [Errno 2] No such file or directory\n",
      "python: can't open file '/content/xml2abc_143/xml2abc.py': [Errno 2] No such file or directory\n"
     ]
    },
    {
     "name": "stdout",
     "output_type": "stream",
     "text": [
      "Unexpected error: <class 'subprocess.CalledProcessError'>\n",
      "OpenEWLD/dataset/Andy_Razaf-Fats_Waller-Harry_Brooks/Ain't_Misbehavin'/Ain't_Misbehavin'.mxl\n",
      "C major 4/4\n",
      "transposing from key C major to C major using interval 0\n",
      "Unexpected error: <class 'subprocess.CalledProcessError'>\n",
      "OpenEWLD/dataset/Fud_Livingston-Gus_Kahn-Matt_Malneck/I'm_Through_with_Love/I'm_Through_with_Love.mxl\n",
      "E- major 4/4\n",
      "transposing from key E- major to C major using interval -3\n"
     ]
    },
    {
     "name": "stderr",
     "output_type": "stream",
     "text": [
      "python: can't open file '/content/xml2abc_143/xml2abc.py': [Errno 2] No such file or directory\n",
      "python: can't open file '/content/xml2abc_143/xml2abc.py': [Errno 2] No such file or directory\n"
     ]
    },
    {
     "name": "stdout",
     "output_type": "stream",
     "text": [
      "Unexpected error: <class 'subprocess.CalledProcessError'>\n",
      "OpenEWLD/dataset/Al_Lewis-Larry_Stock-Vincent_Rose/Blueberry_Hill/Blueberry_Hill.mxl\n",
      "E- major 2/2\n",
      "transposing from key E- major to C major using interval -3\n",
      "Unexpected error: <class 'subprocess.CalledProcessError'>\n",
      "OpenEWLD/dataset/Julia_Ward_Howe/Battle_Hymn_of_the_Republic/Battle_Hymn_of_the_Republic.mxl\n",
      "C major 4/4\n",
      "transposing from key C major to C major using interval 0\n"
     ]
    },
    {
     "name": "stderr",
     "output_type": "stream",
     "text": [
      "python: can't open file '/content/xml2abc_143/xml2abc.py': [Errno 2] No such file or directory\n",
      "python: can't open file '/content/xml2abc_143/xml2abc.py': [Errno 2] No such file or directory\n"
     ]
    },
    {
     "name": "stdout",
     "output_type": "stream",
     "text": [
      "Unexpected error: <class 'subprocess.CalledProcessError'>\n",
      "OpenEWLD/dataset/George_Gershwin-Ira_Gershwin/How_Long_Has_This_Been_Going_On?/How_Long_Has_This_Been_Going_On?.mxl\n",
      "G major 4/4\n",
      "transposing from key G major to C major using interval 5\n",
      "Unexpected error: <class 'subprocess.CalledProcessError'>\n",
      "OpenEWLD/dataset/Edward_Madden-Gus_Edwards/By_the_Light_of_the_Silvery_Moon/By_the_Light_of_the_Silvery_Moon.mxl\n",
      "C major 4/4\n",
      "transposing from key C major to C major using interval 0\n"
     ]
    },
    {
     "name": "stderr",
     "output_type": "stream",
     "text": [
      "python: can't open file '/content/xml2abc_143/xml2abc.py': [Errno 2] No such file or directory\n",
      "python: can't open file '/content/xml2abc_143/xml2abc.py': [Errno 2] No such file or directory\n"
     ]
    },
    {
     "name": "stdout",
     "output_type": "stream",
     "text": [
      "Unexpected error: <class 'subprocess.CalledProcessError'>\n",
      "OpenEWLD/dataset/Johnny_Mercer-Richard_A._Whiting/Too_Marvelous_for_Words/Too_Marvelous_for_Words.mxl\n",
      "G major 4/4\n",
      "transposing from key G major to C major using interval 5\n",
      "Unexpected error: <class 'subprocess.CalledProcessError'>\n",
      "OpenEWLD/dataset/Al_Dubin-Harry_Warren/I_Only_Have_Eyes_for_You/I_Only_Have_Eyes_for_You.mxl\n",
      "C major 2/2\n",
      "transposing from key C major to C major using interval 0\n"
     ]
    },
    {
     "name": "stderr",
     "output_type": "stream",
     "text": [
      "python: can't open file '/content/xml2abc_143/xml2abc.py': [Errno 2] No such file or directory\n",
      "python: can't open file '/content/xml2abc_143/xml2abc.py': [Errno 2] No such file or directory\n"
     ]
    },
    {
     "name": "stdout",
     "output_type": "stream",
     "text": [
      "Unexpected error: <class 'subprocess.CalledProcessError'>\n",
      "OpenEWLD/dataset/Nikolai_Rimsky-Korsakov/Song_of_the_Indian_Guest_{Песня_Индийского_гостя}/Song_of_the_Indian_Guest_{Песня_Индийского_гостя}.mxl\n",
      "G major 3/4\n",
      "OpenEWLD/dataset/Fats_Waller/The_Jitterbug_Waltz/The_Jitterbug_Waltz.mxl\n",
      "E- major 3/4\n",
      "OpenEWLD/dataset/Billy_Meyers-Elmer_Schoebel-Ernie_Erdman-Gus_Kahn/Nobody's_Sweetheart/Nobody's_Sweetheart.mxl\n",
      "C major 4/4\n",
      "transposing from key C major to C major using interval 0\n",
      "Unexpected error: <class 'subprocess.CalledProcessError'>\n",
      "OpenEWLD/dataset/Gus_Kahn-Isham_Jones/It_Had_to_Be_You/It_Had_to_Be_You.mxl\n",
      "G major 4/4\n",
      "transposing from key G major to C major using interval 5\n"
     ]
    },
    {
     "name": "stderr",
     "output_type": "stream",
     "text": [
      "python: can't open file '/content/xml2abc_143/xml2abc.py': [Errno 2] No such file or directory\n",
      "python: can't open file '/content/xml2abc_143/xml2abc.py': [Errno 2] No such file or directory\n",
      "python: can't open file '/content/xml2abc_143/xml2abc.py': [Errno 2] No such file or directory\n"
     ]
    },
    {
     "name": "stdout",
     "output_type": "stream",
     "text": [
      "Unexpected error: <class 'subprocess.CalledProcessError'>\n",
      "OpenEWLD/dataset/Lorenz_Hart-Richard_Rodgers/I_Could_Write_a_Book/I_Could_Write_a_Book.mxl\n",
      "C major 4/4\n",
      "transposing from key C major to C major using interval 0\n",
      "Unexpected error: <class 'subprocess.CalledProcessError'>\n",
      "OpenEWLD/dataset/James_Thornton/When_You_Were_Sweet_Sixteen/When_You_Were_Sweet_Sixteen.mxl\n",
      "C major 4/4\n",
      "transposing from key C major to C major using interval 0\n",
      "Unexpected error: <class 'subprocess.CalledProcessError'>\n",
      "OpenEWLD/dataset/Scott_Joplin/Maple_Leaf_Rag/Maple_Leaf_Rag.mxl\n",
      "E- major 2/4\n",
      "OpenEWLD/dataset/Jerome_Kern-Oscar_Hammerstein_II/The_Folks_Who_Live_on_the_Hill/The_Folks_Who_Live_on_the_Hill.mxl\n",
      "C major 4/4\n",
      "transposing from key C major to C major using interval 0\n"
     ]
    },
    {
     "name": "stderr",
     "output_type": "stream",
     "text": [
      "python: can't open file '/content/xml2abc_143/xml2abc.py': [Errno 2] No such file or directory\n",
      "python: can't open file '/content/xml2abc_143/xml2abc.py': [Errno 2] No such file or directory\n"
     ]
    },
    {
     "name": "stdout",
     "output_type": "stream",
     "text": [
      "Unexpected error: <class 'subprocess.CalledProcessError'>\n",
      "OpenEWLD/dataset/Herbert_Reynolds-Jerome_Kern/They_Didn't_Believe_Me/They_Didn't_Believe_Me.mxl\n",
      "G major 4/4\n",
      "transposing from key G major to C major using interval 5\n",
      "Unexpected error: <class 'subprocess.CalledProcessError'>\n",
      "OpenEWLD/dataset/Karl_Hoschna-Otto_Harbach/Cuddle_Up_a_Little_Closer,_Lovey_Mine/Cuddle_Up_a_Little_Closer,_Lovey_Mine.mxl\n",
      "G major 4/4\n",
      "transposing from key G major to C major using interval 5\n"
     ]
    },
    {
     "name": "stderr",
     "output_type": "stream",
     "text": [
      "python: can't open file '/content/xml2abc_143/xml2abc.py': [Errno 2] No such file or directory\n",
      "python: can't open file '/content/xml2abc_143/xml2abc.py': [Errno 2] No such file or directory\n"
     ]
    },
    {
     "name": "stdout",
     "output_type": "stream",
     "text": [
      "Unexpected error: <class 'subprocess.CalledProcessError'>\n",
      "OpenEWLD/dataset/[Traditional]/Loch_Lomond/Loch_Lomond.mxl\n",
      "C major 4/4\n",
      "transposing from key C major to C major using interval 0\n",
      "Unexpected error: <class 'subprocess.CalledProcessError'>\n",
      "OpenEWLD/dataset/Lorenz_Hart-Richard_Rodgers/Manhattan/Manhattan.mxl\n",
      "F major 2/2\n",
      "transposing from key F major to C major using interval -5\n"
     ]
    },
    {
     "name": "stderr",
     "output_type": "stream",
     "text": [
      "python: can't open file '/content/xml2abc_143/xml2abc.py': [Errno 2] No such file or directory\n",
      "python: can't open file '/content/xml2abc_143/xml2abc.py': [Errno 2] No such file or directory\n"
     ]
    },
    {
     "name": "stdout",
     "output_type": "stream",
     "text": [
      "Unexpected error: <class 'subprocess.CalledProcessError'>\n",
      "OpenEWLD/dataset/Ballard_MacDonald-James_Hanley/Rose_of_Washington_Square/Rose_of_Washington_Square.mxl\n",
      "B- major 4/4\n",
      "transposing from key B- major to C major using interval 2\n",
      "Unexpected error: <class 'subprocess.CalledProcessError'>\n",
      "OpenEWLD/dataset/Sir_Hubert_Parry/Jerusalem/Jerusalem.mxl\n",
      "F major 3/4\n",
      "OpenEWLD/dataset/George_Marion_Jr.-Richard_A._Whiting/My_Future_Just_Passed/My_Future_Just_Passed.mxl\n",
      "E- major 4/4\n",
      "transposing from key E- major to C major using interval -3\n"
     ]
    },
    {
     "name": "stderr",
     "output_type": "stream",
     "text": [
      "python: can't open file '/content/xml2abc_143/xml2abc.py': [Errno 2] No such file or directory\n",
      "python: can't open file '/content/xml2abc_143/xml2abc.py': [Errno 2] No such file or directory\n"
     ]
    },
    {
     "name": "stdout",
     "output_type": "stream",
     "text": [
      "Unexpected error: <class 'subprocess.CalledProcessError'>\n",
      "OpenEWLD/dataset/Walter_Donaldson/At_Sundown/At_Sundown.mxl\n",
      "F major 2/2\n",
      "transposing from key F major to C major using interval -5\n",
      "Unexpected error: <class 'subprocess.CalledProcessError'>\n",
      "OpenEWLD/dataset/B.G._DeSylva-Victor_Herbert/A_Kiss_in_the_Dark/A_Kiss_in_the_Dark.mxl\n",
      "C major 3/4\n",
      "OpenEWLD/dataset/Leo_Robin-Ralph_Rainger/Blue_Hawaii/Blue_Hawaii.mxl\n",
      "G major 4/4\n",
      "transposing from key G major to C major using interval 5\n"
     ]
    },
    {
     "name": "stderr",
     "output_type": "stream",
     "text": [
      "python: can't open file '/content/xml2abc_143/xml2abc.py': [Errno 2] No such file or directory\n",
      "python: can't open file '/content/xml2abc_143/xml2abc.py': [Errno 2] No such file or directory\n"
     ]
    },
    {
     "name": "stdout",
     "output_type": "stream",
     "text": [
      "Unexpected error: <class 'subprocess.CalledProcessError'>\n",
      "OpenEWLD/dataset/Jimmy_Monaco-Mack_Gordon/I_Can't_Begin_to_Tell_You/I_Can't_Begin_to_Tell_You.mxl\n",
      "C major 4/4\n",
      "transposing from key C major to C major using interval 0\n",
      "Unexpected error: <class 'subprocess.CalledProcessError'>\n",
      "OpenEWLD/dataset/James_A._Bland/Carry_Me_Back_to_Old_Virginny/Carry_Me_Back_to_Old_Virginny.mxl\n",
      "G major 4/4\n",
      "transposing from key G major to C major using interval 5\n"
     ]
    },
    {
     "name": "stderr",
     "output_type": "stream",
     "text": [
      "python: can't open file '/content/xml2abc_143/xml2abc.py': [Errno 2] No such file or directory\n",
      "python: can't open file '/content/xml2abc_143/xml2abc.py': [Errno 2] No such file or directory\n"
     ]
    },
    {
     "name": "stdout",
     "output_type": "stream",
     "text": [
      "Unexpected error: <class 'subprocess.CalledProcessError'>\n",
      "OpenEWLD/dataset/Al_Dubin-Joe_Burke/For_You/For_You.mxl\n",
      "C major 4/4\n",
      "transposing from key C major to C major using interval 0\n",
      "Unexpected error: <class 'subprocess.CalledProcessError'>\n",
      "OpenEWLD/dataset/Clifford_Grey-Victor_Schertzinger/Paris_je_t'aime/Paris_je_t'aime.mxl\n",
      "F major 4/4\n",
      "transposing from key F major to C major using interval -5\n"
     ]
    },
    {
     "name": "stderr",
     "output_type": "stream",
     "text": [
      "python: can't open file '/content/xml2abc_143/xml2abc.py': [Errno 2] No such file or directory\n",
      "python: can't open file '/content/xml2abc_143/xml2abc.py': [Errno 2] No such file or directory\n"
     ]
    },
    {
     "name": "stdout",
     "output_type": "stream",
     "text": [
      "Unexpected error: <class 'subprocess.CalledProcessError'>\n",
      "OpenEWLD/dataset/Charles_K._Harris/After_the_Ball/After_the_Ball.mxl\n",
      "G major 3/4\n",
      "OpenEWLD/dataset/Clarence_Gaskill-Jimmy_McHugh/I_Can't_Believe_That_You're_in_Love_with_Me/I_Can't_Believe_That_You're_in_Love_with_Me.mxl\n",
      "C major 4/4\n",
      "transposing from key C major to C major using interval 0\n",
      "Unexpected error: <class 'subprocess.CalledProcessError'>\n",
      "OpenEWLD/dataset/Vladimir_Vavilov-[Traditional]/Ave_Maria_(Caccini)/Ave_Maria_(Caccini).mxl\n",
      "C major 12/8\n",
      "OpenEWLD/dataset/[Traditional]/O_Christmas_Tree/O_Christmas_Tree.mxl\n",
      "F major 3/4\n",
      "OpenEWLD/dataset/Leo_Robin-Ralph_Rainger/Please/Please.mxl\n",
      "C major 2/2\n",
      "transposing from key C major to C major using interval 0\n"
     ]
    },
    {
     "name": "stderr",
     "output_type": "stream",
     "text": [
      "python: can't open file '/content/xml2abc_143/xml2abc.py': [Errno 2] No such file or directory\n",
      "python: can't open file '/content/xml2abc_143/xml2abc.py': [Errno 2] No such file or directory\n"
     ]
    },
    {
     "name": "stdout",
     "output_type": "stream",
     "text": [
      "Unexpected error: <class 'subprocess.CalledProcessError'>\n",
      "OpenEWLD/dataset/Campino-Hanns_Christian_Müller-Wölli-[Traditional]/Zehn_kleine_Jägermeister/Zehn_kleine_Jägermeister.mxl\n",
      "C major 2/4\n",
      "OpenEWLD/dataset/Gaston_Lyle-George_Leybourne/The_Daring_Young_Man_on_the_Flying_Trapeze/The_Daring_Young_Man_on_the_Flying_Trapeze.mxl\n",
      "C major 3/4\n",
      "OpenEWLD/dataset/[Traditional]/He's_Got_the_Whole_World_in_His_Hands/He's_Got_the_Whole_World_in_His_Hands.mxl\n",
      "F major 4/4\n",
      "transposing from key F major to C major using interval -5\n",
      "Unexpected error: <class 'subprocess.CalledProcessError'>\n",
      "OpenEWLD/dataset/George_M._Cohan/Mary's_a_Grand_Old_Name/Mary's_a_Grand_Old_Name.mxl\n",
      "F major 4/4\n",
      "transposing from key F major to C major using interval -5\n"
     ]
    },
    {
     "name": "stderr",
     "output_type": "stream",
     "text": [
      "python: can't open file '/content/xml2abc_143/xml2abc.py': [Errno 2] No such file or directory\n",
      "python: can't open file '/content/xml2abc_143/xml2abc.py': [Errno 2] No such file or directory\n"
     ]
    },
    {
     "name": "stdout",
     "output_type": "stream",
     "text": [
      "Unexpected error: <class 'subprocess.CalledProcessError'>\n",
      "OpenEWLD/dataset/James_Chadwick/Angels_We_Have_Heard_on_High/Angels_We_Have_Heard_on_High.mxl\n",
      "F major 4/4\n",
      "transposing from key F major to C major using interval -5\n",
      "Unexpected error: <class 'subprocess.CalledProcessError'>\n",
      "OpenEWLD/dataset/Jerome_Kern-Oscar_Hammerstein_II-Otto_Harbach/I_Won't_Dance/I_Won't_Dance.mxl\n",
      "C major 2/2\n",
      "transposing from key C major to C major using interval 0\n"
     ]
    },
    {
     "name": "stderr",
     "output_type": "stream",
     "text": [
      "python: can't open file '/content/xml2abc_143/xml2abc.py': [Errno 2] No such file or directory\n",
      "python: can't open file '/content/xml2abc_143/xml2abc.py': [Errno 2] No such file or directory\n"
     ]
    },
    {
     "name": "stdout",
     "output_type": "stream",
     "text": [
      "Unexpected error: <class 'subprocess.CalledProcessError'>\n",
      "OpenEWLD/dataset/Joseph_Tabrar/Daddy_Wouldn't_Buy_Me_a_Bow-Wow/Daddy_Wouldn't_Buy_Me_a_Bow-Wow.mxl\n",
      "C major 4/4\n",
      "transposing from key C major to C major using interval 0\n",
      "Unexpected error: <class 'subprocess.CalledProcessError'>\n",
      "OpenEWLD/dataset/Alfred_Hedenstierna-Wilhelm_Åström/Hjärtats_saga/Hjärtats_saga.mxl\n",
      "F major 6/8\n",
      "OpenEWLD/dataset/Gus_Kahn-Walter_Donaldson/My_Baby_Just_Cares_for_Me/My_Baby_Just_Cares_for_Me.mxl\n",
      "G major 2/2\n",
      "transposing from key G major to C major using interval 5\n"
     ]
    },
    {
     "name": "stderr",
     "output_type": "stream",
     "text": [
      "python: can't open file '/content/xml2abc_143/xml2abc.py': [Errno 2] No such file or directory\n",
      "python: can't open file '/content/xml2abc_143/xml2abc.py': [Errno 2] No such file or directory\n"
     ]
    },
    {
     "name": "stdout",
     "output_type": "stream",
     "text": [
      "Unexpected error: <class 'subprocess.CalledProcessError'>\n",
      "OpenEWLD/dataset/Bonnie_Lake-Eddie_DeLange-Jack_Jenney/The_Man_with_the_Horn/The_Man_with_the_Horn.mxl\n",
      "E- major 4/4\n",
      "transposing from key E- major to C major using interval -3\n",
      "Unexpected error: <class 'subprocess.CalledProcessError'>\n",
      "OpenEWLD/dataset/Charles_Wesley-Felix_Mendelssohn/Hark!_The_Herald_Angels_Sing/Hark!_The_Herald_Angels_Sing.mxl\n",
      "G major 4/4\n",
      "transposing from key G major to C major using interval 5\n"
     ]
    },
    {
     "name": "stderr",
     "output_type": "stream",
     "text": [
      "python: can't open file '/content/xml2abc_143/xml2abc.py': [Errno 2] No such file or directory\n",
      "python: can't open file '/content/xml2abc_143/xml2abc.py': [Errno 2] No such file or directory\n"
     ]
    },
    {
     "name": "stdout",
     "output_type": "stream",
     "text": [
      "Unexpected error: <class 'subprocess.CalledProcessError'>\n",
      "OpenEWLD/dataset/Ira_Gershwin-Jerome_Kern/Long_Ago_and_Far_Away/Long_Ago_and_Far_Away.mxl\n",
      "F major 2/2\n",
      "transposing from key F major to C major using interval -5\n",
      "Unexpected error: <class 'subprocess.CalledProcessError'>\n",
      "OpenEWLD/dataset/George_Gershwin-Ira_Gershwin/Embraceable_You/Embraceable_You.mxl\n",
      "G major 4/4\n",
      "transposing from key G major to C major using interval 5\n"
     ]
    },
    {
     "name": "stderr",
     "output_type": "stream",
     "text": [
      "python: can't open file '/content/xml2abc_143/xml2abc.py': [Errno 2] No such file or directory\n",
      "python: can't open file '/content/xml2abc_143/xml2abc.py': [Errno 2] No such file or directory\n"
     ]
    },
    {
     "name": "stdout",
     "output_type": "stream",
     "text": [
      "Unexpected error: <class 'subprocess.CalledProcessError'>\n",
      "OpenEWLD/dataset/Jerome_Kern-Oscar_Hammerstein_II/Ol'_Man_River/Ol'_Man_River.mxl\n",
      "E- major 4/4\n",
      "transposing from key E- major to C major using interval -3\n",
      "Unexpected error: <class 'subprocess.CalledProcessError'>\n",
      "OpenEWLD/dataset/Jerome_Kern-Leo_Robin/In_Love_in_Vain/In_Love_in_Vain.mxl\n",
      "E- major 4/4\n",
      "transposing from key E- major to C major using interval -3\n"
     ]
    },
    {
     "name": "stderr",
     "output_type": "stream",
     "text": [
      "python: can't open file '/content/xml2abc_143/xml2abc.py': [Errno 2] No such file or directory\n",
      "python: can't open file '/content/xml2abc_143/xml2abc.py': [Errno 2] No such file or directory\n"
     ]
    },
    {
     "name": "stdout",
     "output_type": "stream",
     "text": [
      "Unexpected error: <class 'subprocess.CalledProcessError'>\n",
      "OpenEWLD/dataset/Charles_N._Daniels-Gus_Arnheim-Harry_Tobias/Sweet_and_Lovely/Sweet_and_Lovely.mxl\n",
      "C major 4/4\n",
      "transposing from key C major to C major using interval 0\n",
      "Unexpected error: <class 'subprocess.CalledProcessError'>\n",
      "OpenEWLD/dataset/Gus_Kahn-Walter_Donaldson/Carolina_in_the_Morning/Carolina_in_the_Morning.mxl\n",
      "C major 4/4\n",
      "transposing from key C major to C major using interval 0\n"
     ]
    },
    {
     "name": "stderr",
     "output_type": "stream",
     "text": [
      "python: can't open file '/content/xml2abc_143/xml2abc.py': [Errno 2] No such file or directory\n",
      "python: can't open file '/content/xml2abc_143/xml2abc.py': [Errno 2] No such file or directory\n"
     ]
    },
    {
     "name": "stdout",
     "output_type": "stream",
     "text": [
      "Unexpected error: <class 'subprocess.CalledProcessError'>\n",
      "OpenEWLD/dataset/George_Whiting-Walter_Donaldson/My_Blue_Heaven/My_Blue_Heaven.mxl\n",
      "E- major 4/4\n",
      "transposing from key E- major to C major using interval -3\n",
      "Unexpected error: <class 'subprocess.CalledProcessError'>\n",
      "OpenEWLD/dataset/Lorenz_Hart-Richard_Rodgers/It's_Easy_to_Remember_(And_So_Hard_to_Forget)/It's_Easy_to_Remember_(And_So_Hard_to_Forget).mxl\n",
      "E- major 4/4\n",
      "transposing from key E- major to C major using interval -3\n"
     ]
    },
    {
     "name": "stderr",
     "output_type": "stream",
     "text": [
      "python: can't open file '/content/xml2abc_143/xml2abc.py': [Errno 2] No such file or directory\n",
      "python: can't open file '/content/xml2abc_143/xml2abc.py': [Errno 2] No such file or directory\n"
     ]
    },
    {
     "name": "stdout",
     "output_type": "stream",
     "text": [
      "Unexpected error: <class 'subprocess.CalledProcessError'>\n",
      "OpenEWLD/dataset/Lorenz_Hart-Richard_Rodgers/Where_or_When/Where_or_When.mxl\n",
      "E- major 2/2\n",
      "transposing from key E- major to C major using interval -3\n",
      "Unexpected error: <class 'subprocess.CalledProcessError'>\n",
      "OpenEWLD/dataset/[Traditional]/What_Shall_We_Do_with_a_Drunken_Sailor?/What_Shall_We_Do_with_a_Drunken_Sailor?.mxl\n",
      "C major 4/4\n",
      "transposing from key C major to C major using interval 0\n"
     ]
    },
    {
     "name": "stderr",
     "output_type": "stream",
     "text": [
      "python: can't open file '/content/xml2abc_143/xml2abc.py': [Errno 2] No such file or directory\n"
     ]
    },
    {
     "name": "stdout",
     "output_type": "stream",
     "text": [
      "Unexpected error: <class 'subprocess.CalledProcessError'>\n",
      "OpenEWLD/dataset/Billy_Hill/In_the_Chapel_in_the_Moonlight/In_the_Chapel_in_the_Moonlight.mxl\n",
      "C major 2/2\n",
      "transposing from key C major to C major using interval 0\n"
     ]
    },
    {
     "name": "stderr",
     "output_type": "stream",
     "text": [
      "python: can't open file '/content/xml2abc_143/xml2abc.py': [Errno 2] No such file or directory\n",
      "python: can't open file '/content/xml2abc_143/xml2abc.py': [Errno 2] No such file or directory\n"
     ]
    },
    {
     "name": "stdout",
     "output_type": "stream",
     "text": [
      "Unexpected error: <class 'subprocess.CalledProcessError'>\n",
      "OpenEWLD/dataset/George_Gershwin-Ira_Gershwin/Strike_Up_the_Band/Strike_Up_the_Band.mxl\n",
      "B- major 2/2\n",
      "transposing from key B- major to C major using interval 2\n",
      "Unexpected error: <class 'subprocess.CalledProcessError'>\n",
      "OpenEWLD/dataset/[Traditional]/For_He's_a_Jolly_Good_Fellow/For_He's_a_Jolly_Good_Fellow.mxl\n",
      "F major 6/8\n",
      "OpenEWLD/dataset/Gus_Kahn-Isham_Jones/Swingin'_down_the_Lane/Swingin'_down_the_Lane.mxl\n",
      "F major 4/4\n",
      "transposing from key F major to C major using interval -5\n"
     ]
    },
    {
     "name": "stderr",
     "output_type": "stream",
     "text": [
      "python: can't open file '/content/xml2abc_143/xml2abc.py': [Errno 2] No such file or directory\n",
      "python: can't open file '/content/xml2abc_143/xml2abc.py': [Errno 2] No such file or directory\n"
     ]
    },
    {
     "name": "stdout",
     "output_type": "stream",
     "text": [
      "Unexpected error: <class 'subprocess.CalledProcessError'>\n",
      "OpenEWLD/dataset/Jimmy_Monaco-Mack_Gordon/I'm_Making_Believe/I'm_Making_Believe.mxl\n",
      "B- major 4/4\n",
      "transposing from key B- major to C major using interval 2\n",
      "Unexpected error: <class 'subprocess.CalledProcessError'>\n",
      "OpenEWLD/dataset/George_Gershwin-Ira_Gershwin/Isn't_It_a_Pity?/Isn't_It_a_Pity?.mxl\n",
      "C major 4/4\n",
      "transposing from key C major to C major using interval 0\n"
     ]
    },
    {
     "name": "stderr",
     "output_type": "stream",
     "text": [
      "python: can't open file '/content/xml2abc_143/xml2abc.py': [Errno 2] No such file or directory\n"
     ]
    },
    {
     "name": "stdout",
     "output_type": "stream",
     "text": [
      "Unexpected error: <class 'subprocess.CalledProcessError'>\n",
      "OpenEWLD/dataset/Al_Dubin-Joe_Burke/Dancing_with_Tears_in_My_Eyes/Dancing_with_Tears_in_My_Eyes.mxl\n",
      "E- major 3/4\n",
      "OpenEWLD/dataset/John_Henry_Hopkins_Jr./We_Three_Kings/We_Three_Kings.mxl\n",
      "None None\n",
      "OpenEWLD/dataset/Billy_Rose-Edward_Eliscu-Vincent_Youmans/More_Than_You_Know/More_Than_You_Know.mxl\n",
      "E- major 4/4\n",
      "transposing from key E- major to C major using interval -3\n"
     ]
    },
    {
     "name": "stderr",
     "output_type": "stream",
     "text": [
      "python: can't open file '/content/xml2abc_143/xml2abc.py': [Errno 2] No such file or directory\n",
      "python: can't open file '/content/xml2abc_143/xml2abc.py': [Errno 2] No such file or directory\n"
     ]
    },
    {
     "name": "stdout",
     "output_type": "stream",
     "text": [
      "Unexpected error: <class 'subprocess.CalledProcessError'>\n",
      "OpenEWLD/dataset/Gus_Kahn-Walter_Donaldson/My_Buddy/My_Buddy.mxl\n",
      "G major 3/4\n",
      "OpenEWLD/dataset/Enrique_P._Maroni-Gerardo_Matos_Rodríguez-Pascual_Contursi/La_cumparsita/La_cumparsita.mxl\n",
      "B- major 4/4\n",
      "transposing from key B- major to C major using interval 2\n",
      "Unexpected error: <class 'subprocess.CalledProcessError'>\n",
      "OpenEWLD/dataset/B.G._DeSylva-Jerome_Kern/Look_for_the_Silver_Lining/Look_for_the_Silver_Lining.mxl\n",
      "F major 4/4\n",
      "transposing from key F major to C major using interval -5\n"
     ]
    },
    {
     "name": "stderr",
     "output_type": "stream",
     "text": [
      "python: can't open file '/content/xml2abc_143/xml2abc.py': [Errno 2] No such file or directory\n",
      "python: can't open file '/content/xml2abc_143/xml2abc.py': [Errno 2] No such file or directory\n"
     ]
    },
    {
     "name": "stdout",
     "output_type": "stream",
     "text": [
      "Unexpected error: <class 'subprocess.CalledProcessError'>\n",
      "OpenEWLD/dataset/Luigi_Denza-Peppino_Turco/Funiculì_funiculà/Funiculì_funiculà.mxl\n",
      "C major 6/8\n",
      "OpenEWLD/dataset/Frank_Churchill-Larry_Morey/Whistle_While_You_Work/Whistle_While_You_Work.mxl\n",
      "C major 4/4\n",
      "transposing from key C major to C major using interval 0\n",
      "Unexpected error: <class 'subprocess.CalledProcessError'>\n",
      "OpenEWLD/dataset/George_Gershwin-Ira_Gershwin/A_Foggy_Day/A_Foggy_Day.mxl\n",
      "F major 2/2\n",
      "transposing from key F major to C major using interval -5\n"
     ]
    },
    {
     "name": "stderr",
     "output_type": "stream",
     "text": [
      "python: can't open file '/content/xml2abc_143/xml2abc.py': [Errno 2] No such file or directory\n",
      "python: can't open file '/content/xml2abc_143/xml2abc.py': [Errno 2] No such file or directory\n"
     ]
    },
    {
     "name": "stdout",
     "output_type": "stream",
     "text": [
      "Unexpected error: <class 'subprocess.CalledProcessError'>\n",
      "OpenEWLD/dataset/Henry_Blossom-Victor_Herbert/Kiss_Me_Again/Kiss_Me_Again.mxl\n",
      "G major 3/4\n",
      "OpenEWLD/dataset/Clarence_Gaskill-Leo_Robin-Russ_Columbo/Prisoner_of_Love/Prisoner_of_Love.mxl\n",
      "E- major 4/4\n",
      "transposing from key E- major to C major using interval -3\n",
      "Unexpected error: <class 'subprocess.CalledProcessError'>\n",
      "OpenEWLD/dataset/Charles_Austin_Miles/In_the_Garden/In_the_Garden.mxl\n",
      "None None\n",
      "OpenEWLD/dataset/Isaac_Watts-Lowell_Mason/Joy_to_the_World/Joy_to_the_World.mxl\n",
      "C major 2/4\n",
      "OpenEWLD/dataset/John_W._Bratton/The_Teddy_Bears_Picnic/The_Teddy_Bears_Picnic.mxl\n",
      "E- major 6/8\n",
      "OpenEWLD/dataset/Bert_Lee-Harris_Weston/Knees_Up_Mother_Brown!/Knees_Up_Mother_Brown!.mxl\n",
      "C major 4/4\n",
      "transposing from key C major to C major using interval 0\n",
      "Unexpected error: <class 'subprocess.CalledProcessError'>\n",
      "OpenEWLD/dataset/Claude_Debussy/Rêverie/Rêverie.mxl\n",
      "F major 4/4\n",
      "transposing from key F major to C major using interval -5\n"
     ]
    },
    {
     "name": "stderr",
     "output_type": "stream",
     "text": [
      "python: can't open file '/content/xml2abc_143/xml2abc.py': [Errno 2] No such file or directory\n",
      "python: can't open file '/content/xml2abc_143/xml2abc.py': [Errno 2] No such file or directory\n",
      "python: can't open file '/content/xml2abc_143/xml2abc.py': [Errno 2] No such file or directory\n"
     ]
    },
    {
     "name": "stdout",
     "output_type": "stream",
     "text": [
      "Unexpected error: <class 'subprocess.CalledProcessError'>\n",
      "OpenEWLD/dataset/Lorenz_Hart-Richard_Rodgers/With_a_Song_in_My_Heart/With_a_Song_in_My_Heart.mxl\n",
      "C major 2/2\n",
      "transposing from key C major to C major using interval 0\n",
      "Unexpected error: <class 'subprocess.CalledProcessError'>\n",
      "OpenEWLD/dataset/George_Gershwin-Ira_Gershwin/But_Not_for_Me/But_Not_for_Me.mxl\n",
      "E- major 2/2\n",
      "transposing from key E- major to C major using interval -3\n"
     ]
    },
    {
     "name": "stderr",
     "output_type": "stream",
     "text": [
      "python: can't open file '/content/xml2abc_143/xml2abc.py': [Errno 2] No such file or directory\n",
      "python: can't open file '/content/xml2abc_143/xml2abc.py': [Errno 2] No such file or directory\n"
     ]
    },
    {
     "name": "stdout",
     "output_type": "stream",
     "text": [
      "Unexpected error: <class 'subprocess.CalledProcessError'>\n",
      "OpenEWLD/dataset/Harry_Von_Tilzer-Will_Dillon/I_Want_a_Girl_(Just_Like_the_Girl_That_Married_Dear_Old_Dad)/I_Want_a_Girl_(Just_Like_the_Girl_That_Married_Dear_Old_Dad).mxl\n",
      "C major 2/4\n",
      "OpenEWLD/dataset/Erno_Rapee-Lew_Pollack/Charmaine/Charmaine.mxl\n",
      "F major 3/4\n",
      "OpenEWLD/dataset/Jesse_Greer-Raymond_Klages/Just_You,_Just_Me/Just_You,_Just_Me.mxl\n",
      "C major 2/2\n",
      "transposing from key C major to C major using interval 0\n",
      "Unexpected error: <class 'subprocess.CalledProcessError'>\n",
      "OpenEWLD/dataset/Jerome_Kern-Oscar_Hammerstein_II/Nobody_Else_but_Me/Nobody_Else_but_Me.mxl\n",
      "C major 4/4\n",
      "transposing from key C major to C major using interval 0\n",
      "Unexpected error: <class 'subprocess.CalledProcessError'>\n",
      "OpenEWLD/dataset/Raymond_B._Egan-Richard_A._Whiting/Till_We_Meet_Again/Till_We_Meet_Again.mxl\n",
      "G major 3/4\n",
      "OpenEWLD/dataset/Billy_Rose-Edward_Eliscu-Vincent_Youmans/Great_Day/Great_Day.mxl\n",
      "E- major 2/2\n",
      "transposing from key E- major to C major using interval -3\n"
     ]
    },
    {
     "name": "stderr",
     "output_type": "stream",
     "text": [
      "python: can't open file '/content/xml2abc_143/xml2abc.py': [Errno 2] No such file or directory\n",
      "python: can't open file '/content/xml2abc_143/xml2abc.py': [Errno 2] No such file or directory\n"
     ]
    },
    {
     "name": "stdout",
     "output_type": "stream",
     "text": [
      "Unexpected error: <class 'subprocess.CalledProcessError'>\n",
      "OpenEWLD/dataset/Gus_Kahn/The_Hour_of_Parting/The_Hour_of_Parting.mxl\n",
      "C major 2/2\n",
      "transposing from key C major to C major using interval 0\n",
      "Unexpected error: <class 'subprocess.CalledProcessError'>\n",
      "OpenEWLD/dataset/Benjamin_Russell_Hanby/Up_on_the_Housetop/Up_on_the_Housetop.mxl\n",
      "C major 4/4\n",
      "transposing from key C major to C major using interval 0\n"
     ]
    },
    {
     "name": "stderr",
     "output_type": "stream",
     "text": [
      "python: can't open file '/content/xml2abc_143/xml2abc.py': [Errno 2] No such file or directory\n",
      "python: can't open file '/content/xml2abc_143/xml2abc.py': [Errno 2] No such file or directory\n"
     ]
    },
    {
     "name": "stdout",
     "output_type": "stream",
     "text": [
      "Unexpected error: <class 'subprocess.CalledProcessError'>\n",
      "OpenEWLD/dataset/Jimmy_Monaco-Joseph_McCarthy/You_Made_Me_Love_You/You_Made_Me_Love_You.mxl\n",
      "C major 4/4\n",
      "transposing from key C major to C major using interval 0\n",
      "Unexpected error: <class 'subprocess.CalledProcessError'>\n",
      "OpenEWLD/dataset/Benny_Davis-Con_Conrad-J._Russel_Robinson/Margie/Margie.mxl\n"
     ]
    },
    {
     "name": "stderr",
     "output_type": "stream",
     "text": [
      "python: can't open file '/content/xml2abc_143/xml2abc.py': [Errno 2] No such file or directory\n",
      "python: can't open file '/content/xml2abc_143/xml2abc.py': [Errno 2] No such file or directory\n"
     ]
    },
    {
     "name": "stdout",
     "output_type": "stream",
     "text": [
      "D major 4/4\n",
      "transposing from key D major to C major using interval -2\n",
      "Unexpected error: <class 'subprocess.CalledProcessError'>\n",
      "OpenEWLD/dataset/Francis_McPeake-Robert_Tannahill/Wild_Mountain_Thyme/Wild_Mountain_Thyme.mxl\n",
      "C major 4/4\n",
      "transposing from key C major to C major using interval 0\n"
     ]
    },
    {
     "name": "stderr",
     "output_type": "stream",
     "text": [
      "python: can't open file '/content/xml2abc_143/xml2abc.py': [Errno 2] No such file or directory\n",
      "python: can't open file '/content/xml2abc_143/xml2abc.py': [Errno 2] No such file or directory\n"
     ]
    },
    {
     "name": "stdout",
     "output_type": "stream",
     "text": [
      "Unexpected error: <class 'subprocess.CalledProcessError'>\n",
      "OpenEWLD/dataset/Billy_Hill-Peter_De_Rose/Wagon_Wheels/Wagon_Wheels.mxl\n",
      "C major 4/4\n",
      "transposing from key C major to C major using interval 0\n",
      "Unexpected error: <class 'subprocess.CalledProcessError'>\n",
      "OpenEWLD/dataset/[Traditional]/Drink_to_Me_Only_with_Thine_Eyes/Drink_to_Me_Only_with_Thine_Eyes.mxl\n",
      "C major 3/4\n",
      "OpenEWLD/dataset/[Traditional]/Molly_Malone/Molly_Malone.mxl\n",
      "G major 3/4\n",
      "OpenEWLD/dataset/DuBose_Heyward-George_Gershwin-Ira_Gershwin/My_Man's_Gone_Now/My_Man's_Gone_Now.mxl\n",
      "F major 3/4\n",
      "OpenEWLD/dataset/Robert_Johnson/I_Believe_I'll_Dust_My_Broom/I_Believe_I'll_Dust_My_Broom.mxl\n",
      "D major 4/4\n",
      "transposing from key D major to C major using interval -2\n",
      "Unexpected error: <class 'subprocess.CalledProcessError'>\n",
      "OpenEWLD/dataset/Jerome_Kern-P.G._Wodehouse/Bill/Bill.mxl\n",
      "C major 4/4\n",
      "transposing from key C major to C major using interval 0\n"
     ]
    },
    {
     "name": "stderr",
     "output_type": "stream",
     "text": [
      "python: can't open file '/content/xml2abc_143/xml2abc.py': [Errno 2] No such file or directory\n",
      "python: can't open file '/content/xml2abc_143/xml2abc.py': [Errno 2] No such file or directory\n"
     ]
    },
    {
     "name": "stdout",
     "output_type": "stream",
     "text": [
      "Unexpected error: <class 'subprocess.CalledProcessError'>\n",
      "OpenEWLD/dataset/Nat_Schwartz-Walter_Kent/(There'll_Be_Bluebirds_Over)_The_White_Cliffs_of_Dover/(There'll_Be_Bluebirds_Over)_The_White_Cliffs_of_Dover.mxl\n",
      "E- major 4/4\n",
      "transposing from key E- major to C major using interval -3\n",
      "Unexpected error: <class 'subprocess.CalledProcessError'>\n",
      "OpenEWLD/dataset/George_L._Cobb-Jack_Yellen/Alabama_Jubilee/Alabama_Jubilee.mxl\n",
      "C major 4/4\n",
      "transposing from key C major to C major using interval 0\n"
     ]
    },
    {
     "name": "stderr",
     "output_type": "stream",
     "text": [
      "python: can't open file '/content/xml2abc_143/xml2abc.py': [Errno 2] No such file or directory\n",
      "python: can't open file '/content/xml2abc_143/xml2abc.py': [Errno 2] No such file or directory\n"
     ]
    },
    {
     "name": "stdout",
     "output_type": "stream",
     "text": [
      "Unexpected error: <class 'subprocess.CalledProcessError'>\n",
      "OpenEWLD/dataset/[Traditional]/Scarborough_Fair/Scarborough_Fair.mxl\n",
      "F major 3/4\n",
      "OpenEWLD/dataset/[Traditional]/Were_You_There_When_They_Crucified_My_Lord/Were_You_There_When_They_Crucified_My_Lord.mxl\n",
      "None None\n",
      "OpenEWLD/dataset/Clarence_Williams-Fats_Waller/Squeeze_Me/Squeeze_Me.mxl\n",
      "F major 2/2\n",
      "transposing from key F major to C major using interval -5\n"
     ]
    },
    {
     "name": "stderr",
     "output_type": "stream",
     "text": [
      "python: can't open file '/content/xml2abc_143/xml2abc.py': [Errno 2] No such file or directory\n",
      "python: can't open file '/content/xml2abc_143/xml2abc.py': [Errno 2] No such file or directory\n"
     ]
    },
    {
     "name": "stdout",
     "output_type": "stream",
     "text": [
      "Unexpected error: <class 'subprocess.CalledProcessError'>\n",
      "OpenEWLD/dataset/Al_Dubin-Harry_Warren/Shadow_Waltz/Shadow_Waltz.mxl\n",
      "C major 3/4\n",
      "OpenEWLD/dataset/Stephen_Foster/Jeanie_with_the_Light_Brown_Hair/Jeanie_with_the_Light_Brown_Hair.mxl\n",
      "C major 4/4\n",
      "transposing from key C major to C major using interval 0\n",
      "Unexpected error: <class 'subprocess.CalledProcessError'>\n",
      "OpenEWLD/dataset/Fred_Godfrey-Mark_Sheridan/Who_Were_You_with_Last_Night/Who_Were_You_with_Last_Night.mxl\n",
      "D major 2/4\n",
      "OpenEWLD/dataset/Rida_Johnson_Young-Victor_Herbert/I'm_Falling_in_Love_with_Someone/I'm_Falling_in_Love_with_Someone.mxl\n",
      "F major 3/4\n",
      "OpenEWLD/dataset/Al_Dubin-Fred_Rath-Jos_Garren/Just_a_Girl_That_Men_Forget/Just_a_Girl_That_Men_Forget.mxl\n",
      "G major 3/4\n",
      "OpenEWLD/dataset/Frederick_Oakeley/O_Come,_All_Ye_Faithful/O_Come,_All_Ye_Faithful.mxl\n",
      "G major 4/4\n",
      "transposing from key G major to C major using interval 5\n"
     ]
    },
    {
     "name": "stderr",
     "output_type": "stream",
     "text": [
      "python: can't open file '/content/xml2abc_143/xml2abc.py': [Errno 2] No such file or directory\n",
      "python: can't open file '/content/xml2abc_143/xml2abc.py': [Errno 2] No such file or directory\n"
     ]
    },
    {
     "name": "stdout",
     "output_type": "stream",
     "text": [
      "Unexpected error: <class 'subprocess.CalledProcessError'>\n",
      "OpenEWLD/dataset/Dorothy_Parker-Ralph_Rainger/I_Wished_on_the_Moon/I_Wished_on_the_Moon.mxl\n",
      "B- major 4/4\n",
      "transposing from key B- major to C major using interval 2\n",
      "Unexpected error: <class 'subprocess.CalledProcessError'>\n",
      "OpenEWLD/dataset/[Traditional]/The_Quartermaster's_Stores/The_Quartermaster's_Stores.mxl\n",
      "G major 4/4\n",
      "transposing from key G major to C major using interval 5\n"
     ]
    },
    {
     "name": "stderr",
     "output_type": "stream",
     "text": [
      "python: can't open file '/content/xml2abc_143/xml2abc.py': [Errno 2] No such file or directory\n",
      "python: can't open file '/content/xml2abc_143/xml2abc.py': [Errno 2] No such file or directory\n"
     ]
    },
    {
     "name": "stdout",
     "output_type": "stream",
     "text": [
      "Unexpected error: <class 'subprocess.CalledProcessError'>\n",
      "OpenEWLD/dataset/Leo_Robin-Ralph_Rainger/June_in_January/June_in_January.mxl\n",
      "E- major 4/4\n",
      "transposing from key E- major to C major using interval -3\n",
      "Unexpected error: <class 'subprocess.CalledProcessError'>\n",
      "OpenEWLD/dataset/[Traditional]/Swing_Low,_Sweet_Chariot/Swing_Low,_Sweet_Chariot.mxl\n",
      "G major 4/4\n",
      "transposing from key G major to C major using interval 5\n"
     ]
    },
    {
     "name": "stderr",
     "output_type": "stream",
     "text": [
      "python: can't open file '/content/xml2abc_143/xml2abc.py': [Errno 2] No such file or directory\n",
      "python: can't open file '/content/xml2abc_143/xml2abc.py': [Errno 2] No such file or directory\n"
     ]
    },
    {
     "name": "stdout",
     "output_type": "stream",
     "text": [
      "Unexpected error: <class 'subprocess.CalledProcessError'>\n",
      "OpenEWLD/dataset/[Traditional]/Mademoiselle_from_Armentières/Mademoiselle_from_Armentières.mxl\n",
      "G major 6/8\n",
      "OpenEWLD/dataset/[Traditional]/Shenandoah/Shenandoah.mxl\n",
      "F major 4/4\n",
      "transposing from key F major to C major using interval -5\n",
      "Unexpected error: <class 'subprocess.CalledProcessError'>\n",
      "OpenEWLD/dataset/Al_Dubin-Harry_Warren/You're_Getting_to_Be_a_Habit_with_Me/You're_Getting_to_Be_a_Habit_with_Me.mxl\n",
      "F major 4/4\n",
      "transposing from key F major to C major using interval -5\n"
     ]
    },
    {
     "name": "stderr",
     "output_type": "stream",
     "text": [
      "python: can't open file '/content/xml2abc_143/xml2abc.py': [Errno 2] No such file or directory\n",
      "python: can't open file '/content/xml2abc_143/xml2abc.py': [Errno 2] No such file or directory\n"
     ]
    },
    {
     "name": "stdout",
     "output_type": "stream",
     "text": [
      "Unexpected error: <class 'subprocess.CalledProcessError'>\n",
      "OpenEWLD/dataset/George_F._Root/The_Battle_Cry_of_Freedom/The_Battle_Cry_of_Freedom.mxl\n",
      "G major 4/4\n",
      "transposing from key G major to C major using interval 5\n",
      "Unexpected error: <class 'subprocess.CalledProcessError'>\n",
      "OpenEWLD/dataset/Sebastián_Yradier/La_paloma/La_paloma.mxl\n",
      "C major 4/4\n",
      "transposing from key C major to C major using interval 0\n"
     ]
    },
    {
     "name": "stderr",
     "output_type": "stream",
     "text": [
      "python: can't open file '/content/xml2abc_143/xml2abc.py': [Errno 2] No such file or directory\n",
      "python: can't open file '/content/xml2abc_143/xml2abc.py': [Errno 2] No such file or directory\n"
     ]
    },
    {
     "name": "stdout",
     "output_type": "stream",
     "text": [
      "Unexpected error: <class 'subprocess.CalledProcessError'>\n",
      "OpenEWLD/dataset/Jerome_Kern-Oscar_Hammerstein_II/Why_Was_I_Born?/Why_Was_I_Born?.mxl\n",
      "E- major 2/2\n",
      "transposing from key E- major to C major using interval -3\n",
      "Unexpected error: <class 'subprocess.CalledProcessError'>\n",
      "OpenEWLD/dataset/L._Wolfe_Gilbert-Lewis_F._Muir/Waiting_for_the_Robert_E._Lee/Waiting_for_the_Robert_E._Lee.mxl\n",
      "C major 2/4\n",
      "OpenEWLD/dataset/[Traditional]/Polly_Wolly_Doodle/Polly_Wolly_Doodle.mxl\n",
      "C major 4/4\n",
      "transposing from key C major to C major using interval 0\n"
     ]
    },
    {
     "name": "stderr",
     "output_type": "stream",
     "text": [
      "python: can't open file '/content/xml2abc_143/xml2abc.py': [Errno 2] No such file or directory\n",
      "python: can't open file '/content/xml2abc_143/xml2abc.py': [Errno 2] No such file or directory\n"
     ]
    },
    {
     "name": "stdout",
     "output_type": "stream",
     "text": [
      "Unexpected error: <class 'subprocess.CalledProcessError'>\n",
      "OpenEWLD/dataset/Leo_Robin-Ralph_Rainger/Here_Lies_Love/Here_Lies_Love.mxl\n",
      "F major 4/4\n",
      "transposing from key F major to C major using interval -5\n",
      "Unexpected error: <class 'subprocess.CalledProcessError'>\n",
      "OpenEWLD/dataset/[Traditional]/Down_by_the_Riverside/Down_by_the_Riverside.mxl\n",
      "B- major 4/4\n",
      "transposing from key B- major to C major using interval 2\n"
     ]
    },
    {
     "name": "stderr",
     "output_type": "stream",
     "text": [
      "python: can't open file '/content/xml2abc_143/xml2abc.py': [Errno 2] No such file or directory\n"
     ]
    },
    {
     "name": "stdout",
     "output_type": "stream",
     "text": [
      "Unexpected error: <class 'subprocess.CalledProcessError'>\n",
      "OpenEWLD/dataset/Frederick_Ricketts/Colonel_Bogey_March/Colonel_Bogey_March.mxl\n",
      "D major 4/4\n",
      "transposing from key D major to C major using interval -2\n"
     ]
    },
    {
     "name": "stderr",
     "output_type": "stream",
     "text": [
      "python: can't open file '/content/xml2abc_143/xml2abc.py': [Errno 2] No such file or directory\n",
      "python: can't open file '/content/xml2abc_143/xml2abc.py': [Errno 2] No such file or directory\n"
     ]
    },
    {
     "name": "stdout",
     "output_type": "stream",
     "text": [
      "Unexpected error: <class 'subprocess.CalledProcessError'>\n",
      "OpenEWLD/dataset/Lorenz_Hart-Richard_Rodgers/Spring_Is_Here/Spring_Is_Here.mxl\n",
      "A- major 2/2\n",
      "transposing from key A- major to C major using interval 4\n",
      "Unexpected error: <class 'subprocess.CalledProcessError'>\n",
      "OpenEWLD/dataset/Septimus_Winner/Whispering_Hope/Whispering_Hope.mxl\n",
      "C major 3/4\n",
      "OpenEWLD/dataset/Johnny_Mercer-Victor_Schertzinger/I_Remember_You/I_Remember_You.mxl\n",
      "F major 4/4\n",
      "transposing from key F major to C major using interval -5\n"
     ]
    },
    {
     "name": "stderr",
     "output_type": "stream",
     "text": [
      "python: can't open file '/content/xml2abc_143/xml2abc.py': [Errno 2] No such file or directory\n",
      "python: can't open file '/content/xml2abc_143/xml2abc.py': [Errno 2] No such file or directory\n"
     ]
    },
    {
     "name": "stdout",
     "output_type": "stream",
     "text": [
      "Unexpected error: <class 'subprocess.CalledProcessError'>\n",
      "OpenEWLD/dataset/Douglas_Furber-Philip_Braham/Limehouse_Blues/Limehouse_Blues.mxl\n",
      "A- major 4/4\n",
      "transposing from key A- major to C major using interval 4\n",
      "Unexpected error: <class 'subprocess.CalledProcessError'>\n",
      "OpenEWLD/dataset/George_Gershwin-Ira_Gershwin/They_Can't_Take_That_Away_from_Me/They_Can't_Take_That_Away_from_Me.mxl\n",
      "E- major 2/2\n",
      "transposing from key E- major to C major using interval -3\n"
     ]
    },
    {
     "name": "stderr",
     "output_type": "stream",
     "text": [
      "python: can't open file '/content/xml2abc_143/xml2abc.py': [Errno 2] No such file or directory\n",
      "python: can't open file '/content/xml2abc_143/xml2abc.py': [Errno 2] No such file or directory\n"
     ]
    },
    {
     "name": "stdout",
     "output_type": "stream",
     "text": [
      "Unexpected error: <class 'subprocess.CalledProcessError'>\n",
      "OpenEWLD/dataset/Lorenz_Hart-Richard_Rodgers/The_Most_Beautiful_Girl_in_the_World/The_Most_Beautiful_Girl_in_the_World.mxl\n",
      "F major 3/4\n",
      "OpenEWLD/dataset/Andy_Razaf-Fats_Waller-Harry_Brooks/(What_Did_I_Do_to_Be_So)_Black_and_Blue?/(What_Did_I_Do_to_Be_So)_Black_and_Blue?.mxl\n",
      "C major 2/2\n",
      "transposing from key C major to C major using interval 0\n",
      "Unexpected error: <class 'subprocess.CalledProcessError'>\n",
      "OpenEWLD/dataset/Lorenz_Hart-Richard_Rodgers/I_Married_an_Angel/I_Married_an_Angel.mxl\n",
      "F major 2/2\n",
      "transposing from key F major to C major using interval -5\n"
     ]
    },
    {
     "name": "stderr",
     "output_type": "stream",
     "text": [
      "python: can't open file '/content/xml2abc_143/xml2abc.py': [Errno 2] No such file or directory\n",
      "python: can't open file '/content/xml2abc_143/xml2abc.py': [Errno 2] No such file or directory\n"
     ]
    },
    {
     "name": "stdout",
     "output_type": "stream",
     "text": [
      "Unexpected error: <class 'subprocess.CalledProcessError'>\n",
      "OpenEWLD/dataset/Arthur_Johnston-Gus_Kahn/Thanks_a_Million/Thanks_a_Million.mxl\n",
      "G major 2/2\n",
      "transposing from key G major to C major using interval 5\n",
      "Unexpected error: <class 'subprocess.CalledProcessError'>\n",
      "OpenEWLD/dataset/Fermo_Dante_Marchetti/Fascination/Fascination.mxl\n",
      "C major 3/4\n",
      "OpenEWLD/dataset/Hugh_Williams-Jimmy_Kennedy/Isle_of_Capri/Isle_of_Capri.mxl\n",
      "C major 4/4\n",
      "transposing from key C major to C major using interval 0\n"
     ]
    },
    {
     "name": "stderr",
     "output_type": "stream",
     "text": [
      "python: can't open file '/content/xml2abc_143/xml2abc.py': [Errno 2] No such file or directory\n",
      "python: can't open file '/content/xml2abc_143/xml2abc.py': [Errno 2] No such file or directory\n"
     ]
    },
    {
     "name": "stdout",
     "output_type": "stream",
     "text": [
      "Unexpected error: <class 'subprocess.CalledProcessError'>\n",
      "OpenEWLD/dataset/Grant_Clarke-James_Hanley/Second_Hand_Rose/Second_Hand_Rose.mxl\n",
      "F major 4/4\n",
      "transposing from key F major to C major using interval -5\n",
      "Unexpected error: <class 'subprocess.CalledProcessError'>\n",
      "OpenEWLD/dataset/Lou_Handman-Roy_Turk/Are_You_Lonesome_Tonight?/Are_You_Lonesome_Tonight?.mxl\n",
      "C major 3/4\n",
      "OpenEWLD/dataset/Leo_Robin-Ralph_Rainger/With_Every_Breath_I_Take/With_Every_Breath_I_Take.mxl\n",
      "F major 4/4\n",
      "transposing from key F major to C major using interval -5\n",
      "Unexpected error: <class 'subprocess.CalledProcessError'>\n",
      "OpenEWLD/dataset/Jerome_Kern-Oscar_Hammerstein_II/The_Last_Time_I_Saw_Paris/The_Last_Time_I_Saw_Paris.mxl\n",
      "C major 4/4\n",
      "transposing from key C major to C major using interval 0\n"
     ]
    },
    {
     "name": "stderr",
     "output_type": "stream",
     "text": [
      "python: can't open file '/content/xml2abc_143/xml2abc.py': [Errno 2] No such file or directory\n",
      "python: can't open file '/content/xml2abc_143/xml2abc.py': [Errno 2] No such file or directory\n"
     ]
    },
    {
     "name": "stdout",
     "output_type": "stream",
     "text": [
      "Unexpected error: <class 'subprocess.CalledProcessError'>\n",
      "OpenEWLD/dataset/Eugène_Pottier-Pierre_De_Geyter/L'Internationale/L'Internationale.mxl\n",
      "C major 2/4\n",
      "OpenEWLD/dataset/Carmen_Lombardo-Gus_Kahn-Johnny_Green/Coquette/Coquette.mxl\n",
      "D major 4/4\n",
      "transposing from key D major to C major using interval -2\n"
     ]
    },
    {
     "name": "stderr",
     "output_type": "stream",
     "text": [
      "python: can't open file '/content/xml2abc_143/xml2abc.py': [Errno 2] No such file or directory\n",
      "python: can't open file '/content/xml2abc_143/xml2abc.py': [Errno 2] No such file or directory\n"
     ]
    },
    {
     "name": "stdout",
     "output_type": "stream",
     "text": [
      "Unexpected error: <class 'subprocess.CalledProcessError'>\n",
      "OpenEWLD/dataset/Johannes_Brahms/Hungarian_Dance_No._5_in_F♯_minor/Hungarian_Dance_No._5_in_F♯_minor.mxl\n",
      "B- major 2/4\n",
      "OpenEWLD/dataset/Elsie_McWilliams-Jimmie_Rodgers/My_Little_Lady/My_Little_Lady.mxl\n",
      "D major 4/4\n",
      "transposing from key D major to C major using interval -2\n",
      "Unexpected error: <class 'subprocess.CalledProcessError'>\n",
      "OpenEWLD/dataset/[Traditional]/Banks_of_the_Ohio/Banks_of_the_Ohio.mxl\n",
      "C major 4/4\n",
      "transposing from key C major to C major using interval 0\n"
     ]
    },
    {
     "name": "stderr",
     "output_type": "stream",
     "text": [
      "python: can't open file '/content/xml2abc_143/xml2abc.py': [Errno 2] No such file or directory\n",
      "python: can't open file '/content/xml2abc_143/xml2abc.py': [Errno 2] No such file or directory\n"
     ]
    },
    {
     "name": "stdout",
     "output_type": "stream",
     "text": [
      "Unexpected error: <class 'subprocess.CalledProcessError'>\n",
      "OpenEWLD/dataset/Christina_Rossetti/In_the_Bleak_Midwinter/In_the_Bleak_Midwinter.mxl\n",
      "F major 4/4\n",
      "transposing from key F major to C major using interval -5\n",
      "Unexpected error: <class 'subprocess.CalledProcessError'>\n",
      "OpenEWLD/dataset/Jerome_Kern-Oscar_Hammerstein_II/Can't_Help_Lovin'_Dat_Man/Can't_Help_Lovin'_Dat_Man.mxl\n",
      "E- major 4/4\n",
      "transposing from key E- major to C major using interval -3\n"
     ]
    },
    {
     "name": "stderr",
     "output_type": "stream",
     "text": [
      "python: can't open file '/content/xml2abc_143/xml2abc.py': [Errno 2] No such file or directory\n"
     ]
    },
    {
     "name": "stdout",
     "output_type": "stream",
     "text": [
      "Unexpected error: <class 'subprocess.CalledProcessError'>\n",
      "OpenEWLD/dataset/Irving_Kahal-Pierre_Norman-Sammy_Fain/When_I_Take_My_Sugar_to_Tea/When_I_Take_My_Sugar_to_Tea.mxl\n",
      "F major 2/2\n",
      "transposing from key F major to C major using interval -5\n"
     ]
    },
    {
     "name": "stderr",
     "output_type": "stream",
     "text": [
      "python: can't open file '/content/xml2abc_143/xml2abc.py': [Errno 2] No such file or directory\n",
      "python: can't open file '/content/xml2abc_143/xml2abc.py': [Errno 2] No such file or directory\n"
     ]
    },
    {
     "name": "stdout",
     "output_type": "stream",
     "text": [
      "Unexpected error: <class 'subprocess.CalledProcessError'>\n",
      "OpenEWLD/dataset/Archie_Pitt/Oh_My_Beloved_Father/Oh_My_Beloved_Father.mxl\n",
      "G major 6/8\n",
      "OpenEWLD/dataset/B.G._DeSylva-Ballard_MacDonald-George_Gershwin/Somebody_Loves_Me/Somebody_Loves_Me.mxl\n",
      "G major 4/4\n",
      "transposing from key G major to C major using interval 5\n",
      "Unexpected error: <class 'subprocess.CalledProcessError'>\n",
      "OpenEWLD/dataset/Ben_Bernie-Kenneth_Casey-Maceo_Pinkard/Sweet_Georgia_Brown/Sweet_Georgia_Brown.mxl\n",
      "F major 4/4\n",
      "transposing from key F major to C major using interval -5\n"
     ]
    },
    {
     "name": "stderr",
     "output_type": "stream",
     "text": [
      "python: can't open file '/content/xml2abc_143/xml2abc.py': [Errno 2] No such file or directory\n"
     ]
    },
    {
     "name": "stdout",
     "output_type": "stream",
     "text": [
      "Unexpected error: <class 'subprocess.CalledProcessError'>\n",
      "OpenEWLD/dataset/Lena_Arent-Ma_Rainey/See_See_Rider_Blues/See_See_Rider_Blues.mxl\n",
      "C major 4/4\n",
      "transposing from key C major to C major using interval 0\n"
     ]
    },
    {
     "name": "stderr",
     "output_type": "stream",
     "text": [
      "python: can't open file '/content/xml2abc_143/xml2abc.py': [Errno 2] No such file or directory\n",
      "python: can't open file '/content/xml2abc_143/xml2abc.py': [Errno 2] No such file or directory\n"
     ]
    },
    {
     "name": "stdout",
     "output_type": "stream",
     "text": [
      "Unexpected error: <class 'subprocess.CalledProcessError'>\n",
      "OpenEWLD/dataset/Lorenz_Hart-Richard_Rodgers/I_Didn't_Know_What_Time_It_Was/I_Didn't_Know_What_Time_It_Was.mxl\n",
      "G major 4/4\n",
      "transposing from key G major to C major using interval 5\n",
      "Unexpected error: <class 'subprocess.CalledProcessError'>\n",
      "OpenEWLD/dataset/George_Gershwin-Gus_Kahn-Ira_Gershwin/Liza_(All_the_Clouds'll_Roll_Away)/Liza_(All_the_Clouds'll_Roll_Away).mxl\n",
      "E- major 4/4\n",
      "transposing from key E- major to C major using interval -3\n"
     ]
    },
    {
     "name": "stderr",
     "output_type": "stream",
     "text": [
      "python: can't open file '/content/xml2abc_143/xml2abc.py': [Errno 2] No such file or directory\n",
      "python: can't open file '/content/xml2abc_143/xml2abc.py': [Errno 2] No such file or directory\n"
     ]
    },
    {
     "name": "stdout",
     "output_type": "stream",
     "text": [
      "Unexpected error: <class 'subprocess.CalledProcessError'>\n",
      "OpenEWLD/dataset/Gus_Kahn-Isham_Jones/The_One_I_Love_Belongs_to_Somebody_Else/The_One_I_Love_Belongs_to_Somebody_Else.mxl\n",
      "G major 2/2\n",
      "transposing from key G major to C major using interval 5\n",
      "Unexpected error: <class 'subprocess.CalledProcessError'>\n",
      "OpenEWLD/dataset/Al_Dubin-Harry_Warren/I'll_String_Along_with_You/I'll_String_Along_with_You.mxl\n",
      "E- major 2/2\n",
      "transposing from key E- major to C major using interval -3\n"
     ]
    },
    {
     "name": "stderr",
     "output_type": "stream",
     "text": [
      "python: can't open file '/content/xml2abc_143/xml2abc.py': [Errno 2] No such file or directory\n"
     ]
    },
    {
     "name": "stdout",
     "output_type": "stream",
     "text": [
      "Unexpected error: <class 'subprocess.CalledProcessError'>\n",
      "OpenEWLD/dataset/Bubber_Miley-Duke_Ellington/Black_and_Tan_Fantasy/Black_and_Tan_Fantasy.mxl\n",
      "D- major 4/4\n",
      "transposing from key D- major to C major using interval -1\n"
     ]
    },
    {
     "name": "stderr",
     "output_type": "stream",
     "text": [
      "python: can't open file '/content/xml2abc_143/xml2abc.py': [Errno 2] No such file or directory\n",
      "python: can't open file '/content/xml2abc_143/xml2abc.py': [Errno 2] No such file or directory\n"
     ]
    },
    {
     "name": "stdout",
     "output_type": "stream",
     "text": [
      "Unexpected error: <class 'subprocess.CalledProcessError'>\n",
      "OpenEWLD/dataset/Stephen_Foster/My_Old_Kentucky_Home_-_Good-Night!/My_Old_Kentucky_Home_-_Good-Night!.mxl\n",
      "D major 4/4\n",
      "transposing from key D major to C major using interval -2\n",
      "Unexpected error: <class 'subprocess.CalledProcessError'>\n",
      "OpenEWLD/dataset/Jack_Mahoney-Percy_Wenrich/When_You_Wore_a_Tulip_and_I_Wore_a_Big_Red_Rose/When_You_Wore_a_Tulip_and_I_Wore_a_Big_Red_Rose.mxl\n",
      "G major 4/4\n",
      "transposing from key G major to C major using interval 5\n"
     ]
    },
    {
     "name": "stderr",
     "output_type": "stream",
     "text": [
      "python: can't open file '/content/xml2abc_143/xml2abc.py': [Errno 2] No such file or directory\n",
      "python: can't open file '/content/xml2abc_143/xml2abc.py': [Errno 2] No such file or directory\n"
     ]
    },
    {
     "name": "stdout",
     "output_type": "stream",
     "text": [
      "Unexpected error: <class 'subprocess.CalledProcessError'>\n",
      "OpenEWLD/dataset/Alfred_Bryan-Fred_Fisher/Peg_O'_My_Heart/Peg_O'_My_Heart.mxl\n",
      "B- major 4/4\n",
      "transposing from key B- major to C major using interval 2\n",
      "Unexpected error: <class 'subprocess.CalledProcessError'>\n",
      "OpenEWLD/dataset/John_Hughes_[1]/Calon_Lân/Calon_Lân.mxl\n",
      "F major 3/4\n",
      "OpenEWLD/dataset/Charles_Tobias-Roy_Turk/After_My_Laughter_Came_Tears/After_My_Laughter_Came_Tears.mxl\n",
      "G major 4/4\n",
      "transposing from key G major to C major using interval 5\n"
     ]
    },
    {
     "name": "stderr",
     "output_type": "stream",
     "text": [
      "python: can't open file '/content/xml2abc_143/xml2abc.py': [Errno 2] No such file or directory\n",
      "python: can't open file '/content/xml2abc_143/xml2abc.py': [Errno 2] No such file or directory\n"
     ]
    },
    {
     "name": "stdout",
     "output_type": "stream",
     "text": [
      "Unexpected error: <class 'subprocess.CalledProcessError'>\n",
      "OpenEWLD/dataset/Annie_MacLeod-Sir_Harold_Boulton/The_Skye_Boat_Song/The_Skye_Boat_Song.mxl\n",
      "G major 3/4\n",
      "OpenEWLD/dataset/B.G._DeSylva-George_Gershwin/Do_It_Again/Do_It_Again.mxl\n",
      "F major 2/2\n",
      "transposing from key F major to C major using interval -5\n",
      "Unexpected error: <class 'subprocess.CalledProcessError'>\n",
      "OpenEWLD/dataset/Dorothy_Fields-Jerome_Kern/A_Fine_Romance/A_Fine_Romance.mxl\n",
      "C major 4/4\n",
      "transposing from key C major to C major using interval 0\n"
     ]
    },
    {
     "name": "stderr",
     "output_type": "stream",
     "text": [
      "python: can't open file '/content/xml2abc_143/xml2abc.py': [Errno 2] No such file or directory\n"
     ]
    },
    {
     "name": "stdout",
     "output_type": "stream",
     "text": [
      "Unexpected error: <class 'subprocess.CalledProcessError'>\n",
      "OpenEWLD/dataset/Frank_Loesser-George_Terry-Victor_Schertzinger/Kiss_the_Boys_Goodbye/Kiss_the_Boys_Goodbye.mxl\n",
      "C major 4/4\n",
      "transposing from key C major to C major using interval 0\n"
     ]
    },
    {
     "name": "stderr",
     "output_type": "stream",
     "text": [
      "python: can't open file '/content/xml2abc_143/xml2abc.py': [Errno 2] No such file or directory\n",
      "python: can't open file '/content/xml2abc_143/xml2abc.py': [Errno 2] No such file or directory\n"
     ]
    },
    {
     "name": "stdout",
     "output_type": "stream",
     "text": [
      "Unexpected error: <class 'subprocess.CalledProcessError'>\n",
      "OpenEWLD/dataset/Lorenzo_Barcelata_Castro/Maria_Elena/Maria_Elena.mxl\n",
      "C major 4/4\n",
      "transposing from key C major to C major using interval 0\n",
      "Unexpected error: <class 'subprocess.CalledProcessError'>\n",
      "OpenEWLD/dataset/Dick_Smith-Felix_Bernard/Winter_Wonderland/Winter_Wonderland.mxl\n",
      "C major 4/4\n",
      "transposing from key C major to C major using interval 0\n"
     ]
    },
    {
     "name": "stderr",
     "output_type": "stream",
     "text": [
      "python: can't open file '/content/xml2abc_143/xml2abc.py': [Errno 2] No such file or directory\n"
     ]
    },
    {
     "name": "stdout",
     "output_type": "stream",
     "text": [
      "Unexpected error: <class 'subprocess.CalledProcessError'>\n",
      "OpenEWLD/dataset/Lorenz_Hart-Richard_Rodgers/Thou_Swell/Thou_Swell.mxl\n",
      "E- major 2/2\n",
      "transposing from key E- major to C major using interval -3\n"
     ]
    },
    {
     "name": "stderr",
     "output_type": "stream",
     "text": [
      "python: can't open file '/content/xml2abc_143/xml2abc.py': [Errno 2] No such file or directory\n",
      "python: can't open file '/content/xml2abc_143/xml2abc.py': [Errno 2] No such file or directory\n"
     ]
    },
    {
     "name": "stdout",
     "output_type": "stream",
     "text": [
      "Unexpected error: <class 'subprocess.CalledProcessError'>\n",
      "OpenEWLD/dataset/Lorenz_Hart-Richard_Rodgers/It_Never_Entered_My_Mind/It_Never_Entered_My_Mind.mxl\n",
      "F major 4/4\n",
      "transposing from key F major to C major using interval -5\n",
      "Unexpected error: <class 'subprocess.CalledProcessError'>\n",
      "OpenEWLD/dataset/Bennie_Moten-Buster_Moten/Moten_Swing/Moten_Swing.mxl\n",
      "E- major 4/4\n",
      "transposing from key E- major to C major using interval -3\n"
     ]
    },
    {
     "name": "stderr",
     "output_type": "stream",
     "text": [
      "python: can't open file '/content/xml2abc_143/xml2abc.py': [Errno 2] No such file or directory\n",
      "python: can't open file '/content/xml2abc_143/xml2abc.py': [Errno 2] No such file or directory\n"
     ]
    },
    {
     "name": "stdout",
     "output_type": "stream",
     "text": [
      "Unexpected error: <class 'subprocess.CalledProcessError'>\n",
      "OpenEWLD/dataset/Gus_Kahn-Walter_Donaldson/Yes_Sir,_That's_My_Baby/Yes_Sir,_That's_My_Baby.mxl\n",
      "E- major 2/2\n",
      "transposing from key E- major to C major using interval -3\n",
      "Unexpected error: <class 'subprocess.CalledProcessError'>\n",
      "OpenEWLD/dataset/Dorothy_Donnelly-Sigmund_Romberg/Deep_in_My_Heart,_Dear/Deep_in_My_Heart,_Dear.mxl\n",
      "F major 3/4\n",
      "OpenEWLD/dataset/Bert_Kalmar-Harry_Ruby/Nevertheless_(I'm_in_Love_with_You)/Nevertheless_(I'm_in_Love_with_You).mxl\n",
      "B- major 2/2\n",
      "transposing from key B- major to C major using interval 2\n"
     ]
    },
    {
     "name": "stderr",
     "output_type": "stream",
     "text": [
      "python: can't open file '/content/xml2abc_143/xml2abc.py': [Errno 2] No such file or directory\n",
      "python: can't open file '/content/xml2abc_143/xml2abc.py': [Errno 2] No such file or directory\n"
     ]
    },
    {
     "name": "stdout",
     "output_type": "stream",
     "text": [
      "Unexpected error: <class 'subprocess.CalledProcessError'>\n",
      "OpenEWLD/dataset/Don_George-[Traditional]/Yellow_Rose_of_Texas/Yellow_Rose_of_Texas.mxl\n",
      "B- major 4/4\n",
      "transposing from key B- major to C major using interval 2\n",
      "Unexpected error: <class 'subprocess.CalledProcessError'>\n",
      "OpenEWLD/dataset/Antoine_Renard/Le_temps_des_cerises/Le_temps_des_cerises.mxl\n",
      "G major 3/4\n",
      "OpenEWLD/dataset/Jerome_Kern-Otto_Harbach/Yesterdays/Yesterdays.mxl\n",
      "F major 4/4\n",
      "transposing from key F major to C major using interval -5\n",
      "Unexpected error: <class 'subprocess.CalledProcessError'>\n",
      "OpenEWLD/dataset/A._Emmett_Adams-Douglas_Furber/The_Bells_of_St._Mary's/The_Bells_of_St._Mary's.mxl\n",
      "C major 4/4\n",
      "transposing from key C major to C major using interval 0\n",
      "Unexpected error: <class 'subprocess.CalledProcessError'>\n",
      "OpenEWLD/dataset/B.G._DeSylva-George_Gershwin-Ira_Gershwin/I'll_Build_a_Stairway_to_Paradise/I'll_Build_a_Stairway_to_Paradise.mxl\n",
      "C major 2/2\n",
      "transposing from key C major to C major using interval 0\n"
     ]
    },
    {
     "name": "stderr",
     "output_type": "stream",
     "text": [
      "python: can't open file '/content/xml2abc_143/xml2abc.py': [Errno 2] No such file or directory\n",
      "python: can't open file '/content/xml2abc_143/xml2abc.py': [Errno 2] No such file or directory\n",
      "python: can't open file '/content/xml2abc_143/xml2abc.py': [Errno 2] No such file or directory\n",
      "python: can't open file '/content/xml2abc_143/xml2abc.py': [Errno 2] No such file or directory\n"
     ]
    },
    {
     "name": "stdout",
     "output_type": "stream",
     "text": [
      "Unexpected error: <class 'subprocess.CalledProcessError'>\n",
      "OpenEWLD/dataset/Joe_Young-Ray_Henderson-Sam_Lewis/I'm_Sitting_on_Top_of_the_World/I'm_Sitting_on_Top_of_the_World.mxl\n",
      "C major 4/4\n",
      "transposing from key C major to C major using interval 0\n",
      "Unexpected error: <class 'subprocess.CalledProcessError'>\n",
      "OpenEWLD/dataset/[Traditional]/Let_Us_Break_Bread_Together/Let_Us_Break_Bread_Together.mxl\n",
      "None None\n",
      "OpenEWLD/dataset/James_Montgomery_[1]/Angels_from_the_Realms_of_Glory/Angels_from_the_Realms_of_Glory.mxl\n",
      "C major 4/4\n",
      "transposing from key C major to C major using interval 0\n"
     ]
    },
    {
     "name": "stderr",
     "output_type": "stream",
     "text": [
      "python: can't open file '/content/xml2abc_143/xml2abc.py': [Errno 2] No such file or directory\n",
      "python: can't open file '/content/xml2abc_143/xml2abc.py': [Errno 2] No such file or directory\n"
     ]
    },
    {
     "name": "stdout",
     "output_type": "stream",
     "text": [
      "Unexpected error: <class 'subprocess.CalledProcessError'>\n",
      "OpenEWLD/dataset/Irving_Kahal-Pierre_Norman-Sammy_Fain/You_Brought_a_New_Kind_of_Love_to_Me/You_Brought_a_New_Kind_of_Love_to_Me.mxl\n",
      "A- major 4/4\n",
      "transposing from key A- major to C major using interval 4\n",
      "Unexpected error: <class 'subprocess.CalledProcessError'>\n",
      "OpenEWLD/dataset/Harold_Adamson-Mack_Gordon-Vincent_Youmans/Time_on_My_Hands/Time_on_My_Hands.mxl\n",
      "F major 2/2\n",
      "transposing from key F major to C major using interval -5\n"
     ]
    },
    {
     "name": "stderr",
     "output_type": "stream",
     "text": [
      "python: can't open file '/content/xml2abc_143/xml2abc.py': [Errno 2] No such file or directory\n",
      "python: can't open file '/content/xml2abc_143/xml2abc.py': [Errno 2] No such file or directory\n"
     ]
    },
    {
     "name": "stdout",
     "output_type": "stream",
     "text": [
      "Unexpected error: <class 'subprocess.CalledProcessError'>\n",
      "OpenEWLD/dataset/Leo_Robin-Ralph_Rainger/Love_in_Bloom/Love_in_Bloom.mxl\n",
      "G major 4/4\n",
      "transposing from key G major to C major using interval 5\n",
      "Unexpected error: <class 'subprocess.CalledProcessError'>\n",
      "OpenEWLD/dataset/Fred_E._Ahlert-Roy_Turk/Mean_to_Me/Mean_to_Me.mxl\n",
      "F major 4/4\n",
      "transposing from key F major to C major using interval -5\n"
     ]
    },
    {
     "name": "stderr",
     "output_type": "stream",
     "text": [
      "python: can't open file '/content/xml2abc_143/xml2abc.py': [Errno 2] No such file or directory\n",
      "python: can't open file '/content/xml2abc_143/xml2abc.py': [Errno 2] No such file or directory\n"
     ]
    },
    {
     "name": "stdout",
     "output_type": "stream",
     "text": [
      "Unexpected error: <class 'subprocess.CalledProcessError'>\n",
      "OpenEWLD/dataset/Joe_Young-Ned_Washington-Victor_Young/A_Hundred_Years_from_Today/A_Hundred_Years_from_Today.mxl\n",
      "E- major 4/4\n",
      "transposing from key E- major to C major using interval -3\n",
      "Unexpected error: <class 'subprocess.CalledProcessError'>\n",
      "OpenEWLD/dataset/Jimmie_Rodgers/Hobo's_Meditation/Hobo's_Meditation.mxl\n",
      "B- major 4/4\n",
      "transposing from key B- major to C major using interval 2\n"
     ]
    },
    {
     "name": "stderr",
     "output_type": "stream",
     "text": [
      "python: can't open file '/content/xml2abc_143/xml2abc.py': [Errno 2] No such file or directory\n",
      "python: can't open file '/content/xml2abc_143/xml2abc.py': [Errno 2] No such file or directory\n"
     ]
    },
    {
     "name": "stdout",
     "output_type": "stream",
     "text": [
      "Unexpected error: <class 'subprocess.CalledProcessError'>\n",
      "OpenEWLD/dataset/Fred_E._Ahlert-Joe_Young/I'm_Gonna_Sit_Right_Down_and_Write_Myself_a_Letter/I'm_Gonna_Sit_Right_Down_and_Write_Myself_a_Letter.mxl\n",
      "C major 4/4\n",
      "transposing from key C major to C major using interval 0\n",
      "Unexpected error: <class 'subprocess.CalledProcessError'>\n",
      "OpenEWLD/dataset/Cab_Calloway-Clarence_Gaskill-Irving_Mills/Minnie_the_Moocher/Minnie_the_Moocher.mxl\n",
      "G major 4/4\n",
      "transposing from key G major to C major using interval 5\n"
     ]
    },
    {
     "name": "stderr",
     "output_type": "stream",
     "text": [
      "python: can't open file '/content/xml2abc_143/xml2abc.py': [Errno 2] No such file or directory\n"
     ]
    },
    {
     "name": "stdout",
     "output_type": "stream",
     "text": [
      "Unexpected error: <class 'subprocess.CalledProcessError'>\n",
      "OpenEWLD/dataset/George_Gershwin-Ira_Gershwin/They_All_Laughed/They_All_Laughed.mxl\n",
      "G major 2/2\n",
      "transposing from key G major to C major using interval 5\n"
     ]
    },
    {
     "name": "stderr",
     "output_type": "stream",
     "text": [
      "python: can't open file '/content/xml2abc_143/xml2abc.py': [Errno 2] No such file or directory\n",
      "python: can't open file '/content/xml2abc_143/xml2abc.py': [Errno 2] No such file or directory\n"
     ]
    },
    {
     "name": "stdout",
     "output_type": "stream",
     "text": [
      "Unexpected error: <class 'subprocess.CalledProcessError'>\n",
      "OpenEWLD/dataset/Ballard_MacDonald/The_Parade_of_the_Wooden_Soldiers/The_Parade_of_the_Wooden_Soldiers.mxl\n",
      "C major 4/4\n",
      "transposing from key C major to C major using interval 0\n",
      "Unexpected error: <class 'subprocess.CalledProcessError'>\n",
      "OpenEWLD/dataset/[Traditional]/The_Holly_and_the_Ivy/The_Holly_and_the_Ivy.mxl\n",
      "F major 3/4\n",
      "OpenEWLD/dataset/George_Gershwin-Irving_Caesar/Swanee/Swanee.mxl\n",
      "C major 4/4\n",
      "transposing from key C major to C major using interval 0\n"
     ]
    },
    {
     "name": "stderr",
     "output_type": "stream",
     "text": [
      "python: can't open file '/content/xml2abc_143/xml2abc.py': [Errno 2] No such file or directory\n"
     ]
    },
    {
     "name": "stdout",
     "output_type": "stream",
     "text": [
      "Unexpected error: <class 'subprocess.CalledProcessError'>\n",
      "OpenEWLD/dataset/Bernice_Petkere-Joe_Young/Lullaby_of_the_Leaves/Lullaby_of_the_Leaves.mxl\n",
      "E- major 4/4\n",
      "transposing from key E- major to C major using interval -3\n"
     ]
    },
    {
     "name": "stderr",
     "output_type": "stream",
     "text": [
      "python: can't open file '/content/xml2abc_143/xml2abc.py': [Errno 2] No such file or directory\n",
      "python: can't open file '/content/xml2abc_143/xml2abc.py': [Errno 2] No such file or directory\n"
     ]
    },
    {
     "name": "stdout",
     "output_type": "stream",
     "text": [
      "Unexpected error: <class 'subprocess.CalledProcessError'>\n",
      "OpenEWLD/dataset/Haven_Gillespie-Richard_A._Whiting-Seymour_Simons/Breezin'_Along_with_the_Breeze/Breezin'_Along_with_the_Breeze.mxl\n",
      "F major 2/2\n",
      "transposing from key F major to C major using interval -5\n",
      "Unexpected error: <class 'subprocess.CalledProcessError'>\n",
      "OpenEWLD/dataset/Lorenz_Hart-Richard_Rodgers/Isn't_It_Romantic?/Isn't_It_Romantic?.mxl\n",
      "E- major 2/2\n",
      "transposing from key E- major to C major using interval -3\n"
     ]
    },
    {
     "name": "stderr",
     "output_type": "stream",
     "text": [
      "python: can't open file '/content/xml2abc_143/xml2abc.py': [Errno 2] No such file or directory\n"
     ]
    },
    {
     "name": "stdout",
     "output_type": "stream",
     "text": [
      "Unexpected error: <class 'subprocess.CalledProcessError'>\n",
      "OpenEWLD/dataset/Charles_B._Ward-John_F._Palmer/The_Band_Played_On/The_Band_Played_On.mxl\n",
      "G major 3/4\n",
      "OpenEWLD/dataset/Leo_Robin-Richard_A._Whiting-Sam_Coslow/True_Blue_Lou/True_Blue_Lou.mxl\n",
      "C major 4/4\n",
      "transposing from key C major to C major using interval 0\n"
     ]
    },
    {
     "name": "stderr",
     "output_type": "stream",
     "text": [
      "python: can't open file '/content/xml2abc_143/xml2abc.py': [Errno 2] No such file or directory\n",
      "python: can't open file '/content/xml2abc_143/xml2abc.py': [Errno 2] No such file or directory\n"
     ]
    },
    {
     "name": "stdout",
     "output_type": "stream",
     "text": [
      "Unexpected error: <class 'subprocess.CalledProcessError'>\n",
      "OpenEWLD/dataset/Riccardo_Cordiferro-Salvatore_Cardillo/Core_'ngrato/Core_'ngrato.mxl\n",
      "E- major 4/4\n",
      "transposing from key E- major to C major using interval -3\n",
      "Unexpected error: <class 'subprocess.CalledProcessError'>\n",
      "OpenEWLD/dataset/Stephen_Foster/Hard_Times_Come_Again_No_More/Hard_Times_Come_Again_No_More.mxl\n",
      "C major 4/4\n",
      "transposing from key C major to C major using interval 0\n"
     ]
    },
    {
     "name": "stderr",
     "output_type": "stream",
     "text": [
      "python: can't open file '/content/xml2abc_143/xml2abc.py': [Errno 2] No such file or directory\n"
     ]
    },
    {
     "name": "stdout",
     "output_type": "stream",
     "text": [
      "Unexpected error: <class 'subprocess.CalledProcessError'>\n",
      "OpenEWLD/dataset/Nikolai_Rimsky-Korsakov/Flight_of_the_Bumblebee/Flight_of_the_Bumblebee.mxl\n",
      "C major 2/4\n",
      "OpenEWLD/dataset/[Traditional]/Scotland_the_Brave/Scotland_the_Brave.mxl\n",
      "C major 4/4\n",
      "transposing from key C major to C major using interval 0\n"
     ]
    },
    {
     "name": "stderr",
     "output_type": "stream",
     "text": [
      "python: can't open file '/content/xml2abc_143/xml2abc.py': [Errno 2] No such file or directory\n",
      "python: can't open file '/content/xml2abc_143/xml2abc.py': [Errno 2] No such file or directory\n"
     ]
    },
    {
     "name": "stdout",
     "output_type": "stream",
     "text": [
      "Unexpected error: <class 'subprocess.CalledProcessError'>\n",
      "OpenEWLD/dataset/Lorenz_Hart-Richard_Rodgers/I've_Got_Five_Dollars/I've_Got_Five_Dollars.mxl\n",
      "E- major 4/4\n",
      "transposing from key E- major to C major using interval -3\n",
      "Unexpected error: <class 'subprocess.CalledProcessError'>\n",
      "OpenEWLD/dataset/Al_Dubin-Harry_Warren/Lulu's_Back_in_Town/Lulu's_Back_in_Town.mxl\n",
      "E- major 4/4\n",
      "transposing from key E- major to C major using interval -3\n"
     ]
    },
    {
     "name": "stderr",
     "output_type": "stream",
     "text": [
      "python: can't open file '/content/xml2abc_143/xml2abc.py': [Errno 2] No such file or directory\n",
      "python: can't open file '/content/xml2abc_143/xml2abc.py': [Errno 2] No such file or directory\n"
     ]
    },
    {
     "name": "stdout",
     "output_type": "stream",
     "text": [
      "Unexpected error: <class 'subprocess.CalledProcessError'>\n",
      "OpenEWLD/dataset/[Traditional]/Red_River_Valley/Red_River_Valley.mxl\n",
      "C major 4/4\n",
      "transposing from key C major to C major using interval 0\n",
      "Unexpected error: <class 'subprocess.CalledProcessError'>\n",
      "OpenEWLD/dataset/Raymond_B._Egan-Richard_A._Whiting/Japanese_Sandman/Japanese_Sandman.mxl\n",
      "F major 2/2\n",
      "transposing from key F major to C major using interval -5\n"
     ]
    },
    {
     "name": "stderr",
     "output_type": "stream",
     "text": [
      "python: can't open file '/content/xml2abc_143/xml2abc.py': [Errno 2] No such file or directory\n",
      "python: can't open file '/content/xml2abc_143/xml2abc.py': [Errno 2] No such file or directory\n"
     ]
    },
    {
     "name": "stdout",
     "output_type": "stream",
     "text": [
      "Unexpected error: <class 'subprocess.CalledProcessError'>\n",
      "OpenEWLD/dataset/[Traditional]/There_Is_a_Tavern_in_the_Town/There_Is_a_Tavern_in_the_Town.mxl\n",
      "G major 4/4\n",
      "transposing from key G major to C major using interval 5\n",
      "Unexpected error: <class 'subprocess.CalledProcessError'>\n",
      "OpenEWLD/dataset/Charles_N._Daniels-Richard_A._Whiting/She's_Funny_That_Way/She's_Funny_That_Way.mxl\n",
      "E- major 2/2\n",
      "transposing from key E- major to C major using interval -3\n"
     ]
    },
    {
     "name": "stderr",
     "output_type": "stream",
     "text": [
      "python: can't open file '/content/xml2abc_143/xml2abc.py': [Errno 2] No such file or directory\n",
      "python: can't open file '/content/xml2abc_143/xml2abc.py': [Errno 2] No such file or directory\n"
     ]
    },
    {
     "name": "stdout",
     "output_type": "stream",
     "text": [
      "Unexpected error: <class 'subprocess.CalledProcessError'>\n",
      "OpenEWLD/dataset/Howard_Johnson-Jimmy_Monaco-Joseph_McCarthy/What_Do_You_Want_to_Make_Those_Eyes_at_Me_For?/What_Do_You_Want_to_Make_Those_Eyes_at_Me_For?.mxl\n",
      "E- major 4/4\n",
      "transposing from key E- major to C major using interval -3\n",
      "Unexpected error: <class 'subprocess.CalledProcessError'>\n",
      "OpenEWLD/dataset/[Traditional]/Coventry_Carol/Coventry_Carol.mxl\n",
      "B- major 3/4\n",
      "OpenEWLD/dataset/Lorenz_Hart-Richard_Rodgers/The_Lady_Is_a_Tramp/The_Lady_Is_a_Tramp.mxl\n",
      "C major 2/2\n",
      "transposing from key C major to C major using interval 0\n"
     ]
    },
    {
     "name": "stderr",
     "output_type": "stream",
     "text": [
      "python: can't open file '/content/xml2abc_143/xml2abc.py': [Errno 2] No such file or directory\n"
     ]
    },
    {
     "name": "stdout",
     "output_type": "stream",
     "text": [
      "Unexpected error: <class 'subprocess.CalledProcessError'>\n",
      "OpenEWLD/dataset/Bill_Cogswell-Johnny_Noble-Tommy_Harrison/My_Little_Grass_Shack_in_Kealakekua,_Hawaii/My_Little_Grass_Shack_in_Kealakekua,_Hawaii.mxl\n",
      "B- major 4/4\n",
      "transposing from key B- major to C major using interval 2\n"
     ]
    },
    {
     "name": "stderr",
     "output_type": "stream",
     "text": [
      "python: can't open file '/content/xml2abc_143/xml2abc.py': [Errno 2] No such file or directory\n",
      "python: can't open file '/content/xml2abc_143/xml2abc.py': [Errno 2] No such file or directory\n"
     ]
    },
    {
     "name": "stdout",
     "output_type": "stream",
     "text": [
      "Unexpected error: <class 'subprocess.CalledProcessError'>\n",
      "OpenEWLD/dataset/Leo_Robin-Richard_A._Whiting/Louise/Louise.mxl\n",
      "F major 4/4\n",
      "transposing from key F major to C major using interval -5\n",
      "Unexpected error: <class 'subprocess.CalledProcessError'>\n",
      "OpenEWLD/dataset/Frank_Dean/Daisy_Bell_(Bicycle_Built_for_Two)/Daisy_Bell_(Bicycle_Built_for_Two).mxl\n",
      "C major 3/4\n",
      "OpenEWLD/dataset/Ludwig_van_Beethoven/Für_Elise/Für_Elise.mxl\n",
      "B- major 3/4\n",
      "OpenEWLD/dataset/Henry_Creamer-James_P._Johnson/If_I_Could_Be_with_You_(One_Hour_Tonight)/If_I_Could_Be_with_You_(One_Hour_Tonight).mxl\n",
      "C major 2/2\n",
      "transposing from key C major to C major using interval 0\n",
      "Unexpected error: <class 'subprocess.CalledProcessError'>\n",
      "OpenEWLD/dataset/C._W._Murphy-Dan_Lipton-John_Neat/She's_a_Lassie_from_Lancashire/She's_a_Lassie_from_Lancashire.mxl\n",
      "G major 3/4\n",
      "OpenEWLD/dataset/George_Gershwin-Ira_Gershwin/Love_Walked_In/Love_Walked_In.mxl\n"
     ]
    },
    {
     "name": "stderr",
     "output_type": "stream",
     "text": [
      "python: can't open file '/content/xml2abc_143/xml2abc.py': [Errno 2] No such file or directory\n",
      "python: can't open file '/content/xml2abc_143/xml2abc.py': [Errno 2] No such file or directory\n"
     ]
    },
    {
     "name": "stdout",
     "output_type": "stream",
     "text": [
      "E- major 2/2\n",
      "transposing from key E- major to C major using interval -3\n",
      "Unexpected error: <class 'subprocess.CalledProcessError'>\n",
      "OpenEWLD/dataset/George_Gershwin-Ira_Gershwin/Soon/Soon.mxl\n",
      "E- major 2/2\n",
      "transposing from key E- major to C major using interval -3\n"
     ]
    },
    {
     "name": "stderr",
     "output_type": "stream",
     "text": [
      "python: can't open file '/content/xml2abc_143/xml2abc.py': [Errno 2] No such file or directory\n",
      "python: can't open file '/content/xml2abc_143/xml2abc.py': [Errno 2] No such file or directory\n"
     ]
    },
    {
     "name": "stdout",
     "output_type": "stream",
     "text": [
      "Unexpected error: <class 'subprocess.CalledProcessError'>\n",
      "OpenEWLD/dataset/Harry_Tierney-Joseph_McCarthy/Alice_Blue_Gown/Alice_Blue_Gown.mxl\n",
      "C major 3/4\n",
      "OpenEWLD/dataset/Fred_E._Ahlert-Roy_Turk/Walkin'_My_Baby_Back_Home/Walkin'_My_Baby_Back_Home.mxl\n",
      "E- major 4/4\n",
      "transposing from key E- major to C major using interval -3\n",
      "Unexpected error: <class 'subprocess.CalledProcessError'>\n",
      "OpenEWLD/dataset/[Traditional]/Alouette/Alouette.mxl\n",
      "F major 4/4\n",
      "transposing from key F major to C major using interval -5\n",
      "Unexpected error: <class 'subprocess.CalledProcessError'>\n",
      "OpenEWLD/dataset/[Traditional]/I_Saw_Three_Ships/I_Saw_Three_Ships.mxl\n",
      "F major 6/8\n",
      "OpenEWLD/dataset/John_McLellan-Kenneth_MacLeod-Marjory_Kennedy-Fraser/The_Road_to_the_Isles/The_Road_to_the_Isles.mxl\n",
      "G major 4/4\n",
      "transposing from key G major to C major using interval 5\n"
     ]
    },
    {
     "name": "stderr",
     "output_type": "stream",
     "text": [
      "python: can't open file '/content/xml2abc_143/xml2abc.py': [Errno 2] No such file or directory\n",
      "python: can't open file '/content/xml2abc_143/xml2abc.py': [Errno 2] No such file or directory\n"
     ]
    },
    {
     "name": "stdout",
     "output_type": "stream",
     "text": [
      "Unexpected error: <class 'subprocess.CalledProcessError'>\n",
      "OpenEWLD/dataset/Lorenz_Hart-Richard_Rodgers/Falling_in_Love_with_Love/Falling_in_Love_with_Love.mxl\n",
      "C major 3/4\n",
      "OpenEWLD/dataset/Lorenz_Hart-Richard_Rodgers/My_Heart_Stood_Still/My_Heart_Stood_Still.mxl\n",
      "F major 4/4\n",
      "transposing from key F major to C major using interval -5\n",
      "Unexpected error: <class 'subprocess.CalledProcessError'>\n",
      "OpenEWLD/dataset/Richard_M._Jones/Trouble_in_Mind_Blues/Trouble_in_Mind_Blues.mxl\n",
      "G major 4/4\n",
      "transposing from key G major to C major using interval 5\n"
     ]
    },
    {
     "name": "stderr",
     "output_type": "stream",
     "text": [
      "python: can't open file '/content/xml2abc_143/xml2abc.py': [Errno 2] No such file or directory\n",
      "python: can't open file '/content/xml2abc_143/xml2abc.py': [Errno 2] No such file or directory\n"
     ]
    },
    {
     "name": "stdout",
     "output_type": "stream",
     "text": [
      "Unexpected error: <class 'subprocess.CalledProcessError'>\n",
      "OpenEWLD/dataset/Bert_Kalmar-Harry_Ruby/Thinking_of_You/Thinking_of_You.mxl\n",
      "E- major 4/4\n",
      "transposing from key E- major to C major using interval -3\n"
     ]
    },
    {
     "name": "stderr",
     "output_type": "stream",
     "text": [
      "python: can't open file '/content/xml2abc_143/xml2abc.py': [Errno 2] No such file or directory\n",
      "python: can't open file '/content/xml2abc_143/xml2abc.py': [Errno 2] No such file or directory\n"
     ]
    },
    {
     "name": "stdout",
     "output_type": "stream",
     "text": [
      "Unexpected error: <class 'subprocess.CalledProcessError'>\n",
      "OpenEWLD/dataset/Andy_Razaf-Fats_Waller/Honeysuckle_Rose/Honeysuckle_Rose.mxl\n",
      "F major 4/4\n",
      "transposing from key F major to C major using interval -5\n",
      "Unexpected error: <class 'subprocess.CalledProcessError'>\n",
      "OpenEWLD/dataset/Arthur_Sullivan-Sabine_Baring-Gould/Onward,_Christian_Soldiers/Onward,_Christian_Soldiers.mxl\n",
      "F major 4/4\n",
      "transposing from key F major to C major using interval -5\n"
     ]
    },
    {
     "name": "stderr",
     "output_type": "stream",
     "text": [
      "python: can't open file '/content/xml2abc_143/xml2abc.py': [Errno 2] No such file or directory\n"
     ]
    },
    {
     "name": "stdout",
     "output_type": "stream",
     "text": [
      "Unexpected error: <class 'subprocess.CalledProcessError'>\n",
      "OpenEWLD/dataset/Lorenz_Hart-Richard_Rodgers/Wait_Till_You_See_Her/Wait_Till_You_See_Her.mxl\n",
      "E- major 3/4\n",
      "OpenEWLD/dataset/[Traditional]/Shady_Grove/Shady_Grove.mxl\n",
      "F major 2/4\n",
      "OpenEWLD/dataset/Scott_Joplin/The_Entertainer/The_Entertainer.mxl\n",
      "C major 4/4\n",
      "transposing from key C major to C major using interval 0\n"
     ]
    },
    {
     "name": "stderr",
     "output_type": "stream",
     "text": [
      "python: can't open file '/content/xml2abc_143/xml2abc.py': [Errno 2] No such file or directory\n",
      "python: can't open file '/content/xml2abc_143/xml2abc.py': [Errno 2] No such file or directory\n"
     ]
    },
    {
     "name": "stdout",
     "output_type": "stream",
     "text": [
      "Unexpected error: <class 'subprocess.CalledProcessError'>\n",
      "OpenEWLD/dataset/George_Gershwin-Ira_Gershwin/Oh,_Lady_Be_Good!/Oh,_Lady_Be_Good!.mxl\n",
      "G major 4/4\n",
      "transposing from key G major to C major using interval 5\n",
      "Unexpected error: <class 'subprocess.CalledProcessError'>\n",
      "OpenEWLD/dataset/Joseph_Eastburn_Winner/The_Little_Brown_Jug/The_Little_Brown_Jug.mxl\n",
      "C major 4/4\n",
      "transposing from key C major to C major using interval 0\n"
     ]
    },
    {
     "name": "stderr",
     "output_type": "stream",
     "text": [
      "python: can't open file '/content/xml2abc_143/xml2abc.py': [Errno 2] No such file or directory\n",
      "python: can't open file '/content/xml2abc_143/xml2abc.py': [Errno 2] No such file or directory\n"
     ]
    },
    {
     "name": "stdout",
     "output_type": "stream",
     "text": [
      "Unexpected error: <class 'subprocess.CalledProcessError'>\n",
      "OpenEWLD/dataset/Al_Dubin-Harry_Warren/We're_in_the_Money/We're_in_the_Money.mxl\n",
      "C major 2/2\n",
      "transposing from key C major to C major using interval 0\n",
      "Unexpected error: <class 'subprocess.CalledProcessError'>\n",
      "OpenEWLD/dataset/Frederic_Weatherly/Danny_Boy/Danny_Boy.mxl\n",
      "F major 4/4\n",
      "transposing from key F major to C major using interval -5\n"
     ]
    },
    {
     "name": "stderr",
     "output_type": "stream",
     "text": [
      "python: can't open file '/content/xml2abc_143/xml2abc.py': [Errno 2] No such file or directory\n",
      "python: can't open file '/content/xml2abc_143/xml2abc.py': [Errno 2] No such file or directory\n"
     ]
    },
    {
     "name": "stdout",
     "output_type": "stream",
     "text": [
      "Unexpected error: <class 'subprocess.CalledProcessError'>\n",
      "OpenEWLD/dataset/Henry_Creamer-Turner_Layton/Way_Down_Yonder_in_New_Orleans/Way_Down_Yonder_in_New_Orleans.mxl\n",
      "F major 2/2\n",
      "transposing from key F major to C major using interval -5\n",
      "Unexpected error: <class 'subprocess.CalledProcessError'>\n",
      "OpenEWLD/dataset/Irving_Kahal-Sammy_Fain-Willie_Raskin/Wedding_Bells_Are_Breaking_up_That_Old_Gang_of_Mine/Wedding_Bells_Are_Breaking_up_That_Old_Gang_of_Mine.mxl\n",
      "G major 4/4\n",
      "transposing from key G major to C major using interval 5\n",
      "Unexpected error: <class 'subprocess.CalledProcessError'>\n",
      "OpenEWLD/dataset/[Traditional]/Sometimes_I_Feel_Like_a_Motherless_Child/Sometimes_I_Feel_Like_a_Motherless_Child.mxl\n",
      "C major 4/4\n",
      "transposing from key C major to C major using interval 0\n",
      "Unexpected error: <class 'subprocess.CalledProcessError'>\n",
      "OpenEWLD/dataset/Eliza_Flower-Sarah_Flower_Adams/Nearer,_My_God,_to_Thee/Nearer,_My_God,_to_Thee.mxl\n",
      "F major 4/4\n",
      "transposing from key F major to C major using interval -5\n"
     ]
    },
    {
     "name": "stderr",
     "output_type": "stream",
     "text": [
      "python: can't open file '/content/xml2abc_143/xml2abc.py': [Errno 2] No such file or directory\n",
      "python: can't open file '/content/xml2abc_143/xml2abc.py': [Errno 2] No such file or directory\n",
      "python: can't open file '/content/xml2abc_143/xml2abc.py': [Errno 2] No such file or directory\n"
     ]
    },
    {
     "name": "stdout",
     "output_type": "stream",
     "text": [
      "Unexpected error: <class 'subprocess.CalledProcessError'>\n",
      "OpenEWLD/dataset/Ivor_Novello-Lena_Ford/Keep_the_Home_Fires_Burning_('Till_the_Boys_Come_Home)/Keep_the_Home_Fires_Burning_('Till_the_Boys_Come_Home).mxl\n",
      "G major 4/4\n",
      "transposing from key G major to C major using interval 5\n"
     ]
    },
    {
     "name": "stderr",
     "output_type": "stream",
     "text": [
      "python: can't open file '/content/xml2abc_143/xml2abc.py': [Errno 2] No such file or directory\n",
      "python: can't open file '/content/xml2abc_143/xml2abc.py': [Errno 2] No such file or directory\n"
     ]
    },
    {
     "name": "stdout",
     "output_type": "stream",
     "text": [
      "Unexpected error: <class 'subprocess.CalledProcessError'>\n",
      "OpenEWLD/dataset/[Traditional]/Still,_Still,_Still/Still,_Still,_Still.mxl\n",
      "D major 4/4\n",
      "transposing from key D major to C major using interval -2\n",
      "Unexpected error: <class 'subprocess.CalledProcessError'>\n",
      "OpenEWLD/dataset/Lorenz_Hart-Richard_Rodgers/I_Wish_I_Were_in_Love_Again/I_Wish_I_Were_in_Love_Again.mxl\n",
      "G major 2/2\n",
      "transposing from key G major to C major using interval 5\n"
     ]
    },
    {
     "name": "stderr",
     "output_type": "stream",
     "text": [
      "python: can't open file '/content/xml2abc_143/xml2abc.py': [Errno 2] No such file or directory\n",
      "python: can't open file '/content/xml2abc_143/xml2abc.py': [Errno 2] No such file or directory\n"
     ]
    },
    {
     "name": "stdout",
     "output_type": "stream",
     "text": [
      "Unexpected error: <class 'subprocess.CalledProcessError'>\n",
      "OpenEWLD/dataset/Bernie_Miller/Bernie's_Tune/Bernie's_Tune.mxl\n",
      "F major 4/4\n",
      "transposing from key F major to C major using interval -5\n",
      "Unexpected error: <class 'subprocess.CalledProcessError'>\n",
      "OpenEWLD/dataset/John_Mason_Neale/Good_Christian_Men,_Rejoice/Good_Christian_Men,_Rejoice.mxl\n",
      "C major 3/4\n",
      "OpenEWLD/dataset/George_Gershwin-Ira_Gershwin/'S_Wonderful/'S_Wonderful.mxl\n",
      "E- major 4/4\n",
      "transposing from key E- major to C major using interval -3\n"
     ]
    },
    {
     "name": "stderr",
     "output_type": "stream",
     "text": [
      "python: can't open file '/content/xml2abc_143/xml2abc.py': [Errno 2] No such file or directory\n",
      "python: can't open file '/content/xml2abc_143/xml2abc.py': [Errno 2] No such file or directory\n"
     ]
    },
    {
     "name": "stdout",
     "output_type": "stream",
     "text": [
      "Unexpected error: <class 'subprocess.CalledProcessError'>\n",
      "OpenEWLD/dataset/Bert_Lee-Harry_Fragson-Hubert_Worton_David/Hello,_Hello,_Who's_Your_Lady_Friend/Hello,_Hello,_Who's_Your_Lady_Friend.mxl\n",
      "D major 2/4\n",
      "OpenEWLD/dataset/Thomas_Oliphant/The_Ash_Grove/The_Ash_Grove.mxl\n",
      "G major 3/4\n",
      "OpenEWLD/dataset/Dorothy_Fields-Jerome_Kern/Pick_Yourself_Up/Pick_Yourself_Up.mxl\n",
      "C major 4/4\n",
      "transposing from key C major to C major using interval 0\n",
      "Unexpected error: <class 'subprocess.CalledProcessError'>\n",
      "OpenEWLD/dataset/Jerome_Kern-Oscar_Hammerstein_II/Why_Do_I_Love_You?/Why_Do_I_Love_You?.mxl\n",
      "G major 4/4\n",
      "transposing from key G major to C major using interval 5\n"
     ]
    },
    {
     "name": "stderr",
     "output_type": "stream",
     "text": [
      "python: can't open file '/content/xml2abc_143/xml2abc.py': [Errno 2] No such file or directory\n",
      "python: can't open file '/content/xml2abc_143/xml2abc.py': [Errno 2] No such file or directory\n"
     ]
    },
    {
     "name": "stdout",
     "output_type": "stream",
     "text": [
      "Unexpected error: <class 'subprocess.CalledProcessError'>\n",
      "OpenEWLD/dataset/Maurice_Ravel/Boléro/Boléro.mxl\n",
      "C major 3/4\n",
      "OpenEWLD/dataset/DuBose_Heyward-George_Gershwin-Ira_Gershwin/I_Loves_You,_Porgy/I_Loves_You,_Porgy.mxl\n",
      "F major 4/4\n",
      "transposing from key F major to C major using interval -5\n",
      "Unexpected error: <class 'subprocess.CalledProcessError'>\n",
      "OpenEWLD/dataset/Louis_Hirsch-Otto_Harbach/The_Love_Nest/The_Love_Nest.mxl\n",
      "C major 4/4\n",
      "transposing from key C major to C major using interval 0\n"
     ]
    },
    {
     "name": "stderr",
     "output_type": "stream",
     "text": [
      "python: can't open file '/content/xml2abc_143/xml2abc.py': [Errno 2] No such file or directory\n",
      "python: can't open file '/content/xml2abc_143/xml2abc.py': [Errno 2] No such file or directory\n"
     ]
    },
    {
     "name": "stdout",
     "output_type": "stream",
     "text": [
      "Unexpected error: <class 'subprocess.CalledProcessError'>\n",
      "OpenEWLD/dataset/Albert_Chevalier-Charles_Ingle/My_Old_Dutch/My_Old_Dutch.mxl\n",
      "D major 4/4\n",
      "transposing from key D major to C major using interval -2\n",
      "Unexpected error: <class 'subprocess.CalledProcessError'>\n",
      "OpenEWLD/dataset/Henry_Rowley_Bishop-John_Howard_Payne_[1]/Home_Sweet_Home/Home_Sweet_Home.mxl\n",
      "C major 3/4\n",
      "OpenEWLD/dataset/George_Gershwin-Ira_Gershwin/I_Got_Rhythm/I_Got_Rhythm.mxl\n",
      "B- major 4/4\n",
      "transposing from key B- major to C major using interval 2\n"
     ]
    },
    {
     "name": "stderr",
     "output_type": "stream",
     "text": [
      "python: can't open file '/content/xml2abc_143/xml2abc.py': [Errno 2] No such file or directory\n"
     ]
    },
    {
     "name": "stdout",
     "output_type": "stream",
     "text": [
      "Unexpected error: <class 'subprocess.CalledProcessError'>\n",
      "OpenEWLD/dataset/Leo_Robin-Ralph_Rainger/Thanks_for_the_Memory/Thanks_for_the_Memory.mxl\n",
      "F major 4/4\n",
      "transposing from key F major to C major using interval -5\n"
     ]
    },
    {
     "name": "stderr",
     "output_type": "stream",
     "text": [
      "python: can't open file '/content/xml2abc_143/xml2abc.py': [Errno 2] No such file or directory\n",
      "python: can't open file '/content/xml2abc_143/xml2abc.py': [Errno 2] No such file or directory\n"
     ]
    },
    {
     "name": "stdout",
     "output_type": "stream",
     "text": [
      "Unexpected error: <class 'subprocess.CalledProcessError'>\n",
      "OpenEWLD/dataset/Jesse_Brown_Pounds-John_Sylvester_Fearis/Beautiful_Isle_of_Somewhere/Beautiful_Isle_of_Somewhere.mxl\n",
      "C major 3/4\n",
      "OpenEWLD/dataset/Egbert_Van_Alstyne-Gus_Kahn-Tony_Jackson_[1]/Pretty_Baby/Pretty_Baby.mxl\n",
      "E- major 4/4\n",
      "transposing from key E- major to C major using interval -3\n",
      "Unexpected error: <class 'subprocess.CalledProcessError'>\n",
      "OpenEWLD/dataset/Clifford_Grey-Irving_Caesar-Vincent_Youmans/Sometimes_I'm_Happy_(Sometimes_I'm_Blue)/Sometimes_I'm_Happy_(Sometimes_I'm_Blue).mxl\n",
      "F major 2/2\n",
      "transposing from key F major to C major using interval -5\n"
     ]
    },
    {
     "name": "stderr",
     "output_type": "stream",
     "text": [
      "python: can't open file '/content/xml2abc_143/xml2abc.py': [Errno 2] No such file or directory\n",
      "python: can't open file '/content/xml2abc_143/xml2abc.py': [Errno 2] No such file or directory\n"
     ]
    },
    {
     "name": "stdout",
     "output_type": "stream",
     "text": [
      "Unexpected error: <class 'subprocess.CalledProcessError'>\n",
      "OpenEWLD/dataset/Leo_Robin-Ralph_Rainger/Easy_Living/Easy_Living.mxl\n",
      "E- major 4/4\n",
      "transposing from key E- major to C major using interval -3\n",
      "Unexpected error: <class 'subprocess.CalledProcessError'>\n",
      "OpenEWLD/dataset/Desmond_Carter-Joseph_Meyer-Phil_Charig/Tell_Me_Why/Tell_Me_Why.mxl\n",
      "C major 4/4\n",
      "transposing from key C major to C major using interval 0\n"
     ]
    },
    {
     "name": "stderr",
     "output_type": "stream",
     "text": [
      "python: can't open file '/content/xml2abc_143/xml2abc.py': [Errno 2] No such file or directory\n",
      "python: can't open file '/content/xml2abc_143/xml2abc.py': [Errno 2] No such file or directory\n"
     ]
    },
    {
     "name": "stdout",
     "output_type": "stream",
     "text": [
      "Unexpected error: <class 'subprocess.CalledProcessError'>\n",
      "OpenEWLD/dataset/[Traditional]/Satan,_Your_Kingdom_Must_Come_Down/Satan,_Your_Kingdom_Must_Come_Down.mxl\n",
      "B- major 4/4\n",
      "transposing from key B- major to C major using interval 2\n",
      "Unexpected error: <class 'subprocess.CalledProcessError'>\n",
      "OpenEWLD/dataset/Frank_Westphal-Gus_Kahn/When_You_Come_to_the_End_of_the_Day/When_You_Come_to_the_End_of_the_Day.mxl\n",
      "B- major 3/4\n",
      "OpenEWLD/dataset/Lorenz_Hart/Blue_Moon/Blue_Moon.mxl\n",
      "E- major 2/2\n",
      "transposing from key E- major to C major using interval -3\n"
     ]
    },
    {
     "name": "stderr",
     "output_type": "stream",
     "text": [
      "python: can't open file '/content/xml2abc_143/xml2abc.py': [Errno 2] No such file or directory\n"
     ]
    },
    {
     "name": "stdout",
     "output_type": "stream",
     "text": [
      "Unexpected error: <class 'subprocess.CalledProcessError'>\n",
      "OpenEWLD/dataset/Jean_Schwartz-Joe_Young-Sam_Lewis/Rock-a-Bye_Your_Baby_with_a_Dixie_Melody/Rock-a-Bye_Your_Baby_with_a_Dixie_Melody.mxl\n",
      "C major 2/2\n",
      "transposing from key C major to C major using interval 0\n"
     ]
    },
    {
     "name": "stderr",
     "output_type": "stream",
     "text": [
      "python: can't open file '/content/xml2abc_143/xml2abc.py': [Errno 2] No such file or directory\n",
      "python: can't open file '/content/xml2abc_143/xml2abc.py': [Errno 2] No such file or directory\n"
     ]
    },
    {
     "name": "stdout",
     "output_type": "stream",
     "text": [
      "Unexpected error: <class 'subprocess.CalledProcessError'>\n",
      "OpenEWLD/dataset/Robert_Burns-[Traditional]/Auld_Lang_Syne/Auld_Lang_Syne.mxl\n",
      "F major 4/4\n",
      "transposing from key F major to C major using interval -5\n",
      "Unexpected error: <class 'subprocess.CalledProcessError'>\n",
      "OpenEWLD/dataset/Hugh_Williams-Jimmy_Kennedy/Red_Sails_in_the_Sunset/Red_Sails_in_the_Sunset.mxl\n",
      "G major 4/4\n",
      "transposing from key G major to C major using interval 5\n"
     ]
    },
    {
     "name": "stderr",
     "output_type": "stream",
     "text": [
      "python: can't open file '/content/xml2abc_143/xml2abc.py': [Errno 2] No such file or directory\n"
     ]
    },
    {
     "name": "stdout",
     "output_type": "stream",
     "text": [
      "Unexpected error: <class 'subprocess.CalledProcessError'>\n",
      "OpenEWLD/dataset/Fred_W._Leigh-Henry_E._Pether/Waiting_at_the_Church/Waiting_at_the_Church.mxl\n",
      "C major 4/4\n",
      "transposing from key C major to C major using interval 0\n"
     ]
    },
    {
     "name": "stderr",
     "output_type": "stream",
     "text": [
      "python: can't open file '/content/xml2abc_143/xml2abc.py': [Errno 2] No such file or directory\n",
      "python: can't open file '/content/xml2abc_143/xml2abc.py': [Errno 2] No such file or directory\n"
     ]
    },
    {
     "name": "stdout",
     "output_type": "stream",
     "text": [
      "Unexpected error: <class 'subprocess.CalledProcessError'>\n",
      "OpenEWLD/dataset/Paul_Dresser/On_the_Banks_of_the_Wabash,_Far_Away/On_the_Banks_of_the_Wabash,_Far_Away.mxl\n",
      "G major 4/4\n",
      "transposing from key G major to C major using interval 5\n",
      "Unexpected error: <class 'subprocess.CalledProcessError'>\n",
      "OpenEWLD/dataset/Joseph_Brackett,_Jr./Simple_Gifts/Simple_Gifts.mxl\n",
      "F major 4/4\n",
      "transposing from key F major to C major using interval -5\n",
      "Unexpected error: <class 'subprocess.CalledProcessError'>\n",
      "OpenEWLD/dataset/[Traditional]/Frankie_and_Johnny/Frankie_and_Johnny.mxl\n",
      "C major 4/4\n",
      "transposing from key C major to C major using interval 0\n"
     ]
    },
    {
     "name": "stderr",
     "output_type": "stream",
     "text": [
      "python: can't open file '/content/xml2abc_143/xml2abc.py': [Errno 2] No such file or directory\n",
      "python: can't open file '/content/xml2abc_143/xml2abc.py': [Errno 2] No such file or directory\n"
     ]
    },
    {
     "name": "stdout",
     "output_type": "stream",
     "text": [
      "Unexpected error: <class 'subprocess.CalledProcessError'>\n",
      "OpenEWLD/dataset/Eddie_Leonard-Eddie_Munson/Ida!_Sweet_as_Apple_Cider/Ida!_Sweet_as_Apple_Cider.mxl\n",
      "C major 4/4\n",
      "transposing from key C major to C major using interval 0\n",
      "Unexpected error: <class 'subprocess.CalledProcessError'>\n",
      "OpenEWLD/dataset/Alfredo_Le_Pera-Carlos_Gardel/Por_una_cabeza/Por_una_cabeza.mxl\n",
      "A major 2/4\n",
      "OpenEWLD/dataset/[Traditional]/Wexford_Carol/Wexford_Carol.mxl\n",
      "G major 3/4\n",
      "OpenEWLD/dataset/Al_Jolson-B.G._DeSylva-Vincent_Rose/Avalon/Avalon.mxl\n",
      "C major 4/4\n",
      "transposing from key C major to C major using interval 0\n"
     ]
    },
    {
     "name": "stderr",
     "output_type": "stream",
     "text": [
      "python: can't open file '/content/xml2abc_143/xml2abc.py': [Errno 2] No such file or directory\n",
      "python: can't open file '/content/xml2abc_143/xml2abc.py': [Errno 2] No such file or directory\n"
     ]
    },
    {
     "name": "stdout",
     "output_type": "stream",
     "text": [
      "Unexpected error: <class 'subprocess.CalledProcessError'>\n",
      "OpenEWLD/dataset/Grant_Clarke-Harry_Akst/Am_I_Blue?/Am_I_Blue?.mxl\n",
      "F major 2/2\n",
      "transposing from key F major to C major using interval -5\n",
      "Unexpected error: <class 'subprocess.CalledProcessError'>\n",
      "OpenEWLD/dataset/Lew_Pollack/That's_a_Plenty/That's_a_Plenty.mxl\n",
      "F major 2/2\n",
      "transposing from key F major to C major using interval -5\n"
     ]
    },
    {
     "name": "stderr",
     "output_type": "stream",
     "text": [
      "python: can't open file '/content/xml2abc_143/xml2abc.py': [Errno 2] No such file or directory\n",
      "python: can't open file '/content/xml2abc_143/xml2abc.py': [Errno 2] No such file or directory\n"
     ]
    },
    {
     "name": "stdout",
     "output_type": "stream",
     "text": [
      "Unexpected error: <class 'subprocess.CalledProcessError'>\n",
      "OpenEWLD/dataset/Leo_Robin-Newell_Chase-Richard_A._Whiting/My_Ideal/My_Ideal.mxl\n",
      "E- major 4/4\n",
      "transposing from key E- major to C major using interval -3\n"
     ]
    },
    {
     "name": "stderr",
     "output_type": "stream",
     "text": [
      "python: can't open file '/content/xml2abc_143/xml2abc.py': [Errno 2] No such file or directory\n",
      "python: can't open file '/content/xml2abc_143/xml2abc.py': [Errno 2] No such file or directory\n"
     ]
    },
    {
     "name": "stdout",
     "output_type": "stream",
     "text": [
      "Unexpected error: <class 'subprocess.CalledProcessError'>\n",
      "OpenEWLD/dataset/[Traditional]/The_Wild_Rover/The_Wild_Rover.mxl\n",
      "E major 3/4\n",
      "OpenEWLD/dataset/Clarence_Williams-King_Oliver/West_End_Blues/West_End_Blues.mxl\n",
      "E- major 2/2\n",
      "transposing from key E- major to C major using interval -3\n",
      "Unexpected error: <class 'subprocess.CalledProcessError'>\n",
      "OpenEWLD/dataset/Lewis_Redner-Phillips_Brooks/O_Little_Town_of_Bethlehem/O_Little_Town_of_Bethlehem.mxl\n",
      "F major 4/4\n",
      "transposing from key F major to C major using interval -5\n"
     ]
    },
    {
     "name": "stderr",
     "output_type": "stream",
     "text": [
      "python: can't open file '/content/xml2abc_143/xml2abc.py': [Errno 2] No such file or directory\n",
      "python: can't open file '/content/xml2abc_143/xml2abc.py': [Errno 2] No such file or directory\n"
     ]
    },
    {
     "name": "stdout",
     "output_type": "stream",
     "text": [
      "Unexpected error: <class 'subprocess.CalledProcessError'>\n",
      "OpenEWLD/dataset/Harry_Warren-Joe_Young-Mort_Dixon/You're_My_Everything/You're_My_Everything.mxl\n",
      "C major 2/2\n",
      "transposing from key C major to C major using interval 0\n",
      "Unexpected error: <class 'subprocess.CalledProcessError'>\n",
      "OpenEWLD/dataset/Banjo_Paterson-Marie_Cowan/Waltzing_Matilda/Waltzing_Matilda.mxl\n",
      "D major 4/4\n",
      "transposing from key D major to C major using interval -2\n"
     ]
    },
    {
     "name": "stderr",
     "output_type": "stream",
     "text": [
      "python: can't open file '/content/xml2abc_143/xml2abc.py': [Errno 2] No such file or directory\n"
     ]
    },
    {
     "name": "stdout",
     "output_type": "stream",
     "text": [
      "Unexpected error: <class 'subprocess.CalledProcessError'>\n",
      "OpenEWLD/dataset/George_Gershwin-Ira_Gershwin/Nice_Work_if_You_Can_Get_It/Nice_Work_if_You_Can_Get_It.mxl\n",
      "G major 2/2\n",
      "transposing from key G major to C major using interval 5\n"
     ]
    },
    {
     "name": "stderr",
     "output_type": "stream",
     "text": [
      "python: can't open file '/content/xml2abc_143/xml2abc.py': [Errno 2] No such file or directory\n",
      "python: can't open file '/content/xml2abc_143/xml2abc.py': [Errno 2] No such file or directory\n"
     ]
    },
    {
     "name": "stdout",
     "output_type": "stream",
     "text": [
      "Unexpected error: <class 'subprocess.CalledProcessError'>\n",
      "OpenEWLD/dataset/Giacomo_Puccini-Giovacchino_Forzano/O_mio_babbino_caro/O_mio_babbino_caro.mxl\n",
      "A- major 6/8\n",
      "OpenEWLD/dataset/George_Gershwin-Ira_Gershwin/Who_Cares/Who_Cares.mxl\n",
      "C major 2/2\n",
      "transposing from key C major to C major using interval 0\n",
      "Unexpected error: <class 'subprocess.CalledProcessError'>\n",
      "OpenEWLD/dataset/Charles_Gounod/Ave_Maria/Ave_Maria.mxl\n",
      "E- major 4/4\n",
      "transposing from key E- major to C major using interval -3\n"
     ]
    },
    {
     "name": "stderr",
     "output_type": "stream",
     "text": [
      "python: can't open file '/content/xml2abc_143/xml2abc.py': [Errno 2] No such file or directory\n",
      "python: can't open file '/content/xml2abc_143/xml2abc.py': [Errno 2] No such file or directory\n"
     ]
    },
    {
     "name": "stdout",
     "output_type": "stream",
     "text": [
      "Unexpected error: <class 'subprocess.CalledProcessError'>\n",
      "OpenEWLD/dataset/Francis_Wheeler-Harry_B._Smith-Ted_Snyder/The_Sheik_of_Araby/The_Sheik_of_Araby.mxl\n",
      "B- major 2/2\n",
      "transposing from key B- major to C major using interval 2\n",
      "Unexpected error: <class 'subprocess.CalledProcessError'>\n",
      "OpenEWLD/dataset/Irving_Kahal-Sammy_Fain/I_Can_Dream,_Can't_I?/I_Can_Dream,_Can't_I?.mxl\n",
      "E- major 2/2\n",
      "transposing from key E- major to C major using interval -3\n"
     ]
    },
    {
     "name": "stderr",
     "output_type": "stream",
     "text": [
      "python: can't open file '/content/xml2abc_143/xml2abc.py': [Errno 2] No such file or directory\n",
      "python: can't open file '/content/xml2abc_143/xml2abc.py': [Errno 2] No such file or directory\n"
     ]
    },
    {
     "name": "stdout",
     "output_type": "stream",
     "text": [
      "Unexpected error: <class 'subprocess.CalledProcessError'>\n",
      "OpenEWLD/dataset/[Traditional]/Didn't_My_Lord_Deliver_Daniel/Didn't_My_Lord_Deliver_Daniel.mxl\n",
      "F major 4/4\n",
      "transposing from key F major to C major using interval -5\n",
      "Unexpected error: <class 'subprocess.CalledProcessError'>\n",
      "OpenEWLD/dataset/Lorenz_Hart-Richard_Rodgers/My_Funny_Valentine/My_Funny_Valentine.mxl\n",
      "C minor 4/4\n",
      "OpenEWLD/dataset/[Traditional]/Santa_Lucia/Santa_Lucia.mxl\n",
      "C major 3/4\n",
      "OpenEWLD/dataset/Dan_Russo-Ernie_Erdman-Gus_Kahn-Ted_FioRito/Toot,_Toot,_Tootsie_(Goo'_Bye)/Toot,_Toot,_Tootsie_(Goo'_Bye).mxl\n",
      "C major 2/2\n",
      "transposing from key C major to C major using interval 0\n"
     ]
    },
    {
     "name": "stderr",
     "output_type": "stream",
     "text": [
      "python: can't open file '/content/xml2abc_143/xml2abc.py': [Errno 2] No such file or directory\n",
      "python: can't open file '/content/xml2abc_143/xml2abc.py': [Errno 2] No such file or directory\n"
     ]
    },
    {
     "name": "stdout",
     "output_type": "stream",
     "text": [
      "Unexpected error: <class 'subprocess.CalledProcessError'>\n",
      "OpenEWLD/dataset/Augustus_Toplady-Thomas_Hastings/Rock_of_Ages/Rock_of_Ages.mxl\n",
      "C major 3/4\n",
      "OpenEWLD/dataset/Eben_E._Rexford-H.P._Danks/Silver_Threads_Among_the_Gold/Silver_Threads_Among_the_Gold.mxl\n",
      "B- major 4/4\n",
      "transposing from key B- major to C major using interval 2\n",
      "Unexpected error: <class 'subprocess.CalledProcessError'>\n",
      "OpenEWLD/dataset/Frederic_Knight_Logan-James_Royce_Shannon-John_V._Eppel/Missouri_Waltz/Missouri_Waltz.mxl\n",
      "F major 3/4\n",
      "OpenEWLD/dataset/Albert_H._Brown-Charles_N._Daniels-Seymour_Rice/You_Tell_Me_Your_Dream,_I'll_Tell_You_Mine/You_Tell_Me_Your_Dream,_I'll_Tell_You_Mine.mxl\n",
      "G major 3/4\n",
      "OpenEWLD/dataset/George_M._Cohan/Over_There/Over_There.mxl\n",
      "C major 4/4\n",
      "transposing from key C major to C major using interval 0\n"
     ]
    },
    {
     "name": "stderr",
     "output_type": "stream",
     "text": [
      "python: can't open file '/content/xml2abc_143/xml2abc.py': [Errno 2] No such file or directory\n",
      "python: can't open file '/content/xml2abc_143/xml2abc.py': [Errno 2] No such file or directory\n"
     ]
    },
    {
     "name": "stdout",
     "output_type": "stream",
     "text": [
      "Unexpected error: <class 'subprocess.CalledProcessError'>\n",
      "OpenEWLD/dataset/Harry_Akst-Joe_Young-Sam_Lewis/Dinah/Dinah.mxl\n",
      "G major 4/4\n",
      "transposing from key G major to C major using interval 5\n",
      "Unexpected error: <class 'subprocess.CalledProcessError'>\n",
      "OpenEWLD/dataset/Stephen_Foster/Beautiful_Dreamer/Beautiful_Dreamer.mxl\n",
      "C major 3/4\n",
      "OpenEWLD/dataset/Frank_Churchill-Larry_Morey/Little_April_Shower/Little_April_Shower.mxl\n",
      "C major 2/2\n",
      "transposing from key C major to C major using interval 0\n"
     ]
    },
    {
     "name": "stderr",
     "output_type": "stream",
     "text": [
      "python: can't open file '/content/xml2abc_143/xml2abc.py': [Errno 2] No such file or directory\n",
      "python: can't open file '/content/xml2abc_143/xml2abc.py': [Errno 2] No such file or directory\n"
     ]
    },
    {
     "name": "stdout",
     "output_type": "stream",
     "text": [
      "Unexpected error: <class 'subprocess.CalledProcessError'>\n",
      "OpenEWLD/dataset/Fred_Fisher/Chicago_(That_Toddling_Town)/Chicago_(That_Toddling_Town).mxl\n",
      "B- major 4/4\n",
      "transposing from key B- major to C major using interval 2\n",
      "Unexpected error: <class 'subprocess.CalledProcessError'>\n",
      "OpenEWLD/dataset/George_Gershwin-Ira_Gershwin/I_Was_Doing_All_Right/I_Was_Doing_All_Right.mxl\n",
      "G major 2/2\n",
      "transposing from key G major to C major using interval 5\n",
      "Unexpected error: <class 'subprocess.CalledProcessError'>\n",
      "OpenEWLD/dataset/Irving_Caesar-Otto_Harbach-Vincent_Youmans/I_Want_to_Be_Happy/I_Want_to_Be_Happy.mxl\n",
      "C major 4/4\n",
      "transposing from key C major to C major using interval 0\n"
     ]
    },
    {
     "name": "stderr",
     "output_type": "stream",
     "text": [
      "python: can't open file '/content/xml2abc_143/xml2abc.py': [Errno 2] No such file or directory\n",
      "python: can't open file '/content/xml2abc_143/xml2abc.py': [Errno 2] No such file or directory\n"
     ]
    },
    {
     "name": "stdout",
     "output_type": "stream",
     "text": [
      "Unexpected error: <class 'subprocess.CalledProcessError'>\n",
      "OpenEWLD/dataset/George_A._Norton/She_Wore_a_Yellow_Ribbon/She_Wore_a_Yellow_Ribbon.mxl\n",
      "D major 2/4\n",
      "OpenEWLD/dataset/Gus_Kahn-Walter_Donaldson/Makin'_Whoopee!/Makin'_Whoopee!.mxl\n",
      "F major 4/4\n",
      "transposing from key F major to C major using interval -5\n"
     ]
    },
    {
     "name": "stderr",
     "output_type": "stream",
     "text": [
      "python: can't open file '/content/xml2abc_143/xml2abc.py': [Errno 2] No such file or directory\n",
      "python: can't open file '/content/xml2abc_143/xml2abc.py': [Errno 2] No such file or directory\n"
     ]
    },
    {
     "name": "stdout",
     "output_type": "stream",
     "text": [
      "Unexpected error: <class 'subprocess.CalledProcessError'>\n",
      "OpenEWLD/dataset/Dorothy_Parker-Jack_King/How_Am_I_to_Know?/How_Am_I_to_Know?.mxl\n",
      "B- major 2/2\n",
      "transposing from key B- major to C major using interval 2\n",
      "Unexpected error: <class 'subprocess.CalledProcessError'>\n",
      "OpenEWLD/dataset/Arthur_A._Penn/Smilin'_Through/Smilin'_Through.mxl\n",
      "E- major 3/4\n",
      "OpenEWLD/dataset/Billy_Hill/The_Old_Spinning_Wheel/The_Old_Spinning_Wheel.mxl\n",
      "G major 6/8\n",
      "OpenEWLD/dataset/George_Gershwin-Ira_Gershwin/(I've_Got_a)_Crush_on_You/(I've_Got_a)_Crush_on_You.mxl\n",
      "B- major 4/4\n",
      "transposing from key B- major to C major using interval 2\n"
     ]
    },
    {
     "name": "stderr",
     "output_type": "stream",
     "text": [
      "python: can't open file '/content/xml2abc_143/xml2abc.py': [Errno 2] No such file or directory\n"
     ]
    },
    {
     "name": "stdout",
     "output_type": "stream",
     "text": [
      "Unexpected error: <class 'subprocess.CalledProcessError'>\n",
      "OpenEWLD/dataset/Lorenz_Hart-Richard_Rodgers/Bewitched,_Bothered_and_Bewildered/Bewitched,_Bothered_and_Bewildered.mxl\n",
      "C major 4/4\n",
      "transposing from key C major to C major using interval 0\n"
     ]
    },
    {
     "name": "stderr",
     "output_type": "stream",
     "text": [
      "python: can't open file '/content/xml2abc_143/xml2abc.py': [Errno 2] No such file or directory\n",
      "python: can't open file '/content/xml2abc_143/xml2abc.py': [Errno 2] No such file or directory\n"
     ]
    },
    {
     "name": "stdout",
     "output_type": "stream",
     "text": [
      "Unexpected error: <class 'subprocess.CalledProcessError'>\n",
      "OpenEWLD/dataset/John_Mason_Neale-Thomas_Helmore/Good_King_Wenceslas/Good_King_Wenceslas.mxl\n",
      "C major 4/4\n",
      "transposing from key C major to C major using interval 0\n",
      "Unexpected error: <class 'subprocess.CalledProcessError'>\n",
      "OpenEWLD/dataset/Gus_Kahn-Nacio_Herb_Brown/You_Stepped_out_of_a_Dream/You_Stepped_out_of_a_Dream.mxl\n",
      "C major 4/4\n",
      "transposing from key C major to C major using interval 0\n"
     ]
    },
    {
     "name": "stderr",
     "output_type": "stream",
     "text": [
      "python: can't open file '/content/xml2abc_143/xml2abc.py': [Errno 2] No such file or directory\n"
     ]
    },
    {
     "name": "stdout",
     "output_type": "stream",
     "text": [
      "Unexpected error: <class 'subprocess.CalledProcessError'>\n",
      "OpenEWLD/dataset/Irving_Caesar-Vincent_Youmans/Tea_for_Two/Tea_for_Two.mxl\n",
      "C major 4/4\n",
      "transposing from key C major to C major using interval 0\n"
     ]
    },
    {
     "name": "stderr",
     "output_type": "stream",
     "text": [
      "python: can't open file '/content/xml2abc_143/xml2abc.py': [Errno 2] No such file or directory\n",
      "python: can't open file '/content/xml2abc_143/xml2abc.py': [Errno 2] No such file or directory\n"
     ]
    },
    {
     "name": "stdout",
     "output_type": "stream",
     "text": [
      "Unexpected error: <class 'subprocess.CalledProcessError'>\n",
      "OpenEWLD/dataset/George_M._Cohan/Give_My_Regards_to_Broadway/Give_My_Regards_to_Broadway.mxl\n",
      "C major 4/4\n",
      "transposing from key C major to C major using interval 0\n",
      "Unexpected error: <class 'subprocess.CalledProcessError'>\n",
      "OpenEWLD/dataset/Billy_Rose-Dana_Suesse-Irving_Kahal/The_Night_Is_Young_and_You're_So_Beautiful/The_Night_Is_Young_and_You're_So_Beautiful.mxl\n",
      "C major 4/4\n",
      "transposing from key C major to C major using interval 0\n"
     ]
    },
    {
     "name": "stderr",
     "output_type": "stream",
     "text": [
      "python: can't open file '/content/xml2abc_143/xml2abc.py': [Errno 2] No such file or directory\n",
      "python: can't open file '/content/xml2abc_143/xml2abc.py': [Errno 2] No such file or directory\n"
     ]
    },
    {
     "name": "stdout",
     "output_type": "stream",
     "text": [
      "Unexpected error: <class 'subprocess.CalledProcessError'>\n",
      "OpenEWLD/dataset/Henry_Creamer-Turner_Layton/After_You've_Gone/After_You've_Gone.mxl\n",
      "B- major 4/4\n",
      "transposing from key B- major to C major using interval 2\n",
      "Unexpected error: <class 'subprocess.CalledProcessError'>\n",
      "OpenEWLD/dataset/David_Oppenheim-Ira_Schuster-Jack_Little/Hold_Me/Hold_Me.mxl\n",
      "B- major 2/2\n",
      "transposing from key B- major to C major using interval 2\n"
     ]
    },
    {
     "name": "stderr",
     "output_type": "stream",
     "text": [
      "python: can't open file '/content/xml2abc_143/xml2abc.py': [Errno 2] No such file or directory\n",
      "python: can't open file '/content/xml2abc_143/xml2abc.py': [Errno 2] No such file or directory\n"
     ]
    },
    {
     "name": "stdout",
     "output_type": "stream",
     "text": [
      "Unexpected error: <class 'subprocess.CalledProcessError'>\n",
      "OpenEWLD/dataset/Charles_D._Tillman-M.E._Abbey/Life's_Railway_to_Heaven/Life's_Railway_to_Heaven.mxl\n",
      "None None\n",
      "OpenEWLD/dataset/Jean_Schwartz-William_Jerome/Chinatown_My_Chinatown/Chinatown_My_Chinatown.mxl\n",
      "C major 4/4\n",
      "transposing from key C major to C major using interval 0\n",
      "Unexpected error: <class 'subprocess.CalledProcessError'>\n",
      "OpenEWLD/dataset/Beth_Slater_Whitson-Leo_Friedman/Let_Me_Call_You_Sweetheart/Let_Me_Call_You_Sweetheart.mxl\n",
      "C major 3/4\n",
      "OpenEWLD/dataset/Lorenz_Hart-Richard_Rodgers/My_Romance/My_Romance.mxl\n",
      "C major 2/2\n",
      "transposing from key C major to C major using interval 0\n"
     ]
    },
    {
     "name": "stderr",
     "output_type": "stream",
     "text": [
      "python: can't open file '/content/xml2abc_143/xml2abc.py': [Errno 2] No such file or directory\n"
     ]
    },
    {
     "name": "stdout",
     "output_type": "stream",
     "text": [
      "Unexpected error: <class 'subprocess.CalledProcessError'>\n",
      "OpenEWLD/dataset/George_Gershwin-Ira_Gershwin/That_Certain_Feeling/That_Certain_Feeling.mxl\n",
      "E- major 2/2\n",
      "transposing from key E- major to C major using interval -3\n"
     ]
    },
    {
     "name": "stderr",
     "output_type": "stream",
     "text": [
      "python: can't open file '/content/xml2abc_143/xml2abc.py': [Errno 2] No such file or directory\n"
     ]
    },
    {
     "name": "stdout",
     "output_type": "stream",
     "text": [
      "Unexpected error: <class 'subprocess.CalledProcessError'>\n",
      "OpenEWLD/dataset/Louis_Alter-Sidney_D._Mitchell/You_Turned_the_Tables_on_Me/You_Turned_the_Tables_on_Me.mxl\n",
      "F major 2/2\n",
      "transposing from key F major to C major using interval -5\n"
     ]
    },
    {
     "name": "stderr",
     "output_type": "stream",
     "text": [
      "python: can't open file '/content/xml2abc_143/xml2abc.py': [Errno 2] No such file or directory\n",
      "python: can't open file '/content/xml2abc_143/xml2abc.py': [Errno 2] No such file or directory\n"
     ]
    },
    {
     "name": "stdout",
     "output_type": "stream",
     "text": [
      "Unexpected error: <class 'subprocess.CalledProcessError'>\n",
      "OpenEWLD/dataset/Alan_Rankin_Jones/Easy_Street/Easy_Street.mxl\n",
      "E- major 4/4\n",
      "transposing from key E- major to C major using interval -3\n",
      "Unexpected error: <class 'subprocess.CalledProcessError'>\n",
      "OpenEWLD/dataset/Walter_Donaldson/Little_White_Lies/Little_White_Lies.mxl\n",
      "G major 2/2\n",
      "transposing from key G major to C major using interval 5\n"
     ]
    },
    {
     "name": "stderr",
     "output_type": "stream",
     "text": [
      "python: can't open file '/content/xml2abc_143/xml2abc.py': [Errno 2] No such file or directory\n"
     ]
    },
    {
     "name": "stdout",
     "output_type": "stream",
     "text": [
      "Unexpected error: <class 'subprocess.CalledProcessError'>\n",
      "OpenEWLD/dataset/Jerome_Kern-Oscar_Hammerstein_II/The_Song_Is_You/The_Song_Is_You.mxl\n",
      "C major 4/4\n",
      "transposing from key C major to C major using interval 0\n"
     ]
    },
    {
     "name": "stderr",
     "output_type": "stream",
     "text": [
      "python: can't open file '/content/xml2abc_143/xml2abc.py': [Errno 2] No such file or directory\n",
      "python: can't open file '/content/xml2abc_143/xml2abc.py': [Errno 2] No such file or directory\n"
     ]
    },
    {
     "name": "stdout",
     "output_type": "stream",
     "text": [
      "Unexpected error: <class 'subprocess.CalledProcessError'>\n",
      "OpenEWLD/dataset/Al_Dubin-Dave_Franklin/Anniversary_Waltz/Anniversary_Waltz.mxl\n",
      "C major 3/4\n",
      "OpenEWLD/dataset/Lorenz_Hart-Richard_Rodgers/Ten_Cents_a_Dance/Ten_Cents_a_Dance.mxl\n",
      "E- major 4/4\n",
      "transposing from key E- major to C major using interval -3\n",
      "Unexpected error: <class 'subprocess.CalledProcessError'>\n",
      "OpenEWLD/dataset/[Traditional]/The_Prisoner's_Song/The_Prisoner's_Song.mxl\n",
      "D major 4/4\n",
      "transposing from key D major to C major using interval -2\n"
     ]
    },
    {
     "name": "stderr",
     "output_type": "stream",
     "text": [
      "python: can't open file '/content/xml2abc_143/xml2abc.py': [Errno 2] No such file or directory\n",
      "python: can't open file '/content/xml2abc_143/xml2abc.py': [Errno 2] No such file or directory\n"
     ]
    },
    {
     "name": "stdout",
     "output_type": "stream",
     "text": [
      "Unexpected error: <class 'subprocess.CalledProcessError'>\n",
      "OpenEWLD/dataset/Harry_B._Smith/Yours_Is_My_Heart_Alone/Yours_Is_My_Heart_Alone.mxl\n",
      "F major 2/2\n",
      "transposing from key F major to C major using interval -5\n",
      "Unexpected error: <class 'subprocess.CalledProcessError'>\n",
      "OpenEWLD/dataset/Egbert_Van_Alstyne-Harry_Williams/In_the_Shade_of_the_Old_Apple_Tree/In_the_Shade_of_the_Old_Apple_Tree.mxl\n",
      "G major 3/4\n",
      "OpenEWLD/dataset/Stephen_Foster/Old_Folks_at_Home/Old_Folks_at_Home.mxl\n",
      "C major 4/4\n",
      "transposing from key C major to C major using interval 0\n"
     ]
    },
    {
     "name": "stderr",
     "output_type": "stream",
     "text": [
      "python: can't open file '/content/xml2abc_143/xml2abc.py': [Errno 2] No such file or directory\n"
     ]
    },
    {
     "name": "stdout",
     "output_type": "stream",
     "text": [
      "Unexpected error: <class 'subprocess.CalledProcessError'>\n",
      "OpenEWLD/dataset/Lorenz_Hart-Richard_Rodgers/This_Funny_World/This_Funny_World.mxl\n",
      "G major 4/4\n",
      "transposing from key G major to C major using interval 5\n"
     ]
    },
    {
     "name": "stderr",
     "output_type": "stream",
     "text": [
      "python: can't open file '/content/xml2abc_143/xml2abc.py': [Errno 2] No such file or directory\n",
      "python: can't open file '/content/xml2abc_143/xml2abc.py': [Errno 2] No such file or directory\n"
     ]
    },
    {
     "name": "stdout",
     "output_type": "stream",
     "text": [
      "Unexpected error: <class 'subprocess.CalledProcessError'>\n",
      "OpenEWLD/dataset/Paul_Dresser/My_Gal_Sal/My_Gal_Sal.mxl\n",
      "B- major 3/4\n",
      "OpenEWLD/dataset/Jerome_Kern-Oscar_Hammerstein_II/All_the_Things_You_Are/All_the_Things_You_Are.mxl\n",
      "A- major 4/4\n",
      "transposing from key A- major to C major using interval 4\n",
      "Unexpected error: <class 'subprocess.CalledProcessError'>\n",
      "OpenEWLD/dataset/Frederic_Weatherly-Michael_Maybrick/The_Holy_City/The_Holy_City.mxl\n",
      "G major 4/4\n",
      "transposing from key G major to C major using interval 5\n"
     ]
    },
    {
     "name": "stderr",
     "output_type": "stream",
     "text": [
      "python: can't open file '/content/xml2abc_143/xml2abc.py': [Errno 2] No such file or directory\n",
      "python: can't open file '/content/xml2abc_143/xml2abc.py': [Errno 2] No such file or directory\n"
     ]
    },
    {
     "name": "stdout",
     "output_type": "stream",
     "text": [
      "Unexpected error: <class 'subprocess.CalledProcessError'>\n",
      "OpenEWLD/dataset/[Traditional]/À_la_claire_fontaine/À_la_claire_fontaine.mxl\n",
      "F major 4/4\n",
      "transposing from key F major to C major using interval -5\n",
      "Unexpected error: <class 'subprocess.CalledProcessError'>\n",
      "OpenEWLD/dataset/Alicia_Scott/Annie_Laurie/Annie_Laurie.mxl\n",
      "A major 4/4\n",
      "transposing from key A major to C major using interval 3\n"
     ]
    },
    {
     "name": "stderr",
     "output_type": "stream",
     "text": [
      "python: can't open file '/content/xml2abc_143/xml2abc.py': [Errno 2] No such file or directory\n",
      "python: can't open file '/content/xml2abc_143/xml2abc.py': [Errno 2] No such file or directory\n"
     ]
    },
    {
     "name": "stdout",
     "output_type": "stream",
     "text": [
      "Unexpected error: <class 'subprocess.CalledProcessError'>\n",
      "OpenEWLD/dataset/Harry_Carroll-Joseph_McCarthy/I'm_Always_Chasing_Rainbows/I'm_Always_Chasing_Rainbows.mxl\n",
      "G major 4/4\n",
      "transposing from key G major to C major using interval 5\n",
      "Unexpected error: <class 'subprocess.CalledProcessError'>\n",
      "OpenEWLD/dataset/Arthur_Lamb-Harry_Von_Tilzer/A_Bird_in_a_Gilded_Cage/A_Bird_in_a_Gilded_Cage.mxl\n",
      "B- major 3/4\n",
      "OpenEWLD/dataset/Andrew_Lloyd_Webber-[Traditional]/Pie_Jesu/Pie_Jesu.mxl\n",
      "A- major 4/4\n",
      "transposing from key A- major to C major using interval 4\n"
     ]
    },
    {
     "name": "stderr",
     "output_type": "stream",
     "text": [
      "python: can't open file '/content/xml2abc_143/xml2abc.py': [Errno 2] No such file or directory\n"
     ]
    },
    {
     "name": "stdout",
     "output_type": "stream",
     "text": [
      "Unexpected error: <class 'subprocess.CalledProcessError'>\n",
      "OpenEWLD/dataset/Johann_Strauss_(Vater)/Radetzky-Marsch/Radetzky-Marsch.mxl\n",
      "D major 2/2\n",
      "transposing from key D major to C major using interval -2\n"
     ]
    },
    {
     "name": "stderr",
     "output_type": "stream",
     "text": [
      "python: can't open file '/content/xml2abc_143/xml2abc.py': [Errno 2] No such file or directory\n",
      "python: can't open file '/content/xml2abc_143/xml2abc.py': [Errno 2] No such file or directory\n"
     ]
    },
    {
     "name": "stdout",
     "output_type": "stream",
     "text": [
      "Unexpected error: <class 'subprocess.CalledProcessError'>\n",
      "OpenEWLD/dataset/Clifford_Harris-James_W._Tate/A_Broken_Doll/A_Broken_Doll.mxl\n",
      "F major 4/4\n",
      "transposing from key F major to C major using interval -5\n",
      "Unexpected error: <class 'subprocess.CalledProcessError'>\n",
      "OpenEWLD/dataset/Irving_Kahal-Sammy_Fain/I'll_Be_Seeing_You/I'll_Be_Seeing_You.mxl\n",
      "E- major 4/4\n",
      "transposing from key E- major to C major using interval -3\n"
     ]
    },
    {
     "name": "stderr",
     "output_type": "stream",
     "text": [
      "python: can't open file '/content/xml2abc_143/xml2abc.py': [Errno 2] No such file or directory\n",
      "python: can't open file '/content/xml2abc_143/xml2abc.py': [Errno 2] No such file or directory\n"
     ]
    },
    {
     "name": "stdout",
     "output_type": "stream",
     "text": [
      "Unexpected error: <class 'subprocess.CalledProcessError'>\n",
      "OpenEWLD/dataset/Stephen_Foster/Oh!_Susanna/Oh!_Susanna.mxl\n",
      "G major 2/2\n",
      "transposing from key G major to C major using interval 5\n",
      "Unexpected error: <class 'subprocess.CalledProcessError'>\n",
      "OpenEWLD/dataset/Edward_Teschemacher-Herman_Darewski/The_Army,_the_Navy_and_the_Air_Force/The_Army,_the_Navy_and_the_Air_Force.mxl\n",
      "F major 4/4\n",
      "transposing from key F major to C major using interval -5\n"
     ]
    },
    {
     "name": "stderr",
     "output_type": "stream",
     "text": [
      "python: can't open file '/content/xml2abc_143/xml2abc.py': [Errno 2] No such file or directory\n",
      "python: can't open file '/content/xml2abc_143/xml2abc.py': [Errno 2] No such file or directory\n"
     ]
    },
    {
     "name": "stdout",
     "output_type": "stream",
     "text": [
      "Unexpected error: <class 'subprocess.CalledProcessError'>\n",
      "OpenEWLD/dataset/Abe_Olman-Ed_Rose/Oh_Johnny,_oh_Johnny,_Oh!/Oh_Johnny,_oh_Johnny,_Oh!.mxl\n",
      "C major 4/4\n",
      "transposing from key C major to C major using interval 0\n",
      "Unexpected error: <class 'subprocess.CalledProcessError'>\n",
      "OpenEWLD/dataset/Alfred_Bryan-Fred_Fisher/Come_Josephine_in_My_Flying_Machine_(Up_She_Goes!)/Come_Josephine_in_My_Flying_Machine_(Up_She_Goes!).mxl\n",
      "C major 3/4\n",
      "OpenEWLD/dataset/Ernie_Burnett-George_A._Norton/My_Melancholy_Baby/My_Melancholy_Baby.mxl\n",
      "E- major 4/4\n",
      "transposing from key E- major to C major using interval -3\n"
     ]
    },
    {
     "name": "stderr",
     "output_type": "stream",
     "text": [
      "python: can't open file '/content/xml2abc_143/xml2abc.py': [Errno 2] No such file or directory\n",
      "python: can't open file '/content/xml2abc_143/xml2abc.py': [Errno 2] No such file or directory\n"
     ]
    },
    {
     "name": "stdout",
     "output_type": "stream",
     "text": [
      "Unexpected error: <class 'subprocess.CalledProcessError'>\n",
      "OpenEWLD/dataset/George_Washington_Johnson_[1]-James_Austin_Butterfield/When_You_and_I_Were_Young,_Maggie/When_You_and_I_Were_Young,_Maggie.mxl\n",
      "F major 4/4\n",
      "transposing from key F major to C major using interval -5\n",
      "Unexpected error: <class 'subprocess.CalledProcessError'>\n",
      "OpenEWLD/dataset/James_I._Russell/Where_the_River_Shannon_Flows/Where_the_River_Shannon_Flows.mxl\n",
      "E- major 4/4\n",
      "transposing from key E- major to C major using interval -3\n"
     ]
    },
    {
     "name": "stderr",
     "output_type": "stream",
     "text": [
      "python: can't open file '/content/xml2abc_143/xml2abc.py': [Errno 2] No such file or directory\n",
      "python: can't open file '/content/xml2abc_143/xml2abc.py': [Errno 2] No such file or directory\n"
     ]
    },
    {
     "name": "stdout",
     "output_type": "stream",
     "text": [
      "Unexpected error: <class 'subprocess.CalledProcessError'>\n",
      "OpenEWLD/dataset/Alberto_Pestalozza-Carlo_Tiochet/Ciribiribin/Ciribiribin.mxl\n",
      "F major 4/4\n",
      "transposing from key F major to C major using interval -5\n",
      "Unexpected error: <class 'subprocess.CalledProcessError'>\n",
      "OpenEWLD/dataset/Billy_Hill-Peter_De_Rose/On_a_Little_Street_in_Singapore/On_a_Little_Street_in_Singapore.mxl\n",
      "C major 2/2\n",
      "transposing from key C major to C major using interval 0\n"
     ]
    },
    {
     "name": "stderr",
     "output_type": "stream",
     "text": [
      "python: can't open file '/content/xml2abc_143/xml2abc.py': [Errno 2] No such file or directory\n",
      "python: can't open file '/content/xml2abc_143/xml2abc.py': [Errno 2] No such file or directory\n"
     ]
    },
    {
     "name": "stdout",
     "output_type": "stream",
     "text": [
      "Unexpected error: <class 'subprocess.CalledProcessError'>\n",
      "OpenEWLD/dataset/Albert_Fitz-William_Penn/The_Honeysuckle_and_the_Bee/The_Honeysuckle_and_the_Bee.mxl\n",
      "F major 4/4\n",
      "transposing from key F major to C major using interval -5\n",
      "Unexpected error: <class 'subprocess.CalledProcessError'>\n",
      "OpenEWLD/dataset/Lorenz_Hart-Richard_Rodgers/Dancing_on_the_Ceiling/Dancing_on_the_Ceiling.mxl\n",
      "F major 4/4\n",
      "transposing from key F major to C major using interval -5\n"
     ]
    },
    {
     "name": "stderr",
     "output_type": "stream",
     "text": [
      "python: can't open file '/content/xml2abc_143/xml2abc.py': [Errno 2] No such file or directory\n",
      "python: can't open file '/content/xml2abc_143/xml2abc.py': [Errno 2] No such file or directory\n"
     ]
    },
    {
     "name": "stdout",
     "output_type": "stream",
     "text": [
      "Unexpected error: <class 'subprocess.CalledProcessError'>\n",
      "OpenEWLD/dataset/Clifford_Grey-Nat_Ayer/If_You_Were_the_Only_Girl_(In_the_World)/If_You_Were_the_Only_Girl_(In_the_World).mxl\n",
      "C major 3/4\n",
      "OpenEWLD/dataset/Francis_Wheeler-Irving_Kahal-Sammy_Fain/Let_a_Smile_Be_Your_Umbrella/Let_a_Smile_Be_Your_Umbrella.mxl\n",
      "C major 4/4\n",
      "transposing from key C major to C major using interval 0\n",
      "Unexpected error: <class 'subprocess.CalledProcessError'>\n",
      "OpenEWLD/dataset/Al_Dubin-Harry_Warren/The_Boulevard_of_Broken_Dreams/The_Boulevard_of_Broken_Dreams.mxl\n",
      "F major 2/2\n",
      "transposing from key F major to C major using interval -5\n"
     ]
    },
    {
     "name": "stderr",
     "output_type": "stream",
     "text": [
      "python: can't open file '/content/xml2abc_143/xml2abc.py': [Errno 2] No such file or directory\n",
      "python: can't open file '/content/xml2abc_143/xml2abc.py': [Errno 2] No such file or directory\n"
     ]
    },
    {
     "name": "stdout",
     "output_type": "stream",
     "text": [
      "Unexpected error: <class 'subprocess.CalledProcessError'>\n",
      "OpenEWLD/dataset/Gus_Edwards-Vincent_Bryan/In_My_Merry_Oldsmobile/In_My_Merry_Oldsmobile.mxl\n",
      "C major 3/4\n",
      "OpenEWLD/dataset/Bert_Kalmar-Harry_Ruby/All_Alone_Monday/All_Alone_Monday.mxl\n",
      "E- major 4/4\n",
      "transposing from key E- major to C major using interval -3\n",
      "Unexpected error: <class 'subprocess.CalledProcessError'>\n",
      "OpenEWLD/dataset/Eddie_Edwards-Henry_Ragas-Larry_Shields-Nick_LaRocca-Tony_Sbarbaro/Tiger_Rag/Tiger_Rag.mxl\n",
      "G major 2/2\n",
      "transposing from key G major to C major using interval 5\n"
     ]
    },
    {
     "name": "stderr",
     "output_type": "stream",
     "text": [
      "python: can't open file '/content/xml2abc_143/xml2abc.py': [Errno 2] No such file or directory\n"
     ]
    },
    {
     "name": "stdout",
     "output_type": "stream",
     "text": [
      "Unexpected error: <class 'subprocess.CalledProcessError'>\n",
      "OpenEWLD/dataset/[Traditional]/The_Black_Velvet_Band/The_Black_Velvet_Band.mxl\n",
      "G major 3/4\n",
      "OpenEWLD/dataset/Raymond_B._Egan-Richard_A._Whiting/They_Made_It_Twice_as_Nice_as_Paradise_and_They_Called_It_Dixieland/They_Made_It_Twice_as_Nice_as_Paradise_and_They_Called_It_Dixieland.mxl\n",
      "C major 4/4\n",
      "transposing from key C major to C major using interval 0\n"
     ]
    },
    {
     "name": "stderr",
     "output_type": "stream",
     "text": [
      "python: can't open file '/content/xml2abc_143/xml2abc.py': [Errno 2] No such file or directory\n"
     ]
    },
    {
     "name": "stdout",
     "output_type": "stream",
     "text": [
      "Unexpected error: <class 'subprocess.CalledProcessError'>\n",
      "OpenEWLD/dataset/Glen_MacDonough-Victor_Herbert/Toyland/Toyland.mxl\n",
      "F major 3/4\n",
      "OpenEWLD/dataset/Lorenz_Hart-Richard_Rodgers/Mimi/Mimi.mxl\n",
      "G major 2/4\n",
      "OpenEWLD/dataset/Dorothy_Fields-Jerome_Kern/Remind_Me/Remind_Me.mxl\n",
      "E- major 2/2\n",
      "transposing from key E- major to C major using interval -3\n"
     ]
    },
    {
     "name": "stderr",
     "output_type": "stream",
     "text": [
      "python: can't open file '/content/xml2abc_143/xml2abc.py': [Errno 2] No such file or directory\n",
      "python: can't open file '/content/xml2abc_143/xml2abc.py': [Errno 2] No such file or directory\n"
     ]
    },
    {
     "name": "stdout",
     "output_type": "stream",
     "text": [
      "Unexpected error: <class 'subprocess.CalledProcessError'>\n",
      "OpenEWLD/dataset/Lorenz_Hart-Richard_Rodgers/You_Took_Advantage_of_Me/You_Took_Advantage_of_Me.mxl\n",
      "E- major 4/4\n",
      "transposing from key E- major to C major using interval -3\n",
      "Unexpected error: <class 'subprocess.CalledProcessError'>\n",
      "OpenEWLD/dataset/Al_Dubin-Jimmy_McHugh/South_American_Way/South_American_Way.mxl\n",
      "C major 4/4\n",
      "transposing from key C major to C major using interval 0\n"
     ]
    },
    {
     "name": "stderr",
     "output_type": "stream",
     "text": [
      "python: can't open file '/content/xml2abc_143/xml2abc.py': [Errno 2] No such file or directory\n",
      "python: can't open file '/content/xml2abc_143/xml2abc.py': [Errno 2] No such file or directory\n"
     ]
    },
    {
     "name": "stdout",
     "output_type": "stream",
     "text": [
      "Unexpected error: <class 'subprocess.CalledProcessError'>\n",
      "OpenEWLD/dataset/Will_Fyffe/I_Belong_to_Glasgow/I_Belong_to_Glasgow.mxl\n",
      "D major 3/4\n",
      "OpenEWLD/dataset/Bert_Kalmar-Harry_Ruby-Herbert_Stothart/I_Wanna_Be_Loved_by_You/I_Wanna_Be_Loved_by_You.mxl\n",
      "C major 2/2\n",
      "transposing from key C major to C major using interval 0\n",
      "Unexpected error: <class 'subprocess.CalledProcessError'>\n",
      "OpenEWLD/dataset/Ben_Pollack-George_Brunies-Leon_Roppolo-Mel_Stitzel-Paul_Mares-Walter_Melrose/Tin_Roof_Blues/Tin_Roof_Blues.mxl\n",
      "E- major 4/4\n",
      "transposing from key E- major to C major using interval -3\n"
     ]
    },
    {
     "name": "stderr",
     "output_type": "stream",
     "text": [
      "python: can't open file '/content/xml2abc_143/xml2abc.py': [Errno 2] No such file or directory\n",
      "python: can't open file '/content/xml2abc_143/xml2abc.py': [Errno 2] No such file or directory\n"
     ]
    },
    {
     "name": "stdout",
     "output_type": "stream",
     "text": [
      "Unexpected error: <class 'subprocess.CalledProcessError'>\n",
      "OpenEWLD/dataset/Andrew_B._Sterling-Harry_Von_Tilzer/Wait_Till_the_Sun_Shines_Nellie/Wait_Till_the_Sun_Shines_Nellie.mxl\n",
      "C major 4/4\n",
      "transposing from key C major to C major using interval 0\n",
      "Unexpected error: <class 'subprocess.CalledProcessError'>\n",
      "OpenEWLD/dataset/Lorenz_Hart-Richard_Rodgers/Here_in_My_Arms/Here_in_My_Arms.mxl\n",
      "F major 4/4\n",
      "transposing from key F major to C major using interval -5\n",
      "Unexpected error: <class 'subprocess.CalledProcessError'>\n",
      "OpenEWLD/dataset/Bert_Kalmar-Harry_Ruby-Ted_Snyder/Who's_Sorry_Now?/Who's_Sorry_Now?.mxl\n",
      "B- major 2/2\n",
      "transposing from key B- major to C major using interval 2\n",
      "Unexpected error: <class 'subprocess.CalledProcessError'>\n",
      "num prompts is 0\n"
     ]
    },
    {
     "name": "stderr",
     "output_type": "stream",
     "text": [
      "python: can't open file '/content/xml2abc_143/xml2abc.py': [Errno 2] No such file or directory\n",
      "python: can't open file '/content/xml2abc_143/xml2abc.py': [Errno 2] No such file or directory\n"
     ]
    }
   ],
   "source": [
    "import subprocess\n",
    "from collections.abc import Iterable\n",
    "\n",
    "num_prompts = 0\n",
    "prompt_file = open(\"songs.jsonl\", \"w\")\n",
    "prompts = []\n",
    "original_songs = []\n",
    "for s in song_files:\n",
    "  print(s)\n",
    "  score = music21.converter.parse(s)\n",
    "\n",
    "  key = None\n",
    "  metre = None\n",
    "  part = score.parts[0]\n",
    "  for p in part:\n",
    "    if isinstance(p, Iterable):\n",
    "      for n in p:\n",
    "        if type(n) == music21.key.Key:\n",
    "          key = n.name\n",
    "        if type(n) == music21.meter.TimeSignature:\n",
    "          metre = n.ratioString\n",
    "  print(key, metre)\n",
    "\n",
    "  if not (metre == \"4/4\" or metre == \"2/2\"):\n",
    "    continue\n",
    "\n",
    "  if not \"major\" in key:\n",
    "    continue\n",
    "\n",
    "  if key in transpose_dict.keys():\n",
    "    interval = transpose_dict[key]\n",
    "    print(\"transposing from key\", key, \"to C major using interval\", interval)\n",
    "    score = score.transpose(interval)\n",
    "\n",
    "  score.write('xml', fp='song.xml')\n",
    "\n",
    "  try:\n",
    "    output_bytes = subprocess.check_output([\"python\", \"/content/xml2abc_143/xml2abc.py\", \"song.xml\", \"-u\", \"-d\", \"4\"], timeout=5)\n",
    "    output = output_bytes.decode(\"utf-8\").strip()\n",
    "    with open(\"song.txt\", \"w\") as abc_file:\n",
    "      abc_file.write(output)\n",
    "  except:\n",
    "    print(\"Unexpected error:\", sys.exc_info()[0])\n",
    "    continue\n",
    "\n",
    "  showed_title = False\n",
    "  prompt_string = \"\"\n",
    "  completion_string = \"\"\n",
    "  is_header = True\n",
    "  with open(\"song.txt\") as song_file:\n",
    "    lines = song_file.readlines()\n",
    "    for line in lines:\n",
    "      line = line.replace(\"$\", \"\")\n",
    "      line = line.replace(\"dc=\", \"\")\n",
    "      line = line.strip()\n",
    "\n",
    "      if line.startswith(\"V:\"):\n",
    "        is_header = False\n",
    "\n",
    "      if is_header:\n",
    "        if line.startswith(\"X:\") or line.startswith(\"C:\"):\n",
    "          prompt_string += line+\"\\n\"\n",
    "\n",
    "        if line.startswith(\"T:\") and not showed_title:\n",
    "            prompt_string += line+\"\\n\"\n",
    "            showed_title = True\n",
    "      else:\n",
    "        if not line.startswith(\"w:\") and not line.startswith(\"V:\"):\n",
    "\n",
    "          # remove end of line comments\n",
    "          index = line.rfind('%')\n",
    "          if index > 0:\n",
    "            line = line[:index].strip()\n",
    "\n",
    "          # remove inline comments\n",
    "          parts = line.split('\"')\n",
    "          newline = \"\"\n",
    "          for i, p in enumerate(parts):\n",
    "            if i%2 == 0:\n",
    "              newline += p\n",
    "            elif not p.startswith(\"^\"):\n",
    "              newline += '\"' + p + '\"'\n",
    "          line = ' '.join(newline.split())\n",
    "\n",
    "          completion_string += line+\"\\n\"\n",
    "\n",
    "      if line.startswith(\"V:\"):\n",
    "        is_header = False\n",
    "\n",
    "    prompt_string = prompt_string.replace(\":\",\": \")\n",
    "    prompt_string = prompt_string.replace('\"', \"`\")\n",
    "    prompt_string = prompt_string.replace(\"\\n\",\" $ \")\n",
    "\n",
    "    completion_string = completion_string.replace('\"', \"`\")\n",
    "    completion_string = completion_string.strip().replace(\"\\n\",\" $ \")\n",
    "\n",
    "    prompt = '{\"prompt\": \"' + prompt_string + '\", '\n",
    "    prompt += '\"completion\": \" ' + completion_string + ' $ \"}\\n'\n",
    "\n",
    "    if prompt not in prompts:\n",
    "      original_songs.append(s)\n",
    "      prompt_file.write(prompt)\n",
    "      prompts.append(prompt)\n",
    "      num_prompts += 1\n",
    "\n",
    "prompt_file.close()\n",
    "print(\"num prompts is\", num_prompts)\n",
    "     "
   ]
  },
  {
   "cell_type": "markdown",
   "metadata": {
    "id": "o4_76slDij7U"
   },
   "source": [
    "# **Check the Training File**"
   ]
  },
  {
   "cell_type": "code",
   "execution_count": null,
   "metadata": {
    "id": "RZ5gLbUaEkYR"
   },
   "outputs": [],
   "source": [
    "!openai tools fine_tunes.prepare_data -f /content/songs.jsonl"
   ]
  },
  {
   "cell_type": "markdown",
   "metadata": {
    "id": "fh8MPqvump8m"
   },
   "source": [
    "# **Train GPT-3**"
   ]
  },
  {
   "cell_type": "code",
   "execution_count": null,
   "metadata": {
    "id": "-5lvuiZLd5Hj"
   },
   "outputs": [],
   "source": [
    "!export OPENAI_API_KEY=\"<Your OpenAI API Key>\"; openai api fine_tunes.create -t songs.jsonl --model curie --n_epochs 5"
   ]
  },
  {
   "cell_type": "markdown",
   "metadata": {
    "id": "ho0Xy7cEmw0t"
   },
   "source": [
    "# **Generate Five Songs**"
   ]
  },
  {
   "cell_type": "code",
   "execution_count": null,
   "metadata": {
    "id": "hol2mChWjzrr"
   },
   "outputs": [],
   "source": [
    "import openai\n",
    "import music21\n",
    "import numpy as np\n",
    "from collections.abc import Iterable\n",
    "import numpy as np\n",
    "\n",
    "CMM_mean = 2.2715\n",
    "CMM_std = 0.4831\n",
    "\n",
    "LM_mean = 2.0305\n",
    "LM_std = 0.5386\n",
    "\n",
    "CENT_mean = 0.3042\n",
    "CENT_std = 0.0891\n",
    "\n",
    "band_name = \"I Lost My Voice\"\n",
    "song_name = \"The Rare Pearls\"\n",
    "prompt = \"X: 1 $ T: \" + song_name + \" $ C: \" + band_name + \" $ <song>\"\n",
    "print(prompt)\n",
    "print()\n",
    "\n",
    "openai.api_key = \"<Your OpenAI API Key>\"\n",
    "\n",
    "songs_with_scores = []\n",
    "score_arr = np.empty((0), np.float32)\n",
    "\n",
    "for i in range(5):\n",
    "    print(\"\\n  Generating Song\", i)\n",
    "    response = openai.Completion.create(\n",
    "      model=\"curie:ft-user-j0julqovorjakyuyt3kv3zci-2021-08-24-11-42-59\",\n",
    "      prompt=prompt,\n",
    "      stop = \" $ <end>\",\n",
    "      temperature=0.75,\n",
    "      top_p=1.0,\n",
    "      frequency_penalty=0.0,\n",
    "      presence_penalty=0.0,\n",
    "      max_tokens = 1000)\n",
    "\n",
    "    print(response)\n",
    "    print()\n",
    "\n",
    "    formatted_prompt = \"X: 1 $ T: \" + song_name + \" $ C: \" + band_name + \" $ L: 1/4 $ M: 4/4 $ K: C $ V: 1 treble\"\n",
    "    formatted_prompt = formatted_prompt.replace(\" $ \", \"\\n\")\n",
    "    formatted_prompt = formatted_prompt.replace(\"<song>\", \"\").strip()\n",
    "\n",
    "    formatted_song = response[\"choices\"][0][\"text\"].strip()\n",
    "    formatted_song = formatted_song.replace('`', '\"')\n",
    "    formatted_song = formatted_song.replace(\" $ \", \"\\n\")\n",
    "    new_song = formatted_prompt+ \"\\n\" + formatted_song\n",
    "    print(new_song)\n",
    "    with open(\"new_song.abc\", \"w\") as new_song_file:\n",
    "    new_song_file.write(new_song)\n",
    "\n",
    "    song = music21.converter.parse(\"new_song.abc\")\n",
    "\n",
    "    part = song.parts[0]\n",
    "    chord_end = song.highestTime\n",
    "    for pi in reversed(range(len(part))):\n",
    "    p = part[pi]\n",
    "    for ni in reversed(range(len(p))):\n",
    "      n = p[ni]\n",
    "      if type(n) == music21.harmony.ChordSymbol:\n",
    "        chord_start = p.offset + n.offset\n",
    "        n.duration.quarterLength = chord_end - chord_start\n",
    "        n.volume = music21.volume.Volume(velocity=48)\n",
    "        chord_end = chord_start\n",
    "      elif type(n) == music21.note.Note:\n",
    "        n.volume = music21.volume.Volume(velocity=64)\n",
    "    file_name = \"song\" + str(i).zfill(2) + \".mid\"\n",
    "    song.write('midi', fp=file_name)\n",
    "\n",
    "    part = song.parts[0]\n",
    "    note_array = []\n",
    "\n",
    "    for p in part:\n",
    "    if isinstance(p, Iterable):\n",
    "      for n in p:\n",
    "        if type(n) == music21.note.Note:\n",
    "          note_array.append([int(n.pitch.ps), int(n.quarterLength*4+0.5)])\n",
    "\n",
    "    CMM = music_geometry_eval.calculate_time_supported_conjunct_melodic_motion(note_array)\n",
    "    LM = music_geometry_eval.calculate_time_supported_limited_macroharmony(note_array, span_size=32)\n",
    "    CENT = music_geometry_eval.calculate_time_supported_centricity(note_array, span_size=32)\n",
    "\n",
    "    print(\"  CMM :\", round(CMM, 4))\n",
    "    print(\"  LM  :\", round(LM, 4))\n",
    "    print(\"  CENT:\", round(CENT, 4))\n",
    "\n",
    "    norm_cmm = (CMM - CMM_mean) / CMM_std\n",
    "    norm_lm = (LM - LM_mean) / LM_std\n",
    "    norm_cent = (CENT - CENT_mean) / CMM_std\n",
    "\n",
    "    norm_score_squared = norm_cmm * norm_cmm + norm_lm * norm_lm + norm_cent * norm_cent\n",
    "    print(\"  NDM:\", round(norm_score_squared, 4))\n",
    "    score_arr = np.append(score_arr, norm_score_squared)\n",
    "\n",
    "    songs_with_scores.append([norm_score_squared, file_name])\n",
    "\n",
    "songs_with_scores.sort()\n",
    "for pair in songs_with_scores:\n",
    "    print(round(pair[0], 4), pair[1])"
   ]
  },
  {
   "cell_type": "markdown",
   "metadata": {
    "id": "8uKW0IhneCGl"
   },
   "source": [
    "# **Choose a Song and Play It**\n"
   ]
  },
  {
   "cell_type": "code",
   "execution_count": null,
   "metadata": {
    "id": "9e4wRsJQfDmk"
   },
   "outputs": [],
   "source": [
    "song_number = 0\n",
    "\n",
    "melody_ns = note_seq.midi_file_to_sequence_proto(songs_with_scores[song_number][1])\n",
    "print(round(songs_with_scores[song_number][0], 4), songs_with_scores[song_number][1])\n",
    "\n",
    "note_seq.play_sequence( \n",
    "  melody_ns,\n",
    "  synth=note_seq.fluidsynth, sample_rate=SAMPLE_RATE, sf2_path=SF2_PATH)\n",
    "note_seq.plot_sequence(melody_ns)"
   ]
  }
 ],
 "metadata": {
  "colab": {
   "authorship_tag": "ABX9TyOMwUdHMvYuITMzehHUcLVz",
   "collapsed_sections": [],
   "include_colab_link": true,
   "name": "AI-Tunes GPT-3 Training ",
   "provenance": [],
   "toc_visible": true
  },
  "kernelspec": {
   "display_name": "Python 3 (ipykernel)",
   "language": "python",
   "name": "python3"
  },
  "language_info": {
   "codemirror_mode": {
    "name": "ipython",
    "version": 3
   },
   "file_extension": ".py",
   "mimetype": "text/x-python",
   "name": "python",
   "nbconvert_exporter": "python",
   "pygments_lexer": "ipython3",
   "version": "3.9.6"
  }
 },
 "nbformat": 4,
 "nbformat_minor": 1
}
